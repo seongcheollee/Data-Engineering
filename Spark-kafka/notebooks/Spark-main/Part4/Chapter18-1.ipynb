{
 "cells": [
  {
   "cell_type": "markdown",
   "metadata": {
    "application/vnd.databricks.v1+cell": {
     "inputWidgets": {},
     "nuid": "4d3aec09-1a11-4504-a7cb-fd26d315ef16",
     "showTitle": false,
     "title": ""
    }
   },
   "source": [
    "# 모니터링과 디버깅"
   ]
  },
  {
   "cell_type": "markdown",
   "metadata": {
    "application/vnd.databricks.v1+cell": {
     "inputWidgets": {},
     "nuid": "de623091-463b-40c2-8e29-0f3abc6a4a79",
     "showTitle": false,
     "title": ""
    }
   },
   "source": [
    "## 모니터링 범위\n",
    "- 스파크 <strong>잡의 어느 지점에서 오류</strong>가 발생했는지 파악하려면 <strong>스파크 잡을 모니터링</strong>해야함"
   ]
  },
  {
   "cell_type": "markdown",
   "metadata": {
    "application/vnd.databricks.v1+cell": {
     "inputWidgets": {},
     "nuid": "0a3ed23c-e373-426d-ad7f-188056bcef84",
     "showTitle": false,
     "title": ""
    }
   },
   "source": [
    "### 모니터링 대상 컴포넌트\n",
    "#### 스파크 애플리케이션과 잡\n",
    "- 클러스터에서 사용자 애플리케이션이 실행되는 <strong>상황을 파악하거나 디버깅하려면 가장 먼저 스파크 모니터링 도구를 사용해야함</strong>\n",
    "- 스파크 모니터링 도구\n",
    "  - <strong>스파크 UI</strong>\n",
    "  - <strong>스파크 로그</strong>\n",
    "- 스파크 UI와 스파크 로그는 실행 중인 애플리케이션의 <strong>RDD와 쿼리 실행 계획 같은 개념적 수준의 정보를 제공함</strong>\n",
    "\n",
    "<br>\n",
    "\n",
    "#### JVM\n",
    "- 스파크는 <strong>모든 익스큐터를 개별 자바 가상 머신(JVM)에서 실행</strong>함\n",
    "- <strong>저수준 디버깅</strong>이 필요하다면 JVM도구가 스파크 모니터링 도구보다 유용\n",
    "- JVM 도구\n",
    "  - jstack: 스택 트레이스 제공\n",
    "  - jmap: 힙 덤프 생성\n",
    "  - jstat: 시계열 통계 리포트 제공\n",
    "  - jconsole: JVM 속성변수를 시각화된 방식으로 탐색 가능하게 함\n",
    "  - etc.\n",
    "\n",
    "<br>\n",
    "\n",
    "#### OS와 머신\n",
    "- <strong>JVM은 호스트 OS에서 실행되므로 머신의 상태를 모니터링</strong>해서 정상 작동 중인지 확인하는 것은 매우 중요\n",
    "- <strong>자원(CPU, 네트웤, I/O 등)</strong>에 대한 모니터링도 함께 해야함\n",
    "- 이러한 모니터링 요소들은 <strong>클러스터 수준 모니터링 솔루션</strong>에서 확인 가능\n",
    "  - dstat, iostat, iotop 같은 명령을 사용하면 세밀한 모니터링 가능\n",
    "\n",
    "<br>\n",
    "\n",
    "#### 클러스터\n",
    "- <strong>스파크 애플리케이션이 실행되는 클러스터도 모니터링</strong>해야함\n",
    "- <strong>모니터링 대상: YARN, 메소스, 스탠드얼론 클러스터 매니저</strong>\n",
    "- 클러스터 모니터링 솔루션을 활용하면 클러스터가 동작하지 않는 상황을 빠르게 알 수 있음\n",
    "  - Ganglia, Prometheus 등"
   ]
  },
  {
   "cell_type": "markdown",
   "metadata": {
    "application/vnd.databricks.v1+cell": {
     "inputWidgets": {},
     "nuid": "2d811bac-bf28-450c-8b49-10f7e46836be",
     "showTitle": false,
     "title": ""
    }
   },
   "source": [
    "## 모니터링 대상\n",
    "- 모니터링 대상은 크게 두 가지로 나눌 수 있음\n",
    "  - 실행 중인 사용자 애플리케이션의 <strong>프로세스</strong>(CPU, 메모리 사용률 등)\n",
    "  - <strong>프로세스 내부</strong>에서의 쿼리 실행 과정(ex) 잡과 태스크)"
   ]
  },
  {
   "cell_type": "markdown",
   "metadata": {
    "application/vnd.databricks.v1+cell": {
     "inputWidgets": {},
     "nuid": "c02e0ec9-4e76-46dc-b21e-48391997d4c4",
     "showTitle": false,
     "title": ""
    }
   },
   "source": [
    "### 드라이버와 익스큐터 프로세스\n",
    "- 스파크 애플리케이션을 모니터링할 땐 <strong>드라이버</strong>를 유심히 관찰해야함\n",
    " - 드라이버에는 모든 애플리케이션의 <strong>상태가 보관</strong>되어 있으며 안정적으로 실행 중인지 확인 가능\n",
    "- <strong>익스큐터</strong>의 상태를 파악하는 것도 매우 중요\n",
    "  - 스파크는 수월한 모니터링을 지원하기 위해 <strong>드롭위자드 메트릭 라이브러리 기반의 메트릭 시스템</strong>을 갖추고 있음\n",
    "    - [드롭위자드](https://www.dropwizard.io/en/latest/)"
   ]
  },
  {
   "cell_type": "markdown",
   "metadata": {
    "application/vnd.databricks.v1+cell": {
     "inputWidgets": {},
     "nuid": "59c0f7e1-7c75-4016-80f2-eef0cbddecb6",
     "showTitle": false,
     "title": ""
    }
   },
   "source": [
    "### 쿼리, 잡, 스테이지, 태스크\n",
    "- 특정 쿼리에서 무슨 일이 일어나기 위해 다음 각각의 정보를 알아야함\n",
    "  - 쿼리\n",
    "  - 잡\n",
    "  - 스테이지\n",
    "  - 테스크\n",
    "  \n",
    "<img src=\"https://rtfmplz.github.io/images/posts/what-is-job-stage-task-in-spark/spark-rdd-partitions-job-stage-tasks.png\"/>"
   ]
  },
  {
   "cell_type": "markdown",
   "metadata": {
    "application/vnd.databricks.v1+cell": {
     "inputWidgets": {},
     "nuid": "962e6bce-6ccd-42ec-b616-9f5c4ede9726",
     "showTitle": false,
     "title": ""
    }
   },
   "source": [
    "## 스파크 로그\n",
    "- 스파크를 <strong>가장 상세하게 모니터링</strong>하는 방법 중 하나는 로그 파일을 살펴보는 것\n",
    "- 스파크 애플리케이션의 로그나 스파크 자체의 로그에서 발견된 이상한 이벤트는 <strong>잡의 실패 지점이나 원인 파악</strong>을 도움\n",
    "- 클러스터에서 스파크를 실행한다면 클러스터 매니저로 파일에 로그를 저장할 수 있음"
   ]
  },
  {
   "cell_type": "markdown",
   "metadata": {
    "application/vnd.databricks.v1+cell": {
     "inputWidgets": {},
     "nuid": "894b6183-ee72-420a-ba18-0efaa24378f3",
     "showTitle": false,
     "title": ""
    }
   },
   "source": [
    "## 스파크 UI\n",
    "- 스파크 UI는 실행 중인 애플리케이션과 스파크 워크로드에 대한 <strong>평가지표를 모니터링</strong>할 수 있는 화면 제공\n",
    "- 스파크 UI 탭\n",
    "  - Jobs: 스파크 잡에 대한 정보 제공\n",
    "  - Stages: 개별 스테이지(스테이지의 태스크를 포함)와 관련된 정보 제공\n",
    "  - Storage: 스파크 애플리케이션에 캐싱된 정보와 데이터 정보 제공\n",
    "  - Environment: 스파크 애플리케이션의 구성과 설정 관련 정보 제공\n",
    "  - Executors: 애플리케이션에서 사용 중인 익스큐터의 상세 정보 제공\n",
    "  - SQL: SQL과 DataFrame을 포함한 구조적 API 쿼리 정보 제공"
   ]
  },
  {
   "cell_type": "code",
   "execution_count": null,
   "metadata": {
    "application/vnd.databricks.v1+cell": {
     "inputWidgets": {},
     "nuid": "f67f498c-776f-4c1e-9403-1e8f1b760b16",
     "showTitle": false,
     "title": ""
    }
   },
   "outputs": [
    {
     "data": {
      "text/html": [
       "<style scoped>\n",
       "  .ansiout {\n",
       "    display: block;\n",
       "    unicode-bidi: embed;\n",
       "    white-space: pre-wrap;\n",
       "    word-wrap: break-word;\n",
       "    word-break: break-all;\n",
       "    font-family: \"Source Code Pro\", \"Menlo\", monospace;;\n",
       "    font-size: 13px;\n",
       "    color: #555;\n",
       "    margin-left: 4px;\n",
       "    line-height: 19px;\n",
       "  }\n",
       "</style>\n",
       "<div class=\"ansiout\"></div>"
      ]
     },
     "metadata": {
      "application/vnd.databricks.v1+output": {
       "addedWidgets": {},
       "arguments": {},
       "data": "<div class=\"ansiout\"></div>",
       "datasetInfos": [
        {
         "name": "df",
         "schema": {
          "fields": [
           {
            "metadata": {},
            "name": "DEST_COUNTRY_NAME",
            "nullable": true,
            "type": "string"
           },
           {
            "metadata": {},
            "name": "ORIGIN_COUNTRY_NAME",
            "nullable": true,
            "type": "string"
           },
           {
            "metadata": {},
            "name": "count",
            "nullable": true,
            "type": "long"
           }
          ],
          "type": "struct"
         },
         "tableIdentifier": null,
         "typeStr": "pyspark.sql.dataframe.DataFrame"
        }
       ],
       "metadata": {},
       "removedWidgets": [],
       "type": "html"
      }
     },
     "output_type": "display_data"
    }
   ],
   "source": [
    "path = '/FileStore/tables/bin/2010-summary.parquet'\n",
    "df = spark.read.parquet(path)"
   ]
  },
  {
   "cell_type": "code",
   "execution_count": null,
   "metadata": {
    "application/vnd.databricks.v1+cell": {
     "inputWidgets": {},
     "nuid": "6fc546bb-3f0b-4544-8157-a287d2905e96",
     "showTitle": false,
     "title": ""
    }
   },
   "outputs": [
    {
     "data": {
      "text/html": [
       "<style scoped>\n",
       "  .table-result-container {\n",
       "    max-height: 300px;\n",
       "    overflow: auto;\n",
       "  }\n",
       "  table, th, td {\n",
       "    border: 1px solid black;\n",
       "    border-collapse: collapse;\n",
       "  }\n",
       "  th, td {\n",
       "    padding: 5px;\n",
       "  }\n",
       "  th {\n",
       "    text-align: left;\n",
       "  }\n",
       "</style><div class='table-result-container'><table class='table-result'><thead style='background-color: white'><tr><th>DEST_COUNTRY_NAME</th><th>ORIGIN_COUNTRY_NAME</th><th>count</th></tr></thead><tbody><tr><td>United States</td><td>Romania</td><td>1</td></tr><tr><td>United States</td><td>Ireland</td><td>264</td></tr><tr><td>United States</td><td>India</td><td>69</td></tr><tr><td>Egypt</td><td>United States</td><td>24</td></tr><tr><td>Equatorial Guinea</td><td>United States</td><td>1</td></tr><tr><td>United States</td><td>Singapore</td><td>25</td></tr><tr><td>United States</td><td>Grenada</td><td>54</td></tr><tr><td>Costa Rica</td><td>United States</td><td>477</td></tr><tr><td>Senegal</td><td>United States</td><td>29</td></tr><tr><td>United States</td><td>Marshall Islands</td><td>44</td></tr></tbody></table></div>"
      ]
     },
     "metadata": {
      "application/vnd.databricks.v1+output": {
       "addedWidgets": {},
       "aggData": [],
       "aggError": "",
       "aggOverflow": false,
       "aggSchema": [],
       "aggSeriesLimitReached": false,
       "aggType": "",
       "arguments": {},
       "columnCustomDisplayInfos": {},
       "data": [
        [
         "United States",
         "Romania",
         1
        ],
        [
         "United States",
         "Ireland",
         264
        ],
        [
         "United States",
         "India",
         69
        ],
        [
         "Egypt",
         "United States",
         24
        ],
        [
         "Equatorial Guinea",
         "United States",
         1
        ],
        [
         "United States",
         "Singapore",
         25
        ],
        [
         "United States",
         "Grenada",
         54
        ],
        [
         "Costa Rica",
         "United States",
         477
        ],
        [
         "Senegal",
         "United States",
         29
        ],
        [
         "United States",
         "Marshall Islands",
         44
        ]
       ],
       "datasetInfos": [],
       "dbfsResultPath": null,
       "isJsonSchema": true,
       "metadata": {},
       "overflow": false,
       "plotOptions": {
        "customPlotOptions": {},
        "displayType": "table",
        "pivotAggregation": null,
        "pivotColumns": null,
        "xColumns": null,
        "yColumns": null
       },
       "removedWidgets": [],
       "schema": [
        {
         "metadata": "{}",
         "name": "DEST_COUNTRY_NAME",
         "type": "\"string\""
        },
        {
         "metadata": "{}",
         "name": "ORIGIN_COUNTRY_NAME",
         "type": "\"string\""
        },
        {
         "metadata": "{}",
         "name": "count",
         "type": "\"long\""
        }
       ],
       "type": "table"
      }
     },
     "output_type": "display_data"
    }
   ],
   "source": [
    "display(df.limit(10))"
   ]
  },
  {
   "cell_type": "code",
   "execution_count": null,
   "metadata": {
    "application/vnd.databricks.v1+cell": {
     "inputWidgets": {},
     "nuid": "2f3a5ba2-cb40-444c-9cc7-f25cbf6621a9",
     "showTitle": false,
     "title": ""
    }
   },
   "outputs": [
    {
     "data": {
      "text/html": [
       "<style scoped>\n",
       "  .ansiout {\n",
       "    display: block;\n",
       "    unicode-bidi: embed;\n",
       "    white-space: pre-wrap;\n",
       "    word-wrap: break-word;\n",
       "    word-break: break-all;\n",
       "    font-family: \"Source Code Pro\", \"Menlo\", monospace;;\n",
       "    font-size: 13px;\n",
       "    color: #555;\n",
       "    margin-left: 4px;\n",
       "    line-height: 19px;\n",
       "  }\n",
       "</style>\n",
       "<div class=\"ansiout\">== Physical Plan ==\n",
       "*(3) HashAggregate(keys=[dest_country_name#330], functions=[finalmerge_count(merge count#348L) AS count(1)#343L])\n",
       "+- Exchange hashpartitioning(dest_country_name#330, 200)\n",
       "   +- *(2) HashAggregate(keys=[dest_country_name#330], functions=[partial_count(1) AS count#348L])\n",
       "      +- Exchange RoundRobinPartitioning(2)\n",
       "         +- *(1) FileScan parquet [DEST_COUNTRY_NAME#330] Batched: true, DataFilters: [], Format: Parquet, Location: InMemoryFileIndex[dbfs:/FileStore/tables/bin/2010-summary.parquet], PartitionFilters: [], PushedFilters: [], ReadSchema: struct&lt;DEST_COUNTRY_NAME:string&gt;\n",
       "</div>"
      ]
     },
     "metadata": {
      "application/vnd.databricks.v1+output": {
       "addedWidgets": {},
       "arguments": {},
       "data": "<div class=\"ansiout\">== Physical Plan ==\n*(3) HashAggregate(keys=[dest_country_name#330], functions=[finalmerge_count(merge count#348L) AS count(1)#343L])\n+- Exchange hashpartitioning(dest_country_name#330, 200)\n   +- *(2) HashAggregate(keys=[dest_country_name#330], functions=[partial_count(1) AS count#348L])\n      +- Exchange RoundRobinPartitioning(2)\n         +- *(1) FileScan parquet [DEST_COUNTRY_NAME#330] Batched: true, DataFilters: [], Format: Parquet, Location: InMemoryFileIndex[dbfs:/FileStore/tables/bin/2010-summary.parquet], PartitionFilters: [], PushedFilters: [], ReadSchema: struct&lt;DEST_COUNTRY_NAME:string&gt;\n</div>",
       "datasetInfos": [],
       "metadata": {},
       "removedWidgets": [],
       "type": "html"
      }
     },
     "output_type": "display_data"
    }
   ],
   "source": [
    "df.repartition(2).groupby('dest_country_name').count().explain()"
   ]
  },
  {
   "cell_type": "code",
   "execution_count": null,
   "metadata": {
    "application/vnd.databricks.v1+cell": {
     "inputWidgets": {},
     "nuid": "e472014e-409e-4121-b258-6ba1fb3e5a23",
     "showTitle": false,
     "title": ""
    }
   },
   "outputs": [
    {
     "data": {
      "text/html": [
       "<style scoped>\n",
       "  .ansiout {\n",
       "    display: block;\n",
       "    unicode-bidi: embed;\n",
       "    white-space: pre-wrap;\n",
       "    word-wrap: break-word;\n",
       "    word-break: break-all;\n",
       "    font-family: \"Source Code Pro\", \"Menlo\", monospace;;\n",
       "    font-size: 13px;\n",
       "    color: #555;\n",
       "    margin-left: 4px;\n",
       "    line-height: 19px;\n",
       "  }\n",
       "</style>\n",
       "<div class=\"ansiout\"><span class=\"ansired\">Out[</span><span class=\"ansired\">4</span><span class=\"ansired\">]: </span>[Row(dest_country_name=&apos;Russia&apos;, count=1),\n",
       " Row(dest_country_name=&apos;Anguilla&apos;, count=1),\n",
       " Row(dest_country_name=&apos;Paraguay&apos;, count=1),\n",
       " Row(dest_country_name=&apos;Senegal&apos;, count=1),\n",
       " Row(dest_country_name=&apos;Sweden&apos;, count=1),\n",
       " Row(dest_country_name=&apos;Kiribati&apos;, count=1),\n",
       " Row(dest_country_name=&apos;Guyana&apos;, count=1),\n",
       " Row(dest_country_name=&apos;Philippines&apos;, count=1),\n",
       " Row(dest_country_name=&apos;Singapore&apos;, count=1),\n",
       " Row(dest_country_name=&apos;Malaysia&apos;, count=1),\n",
       " Row(dest_country_name=&apos;Fiji&apos;, count=1),\n",
       " Row(dest_country_name=&apos;Turkey&apos;, count=1),\n",
       " Row(dest_country_name=&apos;Germany&apos;, count=1),\n",
       " Row(dest_country_name=&apos;Afghanistan&apos;, count=1),\n",
       " Row(dest_country_name=&apos;Jordan&apos;, count=1),\n",
       " Row(dest_country_name=&apos;Palau&apos;, count=1),\n",
       " Row(dest_country_name=&apos;France&apos;, count=1),\n",
       " Row(dest_country_name=&apos;Turks and Caicos Islands&apos;, count=1),\n",
       " Row(dest_country_name=&apos;Greece&apos;, count=1),\n",
       " Row(dest_country_name=&apos;Taiwan&apos;, count=1),\n",
       " Row(dest_country_name=&apos;British Virgin Islands&apos;, count=1),\n",
       " Row(dest_country_name=&apos;Dominica&apos;, count=1),\n",
       " Row(dest_country_name=&apos;Equatorial Guinea&apos;, count=1),\n",
       " Row(dest_country_name=&apos;Slovakia&apos;, count=1),\n",
       " Row(dest_country_name=&apos;Argentina&apos;, count=1),\n",
       " Row(dest_country_name=&apos;Angola&apos;, count=1),\n",
       " Row(dest_country_name=&apos;Belgium&apos;, count=1),\n",
       " Row(dest_country_name=&apos;Qatar&apos;, count=1),\n",
       " Row(dest_country_name=&apos;Ecuador&apos;, count=1),\n",
       " Row(dest_country_name=&apos;Finland&apos;, count=1),\n",
       " Row(dest_country_name=&apos;Ghana&apos;, count=1),\n",
       " Row(dest_country_name=&apos;Nicaragua&apos;, count=1),\n",
       " Row(dest_country_name=&apos;Peru&apos;, count=1),\n",
       " Row(dest_country_name=&apos;China&apos;, count=1),\n",
       " Row(dest_country_name=&apos;India&apos;, count=1),\n",
       " Row(dest_country_name=&apos;Curacao&apos;, count=1),\n",
       " Row(dest_country_name=&apos;United States&apos;, count=131),\n",
       " Row(dest_country_name=&apos;Malta&apos;, count=1),\n",
       " Row(dest_country_name=&apos;Kuwait&apos;, count=1),\n",
       " Row(dest_country_name=&apos;Marshall Islands&apos;, count=1),\n",
       " Row(dest_country_name=&apos;Chile&apos;, count=1),\n",
       " Row(dest_country_name=&apos;Martinique&apos;, count=1),\n",
       " Row(dest_country_name=&apos;Cayman Islands&apos;, count=1),\n",
       " Row(dest_country_name=&apos;Nigeria&apos;, count=1),\n",
       " Row(dest_country_name=&apos;Bolivia&apos;, count=1),\n",
       " Row(dest_country_name=&apos;Italy&apos;, count=1),\n",
       " Row(dest_country_name=&apos;Suriname&apos;, count=1),\n",
       " Row(dest_country_name=&apos;Netherlands Antilles&apos;, count=1),\n",
       " Row(dest_country_name=&apos;Norway&apos;, count=1),\n",
       " Row(dest_country_name=&apos;Spain&apos;, count=1),\n",
       " Row(dest_country_name=&apos;Cuba&apos;, count=1),\n",
       " Row(dest_country_name=&apos;Guadeloupe&apos;, count=1),\n",
       " Row(dest_country_name=&apos;Denmark&apos;, count=1),\n",
       " Row(dest_country_name=&apos;Barbados&apos;, count=1),\n",
       " Row(dest_country_name=&apos;Ireland&apos;, count=1),\n",
       " Row(dest_country_name=&apos;Thailand&apos;, count=1),\n",
       " Row(dest_country_name=&apos;Morocco&apos;, count=1),\n",
       " Row(dest_country_name=&apos;Panama&apos;, count=1),\n",
       " Row(dest_country_name=&apos;Cape Verde&apos;, count=1),\n",
       " Row(dest_country_name=&apos;Hong Kong&apos;, count=1),\n",
       " Row(dest_country_name=&apos;Ukraine&apos;, count=1),\n",
       " Row(dest_country_name=&apos;Venezuela&apos;, count=1),\n",
       " Row(dest_country_name=&apos;Israel&apos;, count=1),\n",
       " Row(dest_country_name=&apos;Saint Barthelemy&apos;, count=1),\n",
       " Row(dest_country_name=&apos;Iceland&apos;, count=1),\n",
       " Row(dest_country_name=&apos;Saint Kitts and Nevis&apos;, count=1),\n",
       " Row(dest_country_name=&apos;French Polynesia&apos;, count=1),\n",
       " Row(dest_country_name=&apos;South Korea&apos;, count=1),\n",
       " Row(dest_country_name=&apos;Cyprus&apos;, count=1),\n",
       " Row(dest_country_name=&apos;Bonaire, Sint Eustatius, and Saba&apos;, count=1),\n",
       " Row(dest_country_name=&apos;Uruguay&apos;, count=1),\n",
       " Row(dest_country_name=&apos;Mexico&apos;, count=1),\n",
       " Row(dest_country_name=&apos;Aruba&apos;, count=1),\n",
       " Row(dest_country_name=&apos;Georgia&apos;, count=1),\n",
       " Row(dest_country_name=&apos;Saint Vincent and the Grenadines&apos;, count=1),\n",
       " Row(dest_country_name=&apos;The Bahamas&apos;, count=1),\n",
       " Row(dest_country_name=&apos;Guatemala&apos;, count=1),\n",
       " Row(dest_country_name=&apos;Azerbaijan&apos;, count=1),\n",
       " Row(dest_country_name=&apos;Sint Maarten&apos;, count=1),\n",
       " Row(dest_country_name=&apos;Grenada&apos;, count=1),\n",
       " Row(dest_country_name=&apos;Federated States of Micronesia&apos;, count=1),\n",
       " Row(dest_country_name=&apos;Liberia&apos;, count=1),\n",
       " Row(dest_country_name=&apos;Honduras&apos;, count=1),\n",
       " Row(dest_country_name=&apos;Trinidad and Tobago&apos;, count=1),\n",
       " Row(dest_country_name=&apos;Saudi Arabia&apos;, count=1),\n",
       " Row(dest_country_name=&apos;Uganda&apos;, count=1),\n",
       " Row(dest_country_name=&apos;French Guiana&apos;, count=1),\n",
       " Row(dest_country_name=&apos;Switzerland&apos;, count=1),\n",
       " Row(dest_country_name=&apos;Ethiopia&apos;, count=1),\n",
       " Row(dest_country_name=&apos;Latvia&apos;, count=1),\n",
       " Row(dest_country_name=&apos;Jamaica&apos;, count=1),\n",
       " Row(dest_country_name=&apos;United Arab Emirates&apos;, count=1),\n",
       " Row(dest_country_name=&apos;Saint Lucia&apos;, count=1),\n",
       " Row(dest_country_name=&apos;Canada&apos;, count=1),\n",
       " Row(dest_country_name=&apos;Kyrgyzstan&apos;, count=1),\n",
       " Row(dest_country_name=&apos;Samoa&apos;, count=1),\n",
       " Row(dest_country_name=&apos;Czech Republic&apos;, count=1),\n",
       " Row(dest_country_name=&apos;Cook Islands&apos;, count=1),\n",
       " Row(dest_country_name=&apos;Brazil&apos;, count=1),\n",
       " Row(dest_country_name=&apos;Belize&apos;, count=1),\n",
       " Row(dest_country_name=&apos;Antigua and Barbuda&apos;, count=1),\n",
       " Row(dest_country_name=&apos;Dominican Republic&apos;, count=1),\n",
       " Row(dest_country_name=&apos;Japan&apos;, count=1),\n",
       " Row(dest_country_name=&apos;Luxembourg&apos;, count=1),\n",
       " Row(dest_country_name=&apos;New Zealand&apos;, count=1),\n",
       " Row(dest_country_name=&apos;Greenland&apos;, count=1),\n",
       " Row(dest_country_name=&apos;Haiti&apos;, count=1),\n",
       " Row(dest_country_name=&apos;Poland&apos;, count=1),\n",
       " Row(dest_country_name=&apos;Portugal&apos;, count=1),\n",
       " Row(dest_country_name=&apos;Australia&apos;, count=1),\n",
       " Row(dest_country_name=&apos;Bulgaria&apos;, count=1),\n",
       " Row(dest_country_name=&apos;Austria&apos;, count=1),\n",
       " Row(dest_country_name=&apos;Egypt&apos;, count=1),\n",
       " Row(dest_country_name=&apos;Costa Rica&apos;, count=1),\n",
       " Row(dest_country_name=&apos;Kazakhstan&apos;, count=1),\n",
       " Row(dest_country_name=&apos;El Salvador&apos;, count=1),\n",
       " Row(dest_country_name=&apos;South Africa&apos;, count=1),\n",
       " Row(dest_country_name=&apos;Bermuda&apos;, count=1),\n",
       " Row(dest_country_name=&apos;Bahrain&apos;, count=1),\n",
       " Row(dest_country_name=&apos;Colombia&apos;, count=1),\n",
       " Row(dest_country_name=&apos;Hungary&apos;, count=1),\n",
       " Row(dest_country_name=&apos;Pakistan&apos;, count=1),\n",
       " Row(dest_country_name=&apos;United Kingdom&apos;, count=1),\n",
       " Row(dest_country_name=&apos;Vietnam&apos;, count=1),\n",
       " Row(dest_country_name=&apos;Netherlands&apos;, count=1)]</div>"
      ]
     },
     "metadata": {
      "application/vnd.databricks.v1+output": {
       "addedWidgets": {},
       "arguments": {},
       "data": "<div class=\"ansiout\"><span class=\"ansired\">Out[</span><span class=\"ansired\">4</span><span class=\"ansired\">]: </span>[Row(dest_country_name=&apos;Russia&apos;, count=1),\n Row(dest_country_name=&apos;Anguilla&apos;, count=1),\n Row(dest_country_name=&apos;Paraguay&apos;, count=1),\n Row(dest_country_name=&apos;Senegal&apos;, count=1),\n Row(dest_country_name=&apos;Sweden&apos;, count=1),\n Row(dest_country_name=&apos;Kiribati&apos;, count=1),\n Row(dest_country_name=&apos;Guyana&apos;, count=1),\n Row(dest_country_name=&apos;Philippines&apos;, count=1),\n Row(dest_country_name=&apos;Singapore&apos;, count=1),\n Row(dest_country_name=&apos;Malaysia&apos;, count=1),\n Row(dest_country_name=&apos;Fiji&apos;, count=1),\n Row(dest_country_name=&apos;Turkey&apos;, count=1),\n Row(dest_country_name=&apos;Germany&apos;, count=1),\n Row(dest_country_name=&apos;Afghanistan&apos;, count=1),\n Row(dest_country_name=&apos;Jordan&apos;, count=1),\n Row(dest_country_name=&apos;Palau&apos;, count=1),\n Row(dest_country_name=&apos;France&apos;, count=1),\n Row(dest_country_name=&apos;Turks and Caicos Islands&apos;, count=1),\n Row(dest_country_name=&apos;Greece&apos;, count=1),\n Row(dest_country_name=&apos;Taiwan&apos;, count=1),\n Row(dest_country_name=&apos;British Virgin Islands&apos;, count=1),\n Row(dest_country_name=&apos;Dominica&apos;, count=1),\n Row(dest_country_name=&apos;Equatorial Guinea&apos;, count=1),\n Row(dest_country_name=&apos;Slovakia&apos;, count=1),\n Row(dest_country_name=&apos;Argentina&apos;, count=1),\n Row(dest_country_name=&apos;Angola&apos;, count=1),\n Row(dest_country_name=&apos;Belgium&apos;, count=1),\n Row(dest_country_name=&apos;Qatar&apos;, count=1),\n Row(dest_country_name=&apos;Ecuador&apos;, count=1),\n Row(dest_country_name=&apos;Finland&apos;, count=1),\n Row(dest_country_name=&apos;Ghana&apos;, count=1),\n Row(dest_country_name=&apos;Nicaragua&apos;, count=1),\n Row(dest_country_name=&apos;Peru&apos;, count=1),\n Row(dest_country_name=&apos;China&apos;, count=1),\n Row(dest_country_name=&apos;India&apos;, count=1),\n Row(dest_country_name=&apos;Curacao&apos;, count=1),\n Row(dest_country_name=&apos;United States&apos;, count=131),\n Row(dest_country_name=&apos;Malta&apos;, count=1),\n Row(dest_country_name=&apos;Kuwait&apos;, count=1),\n Row(dest_country_name=&apos;Marshall Islands&apos;, count=1),\n Row(dest_country_name=&apos;Chile&apos;, count=1),\n Row(dest_country_name=&apos;Martinique&apos;, count=1),\n Row(dest_country_name=&apos;Cayman Islands&apos;, count=1),\n Row(dest_country_name=&apos;Nigeria&apos;, count=1),\n Row(dest_country_name=&apos;Bolivia&apos;, count=1),\n Row(dest_country_name=&apos;Italy&apos;, count=1),\n Row(dest_country_name=&apos;Suriname&apos;, count=1),\n Row(dest_country_name=&apos;Netherlands Antilles&apos;, count=1),\n Row(dest_country_name=&apos;Norway&apos;, count=1),\n Row(dest_country_name=&apos;Spain&apos;, count=1),\n Row(dest_country_name=&apos;Cuba&apos;, count=1),\n Row(dest_country_name=&apos;Guadeloupe&apos;, count=1),\n Row(dest_country_name=&apos;Denmark&apos;, count=1),\n Row(dest_country_name=&apos;Barbados&apos;, count=1),\n Row(dest_country_name=&apos;Ireland&apos;, count=1),\n Row(dest_country_name=&apos;Thailand&apos;, count=1),\n Row(dest_country_name=&apos;Morocco&apos;, count=1),\n Row(dest_country_name=&apos;Panama&apos;, count=1),\n Row(dest_country_name=&apos;Cape Verde&apos;, count=1),\n Row(dest_country_name=&apos;Hong Kong&apos;, count=1),\n Row(dest_country_name=&apos;Ukraine&apos;, count=1),\n Row(dest_country_name=&apos;Venezuela&apos;, count=1),\n Row(dest_country_name=&apos;Israel&apos;, count=1),\n Row(dest_country_name=&apos;Saint Barthelemy&apos;, count=1),\n Row(dest_country_name=&apos;Iceland&apos;, count=1),\n Row(dest_country_name=&apos;Saint Kitts and Nevis&apos;, count=1),\n Row(dest_country_name=&apos;French Polynesia&apos;, count=1),\n Row(dest_country_name=&apos;South Korea&apos;, count=1),\n Row(dest_country_name=&apos;Cyprus&apos;, count=1),\n Row(dest_country_name=&apos;Bonaire, Sint Eustatius, and Saba&apos;, count=1),\n Row(dest_country_name=&apos;Uruguay&apos;, count=1),\n Row(dest_country_name=&apos;Mexico&apos;, count=1),\n Row(dest_country_name=&apos;Aruba&apos;, count=1),\n Row(dest_country_name=&apos;Georgia&apos;, count=1),\n Row(dest_country_name=&apos;Saint Vincent and the Grenadines&apos;, count=1),\n Row(dest_country_name=&apos;The Bahamas&apos;, count=1),\n Row(dest_country_name=&apos;Guatemala&apos;, count=1),\n Row(dest_country_name=&apos;Azerbaijan&apos;, count=1),\n Row(dest_country_name=&apos;Sint Maarten&apos;, count=1),\n Row(dest_country_name=&apos;Grenada&apos;, count=1),\n Row(dest_country_name=&apos;Federated States of Micronesia&apos;, count=1),\n Row(dest_country_name=&apos;Liberia&apos;, count=1),\n Row(dest_country_name=&apos;Honduras&apos;, count=1),\n Row(dest_country_name=&apos;Trinidad and Tobago&apos;, count=1),\n Row(dest_country_name=&apos;Saudi Arabia&apos;, count=1),\n Row(dest_country_name=&apos;Uganda&apos;, count=1),\n Row(dest_country_name=&apos;French Guiana&apos;, count=1),\n Row(dest_country_name=&apos;Switzerland&apos;, count=1),\n Row(dest_country_name=&apos;Ethiopia&apos;, count=1),\n Row(dest_country_name=&apos;Latvia&apos;, count=1),\n Row(dest_country_name=&apos;Jamaica&apos;, count=1),\n Row(dest_country_name=&apos;United Arab Emirates&apos;, count=1),\n Row(dest_country_name=&apos;Saint Lucia&apos;, count=1),\n Row(dest_country_name=&apos;Canada&apos;, count=1),\n Row(dest_country_name=&apos;Kyrgyzstan&apos;, count=1),\n Row(dest_country_name=&apos;Samoa&apos;, count=1),\n Row(dest_country_name=&apos;Czech Republic&apos;, count=1),\n Row(dest_country_name=&apos;Cook Islands&apos;, count=1),\n Row(dest_country_name=&apos;Brazil&apos;, count=1),\n Row(dest_country_name=&apos;Belize&apos;, count=1),\n Row(dest_country_name=&apos;Antigua and Barbuda&apos;, count=1),\n Row(dest_country_name=&apos;Dominican Republic&apos;, count=1),\n Row(dest_country_name=&apos;Japan&apos;, count=1),\n Row(dest_country_name=&apos;Luxembourg&apos;, count=1),\n Row(dest_country_name=&apos;New Zealand&apos;, count=1),\n Row(dest_country_name=&apos;Greenland&apos;, count=1),\n Row(dest_country_name=&apos;Haiti&apos;, count=1),\n Row(dest_country_name=&apos;Poland&apos;, count=1),\n Row(dest_country_name=&apos;Portugal&apos;, count=1),\n Row(dest_country_name=&apos;Australia&apos;, count=1),\n Row(dest_country_name=&apos;Bulgaria&apos;, count=1),\n Row(dest_country_name=&apos;Austria&apos;, count=1),\n Row(dest_country_name=&apos;Egypt&apos;, count=1),\n Row(dest_country_name=&apos;Costa Rica&apos;, count=1),\n Row(dest_country_name=&apos;Kazakhstan&apos;, count=1),\n Row(dest_country_name=&apos;El Salvador&apos;, count=1),\n Row(dest_country_name=&apos;South Africa&apos;, count=1),\n Row(dest_country_name=&apos;Bermuda&apos;, count=1),\n Row(dest_country_name=&apos;Bahrain&apos;, count=1),\n Row(dest_country_name=&apos;Colombia&apos;, count=1),\n Row(dest_country_name=&apos;Hungary&apos;, count=1),\n Row(dest_country_name=&apos;Pakistan&apos;, count=1),\n Row(dest_country_name=&apos;United Kingdom&apos;, count=1),\n Row(dest_country_name=&apos;Vietnam&apos;, count=1),\n Row(dest_country_name=&apos;Netherlands&apos;, count=1)]</div>",
       "datasetInfos": [],
       "metadata": {},
       "removedWidgets": [],
       "type": "html"
      }
     },
     "output_type": "display_data"
    }
   ],
   "source": [
    "df.repartition(2).groupby('dest_country_name').count().collect()"
   ]
  },
  {
   "cell_type": "markdown",
   "metadata": {
    "application/vnd.databricks.v1+cell": {
     "inputWidgets": {},
     "nuid": "93291c76-edfc-40a5-a053-0edd55bf87d2",
     "showTitle": false,
     "title": ""
    }
   },
   "source": [
    "### 스테이지 확인\n",
    "- stage 총 3개\n",
    "  - <strong>stage1: 파일 스캔 + 파티션 재분배</strong>\n",
    "    - task 1개\n",
    "  - <strong>stage2: 파티션별 집계 수행</strong>\n",
    "    - task 2개(파티션이 두 개 이므로)\n",
    "  - <strong>stage3: 셔플 파티션</strong>\n",
    "    - task 200개(기본값)\n",
    "    \n",
    "- 태스크 상세 정보 확인\n",
    "  - Summary Metrics: 다양한 메트릭에 관한 요약 통계\n",
    "    - 값이 균일한지 봐야함 (균일하지 않다면 눈여겨 봐야함)\n",
    "  - Aggregated Metrics by Executor: 익스큐터별 통계\n",
    "    - 특정 익스큐터가 워크로드를 처리하는 데 어려움을 겪고 있는지 판단할 때 유용\n",
    "  - Show Additional Metrics: 더 상세한 메트릭 정보"
   ]
  },
  {
   "cell_type": "markdown",
   "metadata": {
    "application/vnd.databricks.v1+cell": {
     "inputWidgets": {},
     "nuid": "0f995de8-2e32-45dd-becd-97cca9aee24a",
     "showTitle": false,
     "title": ""
    }
   },
   "source": [
    "### 스파크 REST API\n",
    "- 사용자 정의 리포트 솔루션을 구축할 때 REST API 사용\n",
    "- 스파크 UI 외에도 REST API로 스파크의 상태와 메트릭 확인 가능\n",
    "- 대부분의 REST API는 스파크 UI와 동일한 정보를 제공하지만 SQL 관련 정보는 제공X"
   ]
  },
  {
   "cell_type": "markdown",
   "metadata": {
    "application/vnd.databricks.v1+cell": {
     "inputWidgets": {},
     "nuid": "ecd6ad6f-e783-48fa-ab0b-94ea597ab406",
     "showTitle": false,
     "title": ""
    }
   },
   "source": [
    "### 스파크 UI 히스토리 서버\n",
    "- 스파크 UI는 SparkContext가 실행되는 동안 사용 가능\n",
    "- 정상적으로 종료되거나 비정상적으로 종료된 애플리케이션의 정보를 확인하려면 스파크 히스토리 서버를 이용해야함\n",
    "  - 그 전에 특정 경로에 이벤트 로그를 저장하도록 스파크 애플리케이션을 설정해야함"
   ]
  }
 ],
 "metadata": {
  "application/vnd.databricks.v1+notebook": {
   "dashboards": [],
   "language": "python",
   "notebookMetadata": {
    "pythonIndentUnit": 2
   },
   "notebookName": "Chapter18-1",
   "notebookOrigID": 2033227,
   "widgets": {}
  },
  "kernelspec": {
   "display_name": "Python 3 (ipykernel)",
   "language": "python",
   "name": "python3"
  },
  "language_info": {
   "codemirror_mode": {
    "name": "ipython",
    "version": 3
   },
   "file_extension": ".py",
   "mimetype": "text/x-python",
   "name": "python",
   "nbconvert_exporter": "python",
   "pygments_lexer": "ipython3",
   "version": "3.11.6"
  }
 },
 "nbformat": 4,
 "nbformat_minor": 4
}
