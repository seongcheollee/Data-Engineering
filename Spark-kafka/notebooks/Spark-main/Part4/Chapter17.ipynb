{
 "cells": [
  {
   "cell_type": "markdown",
   "metadata": {
    "application/vnd.databricks.v1+cell": {
     "inputWidgets": {},
     "nuid": "53784151-e1fc-4c03-b8f7-65a498cc4164",
     "showTitle": false,
     "title": ""
    }
   },
   "source": [
    "# 스파크 배포 환경\n",
    "- [docs](https://spark.apache.org/docs/latest/cluster-overview.html)\n",
    "- 스파크가 지원하는 클러스터 매니저\n",
    "  - 스탠드얼론\n",
    "  - 하둡 YARN\n",
    "  - 아파치 메소스\n",
    "  - 쿠버네티스(책 집필 당시인 2017년 12월에는 없었음)\n",
    "\n",
    "- 위 클러스터 매니저는 스파크 애플리케이션을 같은 방식으로 실행함\n",
    "  - 하지만 각 클러스터 매니저마다 추구하는 방향성이 다르므로 장단점을 이해하고 상황에 맞게 사용해야함"
   ]
  },
  {
   "cell_type": "markdown",
   "metadata": {
    "application/vnd.databricks.v1+cell": {
     "inputWidgets": {},
     "nuid": "8e695f08-8cd8-4110-85cf-3fe25a5ad278",
     "showTitle": false,
     "title": ""
    }
   },
   "source": [
    "## 스파크 애플리케이션  실행을 위한 클러스터 환경\n",
    "- 환경은 크게 두 가지\n",
    "  - <strong>설치형 클러스터(on-premise cluster)</strong>\n",
    "  - <strong>공개 클라우드(public cloud)</strong>"
   ]
  },
  {
   "cell_type": "markdown",
   "metadata": {
    "application/vnd.databricks.v1+cell": {
     "inputWidgets": {},
     "nuid": "e399234a-8ed9-4f6d-b186-113d8588a851",
     "showTitle": false,
     "title": ""
    }
   },
   "source": [
    "### 설치형 클러스터 배포 환경\n",
    "- 자체 데이터 센터를 운영하는 조직에 적합\n",
    "- 장점\n",
    "  - 여러 종류의 저장소 선택 가능\n",
    "  - 사용 중인 하드웨어를 완전히 제어 가능\n",
    "    - 이는 특정 워크로드의 성능을 최적화할 수 있게함\n",
    "- 단점\n",
    "  - 관리해야할 것이 많음\n",
    "    - HDFS나 분산 키-값 등 자체 저장소 시스템을 선택하고 운영해야함\n",
    "    - 지리적 복제, 재해 복구 시스템 등도 함께 구축\n",
    "  - 제한된 클러스터 크기\n",
    "    - 어떤 작업은 자원이 부족해서 잡을 실행하기 어려울 것이고\n",
    "    - 어떤 작업은 사용하지 않는 자원이 많아질 것임"
   ]
  },
  {
   "cell_type": "markdown",
   "metadata": {
    "application/vnd.databricks.v1+cell": {
     "inputWidgets": {},
     "nuid": "7d225c72-5713-4b2e-86b5-f057c6cb4006",
     "showTitle": false,
     "title": ""
    }
   },
   "source": [
    "### 클라우드 배포 환경\n",
    "- 일반적인 스파크 운영 플랫폼으로 자리 잡음\n",
    "- 장점\n",
    " - 자원을 탄력적으로 할당 가능\n",
    "   - 사용한 만큼만 비용 지불\n",
    " - 쉬운 관리\n",
    "- 단점(책엔 없는데)\n",
    "  - 보안 문제나 장애에 대한 직접 관리 및 대응 불가\n",
    "    - [참고 링크](http://www.mediaus.co.kr/news/articleView.html?idxno=18137)"
   ]
  },
  {
   "cell_type": "markdown",
   "metadata": {
    "application/vnd.databricks.v1+cell": {
     "inputWidgets": {},
     "nuid": "cceaa209-4961-4b86-8839-1d78ffc5e2fd",
     "showTitle": false,
     "title": ""
    }
   },
   "source": [
    "#### 데이터브릭스\n",
    "- 데이터브릭스는 <strong>클라우드에서 스파크 서비스를 제공</strong>하는 업체 중 하나\n",
    "- 데이터브릭스 클라우드 환경을 사용하면 복잡하게 하둡을 설치하지 않아도 스파크 워크로드를 실행할 수 있음\n",
    "- 또한 효율적으로 실행할 수 있도록 다양한 기능 제공\n",
    "  - 클러스터 크기 자동 조절\n",
    "  - 클러스터 자동 종료\n",
    "  - 클라우드 스토리지에 최적화된 커넥터\n",
    "  - etc."
   ]
  },
  {
   "cell_type": "markdown",
   "metadata": {
    "application/vnd.databricks.v1+cell": {
     "inputWidgets": {},
     "nuid": "2f071ccd-a549-491a-a7a4-50f66061d0ab",
     "showTitle": false,
     "title": ""
    }
   },
   "source": [
    "## 클러스터 매니저\n",
    "- 클라우드 환경에서 제공하는 고급 관리 서비스를 사용하는 경우가 아니라면 스파크를 사용하기 위한 클러스터 매니저를 선택해야함"
   ]
  },
  {
   "cell_type": "markdown",
   "metadata": {
    "application/vnd.databricks.v1+cell": {
     "inputWidgets": {},
     "nuid": "cd9cf4f1-429a-401c-9983-d12035a4ffb9",
     "showTitle": false,
     "title": ""
    }
   },
   "source": [
    "### 스탠드얼론\n",
    "- 아파치 스파크 워크로드용으로 특별히 제작된 경량화 플랫폼\n",
    "- 이해와 활용이 비교적 쉬움\n",
    "- 다른 클러스터 매니저보다 제한적인 기능\n",
    "- 스파크 애플리케이션만 실행 가능"
   ]
  },
  {
   "cell_type": "markdown",
   "metadata": {
    "application/vnd.databricks.v1+cell": {
     "inputWidgets": {},
     "nuid": "426a0a49-1cd4-43ea-8f2b-4437ba425268",
     "showTitle": false,
     "title": ""
    }
   },
   "source": [
    "### 하둡 YARN\n",
    "- 잡 스케줄링과 클러스터 자원 관리용 프레임워크\n",
    "- HDFS를 사용하는 애플리케이션을 실행할 때 가장 적합\n",
    "- 연산용 클러스터와 저장소 클러스터가 강하게 결합해 있음\n",
    "  - 즉, 클러스터 확장 시 연상용 클러스터와 저장소 클러스터 동시에 확장해야함"
   ]
  },
  {
   "cell_type": "markdown",
   "metadata": {
    "application/vnd.databricks.v1+cell": {
     "inputWidgets": {},
     "nuid": "43aca170-9681-404d-81d0-3ff503a97811",
     "showTitle": false,
     "title": ""
    }
   },
   "source": [
    "### 아파치 메소스\n",
    "- 다양한 애플리케이션 유형 지원\n",
    "- 데이터센터 규모의 클러스터 매니저를 지향함\n",
    "- 위 두 클러스터 매니저보다 무거움\n",
    "  - 대규모의 메소스 배포 환경이 있는 경우에만 사용하자"
   ]
  }
 ],
 "metadata": {
  "application/vnd.databricks.v1+notebook": {
   "dashboards": [],
   "language": "python",
   "notebookMetadata": {
    "pythonIndentUnit": 2
   },
   "notebookName": "Chapter17",
   "notebookOrigID": 2032443,
   "widgets": {}
  },
  "kernelspec": {
   "display_name": "Python 3 (ipykernel)",
   "language": "python",
   "name": "python3"
  },
  "language_info": {
   "codemirror_mode": {
    "name": "ipython",
    "version": 3
   },
   "file_extension": ".py",
   "mimetype": "text/x-python",
   "name": "python",
   "nbconvert_exporter": "python",
   "pygments_lexer": "ipython3",
   "version": "3.11.6"
  }
 },
 "nbformat": 4,
 "nbformat_minor": 4
}
