{
 "cells": [
  {
   "cell_type": "markdown",
   "metadata": {
    "application/vnd.databricks.v1+cell": {
     "inputWidgets": {},
     "nuid": "17d41a3e-00a5-45ff-9e73-5032458850d6",
     "showTitle": false,
     "title": ""
    }
   },
   "source": [
    "# RDD 고급 개념\n",
    "- 이 장에서 다룰 핵심 주제\n",
    "  - 집계와 키-값 형태의 RDD\n",
    "  - 사용자 정의 파티셔닝\n",
    "  - RDD 조인"
   ]
  },
  {
   "cell_type": "code",
   "execution_count": null,
   "metadata": {
    "application/vnd.databricks.v1+cell": {
     "inputWidgets": {},
     "nuid": "303abfa6-4efd-4fc7-9ad0-c2fd3eb4a3ed",
     "showTitle": false,
     "title": ""
    }
   },
   "outputs": [
    {
     "data": {
      "text/html": [
       "<style scoped>\n",
       "  .ansiout {\n",
       "    display: block;\n",
       "    unicode-bidi: embed;\n",
       "    white-space: pre-wrap;\n",
       "    word-wrap: break-word;\n",
       "    word-break: break-all;\n",
       "    font-family: \"Source Code Pro\", \"Menlo\", monospace;;\n",
       "    font-size: 13px;\n",
       "    color: #555;\n",
       "    margin-left: 4px;\n",
       "    line-height: 19px;\n",
       "  }\n",
       "</style>\n",
       "<div class=\"ansiout\"></div>"
      ]
     },
     "metadata": {
      "application/vnd.databricks.v1+output": {
       "addedWidgets": {},
       "arguments": {},
       "data": "<div class=\"ansiout\"></div>",
       "datasetInfos": [],
       "metadata": {},
       "removedWidgets": [],
       "type": "html"
      }
     },
     "output_type": "display_data"
    }
   ],
   "source": [
    "myCollection = \"Spark The Definitive Guide: Big Data Processing Made Simple\".split(' ')\n",
    "words = spark.sparkContext.parallelize(myCollection, 2)"
   ]
  },
  {
   "cell_type": "markdown",
   "metadata": {
    "application/vnd.databricks.v1+cell": {
     "inputWidgets": {},
     "nuid": "97658bca-b896-4bb9-84c0-54b482c91d3a",
     "showTitle": false,
     "title": ""
    }
   },
   "source": [
    "## 키-값 형태의 기초(키-값 형태의 RDD)\n",
    "- 메서드 이름에 ByKey가 있다면 PairRDD 타입(키-값 타입)만 사용 가능\n",
    "  - RDD에 맵 연산을 수행해서 키-값 구조로 만들 수 있음"
   ]
  },
  {
   "cell_type": "code",
   "execution_count": null,
   "metadata": {
    "application/vnd.databricks.v1+cell": {
     "inputWidgets": {},
     "nuid": "af2c8d02-31f1-45b3-9f25-8e6bbdc7e74c",
     "showTitle": false,
     "title": ""
    }
   },
   "outputs": [
    {
     "data": {
      "text/html": [
       "<style scoped>\n",
       "  .ansiout {\n",
       "    display: block;\n",
       "    unicode-bidi: embed;\n",
       "    white-space: pre-wrap;\n",
       "    word-wrap: break-word;\n",
       "    word-break: break-all;\n",
       "    font-family: \"Source Code Pro\", \"Menlo\", monospace;;\n",
       "    font-size: 13px;\n",
       "    color: #555;\n",
       "    margin-left: 4px;\n",
       "    line-height: 19px;\n",
       "  }\n",
       "</style>\n",
       "<div class=\"ansiout\">Out[2]: [(&#39;spark&#39;, 1),\n",
       " (&#39;the&#39;, 1),\n",
       " (&#39;definitive&#39;, 1),\n",
       " (&#39;guide:&#39;, 1),\n",
       " (&#39;big&#39;, 1),\n",
       " (&#39;data&#39;, 1),\n",
       " (&#39;processing&#39;, 1),\n",
       " (&#39;made&#39;, 1),\n",
       " (&#39;simple&#39;, 1)]</div>"
      ]
     },
     "metadata": {
      "application/vnd.databricks.v1+output": {
       "addedWidgets": {},
       "arguments": {},
       "data": "<div class=\"ansiout\">Out[2]: [(&#39;spark&#39;, 1),\n (&#39;the&#39;, 1),\n (&#39;definitive&#39;, 1),\n (&#39;guide:&#39;, 1),\n (&#39;big&#39;, 1),\n (&#39;data&#39;, 1),\n (&#39;processing&#39;, 1),\n (&#39;made&#39;, 1),\n (&#39;simple&#39;, 1)]</div>",
       "datasetInfos": [],
       "metadata": {},
       "removedWidgets": [],
       "type": "html"
      }
     },
     "output_type": "display_data"
    }
   ],
   "source": [
    "#(키, 값)\n",
    "words.map(lambda word: (word.lower(), 1)).collect()"
   ]
  },
  {
   "cell_type": "markdown",
   "metadata": {
    "application/vnd.databricks.v1+cell": {
     "inputWidgets": {},
     "nuid": "92edeab6-2850-4479-90bf-34b280473010",
     "showTitle": false,
     "title": ""
    }
   },
   "source": [
    "### keyBy\n",
    "- 현재 값으로 부터 키를 생성하는 함수"
   ]
  },
  {
   "cell_type": "code",
   "execution_count": null,
   "metadata": {
    "application/vnd.databricks.v1+cell": {
     "inputWidgets": {},
     "nuid": "aaf16928-bf9f-40e3-8c94-3854eabd38af",
     "showTitle": false,
     "title": ""
    }
   },
   "outputs": [
    {
     "data": {
      "text/html": [
       "<style scoped>\n",
       "  .ansiout {\n",
       "    display: block;\n",
       "    unicode-bidi: embed;\n",
       "    white-space: pre-wrap;\n",
       "    word-wrap: break-word;\n",
       "    word-break: break-all;\n",
       "    font-family: \"Source Code Pro\", \"Menlo\", monospace;;\n",
       "    font-size: 13px;\n",
       "    color: #555;\n",
       "    margin-left: 4px;\n",
       "    line-height: 19px;\n",
       "  }\n",
       "</style>\n",
       "<div class=\"ansiout\">Out[3]: [(&#39;s&#39;, &#39;Spark&#39;),\n",
       " (&#39;t&#39;, &#39;The&#39;),\n",
       " (&#39;d&#39;, &#39;Definitive&#39;),\n",
       " (&#39;g&#39;, &#39;Guide:&#39;),\n",
       " (&#39;b&#39;, &#39;Big&#39;),\n",
       " (&#39;d&#39;, &#39;Data&#39;),\n",
       " (&#39;p&#39;, &#39;Processing&#39;),\n",
       " (&#39;m&#39;, &#39;Made&#39;),\n",
       " (&#39;s&#39;, &#39;Simple&#39;)]</div>"
      ]
     },
     "metadata": {
      "application/vnd.databricks.v1+output": {
       "addedWidgets": {},
       "arguments": {},
       "data": "<div class=\"ansiout\">Out[3]: [(&#39;s&#39;, &#39;Spark&#39;),\n (&#39;t&#39;, &#39;The&#39;),\n (&#39;d&#39;, &#39;Definitive&#39;),\n (&#39;g&#39;, &#39;Guide:&#39;),\n (&#39;b&#39;, &#39;Big&#39;),\n (&#39;d&#39;, &#39;Data&#39;),\n (&#39;p&#39;, &#39;Processing&#39;),\n (&#39;m&#39;, &#39;Made&#39;),\n (&#39;s&#39;, &#39;Simple&#39;)]</div>",
       "datasetInfos": [],
       "metadata": {},
       "removedWidgets": [],
       "type": "html"
      }
     },
     "output_type": "display_data"
    }
   ],
   "source": [
    "#단어의 첫번째 문자를 키로 만들어 RDD 생성\n",
    "keyword = words.keyBy(lambda word: word.lower()[0])\n",
    "keyword.collect()"
   ]
  },
  {
   "cell_type": "markdown",
   "metadata": {
    "application/vnd.databricks.v1+cell": {
     "inputWidgets": {},
     "nuid": "265da1ba-0caf-4f7b-8ce1-6cc5d9ed08a6",
     "showTitle": false,
     "title": ""
    }
   },
   "source": [
    "### 값 매핑하기\n",
    "- mapValues\n",
    "- flatMapValues"
   ]
  },
  {
   "cell_type": "code",
   "execution_count": null,
   "metadata": {
    "application/vnd.databricks.v1+cell": {
     "inputWidgets": {},
     "nuid": "6305608e-add3-45e2-8487-b8f5231731d9",
     "showTitle": false,
     "title": ""
    }
   },
   "outputs": [
    {
     "data": {
      "text/html": [
       "<style scoped>\n",
       "  .ansiout {\n",
       "    display: block;\n",
       "    unicode-bidi: embed;\n",
       "    white-space: pre-wrap;\n",
       "    word-wrap: break-word;\n",
       "    word-break: break-all;\n",
       "    font-family: \"Source Code Pro\", \"Menlo\", monospace;;\n",
       "    font-size: 13px;\n",
       "    color: #555;\n",
       "    margin-left: 4px;\n",
       "    line-height: 19px;\n",
       "  }\n",
       "</style>\n",
       "<div class=\"ansiout\">Out[4]: [(&#39;s&#39;, &#39;SPARK&#39;),\n",
       " (&#39;t&#39;, &#39;THE&#39;),\n",
       " (&#39;d&#39;, &#39;DEFINITIVE&#39;),\n",
       " (&#39;g&#39;, &#39;GUIDE:&#39;),\n",
       " (&#39;b&#39;, &#39;BIG&#39;),\n",
       " (&#39;d&#39;, &#39;DATA&#39;),\n",
       " (&#39;p&#39;, &#39;PROCESSING&#39;),\n",
       " (&#39;m&#39;, &#39;MADE&#39;),\n",
       " (&#39;s&#39;, &#39;SIMPLE&#39;)]</div>"
      ]
     },
     "metadata": {
      "application/vnd.databricks.v1+output": {
       "addedWidgets": {},
       "arguments": {},
       "data": "<div class=\"ansiout\">Out[4]: [(&#39;s&#39;, &#39;SPARK&#39;),\n (&#39;t&#39;, &#39;THE&#39;),\n (&#39;d&#39;, &#39;DEFINITIVE&#39;),\n (&#39;g&#39;, &#39;GUIDE:&#39;),\n (&#39;b&#39;, &#39;BIG&#39;),\n (&#39;d&#39;, &#39;DATA&#39;),\n (&#39;p&#39;, &#39;PROCESSING&#39;),\n (&#39;m&#39;, &#39;MADE&#39;),\n (&#39;s&#39;, &#39;SIMPLE&#39;)]</div>",
       "datasetInfos": [],
       "metadata": {},
       "removedWidgets": [],
       "type": "html"
      }
     },
     "output_type": "display_data"
    }
   ],
   "source": [
    "#위에서 생성한 키에 값 매핑\n",
    "keyword.mapValues(lambda word: word.upper()).collect()"
   ]
  },
  {
   "cell_type": "code",
   "execution_count": null,
   "metadata": {
    "application/vnd.databricks.v1+cell": {
     "inputWidgets": {},
     "nuid": "9462c59b-9028-44a1-8f43-70156ea98a20",
     "showTitle": false,
     "title": ""
    }
   },
   "outputs": [
    {
     "data": {
      "text/html": [
       "<style scoped>\n",
       "  .ansiout {\n",
       "    display: block;\n",
       "    unicode-bidi: embed;\n",
       "    white-space: pre-wrap;\n",
       "    word-wrap: break-word;\n",
       "    word-break: break-all;\n",
       "    font-family: \"Source Code Pro\", \"Menlo\", monospace;;\n",
       "    font-size: 13px;\n",
       "    color: #555;\n",
       "    margin-left: 4px;\n",
       "    line-height: 19px;\n",
       "  }\n",
       "</style>\n",
       "<div class=\"ansiout\">Out[5]: [(&#39;s&#39;, &#39;S&#39;),\n",
       " (&#39;s&#39;, &#39;P&#39;),\n",
       " (&#39;s&#39;, &#39;A&#39;),\n",
       " (&#39;s&#39;, &#39;R&#39;),\n",
       " (&#39;s&#39;, &#39;K&#39;),\n",
       " (&#39;t&#39;, &#39;T&#39;),\n",
       " (&#39;t&#39;, &#39;H&#39;),\n",
       " (&#39;t&#39;, &#39;E&#39;),\n",
       " (&#39;d&#39;, &#39;D&#39;),\n",
       " (&#39;d&#39;, &#39;E&#39;),\n",
       " (&#39;d&#39;, &#39;F&#39;),\n",
       " (&#39;d&#39;, &#39;I&#39;),\n",
       " (&#39;d&#39;, &#39;N&#39;),\n",
       " (&#39;d&#39;, &#39;I&#39;),\n",
       " (&#39;d&#39;, &#39;T&#39;),\n",
       " (&#39;d&#39;, &#39;I&#39;),\n",
       " (&#39;d&#39;, &#39;V&#39;),\n",
       " (&#39;d&#39;, &#39;E&#39;),\n",
       " (&#39;g&#39;, &#39;G&#39;),\n",
       " (&#39;g&#39;, &#39;U&#39;),\n",
       " (&#39;g&#39;, &#39;I&#39;),\n",
       " (&#39;g&#39;, &#39;D&#39;),\n",
       " (&#39;g&#39;, &#39;E&#39;),\n",
       " (&#39;g&#39;, &#39;:&#39;),\n",
       " (&#39;b&#39;, &#39;B&#39;),\n",
       " (&#39;b&#39;, &#39;I&#39;),\n",
       " (&#39;b&#39;, &#39;G&#39;),\n",
       " (&#39;d&#39;, &#39;D&#39;),\n",
       " (&#39;d&#39;, &#39;A&#39;),\n",
       " (&#39;d&#39;, &#39;T&#39;),\n",
       " (&#39;d&#39;, &#39;A&#39;),\n",
       " (&#39;p&#39;, &#39;P&#39;),\n",
       " (&#39;p&#39;, &#39;R&#39;),\n",
       " (&#39;p&#39;, &#39;O&#39;),\n",
       " (&#39;p&#39;, &#39;C&#39;),\n",
       " (&#39;p&#39;, &#39;E&#39;),\n",
       " (&#39;p&#39;, &#39;S&#39;),\n",
       " (&#39;p&#39;, &#39;S&#39;),\n",
       " (&#39;p&#39;, &#39;I&#39;),\n",
       " (&#39;p&#39;, &#39;N&#39;),\n",
       " (&#39;p&#39;, &#39;G&#39;),\n",
       " (&#39;m&#39;, &#39;M&#39;),\n",
       " (&#39;m&#39;, &#39;A&#39;),\n",
       " (&#39;m&#39;, &#39;D&#39;),\n",
       " (&#39;m&#39;, &#39;E&#39;),\n",
       " (&#39;s&#39;, &#39;S&#39;),\n",
       " (&#39;s&#39;, &#39;I&#39;),\n",
       " (&#39;s&#39;, &#39;M&#39;),\n",
       " (&#39;s&#39;, &#39;P&#39;),\n",
       " (&#39;s&#39;, &#39;L&#39;),\n",
       " (&#39;s&#39;, &#39;E&#39;)]</div>"
      ]
     },
     "metadata": {
      "application/vnd.databricks.v1+output": {
       "addedWidgets": {},
       "arguments": {},
       "data": "<div class=\"ansiout\">Out[5]: [(&#39;s&#39;, &#39;S&#39;),\n (&#39;s&#39;, &#39;P&#39;),\n (&#39;s&#39;, &#39;A&#39;),\n (&#39;s&#39;, &#39;R&#39;),\n (&#39;s&#39;, &#39;K&#39;),\n (&#39;t&#39;, &#39;T&#39;),\n (&#39;t&#39;, &#39;H&#39;),\n (&#39;t&#39;, &#39;E&#39;),\n (&#39;d&#39;, &#39;D&#39;),\n (&#39;d&#39;, &#39;E&#39;),\n (&#39;d&#39;, &#39;F&#39;),\n (&#39;d&#39;, &#39;I&#39;),\n (&#39;d&#39;, &#39;N&#39;),\n (&#39;d&#39;, &#39;I&#39;),\n (&#39;d&#39;, &#39;T&#39;),\n (&#39;d&#39;, &#39;I&#39;),\n (&#39;d&#39;, &#39;V&#39;),\n (&#39;d&#39;, &#39;E&#39;),\n (&#39;g&#39;, &#39;G&#39;),\n (&#39;g&#39;, &#39;U&#39;),\n (&#39;g&#39;, &#39;I&#39;),\n (&#39;g&#39;, &#39;D&#39;),\n (&#39;g&#39;, &#39;E&#39;),\n (&#39;g&#39;, &#39;:&#39;),\n (&#39;b&#39;, &#39;B&#39;),\n (&#39;b&#39;, &#39;I&#39;),\n (&#39;b&#39;, &#39;G&#39;),\n (&#39;d&#39;, &#39;D&#39;),\n (&#39;d&#39;, &#39;A&#39;),\n (&#39;d&#39;, &#39;T&#39;),\n (&#39;d&#39;, &#39;A&#39;),\n (&#39;p&#39;, &#39;P&#39;),\n (&#39;p&#39;, &#39;R&#39;),\n (&#39;p&#39;, &#39;O&#39;),\n (&#39;p&#39;, &#39;C&#39;),\n (&#39;p&#39;, &#39;E&#39;),\n (&#39;p&#39;, &#39;S&#39;),\n (&#39;p&#39;, &#39;S&#39;),\n (&#39;p&#39;, &#39;I&#39;),\n (&#39;p&#39;, &#39;N&#39;),\n (&#39;p&#39;, &#39;G&#39;),\n (&#39;m&#39;, &#39;M&#39;),\n (&#39;m&#39;, &#39;A&#39;),\n (&#39;m&#39;, &#39;D&#39;),\n (&#39;m&#39;, &#39;E&#39;),\n (&#39;s&#39;, &#39;S&#39;),\n (&#39;s&#39;, &#39;I&#39;),\n (&#39;s&#39;, &#39;M&#39;),\n (&#39;s&#39;, &#39;P&#39;),\n (&#39;s&#39;, &#39;L&#39;),\n (&#39;s&#39;, &#39;E&#39;)]</div>",
       "datasetInfos": [],
       "metadata": {},
       "removedWidgets": [],
       "type": "html"
      }
     },
     "output_type": "display_data"
    }
   ],
   "source": [
    "#flatMap함수는 단어의 각 문자를 값으로 하도록 함\n",
    "keyword.flatMapValues(lambda word: word.upper()).collect()"
   ]
  },
  {
   "cell_type": "markdown",
   "metadata": {
    "application/vnd.databricks.v1+cell": {
     "inputWidgets": {},
     "nuid": "af90e24a-2e4a-4b62-bf28-e40f5b51ee77",
     "showTitle": false,
     "title": ""
    }
   },
   "source": [
    "### 키와 값 추출하기"
   ]
  },
  {
   "cell_type": "code",
   "execution_count": null,
   "metadata": {
    "application/vnd.databricks.v1+cell": {
     "inputWidgets": {},
     "nuid": "ecf604b0-a06f-449c-80b7-55249207b1d8",
     "showTitle": false,
     "title": ""
    }
   },
   "outputs": [
    {
     "data": {
      "text/html": [
       "<style scoped>\n",
       "  .ansiout {\n",
       "    display: block;\n",
       "    unicode-bidi: embed;\n",
       "    white-space: pre-wrap;\n",
       "    word-wrap: break-word;\n",
       "    word-break: break-all;\n",
       "    font-family: \"Source Code Pro\", \"Menlo\", monospace;;\n",
       "    font-size: 13px;\n",
       "    color: #555;\n",
       "    margin-left: 4px;\n",
       "    line-height: 19px;\n",
       "  }\n",
       "</style>\n",
       "<div class=\"ansiout\">Out[6]: [&#39;s&#39;, &#39;t&#39;, &#39;d&#39;, &#39;g&#39;, &#39;b&#39;, &#39;d&#39;, &#39;p&#39;, &#39;m&#39;, &#39;s&#39;]</div>"
      ]
     },
     "metadata": {
      "application/vnd.databricks.v1+output": {
       "addedWidgets": {},
       "arguments": {},
       "data": "<div class=\"ansiout\">Out[6]: [&#39;s&#39;, &#39;t&#39;, &#39;d&#39;, &#39;g&#39;, &#39;b&#39;, &#39;d&#39;, &#39;p&#39;, &#39;m&#39;, &#39;s&#39;]</div>",
       "datasetInfos": [],
       "metadata": {},
       "removedWidgets": [],
       "type": "html"
      }
     },
     "output_type": "display_data"
    }
   ],
   "source": [
    "keyword.keys().collect()"
   ]
  },
  {
   "cell_type": "code",
   "execution_count": null,
   "metadata": {
    "application/vnd.databricks.v1+cell": {
     "inputWidgets": {},
     "nuid": "372c15eb-8121-4f33-a3a9-10f10441ff43",
     "showTitle": false,
     "title": ""
    }
   },
   "outputs": [
    {
     "data": {
      "text/html": [
       "<style scoped>\n",
       "  .ansiout {\n",
       "    display: block;\n",
       "    unicode-bidi: embed;\n",
       "    white-space: pre-wrap;\n",
       "    word-wrap: break-word;\n",
       "    word-break: break-all;\n",
       "    font-family: \"Source Code Pro\", \"Menlo\", monospace;;\n",
       "    font-size: 13px;\n",
       "    color: #555;\n",
       "    margin-left: 4px;\n",
       "    line-height: 19px;\n",
       "  }\n",
       "</style>\n",
       "<div class=\"ansiout\">Out[7]: [&#39;Spark&#39;,\n",
       " &#39;The&#39;,\n",
       " &#39;Definitive&#39;,\n",
       " &#39;Guide:&#39;,\n",
       " &#39;Big&#39;,\n",
       " &#39;Data&#39;,\n",
       " &#39;Processing&#39;,\n",
       " &#39;Made&#39;,\n",
       " &#39;Simple&#39;]</div>"
      ]
     },
     "metadata": {
      "application/vnd.databricks.v1+output": {
       "addedWidgets": {},
       "arguments": {},
       "data": "<div class=\"ansiout\">Out[7]: [&#39;Spark&#39;,\n &#39;The&#39;,\n &#39;Definitive&#39;,\n &#39;Guide:&#39;,\n &#39;Big&#39;,\n &#39;Data&#39;,\n &#39;Processing&#39;,\n &#39;Made&#39;,\n &#39;Simple&#39;]</div>",
       "datasetInfos": [],
       "metadata": {},
       "removedWidgets": [],
       "type": "html"
      }
     },
     "output_type": "display_data"
    }
   ],
   "source": [
    "keyword.values().collect()"
   ]
  },
  {
   "cell_type": "markdown",
   "metadata": {
    "application/vnd.databricks.v1+cell": {
     "inputWidgets": {},
     "nuid": "5e0bc1ea-a718-4613-aa04-59291d1e15b4",
     "showTitle": false,
     "title": ""
    }
   },
   "source": [
    "### lookup\n",
    "- 특정 키에 관한 결과 찾음"
   ]
  },
  {
   "cell_type": "code",
   "execution_count": null,
   "metadata": {
    "application/vnd.databricks.v1+cell": {
     "inputWidgets": {},
     "nuid": "7e04550d-450d-4378-ba62-ade6f387971e",
     "showTitle": false,
     "title": ""
    }
   },
   "outputs": [
    {
     "data": {
      "text/html": [
       "<style scoped>\n",
       "  .ansiout {\n",
       "    display: block;\n",
       "    unicode-bidi: embed;\n",
       "    white-space: pre-wrap;\n",
       "    word-wrap: break-word;\n",
       "    word-break: break-all;\n",
       "    font-family: \"Source Code Pro\", \"Menlo\", monospace;;\n",
       "    font-size: 13px;\n",
       "    color: #555;\n",
       "    margin-left: 4px;\n",
       "    line-height: 19px;\n",
       "  }\n",
       "</style>\n",
       "<div class=\"ansiout\">Out[8]: [&#39;Spark&#39;, &#39;Simple&#39;]</div>"
      ]
     },
     "metadata": {
      "application/vnd.databricks.v1+output": {
       "addedWidgets": {},
       "arguments": {},
       "data": "<div class=\"ansiout\">Out[8]: [&#39;Spark&#39;, &#39;Simple&#39;]</div>",
       "datasetInfos": [],
       "metadata": {},
       "removedWidgets": [],
       "type": "html"
      }
     },
     "output_type": "display_data"
    }
   ],
   "source": [
    "#키가 s인 값\n",
    "keyword.lookup('s')"
   ]
  },
  {
   "cell_type": "markdown",
   "metadata": {
    "application/vnd.databricks.v1+cell": {
     "inputWidgets": {},
     "nuid": "60e554f7-1542-413c-a735-fb66486081b2",
     "showTitle": false,
     "title": ""
    }
   },
   "source": [
    "### sampleByKey\n",
    "- 근사치나 정확도를 이용해 키를 기반으로 RDD샘플 생성\n",
    "- 특정 키를 부분 샘플링할 수 있음\n",
    "- 해당 메서드는 RDD를 한 번만 처리하면서 간단한 무작위 샘플링을 사용함"
   ]
  },
  {
   "cell_type": "code",
   "execution_count": null,
   "metadata": {
    "application/vnd.databricks.v1+cell": {
     "inputWidgets": {},
     "nuid": "afda2270-a822-42a0-ab77-bf768d591865",
     "showTitle": false,
     "title": ""
    }
   },
   "outputs": [
    {
     "data": {
      "text/html": [
       "<style scoped>\n",
       "  .ansiout {\n",
       "    display: block;\n",
       "    unicode-bidi: embed;\n",
       "    white-space: pre-wrap;\n",
       "    word-wrap: break-word;\n",
       "    word-break: break-all;\n",
       "    font-family: \"Source Code Pro\", \"Menlo\", monospace;;\n",
       "    font-size: 13px;\n",
       "    color: #555;\n",
       "    margin-left: 4px;\n",
       "    line-height: 19px;\n",
       "  }\n",
       "</style>\n",
       "<div class=\"ansiout\"></div>"
      ]
     },
     "metadata": {
      "application/vnd.databricks.v1+output": {
       "addedWidgets": {},
       "arguments": {},
       "data": "<div class=\"ansiout\"></div>",
       "datasetInfos": [],
       "metadata": {},
       "removedWidgets": [],
       "type": "html"
      }
     },
     "output_type": "display_data"
    }
   ],
   "source": [
    "import random\n",
    "\n",
    "distinctChars = words.flatMap(lambda word: list(word.lower())).distinct().collect()"
   ]
  },
  {
   "cell_type": "code",
   "execution_count": null,
   "metadata": {
    "application/vnd.databricks.v1+cell": {
     "inputWidgets": {},
     "nuid": "dbbae9bf-4000-4174-9191-133948e9612b",
     "showTitle": false,
     "title": ""
    }
   },
   "outputs": [
    {
     "data": {
      "text/html": [
       "<style scoped>\n",
       "  .ansiout {\n",
       "    display: block;\n",
       "    unicode-bidi: embed;\n",
       "    white-space: pre-wrap;\n",
       "    word-wrap: break-word;\n",
       "    word-break: break-all;\n",
       "    font-family: \"Source Code Pro\", \"Menlo\", monospace;;\n",
       "    font-size: 13px;\n",
       "    color: #555;\n",
       "    margin-left: 4px;\n",
       "    line-height: 19px;\n",
       "  }\n",
       "</style>\n",
       "<div class=\"ansiout\">Out[10]: [&#39;s&#39;,\n",
       " &#39;p&#39;,\n",
       " &#39;r&#39;,\n",
       " &#39;h&#39;,\n",
       " &#39;d&#39;,\n",
       " &#39;i&#39;,\n",
       " &#39;g&#39;,\n",
       " &#39;b&#39;,\n",
       " &#39;c&#39;,\n",
       " &#39;l&#39;,\n",
       " &#39;a&#39;,\n",
       " &#39;k&#39;,\n",
       " &#39;t&#39;,\n",
       " &#39;e&#39;,\n",
       " &#39;f&#39;,\n",
       " &#39;n&#39;,\n",
       " &#39;v&#39;,\n",
       " &#39;u&#39;,\n",
       " &#39;:&#39;,\n",
       " &#39;o&#39;,\n",
       " &#39;m&#39;]</div>"
      ]
     },
     "metadata": {
      "application/vnd.databricks.v1+output": {
       "addedWidgets": {},
       "arguments": {},
       "data": "<div class=\"ansiout\">Out[10]: [&#39;s&#39;,\n &#39;p&#39;,\n &#39;r&#39;,\n &#39;h&#39;,\n &#39;d&#39;,\n &#39;i&#39;,\n &#39;g&#39;,\n &#39;b&#39;,\n &#39;c&#39;,\n &#39;l&#39;,\n &#39;a&#39;,\n &#39;k&#39;,\n &#39;t&#39;,\n &#39;e&#39;,\n &#39;f&#39;,\n &#39;n&#39;,\n &#39;v&#39;,\n &#39;u&#39;,\n &#39;:&#39;,\n &#39;o&#39;,\n &#39;m&#39;]</div>",
       "datasetInfos": [],
       "metadata": {},
       "removedWidgets": [],
       "type": "html"
      }
     },
     "output_type": "display_data"
    }
   ],
   "source": [
    "distinctChars"
   ]
  },
  {
   "cell_type": "code",
   "execution_count": null,
   "metadata": {
    "application/vnd.databricks.v1+cell": {
     "inputWidgets": {},
     "nuid": "2632ce16-9a0d-4440-ad2f-eb47d2802b19",
     "showTitle": false,
     "title": ""
    }
   },
   "outputs": [
    {
     "data": {
      "text/html": [
       "<style scoped>\n",
       "  .ansiout {\n",
       "    display: block;\n",
       "    unicode-bidi: embed;\n",
       "    white-space: pre-wrap;\n",
       "    word-wrap: break-word;\n",
       "    word-break: break-all;\n",
       "    font-family: \"Source Code Pro\", \"Menlo\", monospace;;\n",
       "    font-size: 13px;\n",
       "    color: #555;\n",
       "    margin-left: 4px;\n",
       "    line-height: 19px;\n",
       "  }\n",
       "</style>\n",
       "<div class=\"ansiout\"></div>"
      ]
     },
     "metadata": {
      "application/vnd.databricks.v1+output": {
       "addedWidgets": {},
       "arguments": {},
       "data": "<div class=\"ansiout\"></div>",
       "datasetInfos": [],
       "metadata": {},
       "removedWidgets": [],
       "type": "html"
      }
     },
     "output_type": "display_data"
    }
   ],
   "source": [
    "sampleMap = dict(map(lambda c: (c, random.random()), distinctChars))"
   ]
  },
  {
   "cell_type": "code",
   "execution_count": null,
   "metadata": {
    "application/vnd.databricks.v1+cell": {
     "inputWidgets": {},
     "nuid": "2cd6f393-423b-42ea-84c2-76f45b14c066",
     "showTitle": false,
     "title": ""
    }
   },
   "outputs": [
    {
     "data": {
      "text/html": [
       "<style scoped>\n",
       "  .ansiout {\n",
       "    display: block;\n",
       "    unicode-bidi: embed;\n",
       "    white-space: pre-wrap;\n",
       "    word-wrap: break-word;\n",
       "    word-break: break-all;\n",
       "    font-family: \"Source Code Pro\", \"Menlo\", monospace;;\n",
       "    font-size: 13px;\n",
       "    color: #555;\n",
       "    margin-left: 4px;\n",
       "    line-height: 19px;\n",
       "  }\n",
       "</style>\n",
       "<div class=\"ansiout\">Out[12]: {&#39;s&#39;: 0.4297864903860694,\n",
       " &#39;p&#39;: 0.18868029016164345,\n",
       " &#39;r&#39;: 0.22862016724286993,\n",
       " &#39;h&#39;: 0.14526448288068994,\n",
       " &#39;d&#39;: 0.665248317840256,\n",
       " &#39;i&#39;: 0.5521114195447983,\n",
       " &#39;g&#39;: 0.8753878879131628,\n",
       " &#39;b&#39;: 0.2829208684453799,\n",
       " &#39;c&#39;: 0.20586361665842334,\n",
       " &#39;l&#39;: 0.21774410547593126,\n",
       " &#39;a&#39;: 0.196883744534185,\n",
       " &#39;k&#39;: 0.016270573164381852,\n",
       " &#39;t&#39;: 0.35061350763694465,\n",
       " &#39;e&#39;: 0.7724279823577984,\n",
       " &#39;f&#39;: 0.9128642381493561,\n",
       " &#39;n&#39;: 0.7248651110759695,\n",
       " &#39;v&#39;: 0.5816624409071538,\n",
       " &#39;u&#39;: 0.30639859612050724,\n",
       " &#39;:&#39;: 0.12432781497534262,\n",
       " &#39;o&#39;: 0.18115111299784814,\n",
       " &#39;m&#39;: 0.9135147283787879}</div>"
      ]
     },
     "metadata": {
      "application/vnd.databricks.v1+output": {
       "addedWidgets": {},
       "arguments": {},
       "data": "<div class=\"ansiout\">Out[12]: {&#39;s&#39;: 0.4297864903860694,\n &#39;p&#39;: 0.18868029016164345,\n &#39;r&#39;: 0.22862016724286993,\n &#39;h&#39;: 0.14526448288068994,\n &#39;d&#39;: 0.665248317840256,\n &#39;i&#39;: 0.5521114195447983,\n &#39;g&#39;: 0.8753878879131628,\n &#39;b&#39;: 0.2829208684453799,\n &#39;c&#39;: 0.20586361665842334,\n &#39;l&#39;: 0.21774410547593126,\n &#39;a&#39;: 0.196883744534185,\n &#39;k&#39;: 0.016270573164381852,\n &#39;t&#39;: 0.35061350763694465,\n &#39;e&#39;: 0.7724279823577984,\n &#39;f&#39;: 0.9128642381493561,\n &#39;n&#39;: 0.7248651110759695,\n &#39;v&#39;: 0.5816624409071538,\n &#39;u&#39;: 0.30639859612050724,\n &#39;:&#39;: 0.12432781497534262,\n &#39;o&#39;: 0.18115111299784814,\n &#39;m&#39;: 0.9135147283787879}</div>",
       "datasetInfos": [],
       "metadata": {},
       "removedWidgets": [],
       "type": "html"
      }
     },
     "output_type": "display_data"
    }
   ],
   "source": [
    "sampleMap"
   ]
  },
  {
   "cell_type": "code",
   "execution_count": null,
   "metadata": {
    "application/vnd.databricks.v1+cell": {
     "inputWidgets": {},
     "nuid": "7dd019aa-82b6-495f-902b-c3e7a9824ea7",
     "showTitle": false,
     "title": ""
    }
   },
   "outputs": [
    {
     "data": {
      "text/html": [
       "<style scoped>\n",
       "  .ansiout {\n",
       "    display: block;\n",
       "    unicode-bidi: embed;\n",
       "    white-space: pre-wrap;\n",
       "    word-wrap: break-word;\n",
       "    word-break: break-all;\n",
       "    font-family: \"Source Code Pro\", \"Menlo\", monospace;;\n",
       "    font-size: 13px;\n",
       "    color: #555;\n",
       "    margin-left: 4px;\n",
       "    line-height: 19px;\n",
       "  }\n",
       "</style>\n",
       "<div class=\"ansiout\">Out[13]: [(&#39;t&#39;, &#39;The&#39;), (&#39;g&#39;, &#39;Guide:&#39;), (&#39;m&#39;, &#39;Made&#39;)]</div>"
      ]
     },
     "metadata": {
      "application/vnd.databricks.v1+output": {
       "addedWidgets": {},
       "arguments": {},
       "data": "<div class=\"ansiout\">Out[13]: [(&#39;t&#39;, &#39;The&#39;), (&#39;g&#39;, &#39;Guide:&#39;), (&#39;m&#39;, &#39;Made&#39;)]</div>",
       "datasetInfos": [],
       "metadata": {},
       "removedWidgets": [],
       "type": "html"
      }
     },
     "output_type": "display_data"
    }
   ],
   "source": [
    "words.map(lambda word: (word.lower()[0], word)).sampleByKey(True, sampleMap, 6).collect()"
   ]
  },
  {
   "cell_type": "markdown",
   "metadata": {
    "application/vnd.databricks.v1+cell": {
     "inputWidgets": {},
     "nuid": "9e6c5777-278c-4448-a43c-366f84ef9894",
     "showTitle": false,
     "title": ""
    }
   },
   "source": [
    "## 집계"
   ]
  },
  {
   "cell_type": "code",
   "execution_count": null,
   "metadata": {
    "application/vnd.databricks.v1+cell": {
     "inputWidgets": {},
     "nuid": "4d50b37f-5b9c-4b44-9bc2-d6435463fa91",
     "showTitle": false,
     "title": ""
    }
   },
   "outputs": [
    {
     "data": {
      "text/html": [
       "<style scoped>\n",
       "  .ansiout {\n",
       "    display: block;\n",
       "    unicode-bidi: embed;\n",
       "    white-space: pre-wrap;\n",
       "    word-wrap: break-word;\n",
       "    word-break: break-all;\n",
       "    font-family: \"Source Code Pro\", \"Menlo\", monospace;;\n",
       "    font-size: 13px;\n",
       "    color: #555;\n",
       "    margin-left: 4px;\n",
       "    line-height: 19px;\n",
       "  }\n",
       "</style>\n",
       "<div class=\"ansiout\"></div>"
      ]
     },
     "metadata": {
      "application/vnd.databricks.v1+output": {
       "addedWidgets": {},
       "arguments": {},
       "data": "<div class=\"ansiout\"></div>",
       "datasetInfos": [],
       "metadata": {},
       "removedWidgets": [],
       "type": "html"
      }
     },
     "output_type": "display_data"
    }
   ],
   "source": [
    "chars= words.flatMap(lambda word: word.lower())\n",
    "KVcharacters = chars.map(lambda letter: (letter, 1))"
   ]
  },
  {
   "cell_type": "code",
   "execution_count": null,
   "metadata": {
    "application/vnd.databricks.v1+cell": {
     "inputWidgets": {},
     "nuid": "ccd5bf9e-ed9a-4896-ac17-7099efa7dcef",
     "showTitle": false,
     "title": ""
    }
   },
   "outputs": [
    {
     "data": {
      "text/html": [
       "<style scoped>\n",
       "  .ansiout {\n",
       "    display: block;\n",
       "    unicode-bidi: embed;\n",
       "    white-space: pre-wrap;\n",
       "    word-wrap: break-word;\n",
       "    word-break: break-all;\n",
       "    font-family: \"Source Code Pro\", \"Menlo\", monospace;;\n",
       "    font-size: 13px;\n",
       "    color: #555;\n",
       "    margin-left: 4px;\n",
       "    line-height: 19px;\n",
       "  }\n",
       "</style>\n",
       "<div class=\"ansiout\">Out[15]: [&#39;s&#39;, &#39;p&#39;, &#39;a&#39;, &#39;r&#39;, &#39;k&#39;]</div>"
      ]
     },
     "metadata": {
      "application/vnd.databricks.v1+output": {
       "addedWidgets": {},
       "arguments": {},
       "data": "<div class=\"ansiout\">Out[15]: [&#39;s&#39;, &#39;p&#39;, &#39;a&#39;, &#39;r&#39;, &#39;k&#39;]</div>",
       "datasetInfos": [],
       "metadata": {},
       "removedWidgets": [],
       "type": "html"
      }
     },
     "output_type": "display_data"
    }
   ],
   "source": [
    "chars.take(5)"
   ]
  },
  {
   "cell_type": "code",
   "execution_count": null,
   "metadata": {
    "application/vnd.databricks.v1+cell": {
     "inputWidgets": {},
     "nuid": "8059c940-fc4d-465b-8d65-cca5a0f61006",
     "showTitle": false,
     "title": ""
    }
   },
   "outputs": [
    {
     "data": {
      "text/html": [
       "<style scoped>\n",
       "  .ansiout {\n",
       "    display: block;\n",
       "    unicode-bidi: embed;\n",
       "    white-space: pre-wrap;\n",
       "    word-wrap: break-word;\n",
       "    word-break: break-all;\n",
       "    font-family: \"Source Code Pro\", \"Menlo\", monospace;;\n",
       "    font-size: 13px;\n",
       "    color: #555;\n",
       "    margin-left: 4px;\n",
       "    line-height: 19px;\n",
       "  }\n",
       "</style>\n",
       "<div class=\"ansiout\">Out[16]: [(&#39;s&#39;, 1), (&#39;p&#39;, 1), (&#39;a&#39;, 1), (&#39;r&#39;, 1), (&#39;k&#39;, 1)]</div>"
      ]
     },
     "metadata": {
      "application/vnd.databricks.v1+output": {
       "addedWidgets": {},
       "arguments": {},
       "data": "<div class=\"ansiout\">Out[16]: [(&#39;s&#39;, 1), (&#39;p&#39;, 1), (&#39;a&#39;, 1), (&#39;r&#39;, 1), (&#39;k&#39;, 1)]</div>",
       "datasetInfos": [],
       "metadata": {},
       "removedWidgets": [],
       "type": "html"
      }
     },
     "output_type": "display_data"
    }
   ],
   "source": [
    "KVcharacters.take(5)"
   ]
  },
  {
   "cell_type": "code",
   "execution_count": null,
   "metadata": {
    "application/vnd.databricks.v1+cell": {
     "inputWidgets": {},
     "nuid": "5719adce-f9fb-4892-a1bd-cb7ce6f15e5f",
     "showTitle": false,
     "title": ""
    }
   },
   "outputs": [
    {
     "data": {
      "text/html": [
       "<style scoped>\n",
       "  .ansiout {\n",
       "    display: block;\n",
       "    unicode-bidi: embed;\n",
       "    white-space: pre-wrap;\n",
       "    word-wrap: break-word;\n",
       "    word-break: break-all;\n",
       "    font-family: \"Source Code Pro\", \"Menlo\", monospace;;\n",
       "    font-size: 13px;\n",
       "    color: #555;\n",
       "    margin-left: 4px;\n",
       "    line-height: 19px;\n",
       "  }\n",
       "</style>\n",
       "<div class=\"ansiout\"></div>"
      ]
     },
     "metadata": {
      "application/vnd.databricks.v1+output": {
       "addedWidgets": {},
       "arguments": {},
       "data": "<div class=\"ansiout\"></div>",
       "datasetInfos": [],
       "metadata": {},
       "removedWidgets": [],
       "type": "html"
      }
     },
     "output_type": "display_data"
    }
   ],
   "source": [
    "def maxFunc(left, right):\n",
    "  return max(left, right)\n",
    "\n",
    "def addFunc(left, right):\n",
    "  return left+right"
   ]
  },
  {
   "cell_type": "code",
   "execution_count": null,
   "metadata": {
    "application/vnd.databricks.v1+cell": {
     "inputWidgets": {},
     "nuid": "98ff88d8-7c28-4a59-8529-3d8dfe2b2979",
     "showTitle": false,
     "title": ""
    }
   },
   "outputs": [
    {
     "data": {
      "text/html": [
       "<style scoped>\n",
       "  .ansiout {\n",
       "    display: block;\n",
       "    unicode-bidi: embed;\n",
       "    white-space: pre-wrap;\n",
       "    word-wrap: break-word;\n",
       "    word-break: break-all;\n",
       "    font-family: \"Source Code Pro\", \"Menlo\", monospace;;\n",
       "    font-size: 13px;\n",
       "    color: #555;\n",
       "    margin-left: 4px;\n",
       "    line-height: 19px;\n",
       "  }\n",
       "</style>\n",
       "<div class=\"ansiout\"></div>"
      ]
     },
     "metadata": {
      "application/vnd.databricks.v1+output": {
       "addedWidgets": {},
       "arguments": {},
       "data": "<div class=\"ansiout\"></div>",
       "datasetInfos": [],
       "metadata": {},
       "removedWidgets": [],
       "type": "html"
      }
     },
     "output_type": "display_data"
    }
   ],
   "source": [
    "nums = sc.parallelize(range(1,31),5)"
   ]
  },
  {
   "cell_type": "markdown",
   "metadata": {
    "application/vnd.databricks.v1+cell": {
     "inputWidgets": {},
     "nuid": "79f659ca-ff97-4abb-bd22-cf4663fb2bde",
     "showTitle": false,
     "title": ""
    }
   },
   "source": [
    "### countByKey\n",
    "- 각 키의 아이템 수를 구하고 로컬 맵으로 결과를 수집"
   ]
  },
  {
   "cell_type": "code",
   "execution_count": null,
   "metadata": {
    "application/vnd.databricks.v1+cell": {
     "inputWidgets": {},
     "nuid": "0cbf47a9-4597-4cb3-909e-e2bd56ac6a57",
     "showTitle": false,
     "title": ""
    }
   },
   "outputs": [
    {
     "data": {
      "text/html": [
       "<style scoped>\n",
       "  .ansiout {\n",
       "    display: block;\n",
       "    unicode-bidi: embed;\n",
       "    white-space: pre-wrap;\n",
       "    word-wrap: break-word;\n",
       "    word-break: break-all;\n",
       "    font-family: \"Source Code Pro\", \"Menlo\", monospace;;\n",
       "    font-size: 13px;\n",
       "    color: #555;\n",
       "    margin-left: 4px;\n",
       "    line-height: 19px;\n",
       "  }\n",
       "</style>\n",
       "<div class=\"ansiout\">Out[19]: defaultdict(int,\n",
       "            {&#39;s&#39;: 4,\n",
       "             &#39;p&#39;: 3,\n",
       "             &#39;a&#39;: 4,\n",
       "             &#39;r&#39;: 2,\n",
       "             &#39;k&#39;: 1,\n",
       "             &#39;t&#39;: 3,\n",
       "             &#39;h&#39;: 1,\n",
       "             &#39;e&#39;: 7,\n",
       "             &#39;d&#39;: 4,\n",
       "             &#39;f&#39;: 1,\n",
       "             &#39;i&#39;: 7,\n",
       "             &#39;n&#39;: 2,\n",
       "             &#39;v&#39;: 1,\n",
       "             &#39;g&#39;: 3,\n",
       "             &#39;u&#39;: 1,\n",
       "             &#39;:&#39;: 1,\n",
       "             &#39;b&#39;: 1,\n",
       "             &#39;o&#39;: 1,\n",
       "             &#39;c&#39;: 1,\n",
       "             &#39;m&#39;: 2,\n",
       "             &#39;l&#39;: 1})</div>"
      ]
     },
     "metadata": {
      "application/vnd.databricks.v1+output": {
       "addedWidgets": {},
       "arguments": {},
       "data": "<div class=\"ansiout\">Out[19]: defaultdict(int,\n            {&#39;s&#39;: 4,\n             &#39;p&#39;: 3,\n             &#39;a&#39;: 4,\n             &#39;r&#39;: 2,\n             &#39;k&#39;: 1,\n             &#39;t&#39;: 3,\n             &#39;h&#39;: 1,\n             &#39;e&#39;: 7,\n             &#39;d&#39;: 4,\n             &#39;f&#39;: 1,\n             &#39;i&#39;: 7,\n             &#39;n&#39;: 2,\n             &#39;v&#39;: 1,\n             &#39;g&#39;: 3,\n             &#39;u&#39;: 1,\n             &#39;:&#39;: 1,\n             &#39;b&#39;: 1,\n             &#39;o&#39;: 1,\n             &#39;c&#39;: 1,\n             &#39;m&#39;: 2,\n             &#39;l&#39;: 1})</div>",
       "datasetInfos": [],
       "metadata": {},
       "removedWidgets": [],
       "type": "html"
      }
     },
     "output_type": "display_data"
    }
   ],
   "source": [
    "KVcharacters.countByKey()"
   ]
  },
  {
   "cell_type": "markdown",
   "metadata": {
    "application/vnd.databricks.v1+cell": {
     "inputWidgets": {},
     "nuid": "b39a5b92-a3e6-4d6d-a8db-ef7b5ccd9413",
     "showTitle": false,
     "title": ""
    }
   },
   "source": [
    "### 집계 연산 구현 방식 이해하기\n",
    "- 키-값 형태의 PairRDD를 생성하는 몇 가지 방법이 있음\n",
    "  - groupBy\n",
    "  - reduce\n",
    "- 이때 구현 방식은 Job의 안정성을 위해 매우 중요함"
   ]
  },
  {
   "cell_type": "markdown",
   "metadata": {
    "application/vnd.databricks.v1+cell": {
     "inputWidgets": {},
     "nuid": "afbb2564-c9a5-49eb-af17-ea3e2d5bdccf",
     "showTitle": false,
     "title": ""
    }
   },
   "source": [
    "#### groupByKey\n",
    "- 각 키에 대한 <strong>값의 크기가 일정</strong>하고 익스큐터에 <strong>할당된 메모리에서 처리 가능할 정도</strong>의 크기라면 해당 메서드 사용\n",
    "  - 모든 익스큐터에서 함수를 적용하기 전에 <strong>해당 키와 관련된 모든 값을 메모리로 읽어 들임</strong>\n",
    "  - 따라서 만약 심각하게 치우쳐진 키가 있다면 일부 파티션이 엄청난 양의 값을 가질 수 있음(out of memory)"
   ]
  },
  {
   "cell_type": "code",
   "execution_count": null,
   "metadata": {
    "application/vnd.databricks.v1+cell": {
     "inputWidgets": {},
     "nuid": "090dc7ef-5ef4-47f1-a945-b708f96d4125",
     "showTitle": false,
     "title": ""
    }
   },
   "outputs": [
    {
     "data": {
      "text/html": [
       "<style scoped>\n",
       "  .ansiout {\n",
       "    display: block;\n",
       "    unicode-bidi: embed;\n",
       "    white-space: pre-wrap;\n",
       "    word-wrap: break-word;\n",
       "    word-break: break-all;\n",
       "    font-family: \"Source Code Pro\", \"Menlo\", monospace;;\n",
       "    font-size: 13px;\n",
       "    color: #555;\n",
       "    margin-left: 4px;\n",
       "    line-height: 19px;\n",
       "  }\n",
       "</style>\n",
       "<div class=\"ansiout\">Out[20]: [(&#39;s&#39;, 4),\n",
       " (&#39;p&#39;, 3),\n",
       " (&#39;r&#39;, 2),\n",
       " (&#39;h&#39;, 1),\n",
       " (&#39;d&#39;, 4),\n",
       " (&#39;i&#39;, 7),\n",
       " (&#39;g&#39;, 3),\n",
       " (&#39;b&#39;, 1),\n",
       " (&#39;c&#39;, 1),\n",
       " (&#39;l&#39;, 1),\n",
       " (&#39;a&#39;, 4),\n",
       " (&#39;k&#39;, 1),\n",
       " (&#39;t&#39;, 3),\n",
       " (&#39;e&#39;, 7),\n",
       " (&#39;f&#39;, 1),\n",
       " (&#39;n&#39;, 2),\n",
       " (&#39;v&#39;, 1),\n",
       " (&#39;u&#39;, 1),\n",
       " (&#39;:&#39;, 1),\n",
       " (&#39;o&#39;, 1),\n",
       " (&#39;m&#39;, 2)]</div>"
      ]
     },
     "metadata": {
      "application/vnd.databricks.v1+output": {
       "addedWidgets": {},
       "arguments": {},
       "data": "<div class=\"ansiout\">Out[20]: [(&#39;s&#39;, 4),\n (&#39;p&#39;, 3),\n (&#39;r&#39;, 2),\n (&#39;h&#39;, 1),\n (&#39;d&#39;, 4),\n (&#39;i&#39;, 7),\n (&#39;g&#39;, 3),\n (&#39;b&#39;, 1),\n (&#39;c&#39;, 1),\n (&#39;l&#39;, 1),\n (&#39;a&#39;, 4),\n (&#39;k&#39;, 1),\n (&#39;t&#39;, 3),\n (&#39;e&#39;, 7),\n (&#39;f&#39;, 1),\n (&#39;n&#39;, 2),\n (&#39;v&#39;, 1),\n (&#39;u&#39;, 1),\n (&#39;:&#39;, 1),\n (&#39;o&#39;, 1),\n (&#39;m&#39;, 2)]</div>",
       "datasetInfos": [],
       "metadata": {},
       "removedWidgets": [],
       "type": "html"
      }
     },
     "output_type": "display_data"
    }
   ],
   "source": [
    "from functools import reduce\n",
    "#각 키에 1의 값을 매핑했었음\n",
    "KVcharacters.groupByKey().map(lambda row: (row[0],reduce(addFunc, row[1]))).collect()"
   ]
  },
  {
   "cell_type": "markdown",
   "metadata": {
    "application/vnd.databricks.v1+cell": {
     "inputWidgets": {},
     "nuid": "a1c34dd6-f603-4a22-817d-dc7660b8912b",
     "showTitle": false,
     "title": ""
    }
   },
   "source": [
    "#### reduceByKey\n",
    "- 작업 부하를 줄이려는 경우 적합\n",
    "- <strong>각 파티션에서 리듀스 작업</strong>을 수행하기 때문에 안정적이고 <strong>모든 값을 메모리에 유지하지 않아도 됨</strong>\n",
    "- 또한 최종 리듀스 과정을 제외한 <strong>모든 작업은 개별 워커에서 처리</strong>하므로 연산 중 셔플 발생 X"
   ]
  },
  {
   "cell_type": "code",
   "execution_count": null,
   "metadata": {
    "application/vnd.databricks.v1+cell": {
     "inputWidgets": {},
     "nuid": "b0feef82-ad29-4020-89ca-7f03e21a78b0",
     "showTitle": false,
     "title": ""
    }
   },
   "outputs": [
    {
     "data": {
      "text/html": [
       "<style scoped>\n",
       "  .ansiout {\n",
       "    display: block;\n",
       "    unicode-bidi: embed;\n",
       "    white-space: pre-wrap;\n",
       "    word-wrap: break-word;\n",
       "    word-break: break-all;\n",
       "    font-family: \"Source Code Pro\", \"Menlo\", monospace;;\n",
       "    font-size: 13px;\n",
       "    color: #555;\n",
       "    margin-left: 4px;\n",
       "    line-height: 19px;\n",
       "  }\n",
       "</style>\n",
       "<div class=\"ansiout\">Out[21]: [(&#39;s&#39;, 4),\n",
       " (&#39;p&#39;, 3),\n",
       " (&#39;r&#39;, 2),\n",
       " (&#39;h&#39;, 1),\n",
       " (&#39;d&#39;, 4),\n",
       " (&#39;i&#39;, 7),\n",
       " (&#39;g&#39;, 3),\n",
       " (&#39;b&#39;, 1),\n",
       " (&#39;c&#39;, 1),\n",
       " (&#39;l&#39;, 1),\n",
       " (&#39;a&#39;, 4),\n",
       " (&#39;k&#39;, 1),\n",
       " (&#39;t&#39;, 3),\n",
       " (&#39;e&#39;, 7),\n",
       " (&#39;f&#39;, 1),\n",
       " (&#39;n&#39;, 2),\n",
       " (&#39;v&#39;, 1),\n",
       " (&#39;u&#39;, 1),\n",
       " (&#39;:&#39;, 1),\n",
       " (&#39;o&#39;, 1),\n",
       " (&#39;m&#39;, 2)]</div>"
      ]
     },
     "metadata": {
      "application/vnd.databricks.v1+output": {
       "addedWidgets": {},
       "arguments": {},
       "data": "<div class=\"ansiout\">Out[21]: [(&#39;s&#39;, 4),\n (&#39;p&#39;, 3),\n (&#39;r&#39;, 2),\n (&#39;h&#39;, 1),\n (&#39;d&#39;, 4),\n (&#39;i&#39;, 7),\n (&#39;g&#39;, 3),\n (&#39;b&#39;, 1),\n (&#39;c&#39;, 1),\n (&#39;l&#39;, 1),\n (&#39;a&#39;, 4),\n (&#39;k&#39;, 1),\n (&#39;t&#39;, 3),\n (&#39;e&#39;, 7),\n (&#39;f&#39;, 1),\n (&#39;n&#39;, 2),\n (&#39;v&#39;, 1),\n (&#39;u&#39;, 1),\n (&#39;:&#39;, 1),\n (&#39;o&#39;, 1),\n (&#39;m&#39;, 2)]</div>",
       "datasetInfos": [],
       "metadata": {},
       "removedWidgets": [],
       "type": "html"
      }
     },
     "output_type": "display_data"
    }
   ],
   "source": [
    "KVcharacters.reduceByKey(addFunc).collect()"
   ]
  },
  {
   "cell_type": "markdown",
   "metadata": {
    "application/vnd.databricks.v1+cell": {
     "inputWidgets": {},
     "nuid": "0d848f03-cdd6-43d1-b990-c20b39e21627",
     "showTitle": false,
     "title": ""
    }
   },
   "source": [
    "### 기타 집계 메서드"
   ]
  },
  {
   "cell_type": "markdown",
   "metadata": {
    "application/vnd.databricks.v1+cell": {
     "inputWidgets": {},
     "nuid": "bff7cc0c-edd7-43a9-b93c-86c1511eb5c6",
     "showTitle": false,
     "title": ""
    }
   },
   "source": [
    "#### aggregate\n",
    "- 파티션 기준 집계"
   ]
  },
  {
   "cell_type": "code",
   "execution_count": null,
   "metadata": {
    "application/vnd.databricks.v1+cell": {
     "inputWidgets": {},
     "nuid": "d554b60e-8ffe-41e1-b9bb-da1e454bcb4b",
     "showTitle": false,
     "title": ""
    }
   },
   "outputs": [
    {
     "data": {
      "text/html": [
       "<style scoped>\n",
       "  .ansiout {\n",
       "    display: block;\n",
       "    unicode-bidi: embed;\n",
       "    white-space: pre-wrap;\n",
       "    word-wrap: break-word;\n",
       "    word-break: break-all;\n",
       "    font-family: \"Source Code Pro\", \"Menlo\", monospace;;\n",
       "    font-size: 13px;\n",
       "    color: #555;\n",
       "    margin-left: 4px;\n",
       "    line-height: 19px;\n",
       "  }\n",
       "</style>\n",
       "<div class=\"ansiout\">Out[22]: 90</div>"
      ]
     },
     "metadata": {
      "application/vnd.databricks.v1+output": {
       "addedWidgets": {},
       "arguments": {},
       "data": "<div class=\"ansiout\">Out[22]: 90</div>",
       "datasetInfos": [],
       "metadata": {},
       "removedWidgets": [],
       "type": "html"
      }
     },
     "output_type": "display_data"
    }
   ],
   "source": [
    "nums.aggregate(0, maxFunc, addFunc)#시작값, 파티션 내에 수행될 함수, 모든 파티션에 걸쳐 수행될 함수"
   ]
  },
  {
   "cell_type": "markdown",
   "metadata": {
    "application/vnd.databricks.v1+cell": {
     "inputWidgets": {},
     "nuid": "b822d546-f2a9-450a-9a17-5781b90a044d",
     "showTitle": false,
     "title": ""
    }
   },
   "source": [
    "#### treeAggregate\n",
    "- 위 aggregate는 드라이버에서 최종 집계를 수행하므로 익스큐터 결과가 너무 크면 out of memory\n",
    "- 그래서 <strong>익스큐터끼리 트리를 형성해서 집계 처리의 일부 하위 과정을 push down</strong> 방식으로 수행하는 것이 해당 함수\n",
    "- 이렇게 집계 처리를 <strong>여러 단계</strong>로 구성해서 드라이버의 메모리를 모두 소비하는 현상을 막음"
   ]
  },
  {
   "cell_type": "code",
   "execution_count": null,
   "metadata": {
    "application/vnd.databricks.v1+cell": {
     "inputWidgets": {},
     "nuid": "359c60ed-7694-4330-8935-8229658529b4",
     "showTitle": false,
     "title": ""
    }
   },
   "outputs": [
    {
     "data": {
      "text/html": [
       "<style scoped>\n",
       "  .ansiout {\n",
       "    display: block;\n",
       "    unicode-bidi: embed;\n",
       "    white-space: pre-wrap;\n",
       "    word-wrap: break-word;\n",
       "    word-break: break-all;\n",
       "    font-family: \"Source Code Pro\", \"Menlo\", monospace;;\n",
       "    font-size: 13px;\n",
       "    color: #555;\n",
       "    margin-left: 4px;\n",
       "    line-height: 19px;\n",
       "  }\n",
       "</style>\n",
       "<div class=\"ansiout\">Out[23]: 90</div>"
      ]
     },
     "metadata": {
      "application/vnd.databricks.v1+output": {
       "addedWidgets": {},
       "arguments": {},
       "data": "<div class=\"ansiout\">Out[23]: 90</div>",
       "datasetInfos": [],
       "metadata": {},
       "removedWidgets": [],
       "type": "html"
      }
     },
     "output_type": "display_data"
    }
   ],
   "source": [
    "nums.treeAggregate(0, maxFunc, addFunc, depth=3)"
   ]
  },
  {
   "cell_type": "markdown",
   "metadata": {
    "application/vnd.databricks.v1+cell": {
     "inputWidgets": {},
     "nuid": "cf134ffb-fd5c-4e37-8341-f5884393d562",
     "showTitle": false,
     "title": ""
    }
   },
   "source": [
    "#### aggregateByKey\n",
    "- 파티션 대신 키를 기준으로 집계"
   ]
  },
  {
   "cell_type": "code",
   "execution_count": null,
   "metadata": {
    "application/vnd.databricks.v1+cell": {
     "inputWidgets": {},
     "nuid": "192c1ccc-c602-43b9-a044-f6e4ccaf9ad0",
     "showTitle": false,
     "title": ""
    }
   },
   "outputs": [
    {
     "data": {
      "text/html": [
       "<style scoped>\n",
       "  .ansiout {\n",
       "    display: block;\n",
       "    unicode-bidi: embed;\n",
       "    white-space: pre-wrap;\n",
       "    word-wrap: break-word;\n",
       "    word-break: break-all;\n",
       "    font-family: \"Source Code Pro\", \"Menlo\", monospace;;\n",
       "    font-size: 13px;\n",
       "    color: #555;\n",
       "    margin-left: 4px;\n",
       "    line-height: 19px;\n",
       "  }\n",
       "</style>\n",
       "<div class=\"ansiout\">Out[24]: [(&#39;s&#39;, 3),\n",
       " (&#39;p&#39;, 2),\n",
       " (&#39;r&#39;, 1),\n",
       " (&#39;h&#39;, 1),\n",
       " (&#39;d&#39;, 2),\n",
       " (&#39;i&#39;, 4),\n",
       " (&#39;g&#39;, 2),\n",
       " (&#39;b&#39;, 1),\n",
       " (&#39;c&#39;, 1),\n",
       " (&#39;l&#39;, 1),\n",
       " (&#39;a&#39;, 3),\n",
       " (&#39;k&#39;, 1),\n",
       " (&#39;t&#39;, 2),\n",
       " (&#39;e&#39;, 4),\n",
       " (&#39;f&#39;, 1),\n",
       " (&#39;n&#39;, 1),\n",
       " (&#39;v&#39;, 1),\n",
       " (&#39;u&#39;, 1),\n",
       " (&#39;:&#39;, 1),\n",
       " (&#39;o&#39;, 1),\n",
       " (&#39;m&#39;, 2)]</div>"
      ]
     },
     "metadata": {
      "application/vnd.databricks.v1+output": {
       "addedWidgets": {},
       "arguments": {},
       "data": "<div class=\"ansiout\">Out[24]: [(&#39;s&#39;, 3),\n (&#39;p&#39;, 2),\n (&#39;r&#39;, 1),\n (&#39;h&#39;, 1),\n (&#39;d&#39;, 2),\n (&#39;i&#39;, 4),\n (&#39;g&#39;, 2),\n (&#39;b&#39;, 1),\n (&#39;c&#39;, 1),\n (&#39;l&#39;, 1),\n (&#39;a&#39;, 3),\n (&#39;k&#39;, 1),\n (&#39;t&#39;, 2),\n (&#39;e&#39;, 4),\n (&#39;f&#39;, 1),\n (&#39;n&#39;, 1),\n (&#39;v&#39;, 1),\n (&#39;u&#39;, 1),\n (&#39;:&#39;, 1),\n (&#39;o&#39;, 1),\n (&#39;m&#39;, 2)]</div>",
       "datasetInfos": [],
       "metadata": {},
       "removedWidgets": [],
       "type": "html"
      }
     },
     "output_type": "display_data"
    }
   ],
   "source": [
    "KVcharacters.aggregateByKey(0, addFunc, maxFunc).collect()"
   ]
  },
  {
   "cell_type": "markdown",
   "metadata": {
    "application/vnd.databricks.v1+cell": {
     "inputWidgets": {},
     "nuid": "8fb8f072-4f98-431e-8fb7-8102b204d683",
     "showTitle": false,
     "title": ""
    }
   },
   "source": [
    "#### combineByKey\n",
    "- 키를 기준으로 연산을 수행하며 파라미터로 사용된 함수에 따라 값을 병합함\n",
    "- 그런다음 여러 결괏값을 병합해 결과 반환\n",
    "- 사용자 정의 파티셔너를 사용해 출력 파티션 수를 지정할 수도 있음"
   ]
  },
  {
   "cell_type": "code",
   "execution_count": null,
   "metadata": {
    "application/vnd.databricks.v1+cell": {
     "inputWidgets": {},
     "nuid": "59b69dec-12f4-4774-9142-f5f0601d632f",
     "showTitle": false,
     "title": ""
    }
   },
   "outputs": [
    {
     "data": {
      "text/html": [
       "<style scoped>\n",
       "  .ansiout {\n",
       "    display: block;\n",
       "    unicode-bidi: embed;\n",
       "    white-space: pre-wrap;\n",
       "    word-wrap: break-word;\n",
       "    word-break: break-all;\n",
       "    font-family: \"Source Code Pro\", \"Menlo\", monospace;;\n",
       "    font-size: 13px;\n",
       "    color: #555;\n",
       "    margin-left: 4px;\n",
       "    line-height: 19px;\n",
       "  }\n",
       "</style>\n",
       "<div class=\"ansiout\"></div>"
      ]
     },
     "metadata": {
      "application/vnd.databricks.v1+output": {
       "addedWidgets": {},
       "arguments": {},
       "data": "<div class=\"ansiout\"></div>",
       "datasetInfos": [],
       "metadata": {},
       "removedWidgets": [],
       "type": "html"
      }
     },
     "output_type": "display_data"
    }
   ],
   "source": [
    "def valToCombiner(v):\n",
    "  return [v]\n",
    "\n",
    "def mergeValuesFunc(v, valToAppend):\n",
    "  v.append(valToAppend)\n",
    "  return v\n",
    "\n",
    "def mergeCombinerFunc(v1, v2):\n",
    "  return v1+v2\n",
    "\n",
    "outputPartitions=6"
   ]
  },
  {
   "cell_type": "code",
   "execution_count": null,
   "metadata": {
    "application/vnd.databricks.v1+cell": {
     "inputWidgets": {},
     "nuid": "b7acc9a5-d40c-4bf1-81a6-35b4cfaa05e6",
     "showTitle": false,
     "title": ""
    }
   },
   "outputs": [
    {
     "data": {
      "text/html": [
       "<style scoped>\n",
       "  .ansiout {\n",
       "    display: block;\n",
       "    unicode-bidi: embed;\n",
       "    white-space: pre-wrap;\n",
       "    word-wrap: break-word;\n",
       "    word-break: break-all;\n",
       "    font-family: \"Source Code Pro\", \"Menlo\", monospace;;\n",
       "    font-size: 13px;\n",
       "    color: #555;\n",
       "    margin-left: 4px;\n",
       "    line-height: 19px;\n",
       "  }\n",
       "</style>\n",
       "<div class=\"ansiout\">Out[26]: [(&#39;s&#39;, [1, 1, 1, 1]),\n",
       " (&#39;d&#39;, [1, 1, 1, 1]),\n",
       " (&#39;l&#39;, [1]),\n",
       " (&#39;v&#39;, [1]),\n",
       " (&#39;:&#39;, [1]),\n",
       " (&#39;p&#39;, [1, 1, 1]),\n",
       " (&#39;r&#39;, [1, 1]),\n",
       " (&#39;c&#39;, [1]),\n",
       " (&#39;k&#39;, [1]),\n",
       " (&#39;t&#39;, [1, 1, 1]),\n",
       " (&#39;n&#39;, [1, 1]),\n",
       " (&#39;u&#39;, [1]),\n",
       " (&#39;o&#39;, [1]),\n",
       " (&#39;h&#39;, [1]),\n",
       " (&#39;i&#39;, [1, 1, 1, 1, 1, 1, 1]),\n",
       " (&#39;g&#39;, [1, 1, 1]),\n",
       " (&#39;b&#39;, [1]),\n",
       " (&#39;a&#39;, [1, 1, 1, 1]),\n",
       " (&#39;e&#39;, [1, 1, 1, 1, 1, 1, 1]),\n",
       " (&#39;f&#39;, [1]),\n",
       " (&#39;m&#39;, [1, 1])]</div>"
      ]
     },
     "metadata": {
      "application/vnd.databricks.v1+output": {
       "addedWidgets": {},
       "arguments": {},
       "data": "<div class=\"ansiout\">Out[26]: [(&#39;s&#39;, [1, 1, 1, 1]),\n (&#39;d&#39;, [1, 1, 1, 1]),\n (&#39;l&#39;, [1]),\n (&#39;v&#39;, [1]),\n (&#39;:&#39;, [1]),\n (&#39;p&#39;, [1, 1, 1]),\n (&#39;r&#39;, [1, 1]),\n (&#39;c&#39;, [1]),\n (&#39;k&#39;, [1]),\n (&#39;t&#39;, [1, 1, 1]),\n (&#39;n&#39;, [1, 1]),\n (&#39;u&#39;, [1]),\n (&#39;o&#39;, [1]),\n (&#39;h&#39;, [1]),\n (&#39;i&#39;, [1, 1, 1, 1, 1, 1, 1]),\n (&#39;g&#39;, [1, 1, 1]),\n (&#39;b&#39;, [1]),\n (&#39;a&#39;, [1, 1, 1, 1]),\n (&#39;e&#39;, [1, 1, 1, 1, 1, 1, 1]),\n (&#39;f&#39;, [1]),\n (&#39;m&#39;, [1, 1])]</div>",
       "datasetInfos": [],
       "metadata": {},
       "removedWidgets": [],
       "type": "html"
      }
     },
     "output_type": "display_data"
    }
   ],
   "source": [
    "KVcharacters.combineByKey(valToCombiner, mergeValuesFunc, mergeCombinerFunc,outputPartitions).collect()"
   ]
  },
  {
   "cell_type": "markdown",
   "metadata": {
    "application/vnd.databricks.v1+cell": {
     "inputWidgets": {},
     "nuid": "2dad3264-4680-4b5b-96e5-50bc7689f54f",
     "showTitle": false,
     "title": ""
    }
   },
   "source": [
    "#### foldByKey\n",
    "- 결합 함수와 항등원(어떤 원소와 연산을 취해도 자기 자신이 되게 하는 원소)인 제로값을 이용해 각 키의 값을 병합"
   ]
  },
  {
   "cell_type": "code",
   "execution_count": null,
   "metadata": {
    "application/vnd.databricks.v1+cell": {
     "inputWidgets": {},
     "nuid": "d16b83d1-37f6-4346-bad0-df566b0474ea",
     "showTitle": false,
     "title": ""
    }
   },
   "outputs": [
    {
     "data": {
      "text/html": [
       "<style scoped>\n",
       "  .ansiout {\n",
       "    display: block;\n",
       "    unicode-bidi: embed;\n",
       "    white-space: pre-wrap;\n",
       "    word-wrap: break-word;\n",
       "    word-break: break-all;\n",
       "    font-family: \"Source Code Pro\", \"Menlo\", monospace;;\n",
       "    font-size: 13px;\n",
       "    color: #555;\n",
       "    margin-left: 4px;\n",
       "    line-height: 19px;\n",
       "  }\n",
       "</style>\n",
       "<div class=\"ansiout\">Out[27]: [(&#39;s&#39;, 4),\n",
       " (&#39;p&#39;, 3),\n",
       " (&#39;r&#39;, 2),\n",
       " (&#39;h&#39;, 1),\n",
       " (&#39;d&#39;, 4),\n",
       " (&#39;i&#39;, 7),\n",
       " (&#39;g&#39;, 3),\n",
       " (&#39;b&#39;, 1),\n",
       " (&#39;c&#39;, 1),\n",
       " (&#39;l&#39;, 1),\n",
       " (&#39;a&#39;, 4),\n",
       " (&#39;k&#39;, 1),\n",
       " (&#39;t&#39;, 3),\n",
       " (&#39;e&#39;, 7),\n",
       " (&#39;f&#39;, 1),\n",
       " (&#39;n&#39;, 2),\n",
       " (&#39;v&#39;, 1),\n",
       " (&#39;u&#39;, 1),\n",
       " (&#39;:&#39;, 1),\n",
       " (&#39;o&#39;, 1),\n",
       " (&#39;m&#39;, 2)]</div>"
      ]
     },
     "metadata": {
      "application/vnd.databricks.v1+output": {
       "addedWidgets": {},
       "arguments": {},
       "data": "<div class=\"ansiout\">Out[27]: [(&#39;s&#39;, 4),\n (&#39;p&#39;, 3),\n (&#39;r&#39;, 2),\n (&#39;h&#39;, 1),\n (&#39;d&#39;, 4),\n (&#39;i&#39;, 7),\n (&#39;g&#39;, 3),\n (&#39;b&#39;, 1),\n (&#39;c&#39;, 1),\n (&#39;l&#39;, 1),\n (&#39;a&#39;, 4),\n (&#39;k&#39;, 1),\n (&#39;t&#39;, 3),\n (&#39;e&#39;, 7),\n (&#39;f&#39;, 1),\n (&#39;n&#39;, 2),\n (&#39;v&#39;, 1),\n (&#39;u&#39;, 1),\n (&#39;:&#39;, 1),\n (&#39;o&#39;, 1),\n (&#39;m&#39;, 2)]</div>",
       "datasetInfos": [],
       "metadata": {},
       "removedWidgets": [],
       "type": "html"
      }
     },
     "output_type": "display_data"
    }
   ],
   "source": [
    "KVcharacters.foldByKey(0,addFunc).collect()"
   ]
  },
  {
   "cell_type": "markdown",
   "metadata": {
    "application/vnd.databricks.v1+cell": {
     "inputWidgets": {},
     "nuid": "1e5d4040-64c5-42a2-a3ae-172a63b1f14e",
     "showTitle": false,
     "title": ""
    }
   },
   "source": [
    "## cogroup\n",
    "- 키-값 형태의 RDD를 키를 기준으로 그룹화 가능\n",
    "  - 스칼라를 사용하는 경우 최대 3개까지\n",
    "  - 파이썬을 사용하는 경우 최대 2개까지"
   ]
  },
  {
   "cell_type": "code",
   "execution_count": null,
   "metadata": {
    "application/vnd.databricks.v1+cell": {
     "inputWidgets": {},
     "nuid": "8435bce4-12f0-41ba-9134-581101f2b871",
     "showTitle": false,
     "title": ""
    }
   },
   "outputs": [
    {
     "data": {
      "text/html": [
       "<style scoped>\n",
       "  .ansiout {\n",
       "    display: block;\n",
       "    unicode-bidi: embed;\n",
       "    white-space: pre-wrap;\n",
       "    word-wrap: break-word;\n",
       "    word-break: break-all;\n",
       "    font-family: \"Source Code Pro\", \"Menlo\", monospace;;\n",
       "    font-size: 13px;\n",
       "    color: #555;\n",
       "    margin-left: 4px;\n",
       "    line-height: 19px;\n",
       "  }\n",
       "</style>\n",
       "<div class=\"ansiout\">Out[28]: [(&#39;s&#39;,\n",
       "  (&lt;pyspark.resultiterable.ResultIterable at 0x7f4c5d9b8430&gt;,\n",
       "   &lt;pyspark.resultiterable.ResultIterable at 0x7f4c5d9b87c0&gt;)),\n",
       " (&#39;p&#39;,\n",
       "  (&lt;pyspark.resultiterable.ResultIterable at 0x7f4c5d9b8610&gt;,\n",
       "   &lt;pyspark.resultiterable.ResultIterable at 0x7f4c5d9b8670&gt;)),\n",
       " (&#39;r&#39;,\n",
       "  (&lt;pyspark.resultiterable.ResultIterable at 0x7f4c5d9b8250&gt;,\n",
       "   &lt;pyspark.resultiterable.ResultIterable at 0x7f4c5d9b8fa0&gt;)),\n",
       " (&#39;i&#39;,\n",
       "  (&lt;pyspark.resultiterable.ResultIterable at 0x7f4c5e277340&gt;,\n",
       "   &lt;pyspark.resultiterable.ResultIterable at 0x7f4c5e277190&gt;)),\n",
       " (&#39;g&#39;,\n",
       "  (&lt;pyspark.resultiterable.ResultIterable at 0x7f4c5e277580&gt;,\n",
       "   &lt;pyspark.resultiterable.ResultIterable at 0x7f4c5e277160&gt;))]</div>"
      ]
     },
     "metadata": {
      "application/vnd.databricks.v1+output": {
       "addedWidgets": {},
       "arguments": {},
       "data": "<div class=\"ansiout\">Out[28]: [(&#39;s&#39;,\n  (&lt;pyspark.resultiterable.ResultIterable at 0x7f4c5d9b8430&gt;,\n   &lt;pyspark.resultiterable.ResultIterable at 0x7f4c5d9b87c0&gt;)),\n (&#39;p&#39;,\n  (&lt;pyspark.resultiterable.ResultIterable at 0x7f4c5d9b8610&gt;,\n   &lt;pyspark.resultiterable.ResultIterable at 0x7f4c5d9b8670&gt;)),\n (&#39;r&#39;,\n  (&lt;pyspark.resultiterable.ResultIterable at 0x7f4c5d9b8250&gt;,\n   &lt;pyspark.resultiterable.ResultIterable at 0x7f4c5d9b8fa0&gt;)),\n (&#39;i&#39;,\n  (&lt;pyspark.resultiterable.ResultIterable at 0x7f4c5e277340&gt;,\n   &lt;pyspark.resultiterable.ResultIterable at 0x7f4c5e277190&gt;)),\n (&#39;g&#39;,\n  (&lt;pyspark.resultiterable.ResultIterable at 0x7f4c5e277580&gt;,\n   &lt;pyspark.resultiterable.ResultIterable at 0x7f4c5e277160&gt;))]</div>",
       "datasetInfos": [],
       "metadata": {},
       "removedWidgets": [],
       "type": "html"
      }
     },
     "output_type": "display_data"
    }
   ],
   "source": [
    "import random\n",
    "distinctChars = words.flatMap(lambda word: word.lower()).distinct()\n",
    "charRDD = distinctChars.map(lambda c: (c, random.random()))\n",
    "charRDD2 = distinctChars.map(lambda c: (c, random.random()))\n",
    "\n",
    "charRDD.cogroup(charRDD2).take(5)"
   ]
  },
  {
   "cell_type": "markdown",
   "metadata": {
    "application/vnd.databricks.v1+cell": {
     "inputWidgets": {},
     "nuid": "f601cb67-2f6c-4575-8cf4-b5899288ef4c",
     "showTitle": false,
     "title": ""
    }
   },
   "source": [
    "## 조인"
   ]
  },
  {
   "cell_type": "markdown",
   "metadata": {
    "application/vnd.databricks.v1+cell": {
     "inputWidgets": {},
     "nuid": "84939b59-84af-40e3-8de9-ad3cfa6aa6d2",
     "showTitle": false,
     "title": ""
    }
   },
   "source": [
    "### 내부 조인"
   ]
  },
  {
   "cell_type": "code",
   "execution_count": null,
   "metadata": {
    "application/vnd.databricks.v1+cell": {
     "inputWidgets": {},
     "nuid": "4fd5dc3a-ad55-4a7e-9165-a63416f3e169",
     "showTitle": false,
     "title": ""
    }
   },
   "outputs": [
    {
     "data": {
      "text/html": [
       "<style scoped>\n",
       "  .ansiout {\n",
       "    display: block;\n",
       "    unicode-bidi: embed;\n",
       "    white-space: pre-wrap;\n",
       "    word-wrap: break-word;\n",
       "    word-break: break-all;\n",
       "    font-family: \"Source Code Pro\", \"Menlo\", monospace;;\n",
       "    font-size: 13px;\n",
       "    color: #555;\n",
       "    margin-left: 4px;\n",
       "    line-height: 19px;\n",
       "  }\n",
       "</style>\n",
       "<div class=\"ansiout\">Out[39]: 51</div>"
      ]
     },
     "metadata": {
      "application/vnd.databricks.v1+output": {
       "addedWidgets": {},
       "arguments": {},
       "data": "<div class=\"ansiout\">Out[39]: 51</div>",
       "datasetInfos": [],
       "metadata": {},
       "removedWidgets": [],
       "type": "html"
      }
     },
     "output_type": "display_data"
    }
   ],
   "source": [
    "keyedChars = distinctChars.map(lambda c:(c, random.random()))\n",
    "outputPartitions =10\n",
    "\n",
    "# KVcharacters.join(keyedChars).count()\n",
    "KVcharacters.join(keyedChars, outputPartitions).count()"
   ]
  },
  {
   "cell_type": "code",
   "execution_count": null,
   "metadata": {
    "application/vnd.databricks.v1+cell": {
     "inputWidgets": {},
     "nuid": "7dff83c5-f7e4-44a9-a12b-31a8551c568f",
     "showTitle": false,
     "title": ""
    }
   },
   "outputs": [
    {
     "data": {
      "text/html": [
       "<style scoped>\n",
       "  .ansiout {\n",
       "    display: block;\n",
       "    unicode-bidi: embed;\n",
       "    white-space: pre-wrap;\n",
       "    word-wrap: break-word;\n",
       "    word-break: break-all;\n",
       "    font-family: \"Source Code Pro\", \"Menlo\", monospace;;\n",
       "    font-size: 13px;\n",
       "    color: #555;\n",
       "    margin-left: 4px;\n",
       "    line-height: 19px;\n",
       "  }\n",
       "</style>\n",
       "<div class=\"ansiout\">Out[43]: [(&#39;u&#39;, (1, 0.04255988777577302)),\n",
       " (&#39;m&#39;, (1, 0.9649551230089524)),\n",
       " (&#39;m&#39;, (1, 0.9649551230089524)),\n",
       " (&#39;k&#39;, (1, 0.74456038306458)),\n",
       " (&#39;t&#39;, (1, 0.8738054481806644))]</div>"
      ]
     },
     "metadata": {
      "application/vnd.databricks.v1+output": {
       "addedWidgets": {},
       "arguments": {},
       "data": "<div class=\"ansiout\">Out[43]: [(&#39;u&#39;, (1, 0.04255988777577302)),\n (&#39;m&#39;, (1, 0.9649551230089524)),\n (&#39;m&#39;, (1, 0.9649551230089524)),\n (&#39;k&#39;, (1, 0.74456038306458)),\n (&#39;t&#39;, (1, 0.8738054481806644))]</div>",
       "datasetInfos": [],
       "metadata": {},
       "removedWidgets": [],
       "type": "html"
      }
     },
     "output_type": "display_data"
    }
   ],
   "source": [
    "KVcharacters.join(keyedChars, outputPartitions).take(5)"
   ]
  },
  {
   "cell_type": "markdown",
   "metadata": {
    "application/vnd.databricks.v1+cell": {
     "inputWidgets": {},
     "nuid": "97745701-3b78-4cc0-8cce-25929d0b9cf0",
     "showTitle": false,
     "title": ""
    }
   },
   "source": [
    "### zip\n",
    "- 두 개의 RDD를 연결"
   ]
  },
  {
   "cell_type": "code",
   "execution_count": null,
   "metadata": {
    "application/vnd.databricks.v1+cell": {
     "inputWidgets": {},
     "nuid": "9262901c-d1b7-405e-a6a8-6fc11e1b5c6f",
     "showTitle": false,
     "title": ""
    }
   },
   "outputs": [
    {
     "data": {
      "text/html": [
       "<style scoped>\n",
       "  .ansiout {\n",
       "    display: block;\n",
       "    unicode-bidi: embed;\n",
       "    white-space: pre-wrap;\n",
       "    word-wrap: break-word;\n",
       "    word-break: break-all;\n",
       "    font-family: \"Source Code Pro\", \"Menlo\", monospace;;\n",
       "    font-size: 13px;\n",
       "    color: #555;\n",
       "    margin-left: 4px;\n",
       "    line-height: 19px;\n",
       "  }\n",
       "</style>\n",
       "<div class=\"ansiout\">Out[37]: [(&#39;Spark&#39;, 0),\n",
       " (&#39;The&#39;, 1),\n",
       " (&#39;Definitive&#39;, 2),\n",
       " (&#39;Guide:&#39;, 3),\n",
       " (&#39;Big&#39;, 4),\n",
       " (&#39;Data&#39;, 5),\n",
       " (&#39;Processing&#39;, 6),\n",
       " (&#39;Made&#39;, 7),\n",
       " (&#39;Simple&#39;, 8)]</div>"
      ]
     },
     "metadata": {
      "application/vnd.databricks.v1+output": {
       "addedWidgets": {},
       "arguments": {},
       "data": "<div class=\"ansiout\">Out[37]: [(&#39;Spark&#39;, 0),\n (&#39;The&#39;, 1),\n (&#39;Definitive&#39;, 2),\n (&#39;Guide:&#39;, 3),\n (&#39;Big&#39;, 4),\n (&#39;Data&#39;, 5),\n (&#39;Processing&#39;, 6),\n (&#39;Made&#39;, 7),\n (&#39;Simple&#39;, 8)]</div>",
       "datasetInfos": [],
       "metadata": {},
       "removedWidgets": [],
       "type": "html"
      }
     },
     "output_type": "display_data"
    }
   ],
   "source": [
    "numRange= sc.parallelize(range(9), 2)\n",
    "words.zip(numRange).collect()"
   ]
  },
  {
   "cell_type": "markdown",
   "metadata": {
    "application/vnd.databricks.v1+cell": {
     "inputWidgets": {},
     "nuid": "12826213-d569-47c9-b258-7547404472e4",
     "showTitle": false,
     "title": ""
    }
   },
   "source": [
    "## 파티션 제어하기\n",
    "- RDD를 사용하면 <strong>데이터가 클러스터 전체에 물리적으로 정확히 분산되는 방식</strong>을 정의할 수 있다.\n",
    "- 이러한 기능을 가진 메서드 중 일부는 구조적 API와 기본적으로 동일\n",
    "- 다른 점은, <strong>파티션 함수를 파라미터로</strong> 사용할 수 있다는 사실\n",
    "  - 파티션 함수: 보통 사용자 지정 Partitioner를 의미"
   ]
  },
  {
   "cell_type": "markdown",
   "metadata": {
    "application/vnd.databricks.v1+cell": {
     "inputWidgets": {},
     "nuid": "1c887564-87d4-4bc9-a0a4-533e3d8511b6",
     "showTitle": false,
     "title": ""
    }
   },
   "source": [
    "### coalesce\n",
    "- 파티션을 재분배할 때 발생하는 데이터 <strong>셔플을 방지하기 위해 동일한 워크에 존재하는 파티션을 합치는 메서드</strong>"
   ]
  },
  {
   "cell_type": "code",
   "execution_count": null,
   "metadata": {
    "application/vnd.databricks.v1+cell": {
     "inputWidgets": {},
     "nuid": "7079c601-e073-49c5-98e9-f2bc436259e9",
     "showTitle": false,
     "title": ""
    }
   },
   "outputs": [
    {
     "data": {
      "text/html": [
       "<style scoped>\n",
       "  .ansiout {\n",
       "    display: block;\n",
       "    unicode-bidi: embed;\n",
       "    white-space: pre-wrap;\n",
       "    word-wrap: break-word;\n",
       "    word-break: break-all;\n",
       "    font-family: \"Source Code Pro\", \"Menlo\", monospace;;\n",
       "    font-size: 13px;\n",
       "    color: #555;\n",
       "    margin-left: 4px;\n",
       "    line-height: 19px;\n",
       "  }\n",
       "</style>\n",
       "<div class=\"ansiout\">Out[44]: 1</div>"
      ]
     },
     "metadata": {
      "application/vnd.databricks.v1+output": {
       "addedWidgets": {},
       "arguments": {},
       "data": "<div class=\"ansiout\">Out[44]: 1</div>",
       "datasetInfos": [],
       "metadata": {},
       "removedWidgets": [],
       "type": "html"
      }
     },
     "output_type": "display_data"
    }
   ],
   "source": [
    "#파티션 수 지정 -> 1\n",
    "words.coalesce(1).getNumPartitions()"
   ]
  },
  {
   "cell_type": "markdown",
   "metadata": {
    "application/vnd.databricks.v1+cell": {
     "inputWidgets": {},
     "nuid": "4a3ebe0d-bfa1-4f87-836c-cd658d82b26e",
     "showTitle": false,
     "title": ""
    }
   },
   "source": [
    "### repartition\n",
    "- 똑같이 파티션 수를 늘리거나 줄일 수 있음\n",
    "- 하지만 <strong>노드 간 셔플</strong>이 발생"
   ]
  },
  {
   "cell_type": "code",
   "execution_count": null,
   "metadata": {
    "application/vnd.databricks.v1+cell": {
     "inputWidgets": {},
     "nuid": "e7048715-0abf-4ada-a64d-6c965d49009f",
     "showTitle": false,
     "title": ""
    }
   },
   "outputs": [
    {
     "data": {
      "text/html": [
       "<style scoped>\n",
       "  .ansiout {\n",
       "    display: block;\n",
       "    unicode-bidi: embed;\n",
       "    white-space: pre-wrap;\n",
       "    word-wrap: break-word;\n",
       "    word-break: break-all;\n",
       "    font-family: \"Source Code Pro\", \"Menlo\", monospace;;\n",
       "    font-size: 13px;\n",
       "    color: #555;\n",
       "    margin-left: 4px;\n",
       "    line-height: 19px;\n",
       "  }\n",
       "</style>\n",
       "<div class=\"ansiout\">Out[46]: 10</div>"
      ]
     },
     "metadata": {
      "application/vnd.databricks.v1+output": {
       "addedWidgets": {},
       "arguments": {},
       "data": "<div class=\"ansiout\">Out[46]: 10</div>",
       "datasetInfos": [],
       "metadata": {},
       "removedWidgets": [],
       "type": "html"
      }
     },
     "output_type": "display_data"
    }
   ],
   "source": [
    "words.repartition(10).getNumPartitions()"
   ]
  },
  {
   "cell_type": "markdown",
   "metadata": {
    "application/vnd.databricks.v1+cell": {
     "inputWidgets": {},
     "nuid": "2c2385c0-d5f6-4069-ac7a-6e3673e6aa2f",
     "showTitle": false,
     "title": ""
    }
   },
   "source": [
    "### repartitionAndSortWithinPartitions\n",
    "- 파티션 재분배 가능\n",
    "- 재분배된 결과 파티션의 정렬 방식을 지정할 수 있음"
   ]
  },
  {
   "cell_type": "markdown",
   "metadata": {
    "application/vnd.databricks.v1+cell": {
     "inputWidgets": {},
     "nuid": "527a1697-9dbf-44ee-9581-e587627b0587",
     "showTitle": false,
     "title": ""
    }
   },
   "source": [
    "### 사용자 정의 파티셔닝\n",
    "- RDD를 사용하는 가장 큰 이유 중 하나이므로 가장 중요\n",
    "\n",
    "- 사용자 정의 파티셔너는 <strong>저수준 API의 세부적인 구현 방식</strong>\n",
    "  - job이 성공적으로 동작되는지 여부에 상당한 영향을 미침\n",
    "\n",
    "- <strong>사용자 정의 파티셔닝의 유일한 목표: 데이터의 치우침 같은 문제를 피하는 것</strong>\n",
    "  - 즉, 클러스터 전체에 걸쳐 <strong>데이터를 균등하게 분배</strong>하는 것\n",
    "\n",
    "- 심각하게 치우친 키를 다뤄야 한다면 고급 파티셔닝 기능을 사용\n",
    "  - 병렬성을 개선하고 실행 과정에서 out of memory error를 방지할 수 있도록 키를 최대한 분할해야함"
   ]
  },
  {
   "cell_type": "code",
   "execution_count": null,
   "metadata": {
    "application/vnd.databricks.v1+cell": {
     "inputWidgets": {},
     "nuid": "de9163f9-0d87-4c0c-a696-c10c70bac562",
     "showTitle": false,
     "title": ""
    }
   },
   "outputs": [
    {
     "data": {
      "text/html": [
       "<style scoped>\n",
       "  .ansiout {\n",
       "    display: block;\n",
       "    unicode-bidi: embed;\n",
       "    white-space: pre-wrap;\n",
       "    word-wrap: break-word;\n",
       "    word-break: break-all;\n",
       "    font-family: \"Source Code Pro\", \"Menlo\", monospace;;\n",
       "    font-size: 13px;\n",
       "    color: #555;\n",
       "    margin-left: 4px;\n",
       "    line-height: 19px;\n",
       "  }\n",
       "</style>\n",
       "<div class=\"ansiout\"></div>"
      ]
     },
     "metadata": {
      "application/vnd.databricks.v1+output": {
       "addedWidgets": {},
       "arguments": {},
       "data": "<div class=\"ansiout\"></div>",
       "datasetInfos": [],
       "metadata": {},
       "removedWidgets": [],
       "type": "html"
      }
     },
     "output_type": "display_data"
    }
   ],
   "source": [
    "path= \"/FileStore/tables/retail-data/all/\"\n",
    "df= spark.read.option('header', 'true').option('inferSchema', 'true').csv(path)"
   ]
  },
  {
   "cell_type": "code",
   "execution_count": null,
   "metadata": {
    "application/vnd.databricks.v1+cell": {
     "inputWidgets": {},
     "nuid": "2dbf80cd-2d22-4b82-9e06-9d7c23f65dde",
     "showTitle": false,
     "title": ""
    }
   },
   "outputs": [
    {
     "data": {
      "text/html": [
       "<style scoped>\n",
       "  .ansiout {\n",
       "    display: block;\n",
       "    unicode-bidi: embed;\n",
       "    white-space: pre-wrap;\n",
       "    word-wrap: break-word;\n",
       "    word-break: break-all;\n",
       "    font-family: \"Source Code Pro\", \"Menlo\", monospace;;\n",
       "    font-size: 13px;\n",
       "    color: #555;\n",
       "    margin-left: 4px;\n",
       "    line-height: 19px;\n",
       "  }\n",
       "</style>\n",
       "<div class=\"ansiout\">root\n",
       "-- InvoiceNo: string (nullable = true)\n",
       "-- StockCode: string (nullable = true)\n",
       "-- Description: string (nullable = true)\n",
       "-- Quantity: integer (nullable = true)\n",
       "-- InvoiceDate: string (nullable = true)\n",
       "-- UnitPrice: double (nullable = true)\n",
       "-- CustomerID: integer (nullable = true)\n",
       "-- Country: string (nullable = true)\n",
       "\n",
       "</div>"
      ]
     },
     "metadata": {
      "application/vnd.databricks.v1+output": {
       "addedWidgets": {},
       "arguments": {},
       "data": "<div class=\"ansiout\">root\n |-- InvoiceNo: string (nullable = true)\n |-- StockCode: string (nullable = true)\n |-- Description: string (nullable = true)\n |-- Quantity: integer (nullable = true)\n |-- InvoiceDate: string (nullable = true)\n |-- UnitPrice: double (nullable = true)\n |-- CustomerID: integer (nullable = true)\n |-- Country: string (nullable = true)\n\n</div>",
       "datasetInfos": [],
       "metadata": {},
       "removedWidgets": [],
       "type": "html"
      }
     },
     "output_type": "display_data"
    }
   ],
   "source": [
    "df.printSchema()"
   ]
  },
  {
   "cell_type": "code",
   "execution_count": null,
   "metadata": {
    "application/vnd.databricks.v1+cell": {
     "inputWidgets": {},
     "nuid": "8119251d-ffb3-4dbe-9a34-2beb30d37f24",
     "showTitle": false,
     "title": ""
    }
   },
   "outputs": [
    {
     "data": {
      "text/html": [
       "<style scoped>\n",
       "  .ansiout {\n",
       "    display: block;\n",
       "    unicode-bidi: embed;\n",
       "    white-space: pre-wrap;\n",
       "    word-wrap: break-word;\n",
       "    word-break: break-all;\n",
       "    font-family: \"Source Code Pro\", \"Menlo\", monospace;;\n",
       "    font-size: 13px;\n",
       "    color: #555;\n",
       "    margin-left: 4px;\n",
       "    line-height: 19px;\n",
       "  }\n",
       "</style>\n",
       "<div class=\"ansiout\"></div>"
      ]
     },
     "metadata": {
      "application/vnd.databricks.v1+output": {
       "addedWidgets": {},
       "arguments": {},
       "data": "<div class=\"ansiout\"></div>",
       "datasetInfos": [],
       "metadata": {},
       "removedWidgets": [],
       "type": "html"
      }
     },
     "output_type": "display_data"
    }
   ],
   "source": [
    "rdd = df.coalesce(10).rdd"
   ]
  },
  {
   "cell_type": "code",
   "execution_count": null,
   "metadata": {
    "application/vnd.databricks.v1+cell": {
     "inputWidgets": {},
     "nuid": "8c5a6342-ae96-4f32-b011-ebb8abb149c9",
     "showTitle": false,
     "title": ""
    }
   },
   "outputs": [
    {
     "data": {
      "text/html": [
       "<style scoped>\n",
       "  .ansiout {\n",
       "    display: block;\n",
       "    unicode-bidi: embed;\n",
       "    white-space: pre-wrap;\n",
       "    word-wrap: break-word;\n",
       "    word-break: break-all;\n",
       "    font-family: \"Source Code Pro\", \"Menlo\", monospace;;\n",
       "    font-size: 13px;\n",
       "    color: #555;\n",
       "    margin-left: 4px;\n",
       "    line-height: 19px;\n",
       "  }\n",
       "</style>\n",
       "<div class=\"ansiout\"></div>"
      ]
     },
     "metadata": {
      "application/vnd.databricks.v1+output": {
       "addedWidgets": {},
       "arguments": {},
       "data": "<div class=\"ansiout\"></div>",
       "datasetInfos": [],
       "metadata": {},
       "removedWidgets": [],
       "type": "html"
      }
     },
     "output_type": "display_data"
    }
   ],
   "source": [
    "def partitionFunc(key):\n",
    "  if key in [17850, 12583]:\n",
    "    return 0\n",
    "  return random.randint(1,2)"
   ]
  },
  {
   "cell_type": "markdown",
   "metadata": {
    "application/vnd.databricks.v1+cell": {
     "inputWidgets": {},
     "nuid": "120e093b-792a-4bfd-925b-d0e31afb38fc",
     "showTitle": false,
     "title": ""
    }
   },
   "source": [
    "### case: 두 고객의 데이터가 너무 많아서 다른 고객의 정보와 두 고객의 정보를 분리하려함(두 그룹 생성)\n",
    "- 두 고객의 아이디: 17850, 12583"
   ]
  },
  {
   "cell_type": "code",
   "execution_count": null,
   "metadata": {
    "application/vnd.databricks.v1+cell": {
     "inputWidgets": {},
     "nuid": "9535bc0e-7247-4067-b4a6-8a89f8614ef2",
     "showTitle": false,
     "title": ""
    }
   },
   "outputs": [
    {
     "data": {
      "text/html": [
       "<style scoped>\n",
       "  .ansiout {\n",
       "    display: block;\n",
       "    unicode-bidi: embed;\n",
       "    white-space: pre-wrap;\n",
       "    word-wrap: break-word;\n",
       "    word-break: break-all;\n",
       "    font-family: \"Source Code Pro\", \"Menlo\", monospace;;\n",
       "    font-size: 13px;\n",
       "    color: #555;\n",
       "    margin-left: 4px;\n",
       "    line-height: 19px;\n",
       "  }\n",
       "</style>\n",
       "<div class=\"ansiout\"></div>"
      ]
     },
     "metadata": {
      "application/vnd.databricks.v1+output": {
       "addedWidgets": {},
       "arguments": {},
       "data": "<div class=\"ansiout\"></div>",
       "datasetInfos": [],
       "metadata": {},
       "removedWidgets": [],
       "type": "html"
      }
     },
     "output_type": "display_data"
    }
   ],
   "source": [
    "#row[6]: customerid 값임\n",
    "keyedRDD = rdd.keyBy(lambda row: row[6])"
   ]
  },
  {
   "cell_type": "code",
   "execution_count": null,
   "metadata": {
    "application/vnd.databricks.v1+cell": {
     "inputWidgets": {},
     "nuid": "eb69cb00-180e-40e8-a4fc-16a509d563d4",
     "showTitle": false,
     "title": ""
    }
   },
   "outputs": [
    {
     "data": {
      "text/html": [
       "<style scoped>\n",
       "  .ansiout {\n",
       "    display: block;\n",
       "    unicode-bidi: embed;\n",
       "    white-space: pre-wrap;\n",
       "    word-wrap: break-word;\n",
       "    word-break: break-all;\n",
       "    font-family: \"Source Code Pro\", \"Menlo\", monospace;;\n",
       "    font-size: 13px;\n",
       "    color: #555;\n",
       "    margin-left: 4px;\n",
       "    line-height: 19px;\n",
       "  }\n",
       "</style>\n",
       "<div class=\"ansiout\">Out[58]: [(17850,\n",
       "  Row(InvoiceNo=&#39;536365&#39;, StockCode=&#39;85123A&#39;, Description=&#39;WHITE HANGING HEART T-LIGHT HOLDER&#39;, Quantity=6, InvoiceDate=&#39;12/1/2010 8:26&#39;, UnitPrice=2.55, CustomerID=17850, Country=&#39;United Kingdom&#39;))]</div>"
      ]
     },
     "metadata": {
      "application/vnd.databricks.v1+output": {
       "addedWidgets": {},
       "arguments": {},
       "data": "<div class=\"ansiout\">Out[58]: [(17850,\n  Row(InvoiceNo=&#39;536365&#39;, StockCode=&#39;85123A&#39;, Description=&#39;WHITE HANGING HEART T-LIGHT HOLDER&#39;, Quantity=6, InvoiceDate=&#39;12/1/2010 8:26&#39;, UnitPrice=2.55, CustomerID=17850, Country=&#39;United Kingdom&#39;))]</div>",
       "datasetInfos": [],
       "metadata": {},
       "removedWidgets": [],
       "type": "html"
      }
     },
     "output_type": "display_data"
    }
   ],
   "source": [
    "keyedRDD.take(1)"
   ]
  },
  {
   "cell_type": "code",
   "execution_count": null,
   "metadata": {
    "application/vnd.databricks.v1+cell": {
     "inputWidgets": {},
     "nuid": "26d8d4a3-73fc-481d-8003-48560af11e03",
     "showTitle": false,
     "title": ""
    }
   },
   "outputs": [
    {
     "data": {
      "text/html": [
       "<style scoped>\n",
       "  .ansiout {\n",
       "    display: block;\n",
       "    unicode-bidi: embed;\n",
       "    white-space: pre-wrap;\n",
       "    word-wrap: break-word;\n",
       "    word-break: break-all;\n",
       "    font-family: \"Source Code Pro\", \"Menlo\", monospace;;\n",
       "    font-size: 13px;\n",
       "    color: #555;\n",
       "    margin-left: 4px;\n",
       "    line-height: 19px;\n",
       "  }\n",
       "</style>\n",
       "<div class=\"ansiout\">Out[59]: [2, 4315, 4301]</div>"
      ]
     },
     "metadata": {
      "application/vnd.databricks.v1+output": {
       "addedWidgets": {},
       "arguments": {},
       "data": "<div class=\"ansiout\">Out[59]: [2, 4315, 4301]</div>",
       "datasetInfos": [],
       "metadata": {},
       "removedWidgets": [],
       "type": "html"
      }
     },
     "output_type": "display_data"
    }
   ],
   "source": [
    "keyedRDD.partitionBy(3, partitionFunc).map(lambda x: x[0])\\\n",
    ".glom().map(lambda x: len(set(x))).take(5)"
   ]
  },
  {
   "cell_type": "markdown",
   "metadata": {
    "application/vnd.databricks.v1+cell": {
     "inputWidgets": {},
     "nuid": "e8c36901-3ee2-49d4-9447-ebf161f00b10",
     "showTitle": false,
     "title": ""
    }
   },
   "source": [
    "## 사용자 정의 직렬화\n",
    "- 스파크는 Kryo 라이브러리를 사용해서 객체를 빠르게 직렬화 할 수 있음\n",
    "  - 이는 자바 직렬화보다 약 10배 이상 성능이 좋음"
   ]
  }
 ],
 "metadata": {
  "application/vnd.databricks.v1+notebook": {
   "dashboards": [],
   "language": "python",
   "notebookMetadata": {
    "pythonIndentUnit": 2
   },
   "notebookName": "Chapter13",
   "notebookOrigID": 3504943436708838,
   "widgets": {}
  },
  "kernelspec": {
   "display_name": "Python 3 (ipykernel)",
   "language": "python",
   "name": "python3"
  },
  "language_info": {
   "codemirror_mode": {
    "name": "ipython",
    "version": 3
   },
   "file_extension": ".py",
   "mimetype": "text/x-python",
   "name": "python",
   "nbconvert_exporter": "python",
   "pygments_lexer": "ipython3",
   "version": "3.11.6"
  }
 },
 "nbformat": 4,
 "nbformat_minor": 4
}
