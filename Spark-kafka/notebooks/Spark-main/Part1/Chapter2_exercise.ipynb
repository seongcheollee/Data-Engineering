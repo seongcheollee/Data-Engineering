{
 "cells": [
  {
   "cell_type": "markdown",
   "metadata": {
    "application/vnd.databricks.v1+cell": {
     "inputWidgets": {},
     "nuid": "fa59056d-7563-4e99-9bbc-ca800a5fc42f",
     "showTitle": false,
     "title": ""
    }
   },
   "source": [
    "# 스파크 간단히 살펴보기"
   ]
  },
  {
   "cell_type": "markdown",
   "metadata": {
    "application/vnd.databricks.v1+cell": {
     "inputWidgets": {},
     "nuid": "192b29d0-1764-462c-bb9f-3839a6e862c6",
     "showTitle": false,
     "title": ""
    }
   },
   "source": [
    "## 종합예제"
   ]
  },
  {
   "cell_type": "code",
   "execution_count": null,
   "metadata": {
    "application/vnd.databricks.v1+cell": {
     "inputWidgets": {},
     "nuid": "6c41a133-6900-45c3-b2fa-a9b96125782b",
     "showTitle": false,
     "title": ""
    }
   },
   "outputs": [
    {
     "data": {
      "text/html": [
       "<style scoped>\n",
       "  .ansiout {\n",
       "    display: block;\n",
       "    unicode-bidi: embed;\n",
       "    white-space: pre-wrap;\n",
       "    word-wrap: break-word;\n",
       "    word-break: break-all;\n",
       "    font-family: \"Source Code Pro\", \"Menlo\", monospace;;\n",
       "    font-size: 13px;\n",
       "    color: #555;\n",
       "    margin-left: 4px;\n",
       "    line-height: 19px;\n",
       "  }\n",
       "</style>\n",
       "<div class=\"ansiout\"></div>"
      ]
     },
     "metadata": {
      "application/vnd.databricks.v1+output": {
       "addedWidgets": {},
       "arguments": {},
       "data": "<div class=\"ansiout\"></div>",
       "datasetInfos": [
        {
         "name": "flightDate2015",
         "schema": {
          "fields": [
           {
            "metadata": {},
            "name": "DEST_COUNTRY_NAME",
            "nullable": true,
            "type": "string"
           },
           {
            "metadata": {},
            "name": "ORIGIN_COUNTRY_NAME",
            "nullable": true,
            "type": "string"
           },
           {
            "metadata": {},
            "name": "count",
            "nullable": true,
            "type": "integer"
           }
          ],
          "type": "struct"
         },
         "tableIdentifier": null,
         "typeStr": "pyspark.sql.dataframe.DataFrame"
        }
       ],
       "metadata": {},
       "removedWidgets": [],
       "type": "html"
      }
     },
     "output_type": "display_data"
    }
   ],
   "source": [
    "#DataFrame의 스키마 정보를 알아내는 스키마 추론(inferSchema -> true)\n",
    "#파일의 첫 row를 헤더로 지정(header -> true)\n",
    "flightDate2015 = spark.read.option('inferSchema', 'true').option('header', 'true').csv('/FileStore/tables/flight-data/csv/2015_summary.csv')"
   ]
  },
  {
   "cell_type": "markdown",
   "metadata": {
    "application/vnd.databricks.v1+cell": {
     "inputWidgets": {},
     "nuid": "eb9a5bca-3717-4a0b-8335-5b0243871bd5",
     "showTitle": false,
     "title": ""
    }
   },
   "source": [
    "- 스칼라와 파이썬에서 사용하는 DataFrame은 불특정 다수의 row와 column을 가짐\n",
    "- row의 수를 알 수 없는 이유는, <strong>데이터를 읽는 과정이 지연 연산 형태의 트랜스포메이션</strong>이기 때문\n",
    "- 스파크는 각 column의 데이터 타입을 추론하기 위해 적은 양의 데이터를 읽음"
   ]
  },
  {
   "cell_type": "code",
   "execution_count": null,
   "metadata": {
    "application/vnd.databricks.v1+cell": {
     "inputWidgets": {},
     "nuid": "bcfce788-5cbe-422d-bf7d-632f33bdfc86",
     "showTitle": false,
     "title": ""
    }
   },
   "outputs": [
    {
     "data": {
      "text/html": [
       "<style scoped>\n",
       "  .ansiout {\n",
       "    display: block;\n",
       "    unicode-bidi: embed;\n",
       "    white-space: pre-wrap;\n",
       "    word-wrap: break-word;\n",
       "    word-break: break-all;\n",
       "    font-family: \"Source Code Pro\", \"Menlo\", monospace;;\n",
       "    font-size: 13px;\n",
       "    color: #555;\n",
       "    margin-left: 4px;\n",
       "    line-height: 19px;\n",
       "  }\n",
       "</style>\n",
       "<div class=\"ansiout\"><span class=\"ansired\">Out[</span><span class=\"ansired\">2</span><span class=\"ansired\">]: </span>[Row(DEST_COUNTRY_NAME=&apos;United States&apos;, ORIGIN_COUNTRY_NAME=&apos;Romania&apos;, count=15),\n",
       " Row(DEST_COUNTRY_NAME=&apos;United States&apos;, ORIGIN_COUNTRY_NAME=&apos;Croatia&apos;, count=1),\n",
       " Row(DEST_COUNTRY_NAME=&apos;United States&apos;, ORIGIN_COUNTRY_NAME=&apos;Ireland&apos;, count=344)]</div>"
      ]
     },
     "metadata": {
      "application/vnd.databricks.v1+output": {
       "addedWidgets": {},
       "arguments": {},
       "data": "<div class=\"ansiout\"><span class=\"ansired\">Out[</span><span class=\"ansired\">2</span><span class=\"ansired\">]: </span>[Row(DEST_COUNTRY_NAME=&apos;United States&apos;, ORIGIN_COUNTRY_NAME=&apos;Romania&apos;, count=15),\n Row(DEST_COUNTRY_NAME=&apos;United States&apos;, ORIGIN_COUNTRY_NAME=&apos;Croatia&apos;, count=1),\n Row(DEST_COUNTRY_NAME=&apos;United States&apos;, ORIGIN_COUNTRY_NAME=&apos;Ireland&apos;, count=344)]</div>",
       "datasetInfos": [],
       "metadata": {},
       "removedWidgets": [],
       "type": "html"
      }
     },
     "output_type": "display_data"
    }
   ],
   "source": [
    "#Dataframe에서 csv파일을 읽어 로컬 배열이나 리스트 형태로 변환\n",
    "flightDate2015.take(3)"
   ]
  },
  {
   "cell_type": "markdown",
   "metadata": {
    "application/vnd.databricks.v1+cell": {
     "inputWidgets": {},
     "nuid": "e1bc4f5b-8124-47aa-9514-01afd851794a",
     "showTitle": false,
     "title": ""
    }
   },
   "source": [
    "### 실행 계획 확인하기\n",
    "- <strong>explain메서드</strong>를 호출하면 DataFrame의 계보(lineage)나 스파크의 쿼리 실행 계획을 확인할 수 있다."
   ]
  },
  {
   "cell_type": "code",
   "execution_count": null,
   "metadata": {
    "application/vnd.databricks.v1+cell": {
     "inputWidgets": {},
     "nuid": "84a9f351-2461-4abb-8ec5-8c2ddb54b3d0",
     "showTitle": false,
     "title": ""
    }
   },
   "outputs": [
    {
     "data": {
      "text/html": [
       "<style scoped>\n",
       "  .ansiout {\n",
       "    display: block;\n",
       "    unicode-bidi: embed;\n",
       "    white-space: pre-wrap;\n",
       "    word-wrap: break-word;\n",
       "    word-break: break-all;\n",
       "    font-family: \"Source Code Pro\", \"Menlo\", monospace;;\n",
       "    font-size: 13px;\n",
       "    color: #555;\n",
       "    margin-left: 4px;\n",
       "    line-height: 19px;\n",
       "  }\n",
       "</style>\n",
       "<div class=\"ansiout\">== Physical Plan ==\n",
       "Sort [count#28 ASC NULLS FIRST], true, 0\n",
       "+- Exchange rangepartitioning(count#28 ASC NULLS FIRST, 200)\n",
       "   +- *(1) FileScan csv [DEST_COUNTRY_NAME#26,ORIGIN_COUNTRY_NAME#27,count#28] Batched: false, DataFilters: [], Format: CSV, Location: InMemoryFileIndex[dbfs:/FileStore/tables/flight-data/csv/2015_summary.csv], PartitionFilters: [], PushedFilters: [], ReadSchema: struct&lt;DEST_COUNTRY_NAME:string,ORIGIN_COUNTRY_NAME:string,count:int&gt;\n",
       "</div>"
      ]
     },
     "metadata": {
      "application/vnd.databricks.v1+output": {
       "addedWidgets": {},
       "arguments": {},
       "data": "<div class=\"ansiout\">== Physical Plan ==\nSort [count#28 ASC NULLS FIRST], true, 0\n+- Exchange rangepartitioning(count#28 ASC NULLS FIRST, 200)\n   +- *(1) FileScan csv [DEST_COUNTRY_NAME#26,ORIGIN_COUNTRY_NAME#27,count#28] Batched: false, DataFilters: [], Format: CSV, Location: InMemoryFileIndex[dbfs:/FileStore/tables/flight-data/csv/2015_summary.csv], PartitionFilters: [], PushedFilters: [], ReadSchema: struct&lt;DEST_COUNTRY_NAME:string,ORIGIN_COUNTRY_NAME:string,count:int&gt;\n</div>",
       "datasetInfos": [],
       "metadata": {},
       "removedWidgets": [],
       "type": "html"
      }
     },
     "output_type": "display_data"
    }
   ],
   "source": [
    "flightDate2015.sort('count').explain()"
   ]
  },
  {
   "cell_type": "markdown",
   "metadata": {
    "application/vnd.databricks.v1+cell": {
     "inputWidgets": {},
     "nuid": "371cdb75-9754-4465-885b-965ee50de136",
     "showTitle": false,
     "title": ""
    }
   },
   "source": [
    "------\n",
    "- 최종 결과는 가장 위에\n",
    "- 데이터 소스는 가장 아래에\n",
    "- 각 줄의 첫 번째 키워드(Sort, Exchange, FileScan)를 보면됨"
   ]
  },
  {
   "cell_type": "markdown",
   "metadata": {
    "application/vnd.databricks.v1+cell": {
     "inputWidgets": {},
     "nuid": "b2e74da6-5c82-4a87-9d1a-3a7d11dc772a",
     "showTitle": false,
     "title": ""
    }
   },
   "source": [
    "### 실행 계획 시작하기\n",
    "- 액션을 호출함\n",
    "- <strong>스파크는 셔플 수행 시 기본적으로 200개의 셔플 파티션을 생성함 </strong>"
   ]
  },
  {
   "cell_type": "code",
   "execution_count": null,
   "metadata": {
    "application/vnd.databricks.v1+cell": {
     "inputWidgets": {},
     "nuid": "0d0e9149-fce1-4ac8-bf0b-669e1a04b898",
     "showTitle": false,
     "title": ""
    }
   },
   "outputs": [
    {
     "data": {
      "text/html": [
       "<style scoped>\n",
       "  .ansiout {\n",
       "    display: block;\n",
       "    unicode-bidi: embed;\n",
       "    white-space: pre-wrap;\n",
       "    word-wrap: break-word;\n",
       "    word-break: break-all;\n",
       "    font-family: \"Source Code Pro\", \"Menlo\", monospace;;\n",
       "    font-size: 13px;\n",
       "    color: #555;\n",
       "    margin-left: 4px;\n",
       "    line-height: 19px;\n",
       "  }\n",
       "</style>\n",
       "<div class=\"ansiout\"><span class=\"ansired\">Out[</span><span class=\"ansired\">4</span><span class=\"ansired\">]: </span>[Row(DEST_COUNTRY_NAME=&apos;United States&apos;, ORIGIN_COUNTRY_NAME=&apos;Singapore&apos;, count=1),\n",
       " Row(DEST_COUNTRY_NAME=&apos;Moldova&apos;, ORIGIN_COUNTRY_NAME=&apos;United States&apos;, count=1)]</div>"
      ]
     },
     "metadata": {
      "application/vnd.databricks.v1+output": {
       "addedWidgets": {},
       "arguments": {},
       "data": "<div class=\"ansiout\"><span class=\"ansired\">Out[</span><span class=\"ansired\">4</span><span class=\"ansired\">]: </span>[Row(DEST_COUNTRY_NAME=&apos;United States&apos;, ORIGIN_COUNTRY_NAME=&apos;Singapore&apos;, count=1),\n Row(DEST_COUNTRY_NAME=&apos;Moldova&apos;, ORIGIN_COUNTRY_NAME=&apos;United States&apos;, count=1)]</div>",
       "datasetInfos": [],
       "metadata": {},
       "removedWidgets": [],
       "type": "html"
      }
     },
     "output_type": "display_data"
    }
   ],
   "source": [
    "#셔플의 출력 파티션 수를 200 -> 5로 설정\n",
    "spark.conf.set(\"spark.sql.shuffle.partitions\", \"5\")\n",
    "flightDate2015.sort('count').take(2)"
   ]
  },
  {
   "cell_type": "markdown",
   "metadata": {
    "application/vnd.databricks.v1+cell": {
     "inputWidgets": {},
     "nuid": "f6703086-80d3-48df-a53d-9392391fef57",
     "showTitle": false,
     "title": ""
    }
   },
   "source": [
    "------\n",
    "- 사용자는 물리적 데이터를 직접 다루진 않음\n",
    "- 대신, 위처럼 셔플 파티션 파라미터와 같은 속성으로 <strong>물리적 실행 특성을 제어</strong>할 수 있음"
   ]
  },
  {
   "cell_type": "markdown",
   "metadata": {
    "application/vnd.databricks.v1+cell": {
     "inputWidgets": {},
     "nuid": "456ccb5d-a2dd-4926-badf-ca3cde9bd8da",
     "showTitle": false,
     "title": ""
    }
   },
   "source": [
    "### DataFrame과 SQL\n",
    "- 스파크는 언어에 상관없이 같은 방식으로 트랜스포메이션을 실행할 수 있다.\n",
    "- 사용자가 SQL이나 DataFrame으로 비즈니스 로직을 표현하면, 스파크가 실제 코드를 실행하기 전에 그 로직을 기본 실행 계획으로 컴파일함\n",
    "- <strong>스파크 SQL을 사용하면, 모든 DataFrame을 테이블이나 뷰로 등록 후 SQL쿼리 사용</strong>"
   ]
  },
  {
   "cell_type": "code",
   "execution_count": null,
   "metadata": {
    "application/vnd.databricks.v1+cell": {
     "inputWidgets": {},
     "nuid": "c6a2f5bf-555c-451d-a9a1-4533a6f43278",
     "showTitle": false,
     "title": ""
    }
   },
   "outputs": [
    {
     "data": {
      "text/html": [
       "<style scoped>\n",
       "  .ansiout {\n",
       "    display: block;\n",
       "    unicode-bidi: embed;\n",
       "    white-space: pre-wrap;\n",
       "    word-wrap: break-word;\n",
       "    word-break: break-all;\n",
       "    font-family: \"Source Code Pro\", \"Menlo\", monospace;;\n",
       "    font-size: 13px;\n",
       "    color: #555;\n",
       "    margin-left: 4px;\n",
       "    line-height: 19px;\n",
       "  }\n",
       "</style>\n",
       "<div class=\"ansiout\"></div>"
      ]
     },
     "metadata": {
      "application/vnd.databricks.v1+output": {
       "addedWidgets": {},
       "arguments": {},
       "data": "<div class=\"ansiout\"></div>",
       "datasetInfos": [],
       "metadata": {},
       "removedWidgets": [],
       "type": "html"
      }
     },
     "output_type": "display_data"
    }
   ],
   "source": [
    "#createOrReplaceTempView메서드로 모든 DataFrame을 테이블이나 뷰로 만듦\n",
    "flightDate2015.createOrReplaceTempView('flight_data_2015')"
   ]
  },
  {
   "cell_type": "markdown",
   "metadata": {
    "application/vnd.databricks.v1+cell": {
     "inputWidgets": {},
     "nuid": "22a1e44a-c75d-42f7-9d11-b3c6b42e3874",
     "showTitle": false,
     "title": ""
    }
   },
   "source": [
    "### 두 가지 실행 계획 비교\n",
    "- 위에서 뷰로 등록했으니 SQL로 데이터를 조회할 수 있음\n",
    "- 새로운 DataFrame을 반환하는 spark.sql메서드로 SQL쿼리 실행\n",
    "  - spark는 SparkSession의 변수\n",
    "  - DataFrame에 쿼리를 수행하면 새로운 DataFrame을 반환(변형시키는게 아님)"
   ]
  },
  {
   "cell_type": "markdown",
   "metadata": {
    "application/vnd.databricks.v1+cell": {
     "inputWidgets": {},
     "nuid": "2e7e18d0-c71d-427d-85df-bfc1d727a008",
     "showTitle": false,
     "title": ""
    }
   },
   "source": [
    "#### ex1"
   ]
  },
  {
   "cell_type": "code",
   "execution_count": null,
   "metadata": {
    "application/vnd.databricks.v1+cell": {
     "inputWidgets": {},
     "nuid": "4ff2e1ec-ee6d-4ae7-8061-7bec7b3e0c79",
     "showTitle": false,
     "title": ""
    }
   },
   "outputs": [
    {
     "data": {
      "text/html": [
       "<style scoped>\n",
       "  .ansiout {\n",
       "    display: block;\n",
       "    unicode-bidi: embed;\n",
       "    white-space: pre-wrap;\n",
       "    word-wrap: break-word;\n",
       "    word-break: break-all;\n",
       "    font-family: \"Source Code Pro\", \"Menlo\", monospace;;\n",
       "    font-size: 13px;\n",
       "    color: #555;\n",
       "    margin-left: 4px;\n",
       "    line-height: 19px;\n",
       "  }\n",
       "</style>\n",
       "<div class=\"ansiout\"></div>"
      ]
     },
     "metadata": {
      "application/vnd.databricks.v1+output": {
       "addedWidgets": {},
       "arguments": {},
       "data": "<div class=\"ansiout\"></div>",
       "datasetInfos": [
        {
         "name": "sqlWay",
         "schema": {
          "fields": [
           {
            "metadata": {},
            "name": "dest_country_name",
            "nullable": true,
            "type": "string"
           },
           {
            "metadata": {},
            "name": "count(1)",
            "nullable": false,
            "type": "long"
           }
          ],
          "type": "struct"
         },
         "tableIdentifier": null,
         "typeStr": "pyspark.sql.dataframe.DataFrame"
        }
       ],
       "metadata": {},
       "removedWidgets": [],
       "type": "html"
      }
     },
     "output_type": "display_data"
    }
   ],
   "source": [
    "#방법1\n",
    "sqlWay = spark.sql('''\n",
    "select dest_country_name, count(1)\n",
    "from flight_data_2015\n",
    "group by dest_country_name\n",
    "''')"
   ]
  },
  {
   "cell_type": "code",
   "execution_count": null,
   "metadata": {
    "application/vnd.databricks.v1+cell": {
     "inputWidgets": {},
     "nuid": "de25511a-cb16-4d5a-ac6d-213aedb5b39f",
     "showTitle": false,
     "title": ""
    }
   },
   "outputs": [
    {
     "data": {
      "text/html": [
       "<style scoped>\n",
       "  .ansiout {\n",
       "    display: block;\n",
       "    unicode-bidi: embed;\n",
       "    white-space: pre-wrap;\n",
       "    word-wrap: break-word;\n",
       "    word-break: break-all;\n",
       "    font-family: \"Source Code Pro\", \"Menlo\", monospace;;\n",
       "    font-size: 13px;\n",
       "    color: #555;\n",
       "    margin-left: 4px;\n",
       "    line-height: 19px;\n",
       "  }\n",
       "</style>\n",
       "<div class=\"ansiout\">== Physical Plan ==\n",
       "*(2) HashAggregate(keys=[dest_country_name#26], functions=[finalmerge_count(merge count#46L) AS count(1)#41L])\n",
       "+- Exchange hashpartitioning(dest_country_name#26, 5)\n",
       "   +- *(1) HashAggregate(keys=[dest_country_name#26], functions=[partial_count(1) AS count#46L])\n",
       "      +- *(1) FileScan csv [DEST_COUNTRY_NAME#26] Batched: false, DataFilters: [], Format: CSV, Location: InMemoryFileIndex[dbfs:/FileStore/tables/flight-data/csv/2015_summary.csv], PartitionFilters: [], PushedFilters: [], ReadSchema: struct&lt;DEST_COUNTRY_NAME:string&gt;\n",
       "</div>"
      ]
     },
     "metadata": {
      "application/vnd.databricks.v1+output": {
       "addedWidgets": {},
       "arguments": {},
       "data": "<div class=\"ansiout\">== Physical Plan ==\n*(2) HashAggregate(keys=[dest_country_name#26], functions=[finalmerge_count(merge count#46L) AS count(1)#41L])\n+- Exchange hashpartitioning(dest_country_name#26, 5)\n   +- *(1) HashAggregate(keys=[dest_country_name#26], functions=[partial_count(1) AS count#46L])\n      +- *(1) FileScan csv [DEST_COUNTRY_NAME#26] Batched: false, DataFilters: [], Format: CSV, Location: InMemoryFileIndex[dbfs:/FileStore/tables/flight-data/csv/2015_summary.csv], PartitionFilters: [], PushedFilters: [], ReadSchema: struct&lt;DEST_COUNTRY_NAME:string&gt;\n</div>",
       "datasetInfos": [],
       "metadata": {},
       "removedWidgets": [],
       "type": "html"
      }
     },
     "output_type": "display_data"
    }
   ],
   "source": [
    "sqlWay.explain()"
   ]
  },
  {
   "cell_type": "code",
   "execution_count": null,
   "metadata": {
    "application/vnd.databricks.v1+cell": {
     "inputWidgets": {},
     "nuid": "bbfababe-50c3-4260-8bad-5ecc78ae1d1d",
     "showTitle": false,
     "title": ""
    }
   },
   "outputs": [
    {
     "data": {
      "text/html": [
       "<style scoped>\n",
       "  .ansiout {\n",
       "    display: block;\n",
       "    unicode-bidi: embed;\n",
       "    white-space: pre-wrap;\n",
       "    word-wrap: break-word;\n",
       "    word-break: break-all;\n",
       "    font-family: \"Source Code Pro\", \"Menlo\", monospace;;\n",
       "    font-size: 13px;\n",
       "    color: #555;\n",
       "    margin-left: 4px;\n",
       "    line-height: 19px;\n",
       "  }\n",
       "</style>\n",
       "<div class=\"ansiout\"></div>"
      ]
     },
     "metadata": {
      "application/vnd.databricks.v1+output": {
       "addedWidgets": {},
       "arguments": {},
       "data": "<div class=\"ansiout\"></div>",
       "datasetInfos": [
        {
         "name": "dataFrameWay",
         "schema": {
          "fields": [
           {
            "metadata": {},
            "name": "dest_country_name",
            "nullable": true,
            "type": "string"
           },
           {
            "metadata": {},
            "name": "count",
            "nullable": false,
            "type": "long"
           }
          ],
          "type": "struct"
         },
         "tableIdentifier": null,
         "typeStr": "pyspark.sql.dataframe.DataFrame"
        }
       ],
       "metadata": {},
       "removedWidgets": [],
       "type": "html"
      }
     },
     "output_type": "display_data"
    }
   ],
   "source": [
    "#방법2\n",
    "dataFrameWay = flightDate2015.groupby('dest_country_name').count()"
   ]
  },
  {
   "cell_type": "code",
   "execution_count": null,
   "metadata": {
    "application/vnd.databricks.v1+cell": {
     "inputWidgets": {},
     "nuid": "fae4cb36-8f4a-4000-a6a4-52a9074b990c",
     "showTitle": false,
     "title": ""
    }
   },
   "outputs": [
    {
     "data": {
      "text/html": [
       "<style scoped>\n",
       "  .ansiout {\n",
       "    display: block;\n",
       "    unicode-bidi: embed;\n",
       "    white-space: pre-wrap;\n",
       "    word-wrap: break-word;\n",
       "    word-break: break-all;\n",
       "    font-family: \"Source Code Pro\", \"Menlo\", monospace;;\n",
       "    font-size: 13px;\n",
       "    color: #555;\n",
       "    margin-left: 4px;\n",
       "    line-height: 19px;\n",
       "  }\n",
       "</style>\n",
       "<div class=\"ansiout\">== Physical Plan ==\n",
       "*(2) HashAggregate(keys=[dest_country_name#26], functions=[finalmerge_count(merge count#58L) AS count(1)#53L])\n",
       "+- Exchange hashpartitioning(dest_country_name#26, 5)\n",
       "   +- *(1) HashAggregate(keys=[dest_country_name#26], functions=[partial_count(1) AS count#58L])\n",
       "      +- *(1) FileScan csv [DEST_COUNTRY_NAME#26] Batched: false, DataFilters: [], Format: CSV, Location: InMemoryFileIndex[dbfs:/FileStore/tables/flight-data/csv/2015_summary.csv], PartitionFilters: [], PushedFilters: [], ReadSchema: struct&lt;DEST_COUNTRY_NAME:string&gt;\n",
       "</div>"
      ]
     },
     "metadata": {
      "application/vnd.databricks.v1+output": {
       "addedWidgets": {},
       "arguments": {},
       "data": "<div class=\"ansiout\">== Physical Plan ==\n*(2) HashAggregate(keys=[dest_country_name#26], functions=[finalmerge_count(merge count#58L) AS count(1)#53L])\n+- Exchange hashpartitioning(dest_country_name#26, 5)\n   +- *(1) HashAggregate(keys=[dest_country_name#26], functions=[partial_count(1) AS count#58L])\n      +- *(1) FileScan csv [DEST_COUNTRY_NAME#26] Batched: false, DataFilters: [], Format: CSV, Location: InMemoryFileIndex[dbfs:/FileStore/tables/flight-data/csv/2015_summary.csv], PartitionFilters: [], PushedFilters: [], ReadSchema: struct&lt;DEST_COUNTRY_NAME:string&gt;\n</div>",
       "datasetInfos": [],
       "metadata": {},
       "removedWidgets": [],
       "type": "html"
      }
     },
     "output_type": "display_data"
    }
   ],
   "source": [
    "dataFrameWay.explain()"
   ]
  },
  {
   "cell_type": "markdown",
   "metadata": {
    "application/vnd.databricks.v1+cell": {
     "inputWidgets": {},
     "nuid": "10ac0ff7-d0c2-4923-a220-4c148ab195f5",
     "showTitle": false,
     "title": ""
    }
   },
   "source": [
    "-----\n",
    "- 근데 실행 계획을 보면 둘 다 똑같음"
   ]
  },
  {
   "cell_type": "markdown",
   "metadata": {
    "application/vnd.databricks.v1+cell": {
     "inputWidgets": {},
     "nuid": "30821ce3-d03b-4b20-9b37-3892e22890d2",
     "showTitle": false,
     "title": ""
    }
   },
   "source": [
    "#### ex2\n",
    "- max함수는 DataFrame의 특정 컬럼 값을 스캔하면서 이전 최댓값보다 더 큰 값을 찾음\n",
    "- max함수는 필터링을 수행해 단일 row를 결과로 반환하는 트랜스포메이션"
   ]
  },
  {
   "cell_type": "code",
   "execution_count": null,
   "metadata": {
    "application/vnd.databricks.v1+cell": {
     "inputWidgets": {},
     "nuid": "60e7358f-4d63-4b6e-b174-4644f689401a",
     "showTitle": false,
     "title": ""
    }
   },
   "outputs": [
    {
     "data": {
      "text/html": [
       "<style scoped>\n",
       "  .ansiout {\n",
       "    display: block;\n",
       "    unicode-bidi: embed;\n",
       "    white-space: pre-wrap;\n",
       "    word-wrap: break-word;\n",
       "    word-break: break-all;\n",
       "    font-family: \"Source Code Pro\", \"Menlo\", monospace;;\n",
       "    font-size: 13px;\n",
       "    color: #555;\n",
       "    margin-left: 4px;\n",
       "    line-height: 19px;\n",
       "  }\n",
       "</style>\n",
       "<div class=\"ansiout\"><span class=\"ansired\">Out[</span><span class=\"ansired\">10</span><span class=\"ansired\">]: </span>[Row(max(count)=370002)]</div>"
      ]
     },
     "metadata": {
      "application/vnd.databricks.v1+output": {
       "addedWidgets": {},
       "arguments": {},
       "data": "<div class=\"ansiout\"><span class=\"ansired\">Out[</span><span class=\"ansired\">10</span><span class=\"ansired\">]: </span>[Row(max(count)=370002)]</div>",
       "datasetInfos": [],
       "metadata": {},
       "removedWidgets": [],
       "type": "html"
      }
     },
     "output_type": "display_data"
    }
   ],
   "source": [
    "#방법1\n",
    "spark.sql('select max(count) from flight_data_2015').take(1)"
   ]
  },
  {
   "cell_type": "code",
   "execution_count": null,
   "metadata": {
    "application/vnd.databricks.v1+cell": {
     "inputWidgets": {},
     "nuid": "13d2640a-5a49-4802-a953-3bbd9ffaa11a",
     "showTitle": false,
     "title": ""
    }
   },
   "outputs": [
    {
     "data": {
      "text/html": [
       "<style scoped>\n",
       "  .ansiout {\n",
       "    display: block;\n",
       "    unicode-bidi: embed;\n",
       "    white-space: pre-wrap;\n",
       "    word-wrap: break-word;\n",
       "    word-break: break-all;\n",
       "    font-family: \"Source Code Pro\", \"Menlo\", monospace;;\n",
       "    font-size: 13px;\n",
       "    color: #555;\n",
       "    margin-left: 4px;\n",
       "    line-height: 19px;\n",
       "  }\n",
       "</style>\n",
       "<div class=\"ansiout\"><span class=\"ansired\">Out[</span><span class=\"ansired\">11</span><span class=\"ansired\">]: </span>[Row(max(count)=370002)]</div>"
      ]
     },
     "metadata": {
      "application/vnd.databricks.v1+output": {
       "addedWidgets": {},
       "arguments": {},
       "data": "<div class=\"ansiout\"><span class=\"ansired\">Out[</span><span class=\"ansired\">11</span><span class=\"ansired\">]: </span>[Row(max(count)=370002)]</div>",
       "datasetInfos": [],
       "metadata": {},
       "removedWidgets": [],
       "type": "html"
      }
     },
     "output_type": "display_data"
    }
   ],
   "source": [
    "#방법2\n",
    "from pyspark.sql import functions as F\n",
    "flightDate2015.select(F.max('count')).take(1)"
   ]
  },
  {
   "cell_type": "markdown",
   "metadata": {
    "application/vnd.databricks.v1+cell": {
     "inputWidgets": {},
     "nuid": "e3dcbea5-0378-4ea4-a620-57af6ae5add2",
     "showTitle": false,
     "title": ""
    }
   },
   "source": [
    "#### ex3"
   ]
  },
  {
   "cell_type": "code",
   "execution_count": null,
   "metadata": {
    "application/vnd.databricks.v1+cell": {
     "inputWidgets": {},
     "nuid": "0642a4e4-aa51-456d-aeb2-5a4ff7bdd67b",
     "showTitle": false,
     "title": ""
    }
   },
   "outputs": [
    {
     "data": {
      "text/html": [
       "<style scoped>\n",
       "  .ansiout {\n",
       "    display: block;\n",
       "    unicode-bidi: embed;\n",
       "    white-space: pre-wrap;\n",
       "    word-wrap: break-word;\n",
       "    word-break: break-all;\n",
       "    font-family: \"Source Code Pro\", \"Menlo\", monospace;;\n",
       "    font-size: 13px;\n",
       "    color: #555;\n",
       "    margin-left: 4px;\n",
       "    line-height: 19px;\n",
       "  }\n",
       "</style>\n",
       "<div class=\"ansiout\"></div>"
      ]
     },
     "metadata": {
      "application/vnd.databricks.v1+output": {
       "addedWidgets": {},
       "arguments": {},
       "data": "<div class=\"ansiout\"></div>",
       "datasetInfos": [
        {
         "name": "maxSql",
         "schema": {
          "fields": [
           {
            "metadata": {},
            "name": "dest_country_name",
            "nullable": true,
            "type": "string"
           },
           {
            "metadata": {},
            "name": "destination_total",
            "nullable": true,
            "type": "long"
           }
          ],
          "type": "struct"
         },
         "tableIdentifier": null,
         "typeStr": "pyspark.sql.dataframe.DataFrame"
        }
       ],
       "metadata": {},
       "removedWidgets": [],
       "type": "html"
      }
     },
     "output_type": "display_data"
    }
   ],
   "source": [
    "maxSql = spark.sql('''\n",
    "                   select dest_country_name, sum(count) as destination_total\n",
    "                   from flight_data_2015\n",
    "                   group by dest_country_name\n",
    "                   order by sum(count) desc\n",
    "                   limit 5\n",
    "                   ''')"
   ]
  },
  {
   "cell_type": "code",
   "execution_count": null,
   "metadata": {
    "application/vnd.databricks.v1+cell": {
     "inputWidgets": {},
     "nuid": "5f36b2dc-1753-40ee-aa1b-6771d54d8c6f",
     "showTitle": false,
     "title": ""
    }
   },
   "outputs": [
    {
     "data": {
      "text/html": [
       "<style scoped>\n",
       "  .ansiout {\n",
       "    display: block;\n",
       "    unicode-bidi: embed;\n",
       "    white-space: pre-wrap;\n",
       "    word-wrap: break-word;\n",
       "    word-break: break-all;\n",
       "    font-family: \"Source Code Pro\", \"Menlo\", monospace;;\n",
       "    font-size: 13px;\n",
       "    color: #555;\n",
       "    margin-left: 4px;\n",
       "    line-height: 19px;\n",
       "  }\n",
       "</style>\n",
       "<div class=\"ansiout\">+-----------------+-----------------+\n",
       "dest_country_name|destination_total|\n",
       "+-----------------+-----------------+\n",
       "    United States|           411352|\n",
       "           Canada|             8399|\n",
       "           Mexico|             7140|\n",
       "   United Kingdom|             2025|\n",
       "            Japan|             1548|\n",
       "+-----------------+-----------------+\n",
       "\n",
       "</div>"
      ]
     },
     "metadata": {
      "application/vnd.databricks.v1+output": {
       "addedWidgets": {},
       "arguments": {},
       "data": "<div class=\"ansiout\">+-----------------+-----------------+\n|dest_country_name|destination_total|\n+-----------------+-----------------+\n|    United States|           411352|\n|           Canada|             8399|\n|           Mexico|             7140|\n|   United Kingdom|             2025|\n|            Japan|             1548|\n+-----------------+-----------------+\n\n</div>",
       "datasetInfos": [],
       "metadata": {},
       "removedWidgets": [],
       "type": "html"
      }
     },
     "output_type": "display_data"
    }
   ],
   "source": [
    "maxSql.show()"
   ]
  },
  {
   "cell_type": "code",
   "execution_count": null,
   "metadata": {
    "application/vnd.databricks.v1+cell": {
     "inputWidgets": {},
     "nuid": "64c827e2-ff98-4aca-87a3-94233185f9d1",
     "showTitle": false,
     "title": ""
    }
   },
   "outputs": [
    {
     "data": {
      "text/html": [
       "<style scoped>\n",
       "  .ansiout {\n",
       "    display: block;\n",
       "    unicode-bidi: embed;\n",
       "    white-space: pre-wrap;\n",
       "    word-wrap: break-word;\n",
       "    word-break: break-all;\n",
       "    font-family: \"Source Code Pro\", \"Menlo\", monospace;;\n",
       "    font-size: 13px;\n",
       "    color: #555;\n",
       "    margin-left: 4px;\n",
       "    line-height: 19px;\n",
       "  }\n",
       "</style>\n",
       "<div class=\"ansiout\">+-----------------+-----------------+\n",
       "dest_country_name|destination_total|\n",
       "+-----------------+-----------------+\n",
       "    United States|           411352|\n",
       "           Canada|             8399|\n",
       "           Mexico|             7140|\n",
       "   United Kingdom|             2025|\n",
       "            Japan|             1548|\n",
       "+-----------------+-----------------+\n",
       "\n",
       "</div>"
      ]
     },
     "metadata": {
      "application/vnd.databricks.v1+output": {
       "addedWidgets": {},
       "arguments": {},
       "data": "<div class=\"ansiout\">+-----------------+-----------------+\n|dest_country_name|destination_total|\n+-----------------+-----------------+\n|    United States|           411352|\n|           Canada|             8399|\n|           Mexico|             7140|\n|   United Kingdom|             2025|\n|            Japan|             1548|\n+-----------------+-----------------+\n\n</div>",
       "datasetInfos": [],
       "metadata": {},
       "removedWidgets": [],
       "type": "html"
      }
     },
     "output_type": "display_data"
    }
   ],
   "source": [
    "flightDate2015\\\n",
    ".groupBy('dest_country_name')\\\n",
    ".sum('count')\\\n",
    ".withColumnRenamed('sum(count)','destination_total')\\\n",
    ".sort(F.desc('destination_total'))\\\n",
    ".limit(5)\\\n",
    ".show()"
   ]
  },
  {
   "cell_type": "code",
   "execution_count": null,
   "metadata": {
    "application/vnd.databricks.v1+cell": {
     "inputWidgets": {},
     "nuid": "b96cb44e-a839-4184-bd3f-9e5f0452c0d5",
     "showTitle": false,
     "title": ""
    }
   },
   "outputs": [
    {
     "data": {
      "text/html": [
       "<style scoped>\n",
       "  .ansiout {\n",
       "    display: block;\n",
       "    unicode-bidi: embed;\n",
       "    white-space: pre-wrap;\n",
       "    word-wrap: break-word;\n",
       "    word-break: break-all;\n",
       "    font-family: \"Source Code Pro\", \"Menlo\", monospace;;\n",
       "    font-size: 13px;\n",
       "    color: #555;\n",
       "    margin-left: 4px;\n",
       "    line-height: 19px;\n",
       "  }\n",
       "</style>\n",
       "<div class=\"ansiout\">== Physical Plan ==\n",
       "TakeOrderedAndProject(limit=5, orderBy=[destination_total#126L DESC NULLS LAST], output=[dest_country_name#26,destination_total#126L])\n",
       "+- *(2) HashAggregate(keys=[dest_country_name#26], functions=[finalmerge_sum(merge sum#130L) AS sum(cast(count#28 as bigint))#122L])\n",
       "   +- Exchange hashpartitioning(dest_country_name#26, 5)\n",
       "      +- *(1) HashAggregate(keys=[dest_country_name#26], functions=[partial_sum(cast(count#28 as bigint)) AS sum#130L])\n",
       "         +- *(1) FileScan csv [DEST_COUNTRY_NAME#26,count#28] Batched: false, DataFilters: [], Format: CSV, Location: InMemoryFileIndex[dbfs:/FileStore/tables/flight-data/csv/2015_summary.csv], PartitionFilters: [], PushedFilters: [], ReadSchema: struct&lt;DEST_COUNTRY_NAME:string,count:int&gt;\n",
       "</div>"
      ]
     },
     "metadata": {
      "application/vnd.databricks.v1+output": {
       "addedWidgets": {},
       "arguments": {},
       "data": "<div class=\"ansiout\">== Physical Plan ==\nTakeOrderedAndProject(limit=5, orderBy=[destination_total#126L DESC NULLS LAST], output=[dest_country_name#26,destination_total#126L])\n+- *(2) HashAggregate(keys=[dest_country_name#26], functions=[finalmerge_sum(merge sum#130L) AS sum(cast(count#28 as bigint))#122L])\n   +- Exchange hashpartitioning(dest_country_name#26, 5)\n      +- *(1) HashAggregate(keys=[dest_country_name#26], functions=[partial_sum(cast(count#28 as bigint)) AS sum#130L])\n         +- *(1) FileScan csv [DEST_COUNTRY_NAME#26,count#28] Batched: false, DataFilters: [], Format: CSV, Location: InMemoryFileIndex[dbfs:/FileStore/tables/flight-data/csv/2015_summary.csv], PartitionFilters: [], PushedFilters: [], ReadSchema: struct&lt;DEST_COUNTRY_NAME:string,count:int&gt;\n</div>",
       "datasetInfos": [],
       "metadata": {},
       "removedWidgets": [],
       "type": "html"
      }
     },
     "output_type": "display_data"
    }
   ],
   "source": [
    "flightDate2015\\\n",
    ".groupBy('dest_country_name')\\\n",
    ".sum('count')\\\n",
    ".withColumnRenamed('sum(count)','destination_total')\\\n",
    ".sort(F.desc('destination_total'))\\\n",
    ".limit(5)\\\n",
    ".explain()"
   ]
  },
  {
   "cell_type": "markdown",
   "metadata": {
    "application/vnd.databricks.v1+cell": {
     "inputWidgets": {},
     "nuid": "8afdb8c6-48fd-4943-badb-94685d1ec8c1",
     "showTitle": false,
     "title": ""
    }
   },
   "source": [
    "--------\n",
    "- 총 7단계가 있음\n",
    "  - read\n",
    "  - groupby\n",
    "  - sum\n",
    "  - columnrename\n",
    "  - sort\n",
    "  - limit\n",
    "  - collect\n",
    "- 위 단계의 순서는 최적화로 인해 다를 수 있음\n",
    "- 그리고 각 단계는 불변성을 가진 신규 DataFrame을 생성함"
   ]
  }
 ],
 "metadata": {
  "application/vnd.databricks.v1+notebook": {
   "dashboards": [],
   "language": "python",
   "notebookMetadata": {
    "pythonIndentUnit": 2
   },
   "notebookName": "Chapter2_exercise",
   "notebookOrigID": 1835578227276583,
   "widgets": {}
  },
  "kernelspec": {
   "display_name": "Python 3 (ipykernel)",
   "language": "python",
   "name": "python3"
  },
  "language_info": {
   "codemirror_mode": {
    "name": "ipython",
    "version": 3
   },
   "file_extension": ".py",
   "mimetype": "text/x-python",
   "name": "python",
   "nbconvert_exporter": "python",
   "pygments_lexer": "ipython3",
   "version": "3.11.6"
  }
 },
 "nbformat": 4,
 "nbformat_minor": 4
}
