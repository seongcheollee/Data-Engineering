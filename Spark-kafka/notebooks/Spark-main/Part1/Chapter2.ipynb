{
 "cells": [
  {
   "cell_type": "markdown",
   "metadata": {
    "application/vnd.databricks.v1+cell": {
     "inputWidgets": {},
     "nuid": "fa59056d-7563-4e99-9bbc-ca800a5fc42f",
     "showTitle": false,
     "title": ""
    }
   },
   "source": [
    "# 스파크 간단히 살펴보기"
   ]
  },
  {
   "cell_type": "markdown",
   "metadata": {
    "application/vnd.databricks.v1+cell": {
     "inputWidgets": {},
     "nuid": "90619ff7-f5eb-499f-be18-3a9e7a8990dc",
     "showTitle": false,
     "title": ""
    }
   },
   "source": [
    "## 스파크의 기본 아키텍처\n",
    "- 보통 한 대의 컴퓨터는 대규모 정보를 연산할 만한 자원이나 성능을 가지지 못함\n",
    "  - 연산을 할 수 있다고 해도 완료하는데 너무 많은 시간이 걸림\n",
    "\n",
    "- 컴퓨터 클러스터는 <strong>여러 컴퓨터의 자원을 모아 하나의 컴퓨터처럼 사용</strong>할 수 있게 만듦\n",
    "\n",
    "- 이 <strong>클러스터에서 작업을 조율</strong>할 수 있는 프레임워크가 필요 <strong>-> 스파크</strong>가 그런 역할을 하는 프레임워크\n",
    "\n",
    "- 스파크가 연산에 사용할 클러스터는 <strong>클러스터 매니저</strong>에서 관리함\n",
    "  - Standalone\n",
    "  - 하둡 YARN\n",
    "  - Mesos\n",
    "\n",
    "- 작업 처리 과정\n",
    "  1. 사용자는 클러스터 매니저에 스파크 애플리케이션을 제출(submit)함\n",
    "  2. 이를 제출받은 클러스터 매니저는 애플리케이션 실행에 필요한 자원을 할당\n",
    "  3. 할당받은 자원으로 작업 처리\n",
    "  \n",
    "<img src=\"https://t1.daumcdn.net/cfile/tistory/991779375DEA85D00B\"/>"
   ]
  },
  {
   "cell_type": "markdown",
   "metadata": {
    "application/vnd.databricks.v1+cell": {
     "inputWidgets": {},
     "nuid": "128be9f7-356f-4206-93f7-bdab3734c4fd",
     "showTitle": false,
     "title": ""
    }
   },
   "source": [
    "## 스파크 애플리케이션\n",
    "\n",
    "<img src=\"https://t1.daumcdn.net/cfile/tistory/99916B495DEA927C01\"/>\n",
    "\n",
    "- 스파크 애플리케이션은 <strong>드라이버 프로세스</strong>와 다수의 <strong>익스큐터 프로세스</strong>로 구성\n",
    "  - 드라이버 프로세스는 클러스터 노드 중 하나에서 실행되며, main()함수 실행\n",
    "    - 스파크 언어 API를 통해 다양한 언어로 실행 가능\n",
    "  - 익스큐터 프로세스는 스파크 코드를 실행\n",
    "\n",
    "- 드라이버 프로세스의 역할\n",
    "  - 스파크 애플리케이션의 심장 같은 존재로, 애플리케이션 수명 주기 동안 관련 정보를 모두 유지함\n",
    "  - 사용자 프로그램이나 입력에 대한 응답\n",
    "  - 전반적인 익스큐터 프로세스의 작업과 관련된 분석, 배포, 스케줄링\n",
    "  \n",
    "- 익스큐터 드라이버의 역할\n",
    "  - 드라이버 프로세스가 할당한 작업을 수행\n",
    "    - 즉, 할당한 코드를 실행하고, \n",
    "    - 진행 상황을 다시 드라이버 노드에 보고"
   ]
  },
  {
   "cell_type": "markdown",
   "metadata": {
    "application/vnd.databricks.v1+cell": {
     "inputWidgets": {},
     "nuid": "3bbfa8e5-afc4-433d-81c6-e93c92db1795",
     "showTitle": false,
     "title": ""
    }
   },
   "source": [
    "## 스파크의 다양한 언어 API\n",
    "- 스파크의 언어 API를 이용하면 다양한 프로그래밍 언어로 스파크 코드를 실행할 수 있다.\n",
    "  - 스파크는 스칼라로 개발\n",
    "  - 스파크 언어 API를 통해 클러스터 머신에서 실행되는 스파크 코드로 변환\n",
    "  \n",
    "- 스파크는 사용자를 대신해 <strong>파이썬이나 R로 작성한 코드를 익스큐터의 JVM에서 실행할 수 있는 코드로 변환함</strong>"
   ]
  },
  {
   "cell_type": "markdown",
   "metadata": {
    "application/vnd.databricks.v1+cell": {
     "inputWidgets": {},
     "nuid": "3ad13a50-cbf6-4b05-ab17-fcd78a4d62ed",
     "showTitle": false,
     "title": ""
    }
   },
   "source": [
    "## SparkSession\n",
    "- 스파크 애플리케이션은 <strong>SparkSession이라 불리는 드라이버 프로세스로 제어</strong>한다.\n",
    "- SparkSession 인스턴스는 사용자가 정의한 처리 명령을 클러스터에서 실행한다.\n",
    "- 하나의 SparkSession은 하나의 스파크 애플리케이션에 대응한다."
   ]
  },
  {
   "cell_type": "code",
   "execution_count": 1,
   "metadata": {
    "application/vnd.databricks.v1+cell": {
     "inputWidgets": {},
     "nuid": "1087fc67-cc70-494e-ac0d-173c1dd541dd",
     "showTitle": false,
     "title": ""
    }
   },
   "outputs": [
    {
     "ename": "NameError",
     "evalue": "name 'spark' is not defined",
     "output_type": "error",
     "traceback": [
      "\u001b[0;31m---------------------------------------------------------------------------\u001b[0m",
      "\u001b[0;31mNameError\u001b[0m                                 Traceback (most recent call last)",
      "Cell \u001b[0;32mIn[1], line 2\u001b[0m\n\u001b[1;32m      1\u001b[0m \u001b[38;5;66;03m#spark 변수로 SparkSession 사용 가능\u001b[39;00m\n\u001b[0;32m----> 2\u001b[0m \u001b[43mspark\u001b[49m\n",
      "\u001b[0;31mNameError\u001b[0m: name 'spark' is not defined"
     ]
    }
   ],
   "source": [
    "#spark 변수로 SparkSession 사용 가능\n",
    "spark"
   ]
  },
  {
   "cell_type": "code",
   "execution_count": null,
   "metadata": {
    "application/vnd.databricks.v1+cell": {
     "inputWidgets": {},
     "nuid": "7a90826b-0db4-4cd4-a5fe-166d1a0fb206",
     "showTitle": false,
     "title": ""
    }
   },
   "outputs": [
    {
     "data": {
      "text/html": [
       "<style scoped>\n",
       "  .ansiout {\n",
       "    display: block;\n",
       "    unicode-bidi: embed;\n",
       "    white-space: pre-wrap;\n",
       "    word-wrap: break-word;\n",
       "    word-break: break-all;\n",
       "    font-family: \"Source Code Pro\", \"Menlo\", monospace;;\n",
       "    font-size: 13px;\n",
       "    color: #555;\n",
       "    margin-left: 4px;\n",
       "    line-height: 19px;\n",
       "  }\n",
       "</style>\n",
       "<div class=\"ansiout\"></div>"
      ]
     },
     "metadata": {
      "application/vnd.databricks.v1+output": {
       "addedWidgets": {},
       "arguments": {},
       "data": "<div class=\"ansiout\"></div>",
       "datasetInfos": [
        {
         "name": "myRange",
         "schema": {
          "fields": [
           {
            "metadata": {},
            "name": "number",
            "nullable": false,
            "type": "long"
           }
          ],
          "type": "struct"
         },
         "tableIdentifier": null,
         "typeStr": "pyspark.sql.dataframe.DataFrame"
        }
       ],
       "metadata": {},
       "removedWidgets": [],
       "type": "html"
      }
     },
     "output_type": "display_data"
    }
   ],
   "source": [
    "myRange = spark.range(1000).toDF('number')"
   ]
  },
  {
   "cell_type": "code",
   "execution_count": 2,
   "metadata": {
    "application/vnd.databricks.v1+cell": {
     "inputWidgets": {},
     "nuid": "f2346f86-c1e0-47b3-ba26-17f2c9937327",
     "showTitle": false,
     "title": ""
    }
   },
   "outputs": [
    {
     "ename": "NameError",
     "evalue": "name 'myRange' is not defined",
     "output_type": "error",
     "traceback": [
      "\u001b[0;31m---------------------------------------------------------------------------\u001b[0m",
      "\u001b[0;31mNameError\u001b[0m                                 Traceback (most recent call last)",
      "Cell \u001b[0;32mIn[2], line 1\u001b[0m\n\u001b[0;32m----> 1\u001b[0m display(\u001b[43mmyRange\u001b[49m\u001b[38;5;241m.\u001b[39mlimit(\u001b[38;5;241m10\u001b[39m))\n",
      "\u001b[0;31mNameError\u001b[0m: name 'myRange' is not defined"
     ]
    }
   ],
   "source": [
    "display(myRange.limit(10))"
   ]
  },
  {
   "cell_type": "markdown",
   "metadata": {
    "application/vnd.databricks.v1+cell": {
     "inputWidgets": {},
     "nuid": "8f34935a-e2ee-4e28-a56d-fb265868c749",
     "showTitle": false,
     "title": ""
    }
   },
   "source": [
    "----------\n",
    "- 위에서 생성한 DataFrame은 한 개의 column과 1000개의 row로 구성\n",
    "  - 할당된 숫자들(0~999)은 <strong>분산 컬렉션(RDD)</strong>을 나타냄\n",
    "  - 숫자 범위의 각 부분이 <strong>서로 다른 익스큐터에 할당됨</strong>"
   ]
  },
  {
   "cell_type": "markdown",
   "metadata": {
    "application/vnd.databricks.v1+cell": {
     "inputWidgets": {},
     "nuid": "584d1617-1e72-4520-8f46-0f1e883e4cf0",
     "showTitle": false,
     "title": ""
    }
   },
   "source": [
    "## DataFrame\n",
    "\n",
    "- 가장 대표적인 구조적 API\n",
    "- 테이블의 데이터를 <strong>row와 column</strong>으로 단순하게 표현\n",
    "- <strong>스키마</strong>: column과 column의 타입을 정의한 목록\n",
    "- <strong>수천 대의 컴퓨터에 분산되어 있음</strong>\n",
    "  - 단일 컴퓨터에 저장하기엔 데이터가 너무 크거나 계산이 너무 오래 걸릴 수 있기에\n",
    "  \n",
    "  \n",
    "*스파크는 Dataset, DataFrame, SQL 테이블, RDD라는 몇 가지 핵심 추상화 개념을 갖고 잇음-> 모두 분산 데이터 모음을 표현함"
   ]
  },
  {
   "cell_type": "markdown",
   "metadata": {
    "application/vnd.databricks.v1+cell": {
     "inputWidgets": {},
     "nuid": "4e9ba877-4844-49ba-b4d6-74e9f4bbd3a3",
     "showTitle": false,
     "title": ""
    }
   },
   "source": [
    "### 파티션\n",
    "- 스파크는 <strong>모든 익스큐터가 병렬로 작업을 수행</strong>할 수 있도록 파티션이라 불리는 청크 단위로 <strong>데이터를 분할</strong>함\n",
    "- <strong>파티션: 클러스터의 물리적 머신에 존재하는 로우의 집합</strong>\n",
    "  - 만약 파티션이 하나라면 스파크에 수천 개의 익스큐터가 있더라도 병렬성은 1\n",
    "  - 그리고 수백 개의 파티션이 있더라도 익스큐터가 하나라면 병렬성은 1\n",
    "- DataFrame의 파티션은 실행 중에 데이터가 컴퓨터 클러스터에서 물리적으로 분산되는 방식\n",
    "- DataFrame을 사용하면 파티션을 수동 혹은 개별적으로 처리할 필요가 없다.\n",
    "  - 물리적 파티션에 데이터 변환용 함수를 지정하면 스파크가 실제 처리 방법을 결정한다."
   ]
  },
  {
   "cell_type": "markdown",
   "metadata": {
    "application/vnd.databricks.v1+cell": {
     "inputWidgets": {},
     "nuid": "cf0ae792-7d6c-4ad2-99fa-3c14cc513c99",
     "showTitle": false,
     "title": ""
    }
   },
   "source": [
    "##  트렌스포메이션\n",
    "- 스파크의 핵심 데이터 구조는 <strong>불변성(immutable)</strong>을 가짐\n",
    "- 데이터 구조를 변경하려면 <strong>변경 방법을 스파크에게 알려줘야함</strong>\n",
    "- 이때 사용하는 <strong>명령을 트랜스포메이션</strong>이라함"
   ]
  },
  {
   "cell_type": "code",
   "execution_count": null,
   "metadata": {
    "application/vnd.databricks.v1+cell": {
     "inputWidgets": {},
     "nuid": "bae85682-61e0-4a43-857b-6682b50ffb6b",
     "showTitle": false,
     "title": ""
    }
   },
   "outputs": [
    {
     "data": {
      "text/html": [
       "<style scoped>\n",
       "  .ansiout {\n",
       "    display: block;\n",
       "    unicode-bidi: embed;\n",
       "    white-space: pre-wrap;\n",
       "    word-wrap: break-word;\n",
       "    word-break: break-all;\n",
       "    font-family: \"Source Code Pro\", \"Menlo\", monospace;;\n",
       "    font-size: 13px;\n",
       "    color: #555;\n",
       "    margin-left: 4px;\n",
       "    line-height: 19px;\n",
       "  }\n",
       "</style>\n",
       "<div class=\"ansiout\"></div>"
      ]
     },
     "metadata": {
      "application/vnd.databricks.v1+output": {
       "addedWidgets": {},
       "arguments": {},
       "data": "<div class=\"ansiout\"></div>",
       "datasetInfos": [
        {
         "name": "tmp",
         "schema": {
          "fields": [
           {
            "metadata": {},
            "name": "number",
            "nullable": false,
            "type": "long"
           }
          ],
          "type": "struct"
         },
         "tableIdentifier": null,
         "typeStr": "pyspark.sql.dataframe.DataFrame"
        }
       ],
       "metadata": {},
       "removedWidgets": [],
       "type": "html"
      }
     },
     "output_type": "display_data"
    }
   ],
   "source": [
    "#짝수를 찾는 간단한 트랜스포메이션 예제\n",
    "tmp = myRange.where('number>0 and number%2=0')"
   ]
  },
  {
   "cell_type": "markdown",
   "metadata": {
    "application/vnd.databricks.v1+cell": {
     "inputWidgets": {},
     "nuid": "3b28d57b-84aa-4245-98fb-39b9db77204e",
     "showTitle": false,
     "title": ""
    }
   },
   "source": [
    "-----\n",
    "- 위 코드를 실행해도 결과는 출력되지 않음\n",
    "- <strong>추상적인 트랜스포메이션만 지정한 상태</strong>이기 때문에 <strong>액션</strong>을 호출하지 않으면 스파크는 <strong>실제 트랜스포메이션</strong>을 수행하지 않음\n",
    "- 트랜스포메이션에는 두 가지 유형이 있음\n",
    "  - 좁은 의존성(narrow dependency)\n",
    "  - 넓은 의존성(wide dependency)"
   ]
  },
  {
   "cell_type": "markdown",
   "metadata": {
    "application/vnd.databricks.v1+cell": {
     "inputWidgets": {},
     "nuid": "9bdba9cd-b330-4aa3-af08-cef64a955059",
     "showTitle": false,
     "title": ""
    }
   },
   "source": [
    "### 좁은 의존성\n",
    "\n",
    "<img src=\"https://www.programmersought.com/images/12/f59d1f9135f1df04d7d7a2005637add4.png\"/>"
   ]
  },
  {
   "cell_type": "markdown",
   "metadata": {
    "application/vnd.databricks.v1+cell": {
     "inputWidgets": {},
     "nuid": "e06d3b4e-f5f8-44f0-b5d4-90cd9a370086",
     "showTitle": false,
     "title": ""
    }
   },
   "source": [
    "- <strong>각 입력 파티션이 하나의 출력 파티션</strong>에만 영향을 미치는 것\n",
    "- 위 예제에서 where 구문은 좁은 의존성을 가짐\n",
    "- 파이프라이닝을 자동으로 수행함\n",
    "  - 모든 작업이 메모리에서 일어남"
   ]
  },
  {
   "cell_type": "markdown",
   "metadata": {
    "application/vnd.databricks.v1+cell": {
     "inputWidgets": {},
     "nuid": "f60863a3-7668-4a94-b738-e42ceff24639",
     "showTitle": false,
     "title": ""
    }
   },
   "source": [
    "### 넓은 의존성\n",
    "<img src=\"https://www.programmersought.com/images/972/ac3487a04dc258a5a6aaf4e5fe62a8dc.png\"/>"
   ]
  },
  {
   "cell_type": "markdown",
   "metadata": {
    "application/vnd.databricks.v1+cell": {
     "inputWidgets": {},
     "nuid": "72c75b26-9671-4dbb-b959-6c0cf7dac7f2",
     "showTitle": false,
     "title": ""
    }
   },
   "source": [
    "- <strong>하나의 입력 파티션이 여러 출력 파티션</strong>에 영향을 미침\n",
    "- 스파크가 클러스터에서 파티션을 교환하는 <strong>셔플</strong>이 수행됨\n",
    "  - 셔플의 결과를 디스크에 저장함"
   ]
  },
  {
   "cell_type": "markdown",
   "metadata": {
    "application/vnd.databricks.v1+cell": {
     "inputWidgets": {},
     "nuid": "8daa163c-bf80-4dc4-8bd0-99b52b4d5de8",
     "showTitle": false,
     "title": ""
    }
   },
   "source": [
    "## 지연 연산\n",
    "- <strong>스파크가 연산 그래프를 처리하기 직전까지 기다리는 동작 방식</strong>\n",
    "  - 스파크는 연산 명령이 내려진 즉시 데이터를 수정하지 않음\n",
    "  - 원시 데이터에 적용할 트랜스포메이션의 <strong>논리적 실행 계획</strong>을 생성함\n",
    "  - 코드를 실행하는 마지막 순간까지 대기하다가 트랜스포메이션을 간결한 <strong>물리적 실행 계획</strong>으로 컴파일함\n",
    "- 이를 통해 전체 데이터 흐름을 <strong>최적화</strong>할 수 있는 것임"
   ]
  },
  {
   "cell_type": "markdown",
   "metadata": {
    "application/vnd.databricks.v1+cell": {
     "inputWidgets": {},
     "nuid": "d3bb2e45-fc0b-4c49-b986-b566b40e2f88",
     "showTitle": false,
     "title": ""
    }
   },
   "source": [
    "## 액션\n",
    "- <strong>실제 연산을 수행</strong>하기위해 액션 명령을 내림\n",
    "- 액션은 일련의 트랜스포메이션으로부터 결과를 계산하도록 지시하는 것\n",
    "- 액션의 세 가지 유형\n",
    "  - 콘솔에서 데이터를 <strong>보는</strong> 액션\n",
    "  - 각 언어로 된 네이티브 객체에 데이터를 <strong>모으는</strong> 액션\n",
    "  - 출력 데이터소스에 <strong>저장</strong>하는 액션"
   ]
  },
  {
   "cell_type": "code",
   "execution_count": null,
   "metadata": {
    "application/vnd.databricks.v1+cell": {
     "inputWidgets": {},
     "nuid": "5aa240b6-6dbf-4049-b119-1a953b3a54d6",
     "showTitle": false,
     "title": ""
    }
   },
   "outputs": [
    {
     "data": {
      "text/html": [
       "<style scoped>\n",
       "  .ansiout {\n",
       "    display: block;\n",
       "    unicode-bidi: embed;\n",
       "    white-space: pre-wrap;\n",
       "    word-wrap: break-word;\n",
       "    word-break: break-all;\n",
       "    font-family: \"Source Code Pro\", \"Menlo\", monospace;;\n",
       "    font-size: 13px;\n",
       "    color: #555;\n",
       "    margin-left: 4px;\n",
       "    line-height: 19px;\n",
       "  }\n",
       "</style>\n",
       "<div class=\"ansiout\"><span class=\"ansired\">Out[</span><span class=\"ansired\">10</span><span class=\"ansired\">]: </span>499</div>"
      ]
     },
     "metadata": {
      "application/vnd.databricks.v1+output": {
       "addedWidgets": {},
       "arguments": {},
       "data": "<div class=\"ansiout\"><span class=\"ansired\">Out[</span><span class=\"ansired\">10</span><span class=\"ansired\">]: </span>499</div>",
       "datasetInfos": [],
       "metadata": {},
       "removedWidgets": [],
       "type": "html"
      }
     },
     "output_type": "display_data"
    }
   ],
   "source": [
    "#가장 단순한 액션인 count메서드 -> dataframe의 전체 레코드 수를 반환함\n",
    "tmp.count()"
   ]
  },
  {
   "cell_type": "markdown",
   "metadata": {
    "application/vnd.databricks.v1+cell": {
     "inputWidgets": {},
     "nuid": "7cc1d30f-3acf-4425-8421-260464fd9cfe",
     "showTitle": false,
     "title": ""
    }
   },
   "source": [
    "-----\n",
    "- 위처럼 액션을 지정하면 스파크 job이 시작됨\n",
    "- 스파크가 제공하는 스파크 UI로 클러스터에서 실행 중인 스파크 job 모니터링 가능"
   ]
  },
  {
   "cell_type": "markdown",
   "metadata": {
    "application/vnd.databricks.v1+cell": {
     "inputWidgets": {},
     "nuid": "6164a3fe-8d82-495f-b8d8-2f27de913be3",
     "showTitle": false,
     "title": ""
    }
   },
   "source": [
    "## 스파크 UI\n",
    "- 스파크 job의 진행 상황을 모니터링할 때 사용\n",
    "  - 스파크 UI는 드라이버 노드의 4040 포트로 접속 가능\n",
    "  - 로컬: http://localhost:4040\n",
    "- 확인 정보\n",
    "  - 스파크 job 상태\n",
    "  - 환경 설정\n",
    "  - 클러스터 상태\n",
    "  - etc.\n",
    "- 핵심 요약(디테일한 내용은 나중에)\n",
    "  - <strong>스파크 job은 개별 액션에 의해 트리거되는 다수의 트랜스포메이션</strong>으로 이루어져 있으며,\n",
    "  - <strong>스파크 UI로 job을 모니터링</strong>할 수 있다."
   ]
  }
 ],
 "metadata": {
  "application/vnd.databricks.v1+notebook": {
   "dashboards": [],
   "language": "python",
   "notebookMetadata": {
    "pythonIndentUnit": 2
   },
   "notebookName": "Chapter2",
   "notebookOrigID": 4377204471961398,
   "widgets": {}
  },
  "kernelspec": {
   "display_name": "Python 3 (ipykernel)",
   "language": "python",
   "name": "python3"
  },
  "language_info": {
   "codemirror_mode": {
    "name": "ipython",
    "version": 3
   },
   "file_extension": ".py",
   "mimetype": "text/x-python",
   "name": "python",
   "nbconvert_exporter": "python",
   "pygments_lexer": "ipython3",
   "version": "3.11.6"
  }
 },
 "nbformat": 4,
 "nbformat_minor": 4
}
