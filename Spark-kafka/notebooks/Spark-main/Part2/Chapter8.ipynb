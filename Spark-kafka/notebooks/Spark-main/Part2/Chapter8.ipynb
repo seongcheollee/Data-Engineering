{
 "cells": [
  {
   "cell_type": "markdown",
   "metadata": {
    "application/vnd.databricks.v1+cell": {
     "inputWidgets": {},
     "nuid": "033758ce-876a-451d-8b57-b6b96748f7fe",
     "showTitle": false,
     "title": ""
    }
   },
   "source": [
    "# 조인"
   ]
  },
  {
   "cell_type": "code",
   "execution_count": null,
   "metadata": {
    "application/vnd.databricks.v1+cell": {
     "inputWidgets": {},
     "nuid": "ce63cd01-e006-41a4-b1f0-8c1e17e83a8c",
     "showTitle": false,
     "title": ""
    }
   },
   "outputs": [
    {
     "data": {
      "text/html": [
       "<style scoped>\n",
       "  .ansiout {\n",
       "    display: block;\n",
       "    unicode-bidi: embed;\n",
       "    white-space: pre-wrap;\n",
       "    word-wrap: break-word;\n",
       "    word-break: break-all;\n",
       "    font-family: \"Source Code Pro\", \"Menlo\", monospace;;\n",
       "    font-size: 13px;\n",
       "    color: #555;\n",
       "    margin-left: 4px;\n",
       "    line-height: 19px;\n",
       "  }\n",
       "</style>\n",
       "<div class=\"ansiout\"></div>"
      ]
     },
     "metadata": {
      "application/vnd.databricks.v1+output": {
       "addedWidgets": {},
       "arguments": {},
       "data": "<div class=\"ansiout\"></div>",
       "datasetInfos": [],
       "metadata": {},
       "removedWidgets": [],
       "type": "html"
      }
     },
     "output_type": "display_data"
    }
   ],
   "source": [
    "#일단 데이터셋 생성\n",
    "person = spark.createDataFrame([\n",
    "    (0, \"Bill Chambers\", 0, [100]),\n",
    "    (1, \"Matei Zaharia\", 1, [500, 250, 100]),\n",
    "    (2, \"Michael Armbrust\", 1, [250, 100])])\\\n",
    "  .toDF(\"id\", \"name\", \"graduate_program\", \"spark_status\")\n",
    "graduateProgram = spark.createDataFrame([\n",
    "    (0, \"Masters\", \"School of Information\", \"UC Berkeley\"),\n",
    "    (2, \"Masters\", \"EECS\", \"UC Berkeley\"),\n",
    "    (1, \"Ph.D.\", \"EECS\", \"UC Berkeley\")])\\\n",
    "  .toDF(\"id\", \"degree\", \"department\", \"school\")\n",
    "sparkStatus = spark.createDataFrame([\n",
    "    (500, \"Vice President\"),\n",
    "    (250, \"PMC Member\"),\n",
    "    (100, \"Contributor\")])\\\n",
    "  .toDF(\"id\", \"status\")"
   ]
  },
  {
   "cell_type": "markdown",
   "metadata": {
    "application/vnd.databricks.v1+cell": {
     "inputWidgets": {},
     "nuid": "39e016bf-3a42-4161-ae38-b203b90052bc",
     "showTitle": false,
     "title": ""
    }
   },
   "source": [
    "## 조인 표현식\n",
    "- 왼쪽과 오른쪽 데이터셋에 있는 하나 이상의 <strong>키값</strong>을 비교하고 왼쪽 데이터셋과 오른쪽 데이터셋의 <strong>결합 여부</strong> 결정"
   ]
  },
  {
   "cell_type": "markdown",
   "metadata": {
    "application/vnd.databricks.v1+cell": {
     "inputWidgets": {},
     "nuid": "4776bf2a-38bb-4cbe-988e-aa361d91c1a7",
     "showTitle": false,
     "title": ""
    }
   },
   "source": [
    "## 조인 타입\n",
    "- <strong>결과 데이터셋에 어떤 데이터</strong>가 있어야 하는지 결정\n",
    "- 종류\n",
    "  - 내부 조인\n",
    "  - 외부 조인\n",
    "  - 왼쪽 외부 조인\n",
    "  - 오른쪽 외부 조인\n",
    "  - 왼쪽 세미 조인\n",
    "  - 왼쪽 안티 조인\n",
    "  - 자연 조인\n",
    "  - 교차 조인"
   ]
  },
  {
   "cell_type": "markdown",
   "metadata": {
    "application/vnd.databricks.v1+cell": {
     "inputWidgets": {},
     "nuid": "e8c52d46-b858-45da-b9b1-47f91b6c21a5",
     "showTitle": false,
     "title": ""
    }
   },
   "source": [
    "### 내부 조인\n",
    "- 참으로 평가되는 로우만 결합"
   ]
  },
  {
   "cell_type": "code",
   "execution_count": null,
   "metadata": {
    "application/vnd.databricks.v1+cell": {
     "inputWidgets": {},
     "nuid": "b41a424a-fadc-4d30-a26b-6288a67c63e2",
     "showTitle": false,
     "title": ""
    }
   },
   "outputs": [
    {
     "data": {
      "text/html": [
       "<style scoped>\n",
       "  .ansiout {\n",
       "    display: block;\n",
       "    unicode-bidi: embed;\n",
       "    white-space: pre-wrap;\n",
       "    word-wrap: break-word;\n",
       "    word-break: break-all;\n",
       "    font-family: \"Source Code Pro\", \"Menlo\", monospace;;\n",
       "    font-size: 13px;\n",
       "    color: #555;\n",
       "    margin-left: 4px;\n",
       "    line-height: 19px;\n",
       "  }\n",
       "</style>\n",
       "<div class=\"ansiout\"></div>"
      ]
     },
     "metadata": {
      "application/vnd.databricks.v1+output": {
       "addedWidgets": {},
       "arguments": {},
       "data": "<div class=\"ansiout\"></div>",
       "datasetInfos": [],
       "metadata": {},
       "removedWidgets": [],
       "type": "html"
      }
     },
     "output_type": "display_data"
    }
   ],
   "source": [
    "joinExpression = person[\"graduate_program\"] == graduateProgram['id']\n",
    "wrongJoinExpression = person[\"name\"] == graduateProgram[\"school\"]\n",
    "joinType = \"inner\""
   ]
  },
  {
   "cell_type": "code",
   "execution_count": null,
   "metadata": {
    "application/vnd.databricks.v1+cell": {
     "inputWidgets": {},
     "nuid": "93c93139-e1d4-4711-a243-6059e65fdf9d",
     "showTitle": false,
     "title": ""
    }
   },
   "outputs": [
    {
     "data": {
      "text/html": [
       "<style scoped>\n",
       "  .ansiout {\n",
       "    display: block;\n",
       "    unicode-bidi: embed;\n",
       "    white-space: pre-wrap;\n",
       "    word-wrap: break-word;\n",
       "    word-break: break-all;\n",
       "    font-family: \"Source Code Pro\", \"Menlo\", monospace;;\n",
       "    font-size: 13px;\n",
       "    color: #555;\n",
       "    margin-left: 4px;\n",
       "    line-height: 19px;\n",
       "  }\n",
       "</style>\n",
       "<div class=\"ansiout\">+---+----------------+----------------+---------------+---+-------+--------------------+-----------+\n",
       " id|            name|graduate_program|   spark_status| id| degree|          department|     school|\n",
       "+---+----------------+----------------+---------------+---+-------+--------------------+-----------+\n",
       "  0|   Bill Chambers|               0|          [100]|  0|Masters|School of Informa...|UC Berkeley|\n",
       "  1|   Matei Zaharia|               1|[500, 250, 100]|  1|  Ph.D.|                EECS|UC Berkeley|\n",
       "  2|Michael Armbrust|               1|     [250, 100]|  1|  Ph.D.|                EECS|UC Berkeley|\n",
       "+---+----------------+----------------+---------------+---+-------+--------------------+-----------+\n",
       "\n",
       "</div>"
      ]
     },
     "metadata": {
      "application/vnd.databricks.v1+output": {
       "addedWidgets": {},
       "arguments": {},
       "data": "<div class=\"ansiout\">+---+----------------+----------------+---------------+---+-------+--------------------+-----------+\n| id|            name|graduate_program|   spark_status| id| degree|          department|     school|\n+---+----------------+----------------+---------------+---+-------+--------------------+-----------+\n|  0|   Bill Chambers|               0|          [100]|  0|Masters|School of Informa...|UC Berkeley|\n|  1|   Matei Zaharia|               1|[500, 250, 100]|  1|  Ph.D.|                EECS|UC Berkeley|\n|  2|Michael Armbrust|               1|     [250, 100]|  1|  Ph.D.|                EECS|UC Berkeley|\n+---+----------------+----------------+---------------+---+-------+--------------------+-----------+\n\n</div>",
       "datasetInfos": [],
       "metadata": {},
       "removedWidgets": [],
       "type": "html"
      }
     },
     "output_type": "display_data"
    }
   ],
   "source": [
    "#디폴트 조인타입은 내부조인\n",
    "person.join(graduateProgram, joinExpression, joinType).show()"
   ]
  },
  {
   "cell_type": "code",
   "execution_count": null,
   "metadata": {
    "application/vnd.databricks.v1+cell": {
     "inputWidgets": {},
     "nuid": "806a8680-46fc-4463-824f-f7d0fcc77904",
     "showTitle": false,
     "title": ""
    }
   },
   "outputs": [
    {
     "data": {
      "text/html": [
       "<style scoped>\n",
       "  .ansiout {\n",
       "    display: block;\n",
       "    unicode-bidi: embed;\n",
       "    white-space: pre-wrap;\n",
       "    word-wrap: break-word;\n",
       "    word-break: break-all;\n",
       "    font-family: \"Source Code Pro\", \"Menlo\", monospace;;\n",
       "    font-size: 13px;\n",
       "    color: #555;\n",
       "    margin-left: 4px;\n",
       "    line-height: 19px;\n",
       "  }\n",
       "</style>\n",
       "<div class=\"ansiout\">+---+----+----------------+------------+---+------+----------+------+\n",
       " id|name|graduate_program|spark_status| id|degree|department|school|\n",
       "+---+----+----------------+------------+---+------+----------+------+\n",
       "+---+----+----------------+------------+---+------+----------+------+\n",
       "\n",
       "</div>"
      ]
     },
     "metadata": {
      "application/vnd.databricks.v1+output": {
       "addedWidgets": {},
       "arguments": {},
       "data": "<div class=\"ansiout\">+---+----+----------------+------------+---+------+----------+------+\n| id|name|graduate_program|spark_status| id|degree|department|school|\n+---+----+----------------+------------+---+------+----------+------+\n+---+----+----------------+------------+---+------+----------+------+\n\n</div>",
       "datasetInfos": [],
       "metadata": {},
       "removedWidgets": [],
       "type": "html"
      }
     },
     "output_type": "display_data"
    }
   ],
   "source": [
    "person.join(graduateProgram, wrongJoinExpression, joinType).show()"
   ]
  },
  {
   "cell_type": "markdown",
   "metadata": {
    "application/vnd.databricks.v1+cell": {
     "inputWidgets": {},
     "nuid": "4a424b8c-668d-4786-bfe9-db34c0a1e436",
     "showTitle": false,
     "title": ""
    }
   },
   "source": [
    "----\n",
    "- 데이터프레임 모두에 키가 존재하지 않으면 비어 있는 결과 데이터프레임을 얻게 됨"
   ]
  },
  {
   "cell_type": "markdown",
   "metadata": {
    "application/vnd.databricks.v1+cell": {
     "inputWidgets": {},
     "nuid": "68c936cc-374b-4bec-9351-1b57b6f68099",
     "showTitle": false,
     "title": ""
    }
   },
   "source": [
    "### 외부 조인\n",
    "- 참이나 거짓으로 평가한 로우 포함\n",
    "- 왼쪽이나 오른쪽 데이터프레임에 일치하는 로우가 없으면 해당 위치에 null삽입"
   ]
  },
  {
   "cell_type": "code",
   "execution_count": null,
   "metadata": {
    "application/vnd.databricks.v1+cell": {
     "inputWidgets": {},
     "nuid": "c0db50aa-72a6-4653-8702-72861a2bf8be",
     "showTitle": false,
     "title": ""
    }
   },
   "outputs": [
    {
     "data": {
      "text/html": [
       "<style scoped>\n",
       "  .ansiout {\n",
       "    display: block;\n",
       "    unicode-bidi: embed;\n",
       "    white-space: pre-wrap;\n",
       "    word-wrap: break-word;\n",
       "    word-break: break-all;\n",
       "    font-family: \"Source Code Pro\", \"Menlo\", monospace;;\n",
       "    font-size: 13px;\n",
       "    color: #555;\n",
       "    margin-left: 4px;\n",
       "    line-height: 19px;\n",
       "  }\n",
       "</style>\n",
       "<div class=\"ansiout\">+----+----------------+----------------+---------------+---+-------+--------------------+-----------+\n",
       "  id|            name|graduate_program|   spark_status| id| degree|          department|     school|\n",
       "+----+----------------+----------------+---------------+---+-------+--------------------+-----------+\n",
       "   0|   Bill Chambers|               0|          [100]|  0|Masters|School of Informa...|UC Berkeley|\n",
       "   1|   Matei Zaharia|               1|[500, 250, 100]|  1|  Ph.D.|                EECS|UC Berkeley|\n",
       "   2|Michael Armbrust|               1|     [250, 100]|  1|  Ph.D.|                EECS|UC Berkeley|\n",
       "null|            null|            null|           null|  2|Masters|                EECS|UC Berkeley|\n",
       "+----+----------------+----------------+---------------+---+-------+--------------------+-----------+\n",
       "\n",
       "</div>"
      ]
     },
     "metadata": {
      "application/vnd.databricks.v1+output": {
       "addedWidgets": {},
       "arguments": {},
       "data": "<div class=\"ansiout\">+----+----------------+----------------+---------------+---+-------+--------------------+-----------+\n|  id|            name|graduate_program|   spark_status| id| degree|          department|     school|\n+----+----------------+----------------+---------------+---+-------+--------------------+-----------+\n|   0|   Bill Chambers|               0|          [100]|  0|Masters|School of Informa...|UC Berkeley|\n|   1|   Matei Zaharia|               1|[500, 250, 100]|  1|  Ph.D.|                EECS|UC Berkeley|\n|   2|Michael Armbrust|               1|     [250, 100]|  1|  Ph.D.|                EECS|UC Berkeley|\n|null|            null|            null|           null|  2|Masters|                EECS|UC Berkeley|\n+----+----------------+----------------+---------------+---+-------+--------------------+-----------+\n\n</div>",
       "datasetInfos": [],
       "metadata": {},
       "removedWidgets": [],
       "type": "html"
      }
     },
     "output_type": "display_data"
    }
   ],
   "source": [
    "joinType='outer'\n",
    "person.join(graduateProgram, joinExpression, joinType).show()"
   ]
  },
  {
   "cell_type": "markdown",
   "metadata": {
    "application/vnd.databricks.v1+cell": {
     "inputWidgets": {},
     "nuid": "5c055f58-c297-424e-9836-24c12575f5ef",
     "showTitle": false,
     "title": ""
    }
   },
   "source": [
    "### 왼쪽 외부 조인\n",
    "- 왼쪽 데이터프레임의 모든 로우와 왼쪽 데이터프레임과 일치하는 오른쪽 데이터프레임의 로우를 함께 포함\n",
    "- 오른쪽 데이터프레임에 일치하는 로우가 없다면 해당 위치에 null삽입"
   ]
  },
  {
   "cell_type": "code",
   "execution_count": null,
   "metadata": {
    "application/vnd.databricks.v1+cell": {
     "inputWidgets": {},
     "nuid": "204a6d44-3caa-42ca-834f-826403ac20e7",
     "showTitle": false,
     "title": ""
    }
   },
   "outputs": [
    {
     "data": {
      "text/html": [
       "<style scoped>\n",
       "  .ansiout {\n",
       "    display: block;\n",
       "    unicode-bidi: embed;\n",
       "    white-space: pre-wrap;\n",
       "    word-wrap: break-word;\n",
       "    word-break: break-all;\n",
       "    font-family: \"Source Code Pro\", \"Menlo\", monospace;;\n",
       "    font-size: 13px;\n",
       "    color: #555;\n",
       "    margin-left: 4px;\n",
       "    line-height: 19px;\n",
       "  }\n",
       "</style>\n",
       "<div class=\"ansiout\">+---+-------+--------------------+-----------+----+----------------+----------------+---------------+\n",
       " id| degree|          department|     school|  id|            name|graduate_program|   spark_status|\n",
       "+---+-------+--------------------+-----------+----+----------------+----------------+---------------+\n",
       "  0|Masters|School of Informa...|UC Berkeley|   0|   Bill Chambers|               0|          [100]|\n",
       "  1|  Ph.D.|                EECS|UC Berkeley|   1|   Matei Zaharia|               1|[500, 250, 100]|\n",
       "  1|  Ph.D.|                EECS|UC Berkeley|   2|Michael Armbrust|               1|     [250, 100]|\n",
       "  2|Masters|                EECS|UC Berkeley|null|            null|            null|           null|\n",
       "+---+-------+--------------------+-----------+----+----------------+----------------+---------------+\n",
       "\n",
       "</div>"
      ]
     },
     "metadata": {
      "application/vnd.databricks.v1+output": {
       "addedWidgets": {},
       "arguments": {},
       "data": "<div class=\"ansiout\">+---+-------+--------------------+-----------+----+----------------+----------------+---------------+\n| id| degree|          department|     school|  id|            name|graduate_program|   spark_status|\n+---+-------+--------------------+-----------+----+----------------+----------------+---------------+\n|  0|Masters|School of Informa...|UC Berkeley|   0|   Bill Chambers|               0|          [100]|\n|  1|  Ph.D.|                EECS|UC Berkeley|   1|   Matei Zaharia|               1|[500, 250, 100]|\n|  1|  Ph.D.|                EECS|UC Berkeley|   2|Michael Armbrust|               1|     [250, 100]|\n|  2|Masters|                EECS|UC Berkeley|null|            null|            null|           null|\n+---+-------+--------------------+-----------+----+----------------+----------------+---------------+\n\n</div>",
       "datasetInfos": [],
       "metadata": {},
       "removedWidgets": [],
       "type": "html"
      }
     },
     "output_type": "display_data"
    }
   ],
   "source": [
    "joinType ='left_outer'\n",
    "graduateProgram.join(person, joinExpression, joinType).show()"
   ]
  },
  {
   "cell_type": "markdown",
   "metadata": {
    "application/vnd.databricks.v1+cell": {
     "inputWidgets": {},
     "nuid": "dbf267fd-472c-48a8-a906-22c4e82e301c",
     "showTitle": false,
     "title": ""
    }
   },
   "source": [
    "### 오른쪽 외부 조인\n",
    "- 오른쪽 데이터프레임의 모든 로우와 오른쪽 데이터프레임과 일치하는 왼쪽 데이터프레임의 로우를 함께 포함\n",
    "- 왼쪽 데이터프레임에 일치하는 로우가 없다면 해당 위치에 null삽입"
   ]
  },
  {
   "cell_type": "code",
   "execution_count": null,
   "metadata": {
    "application/vnd.databricks.v1+cell": {
     "inputWidgets": {},
     "nuid": "b400e095-3ad5-4d29-98d2-7228bfd33643",
     "showTitle": false,
     "title": ""
    }
   },
   "outputs": [
    {
     "data": {
      "text/html": [
       "<style scoped>\n",
       "  .ansiout {\n",
       "    display: block;\n",
       "    unicode-bidi: embed;\n",
       "    white-space: pre-wrap;\n",
       "    word-wrap: break-word;\n",
       "    word-break: break-all;\n",
       "    font-family: \"Source Code Pro\", \"Menlo\", monospace;;\n",
       "    font-size: 13px;\n",
       "    color: #555;\n",
       "    margin-left: 4px;\n",
       "    line-height: 19px;\n",
       "  }\n",
       "</style>\n",
       "<div class=\"ansiout\">+----+----------------+----------------+---------------+---+-------+--------------------+-----------+\n",
       "  id|            name|graduate_program|   spark_status| id| degree|          department|     school|\n",
       "+----+----------------+----------------+---------------+---+-------+--------------------+-----------+\n",
       "   0|   Bill Chambers|               0|          [100]|  0|Masters|School of Informa...|UC Berkeley|\n",
       "   1|   Matei Zaharia|               1|[500, 250, 100]|  1|  Ph.D.|                EECS|UC Berkeley|\n",
       "   2|Michael Armbrust|               1|     [250, 100]|  1|  Ph.D.|                EECS|UC Berkeley|\n",
       "null|            null|            null|           null|  2|Masters|                EECS|UC Berkeley|\n",
       "+----+----------------+----------------+---------------+---+-------+--------------------+-----------+\n",
       "\n",
       "</div>"
      ]
     },
     "metadata": {
      "application/vnd.databricks.v1+output": {
       "addedWidgets": {},
       "arguments": {},
       "data": "<div class=\"ansiout\">+----+----------------+----------------+---------------+---+-------+--------------------+-----------+\n|  id|            name|graduate_program|   spark_status| id| degree|          department|     school|\n+----+----------------+----------------+---------------+---+-------+--------------------+-----------+\n|   0|   Bill Chambers|               0|          [100]|  0|Masters|School of Informa...|UC Berkeley|\n|   1|   Matei Zaharia|               1|[500, 250, 100]|  1|  Ph.D.|                EECS|UC Berkeley|\n|   2|Michael Armbrust|               1|     [250, 100]|  1|  Ph.D.|                EECS|UC Berkeley|\n|null|            null|            null|           null|  2|Masters|                EECS|UC Berkeley|\n+----+----------------+----------------+---------------+---+-------+--------------------+-----------+\n\n</div>",
       "datasetInfos": [],
       "metadata": {},
       "removedWidgets": [],
       "type": "html"
      }
     },
     "output_type": "display_data"
    }
   ],
   "source": [
    "joinType ='right_outer'\n",
    "person.join(graduateProgram, joinExpression, joinType).show()"
   ]
  },
  {
   "cell_type": "markdown",
   "metadata": {
    "application/vnd.databricks.v1+cell": {
     "inputWidgets": {},
     "nuid": "3a26be63-3579-4a9b-a7dd-421abcf9720a",
     "showTitle": false,
     "title": ""
    }
   },
   "source": [
    "### 왼쪽 세미 조인\n",
    "- 오른쪽 데이터프레임의 어떤 값도 포함하지 않으므로 다른 조인타입과 약간 다름\n",
    "  - 기존 조인 기능과 달리 데이터프레임 필터 정도로 볼 수 있음\n",
    "- 오른쪽 데이터프레임은 단지 값의 존재 여부만 확인하는 용도\n",
    "  - 값이 존재하면 왼쪽 데이터프레임에 중복 키가 존재하더라도 해당 로우는 결과에 포함"
   ]
  },
  {
   "cell_type": "code",
   "execution_count": null,
   "metadata": {
    "application/vnd.databricks.v1+cell": {
     "inputWidgets": {},
     "nuid": "cd000335-0ce0-478d-b60c-87097fccc30d",
     "showTitle": false,
     "title": ""
    }
   },
   "outputs": [
    {
     "data": {
      "text/html": [
       "<style scoped>\n",
       "  .ansiout {\n",
       "    display: block;\n",
       "    unicode-bidi: embed;\n",
       "    white-space: pre-wrap;\n",
       "    word-wrap: break-word;\n",
       "    word-break: break-all;\n",
       "    font-family: \"Source Code Pro\", \"Menlo\", monospace;;\n",
       "    font-size: 13px;\n",
       "    color: #555;\n",
       "    margin-left: 4px;\n",
       "    line-height: 19px;\n",
       "  }\n",
       "</style>\n",
       "<div class=\"ansiout\">+---+-------+--------------------+-----------------+\n",
       " id| degree|          department|           school|\n",
       "+---+-------+--------------------+-----------------+\n",
       "  0|Masters|School of Informa...|      UC Berkeley|\n",
       "  1|  Ph.D.|                EECS|      UC Berkeley|\n",
       "  0|Masters|      Duplicated Row|Duplicated School|\n",
       "+---+-------+--------------------+-----------------+\n",
       "\n",
       "</div>"
      ]
     },
     "metadata": {
      "application/vnd.databricks.v1+output": {
       "addedWidgets": {},
       "arguments": {},
       "data": "<div class=\"ansiout\">+---+-------+--------------------+-----------------+\n| id| degree|          department|           school|\n+---+-------+--------------------+-----------------+\n|  0|Masters|School of Informa...|      UC Berkeley|\n|  1|  Ph.D.|                EECS|      UC Berkeley|\n|  0|Masters|      Duplicated Row|Duplicated School|\n+---+-------+--------------------+-----------------+\n\n</div>",
       "datasetInfos": [],
       "metadata": {},
       "removedWidgets": [],
       "type": "html"
      }
     },
     "output_type": "display_data"
    }
   ],
   "source": [
    "joinType ='left_semi'\n",
    "gradProgram2 = graduateProgram.union(spark.createDataFrame([\n",
    "    (0, \"Masters\", \"Duplicated Row\", \"Duplicated School\")]))\n",
    "gradProgram2.join(person, joinExpression, joinType).show()"
   ]
  },
  {
   "cell_type": "markdown",
   "metadata": {
    "application/vnd.databricks.v1+cell": {
     "inputWidgets": {},
     "nuid": "e6091fa1-337a-4829-9e4a-a3c5345a7acf",
     "showTitle": false,
     "title": ""
    }
   },
   "source": [
    "### 왼쪽 안티 조인\n",
    "- 왼쪽 세미 조인의 반대\n",
    "- 오른쪽 데이터프레임에서 관련된 키를 찾을 수 없는 로우만 결과에 포함"
   ]
  },
  {
   "cell_type": "code",
   "execution_count": null,
   "metadata": {
    "application/vnd.databricks.v1+cell": {
     "inputWidgets": {},
     "nuid": "4b4ac36b-65da-4bef-be60-b5af1f1c8b70",
     "showTitle": false,
     "title": ""
    }
   },
   "outputs": [
    {
     "data": {
      "text/html": [
       "<style scoped>\n",
       "  .ansiout {\n",
       "    display: block;\n",
       "    unicode-bidi: embed;\n",
       "    white-space: pre-wrap;\n",
       "    word-wrap: break-word;\n",
       "    word-break: break-all;\n",
       "    font-family: \"Source Code Pro\", \"Menlo\", monospace;;\n",
       "    font-size: 13px;\n",
       "    color: #555;\n",
       "    margin-left: 4px;\n",
       "    line-height: 19px;\n",
       "  }\n",
       "</style>\n",
       "<div class=\"ansiout\">+---+-------+----------+-----------+\n",
       " id| degree|department|     school|\n",
       "+---+-------+----------+-----------+\n",
       "  2|Masters|      EECS|UC Berkeley|\n",
       "+---+-------+----------+-----------+\n",
       "\n",
       "</div>"
      ]
     },
     "metadata": {
      "application/vnd.databricks.v1+output": {
       "addedWidgets": {},
       "arguments": {},
       "data": "<div class=\"ansiout\">+---+-------+----------+-----------+\n| id| degree|department|     school|\n+---+-------+----------+-----------+\n|  2|Masters|      EECS|UC Berkeley|\n+---+-------+----------+-----------+\n\n</div>",
       "datasetInfos": [],
       "metadata": {},
       "removedWidgets": [],
       "type": "html"
      }
     },
     "output_type": "display_data"
    }
   ],
   "source": [
    "joinType ='left_anti'\n",
    "gradProgram2.join(person, joinExpression, joinType).show()"
   ]
  },
  {
   "cell_type": "markdown",
   "metadata": {
    "application/vnd.databricks.v1+cell": {
     "inputWidgets": {},
     "nuid": "cbc01d4e-87cf-42d0-b504-d2c50f05b1be",
     "showTitle": false,
     "title": ""
    }
   },
   "source": [
    "### 자연 조인\n",
    "- 조인하려는 컬럼을 암시적으로 추정\n",
    "- 일치하는 컬럼을 찾고 그 결과를 반환함\n",
    "- 암시적인 처리는 언제나 위험하다는 것 명심<br>\n",
    "  ex) graduatePrograme의 id와 person의 id는 컬럼명은 같지만 서로 다른 의미인데 이걸 기준으로 잡아버림\n",
    "- 데이터프레임의 join메서드는 지원X [링크](https://spark.apache.org/docs/2.4.0/api/python/pyspark.sql.html?highlight=join#pyspark.sql.DataFrame.join)"
   ]
  },
  {
   "cell_type": "markdown",
   "metadata": {
    "application/vnd.databricks.v1+cell": {
     "inputWidgets": {},
     "nuid": "f3aba684-c9fc-4d2d-953b-7898b212db5f",
     "showTitle": false,
     "title": ""
    }
   },
   "source": [
    "### 교차 조인(카테시안 조인)\n",
    "- 조건절을 기술하지 않은 내부 조인\n",
    "- 왼쪽 데이터프레임의 모든 로우를 오른쪽 데이터프레임의 모든 로우와 결합"
   ]
  },
  {
   "cell_type": "code",
   "execution_count": null,
   "metadata": {
    "application/vnd.databricks.v1+cell": {
     "inputWidgets": {},
     "nuid": "de113abe-23b0-4aa0-8123-235f250664e6",
     "showTitle": false,
     "title": ""
    }
   },
   "outputs": [
    {
     "data": {
      "text/html": [
       "<style scoped>\n",
       "  .ansiout {\n",
       "    display: block;\n",
       "    unicode-bidi: embed;\n",
       "    white-space: pre-wrap;\n",
       "    word-wrap: break-word;\n",
       "    word-break: break-all;\n",
       "    font-family: \"Source Code Pro\", \"Menlo\", monospace;;\n",
       "    font-size: 13px;\n",
       "    color: #555;\n",
       "    margin-left: 4px;\n",
       "    line-height: 19px;\n",
       "  }\n",
       "</style>\n",
       "<div class=\"ansiout\">+---+-------+--------------------+-----------+---+----------------+----------------+---------------+\n",
       " id| degree|          department|     school| id|            name|graduate_program|   spark_status|\n",
       "+---+-------+--------------------+-----------+---+----------------+----------------+---------------+\n",
       "  0|Masters|School of Informa...|UC Berkeley|  0|   Bill Chambers|               0|          [100]|\n",
       "  1|  Ph.D.|                EECS|UC Berkeley|  1|   Matei Zaharia|               1|[500, 250, 100]|\n",
       "  1|  Ph.D.|                EECS|UC Berkeley|  2|Michael Armbrust|               1|     [250, 100]|\n",
       "+---+-------+--------------------+-----------+---+----------------+----------------+---------------+\n",
       "\n",
       "</div>"
      ]
     },
     "metadata": {
      "application/vnd.databricks.v1+output": {
       "addedWidgets": {},
       "arguments": {},
       "data": "<div class=\"ansiout\">+---+-------+--------------------+-----------+---+----------------+----------------+---------------+\n| id| degree|          department|     school| id|            name|graduate_program|   spark_status|\n+---+-------+--------------------+-----------+---+----------------+----------------+---------------+\n|  0|Masters|School of Informa...|UC Berkeley|  0|   Bill Chambers|               0|          [100]|\n|  1|  Ph.D.|                EECS|UC Berkeley|  1|   Matei Zaharia|               1|[500, 250, 100]|\n|  1|  Ph.D.|                EECS|UC Berkeley|  2|Michael Armbrust|               1|     [250, 100]|\n+---+-------+--------------------+-----------+---+----------------+----------------+---------------+\n\n</div>",
       "datasetInfos": [],
       "metadata": {},
       "removedWidgets": [],
       "type": "html"
      }
     },
     "output_type": "display_data"
    }
   ],
   "source": [
    "joinType ='cross'\n",
    "graduateProgram.join(person, joinExpression, joinType).show()"
   ]
  },
  {
   "cell_type": "markdown",
   "metadata": {
    "application/vnd.databricks.v1+cell": {
     "inputWidgets": {},
     "nuid": "d0c07b67-0226-4c6e-bc62-a392399ae65c",
     "showTitle": false,
     "title": ""
    }
   },
   "source": [
    "## 조인 사용 시 문제점"
   ]
  },
  {
   "cell_type": "markdown",
   "metadata": {
    "application/vnd.databricks.v1+cell": {
     "inputWidgets": {},
     "nuid": "138411dd-54c8-4968-b609-35e9c12b8914",
     "showTitle": false,
     "title": ""
    }
   },
   "source": [
    "### 복합 데이터 타입의 조인\n",
    "- 어려울 것 같지만 불리언을 반환하는 모든 표현식은 조인 표현식으로 간주할 수 있음"
   ]
  },
  {
   "cell_type": "code",
   "execution_count": null,
   "metadata": {
    "application/vnd.databricks.v1+cell": {
     "inputWidgets": {},
     "nuid": "220a8c18-1667-489e-a7d2-47fd67d92a04",
     "showTitle": false,
     "title": ""
    }
   },
   "outputs": [
    {
     "data": {
      "text/html": [
       "<style scoped>\n",
       "  .ansiout {\n",
       "    display: block;\n",
       "    unicode-bidi: embed;\n",
       "    white-space: pre-wrap;\n",
       "    word-wrap: break-word;\n",
       "    word-break: break-all;\n",
       "    font-family: \"Source Code Pro\", \"Menlo\", monospace;;\n",
       "    font-size: 13px;\n",
       "    color: #555;\n",
       "    margin-left: 4px;\n",
       "    line-height: 19px;\n",
       "  }\n",
       "</style>\n",
       "<div class=\"ansiout\">+--------+----------------+----------------+---------------+---+--------------+\n",
       "personId|            name|graduate_program|   spark_status| id|        status|\n",
       "+--------+----------------+----------------+---------------+---+--------------+\n",
       "       0|   Bill Chambers|               0|          [100]|100|   Contributor|\n",
       "       1|   Matei Zaharia|               1|[500, 250, 100]|500|Vice President|\n",
       "       1|   Matei Zaharia|               1|[500, 250, 100]|250|    PMC Member|\n",
       "       1|   Matei Zaharia|               1|[500, 250, 100]|100|   Contributor|\n",
       "       2|Michael Armbrust|               1|     [250, 100]|250|    PMC Member|\n",
       "       2|Michael Armbrust|               1|     [250, 100]|100|   Contributor|\n",
       "+--------+----------------+----------------+---------------+---+--------------+\n",
       "\n",
       "</div>"
      ]
     },
     "metadata": {
      "application/vnd.databricks.v1+output": {
       "addedWidgets": {},
       "arguments": {},
       "data": "<div class=\"ansiout\">+--------+----------------+----------------+---------------+---+--------------+\n|personId|            name|graduate_program|   spark_status| id|        status|\n+--------+----------------+----------------+---------------+---+--------------+\n|       0|   Bill Chambers|               0|          [100]|100|   Contributor|\n|       1|   Matei Zaharia|               1|[500, 250, 100]|500|Vice President|\n|       1|   Matei Zaharia|               1|[500, 250, 100]|250|    PMC Member|\n|       1|   Matei Zaharia|               1|[500, 250, 100]|100|   Contributor|\n|       2|Michael Armbrust|               1|     [250, 100]|250|    PMC Member|\n|       2|Michael Armbrust|               1|     [250, 100]|100|   Contributor|\n+--------+----------------+----------------+---------------+---+--------------+\n\n</div>",
       "datasetInfos": [],
       "metadata": {},
       "removedWidgets": [],
       "type": "html"
      }
     },
     "output_type": "display_data"
    }
   ],
   "source": [
    "from pyspark.sql import functions as F\n",
    "#person 데이터프레임의 id컬럼을 personId로 바꿔줌(중복 컬럼명 처리)\n",
    "person.withColumnRenamed('id', 'personId').join(sparkStatus, F.expr('array_contains(spark_status,id)')).show()"
   ]
  },
  {
   "cell_type": "markdown",
   "metadata": {
    "application/vnd.databricks.v1+cell": {
     "inputWidgets": {},
     "nuid": "2a025739-0849-47fe-8e26-e29cf0b98098",
     "showTitle": false,
     "title": ""
    }
   },
   "source": [
    "### 중복 컬럼명 처리\n",
    "- 조인을 수행할 때 가장 까다로운 것은 결과 데이터프레임에서 중복된 컬럼명을 다루는 것\n",
    "  - 각 컬럼은 스파크 SQL 엔진인 카탈리스트 내에 고유 id가 존재하지만 직접 참조할 수 있는 값은 아님"
   ]
  },
  {
   "cell_type": "code",
   "execution_count": null,
   "metadata": {
    "application/vnd.databricks.v1+cell": {
     "inputWidgets": {},
     "nuid": "945b28e3-bcec-4707-a160-30a40d8aa696",
     "showTitle": false,
     "title": ""
    }
   },
   "outputs": [
    {
     "data": {
      "text/html": [
       "<style scoped>\n",
       "  .ansiout {\n",
       "    display: block;\n",
       "    unicode-bidi: embed;\n",
       "    white-space: pre-wrap;\n",
       "    word-wrap: break-word;\n",
       "    word-break: break-all;\n",
       "    font-family: \"Source Code Pro\", \"Menlo\", monospace;;\n",
       "    font-size: 13px;\n",
       "    color: #555;\n",
       "    margin-left: 4px;\n",
       "    line-height: 19px;\n",
       "  }\n",
       "</style>\n",
       "<div class=\"ansiout\"></div>"
      ]
     },
     "metadata": {
      "application/vnd.databricks.v1+output": {
       "addedWidgets": {},
       "arguments": {},
       "data": "<div class=\"ansiout\"></div>",
       "datasetInfos": [],
       "metadata": {},
       "removedWidgets": [],
       "type": "html"
      }
     },
     "output_type": "display_data"
    }
   ],
   "source": [
    "gradProgramDupe= graduateProgram.withColumnRenamed('id', 'graduate_program') #일부러 person의 컬럼과 같게 바꿔보기"
   ]
  },
  {
   "cell_type": "code",
   "execution_count": null,
   "metadata": {
    "application/vnd.databricks.v1+cell": {
     "inputWidgets": {},
     "nuid": "d904b50f-9b9c-4dd5-9039-e36f897b4ed5",
     "showTitle": false,
     "title": ""
    }
   },
   "outputs": [
    {
     "data": {
      "text/html": [
       "<style scoped>\n",
       "  .ansiout {\n",
       "    display: block;\n",
       "    unicode-bidi: embed;\n",
       "    white-space: pre-wrap;\n",
       "    word-wrap: break-word;\n",
       "    word-break: break-all;\n",
       "    font-family: \"Source Code Pro\", \"Menlo\", monospace;;\n",
       "    font-size: 13px;\n",
       "    color: #555;\n",
       "    margin-left: 4px;\n",
       "    line-height: 19px;\n",
       "  }\n",
       "</style>\n",
       "<div class=\"ansiout\"></div>"
      ]
     },
     "metadata": {
      "application/vnd.databricks.v1+output": {
       "addedWidgets": {},
       "arguments": {},
       "data": "<div class=\"ansiout\"></div>",
       "datasetInfos": [],
       "metadata": {},
       "removedWidgets": [],
       "type": "html"
      }
     },
     "output_type": "display_data"
    },
    {
     "data": {
      "text/html": [
       "<style scoped>\n",
       "  .ansiout {\n",
       "    display: block;\n",
       "    unicode-bidi: embed;\n",
       "    white-space: pre-wrap;\n",
       "    word-wrap: break-word;\n",
       "    word-break: break-all;\n",
       "    font-family: \"Source Code Pro\", \"Menlo\", monospace;;\n",
       "    font-size: 13px;\n",
       "    color: #555;\n",
       "    margin-left: 4px;\n",
       "    line-height: 19px;\n",
       "  }\n",
       "</style>\n",
       "<div class=\"ansiout\"><span class=\"ansi-red-fg\">---------------------------------------------------------------------------</span>\n",
       "<span class=\"ansi-red-fg\">AnalysisException</span>                         Traceback (most recent call last)\n",
       "<span class=\"ansi-green-fg\">&lt;command-3827894466668178&gt;</span> in <span class=\"ansi-cyan-fg\">&lt;module&gt;</span>\n",
       "<span class=\"ansi-green-intense-fg ansi-bold\">      1</span> joinExpr<span class=\"ansi-blue-fg\">=</span>gradProgramDupe<span class=\"ansi-blue-fg\">[</span><span class=\"ansi-blue-fg\">&#39;graduate_program&#39;</span><span class=\"ansi-blue-fg\">]</span> <span class=\"ansi-blue-fg\">==</span> person<span class=\"ansi-blue-fg\">[</span><span class=\"ansi-blue-fg\">&#39;graduate_program&#39;</span><span class=\"ansi-blue-fg\">]</span>\n",
       "<span class=\"ansi-green-fg\">----&gt; 2</span><span class=\"ansi-red-fg\"> </span>person<span class=\"ansi-blue-fg\">.</span>join<span class=\"ansi-blue-fg\">(</span>gradProgramDupe<span class=\"ansi-blue-fg\">,</span> joinExpr<span class=\"ansi-blue-fg\">)</span><span class=\"ansi-blue-fg\">.</span>select<span class=\"ansi-blue-fg\">(</span><span class=\"ansi-blue-fg\">&#39;graduate_program&#39;</span><span class=\"ansi-blue-fg\">)</span><span class=\"ansi-blue-fg\">.</span>show<span class=\"ansi-blue-fg\">(</span><span class=\"ansi-blue-fg\">)</span>\n",
       "\n",
       "<span class=\"ansi-green-fg\">/databricks/spark/python/pyspark/sql/dataframe.py</span> in <span class=\"ansi-cyan-fg\">select</span><span class=\"ansi-blue-fg\">(self, *cols)</span>\n",
       "<span class=\"ansi-green-intense-fg ansi-bold\">   1690</span>         <span class=\"ansi-blue-fg\">[</span>Row<span class=\"ansi-blue-fg\">(</span>name<span class=\"ansi-blue-fg\">=</span><span class=\"ansi-blue-fg\">&#39;Alice&#39;</span><span class=\"ansi-blue-fg\">,</span> age<span class=\"ansi-blue-fg\">=</span><span class=\"ansi-cyan-fg\">12</span><span class=\"ansi-blue-fg\">)</span><span class=\"ansi-blue-fg\">,</span> Row<span class=\"ansi-blue-fg\">(</span>name<span class=\"ansi-blue-fg\">=</span><span class=\"ansi-blue-fg\">&#39;Bob&#39;</span><span class=\"ansi-blue-fg\">,</span> age<span class=\"ansi-blue-fg\">=</span><span class=\"ansi-cyan-fg\">15</span><span class=\"ansi-blue-fg\">)</span><span class=\"ansi-blue-fg\">]</span>\n",
       "<span class=\"ansi-green-intense-fg ansi-bold\">   1691</span>         &#34;&#34;&#34;\n",
       "<span class=\"ansi-green-fg\">-&gt; 1692</span><span class=\"ansi-red-fg\">         </span>jdf <span class=\"ansi-blue-fg\">=</span> self<span class=\"ansi-blue-fg\">.</span>_jdf<span class=\"ansi-blue-fg\">.</span>select<span class=\"ansi-blue-fg\">(</span>self<span class=\"ansi-blue-fg\">.</span>_jcols<span class=\"ansi-blue-fg\">(</span><span class=\"ansi-blue-fg\">*</span>cols<span class=\"ansi-blue-fg\">)</span><span class=\"ansi-blue-fg\">)</span>\n",
       "<span class=\"ansi-green-intense-fg ansi-bold\">   1693</span>         <span class=\"ansi-green-fg\">return</span> DataFrame<span class=\"ansi-blue-fg\">(</span>jdf<span class=\"ansi-blue-fg\">,</span> self<span class=\"ansi-blue-fg\">.</span>sql_ctx<span class=\"ansi-blue-fg\">)</span>\n",
       "<span class=\"ansi-green-intense-fg ansi-bold\">   1694</span> \n",
       "\n",
       "<span class=\"ansi-green-fg\">/databricks/spark/python/lib/py4j-0.10.9-src.zip/py4j/java_gateway.py</span> in <span class=\"ansi-cyan-fg\">__call__</span><span class=\"ansi-blue-fg\">(self, *args)</span>\n",
       "<span class=\"ansi-green-intense-fg ansi-bold\">   1302</span> \n",
       "<span class=\"ansi-green-intense-fg ansi-bold\">   1303</span>         answer <span class=\"ansi-blue-fg\">=</span> self<span class=\"ansi-blue-fg\">.</span>gateway_client<span class=\"ansi-blue-fg\">.</span>send_command<span class=\"ansi-blue-fg\">(</span>command<span class=\"ansi-blue-fg\">)</span>\n",
       "<span class=\"ansi-green-fg\">-&gt; 1304</span><span class=\"ansi-red-fg\">         return_value = get_return_value(\n",
       "</span><span class=\"ansi-green-intense-fg ansi-bold\">   1305</span>             answer, self.gateway_client, self.target_id, self.name)\n",
       "<span class=\"ansi-green-intense-fg ansi-bold\">   1306</span> \n",
       "\n",
       "<span class=\"ansi-green-fg\">/databricks/spark/python/pyspark/sql/utils.py</span> in <span class=\"ansi-cyan-fg\">deco</span><span class=\"ansi-blue-fg\">(*a, **kw)</span>\n",
       "<span class=\"ansi-green-intense-fg ansi-bold\">    121</span>                 <span class=\"ansi-red-fg\"># Hide where the exception came from that shows a non-Pythonic</span>\n",
       "<span class=\"ansi-green-intense-fg ansi-bold\">    122</span>                 <span class=\"ansi-red-fg\"># JVM exception message.</span>\n",
       "<span class=\"ansi-green-fg\">--&gt; 123</span><span class=\"ansi-red-fg\">                 </span><span class=\"ansi-green-fg\">raise</span> converted <span class=\"ansi-green-fg\">from</span> <span class=\"ansi-green-fg\">None</span>\n",
       "<span class=\"ansi-green-intense-fg ansi-bold\">    124</span>             <span class=\"ansi-green-fg\">else</span><span class=\"ansi-blue-fg\">:</span>\n",
       "<span class=\"ansi-green-intense-fg ansi-bold\">    125</span>                 <span class=\"ansi-green-fg\">raise</span>\n",
       "\n",
       "<span class=\"ansi-red-fg\">AnalysisException</span>: Reference &#39;graduate_program&#39; is ambiguous, could be: graduate_program, graduate_program.</div>"
      ]
     },
     "metadata": {
      "application/vnd.databricks.v1+output": {
       "arguments": {},
       "data": "<div class=\"ansiout\"><span class=\"ansi-red-fg\">---------------------------------------------------------------------------</span>\n<span class=\"ansi-red-fg\">AnalysisException</span>                         Traceback (most recent call last)\n<span class=\"ansi-green-fg\">&lt;command-3827894466668178&gt;</span> in <span class=\"ansi-cyan-fg\">&lt;module&gt;</span>\n<span class=\"ansi-green-intense-fg ansi-bold\">      1</span> joinExpr<span class=\"ansi-blue-fg\">=</span>gradProgramDupe<span class=\"ansi-blue-fg\">[</span><span class=\"ansi-blue-fg\">&#39;graduate_program&#39;</span><span class=\"ansi-blue-fg\">]</span> <span class=\"ansi-blue-fg\">==</span> person<span class=\"ansi-blue-fg\">[</span><span class=\"ansi-blue-fg\">&#39;graduate_program&#39;</span><span class=\"ansi-blue-fg\">]</span>\n<span class=\"ansi-green-fg\">----&gt; 2</span><span class=\"ansi-red-fg\"> </span>person<span class=\"ansi-blue-fg\">.</span>join<span class=\"ansi-blue-fg\">(</span>gradProgramDupe<span class=\"ansi-blue-fg\">,</span> joinExpr<span class=\"ansi-blue-fg\">)</span><span class=\"ansi-blue-fg\">.</span>select<span class=\"ansi-blue-fg\">(</span><span class=\"ansi-blue-fg\">&#39;graduate_program&#39;</span><span class=\"ansi-blue-fg\">)</span><span class=\"ansi-blue-fg\">.</span>show<span class=\"ansi-blue-fg\">(</span><span class=\"ansi-blue-fg\">)</span>\n\n<span class=\"ansi-green-fg\">/databricks/spark/python/pyspark/sql/dataframe.py</span> in <span class=\"ansi-cyan-fg\">select</span><span class=\"ansi-blue-fg\">(self, *cols)</span>\n<span class=\"ansi-green-intense-fg ansi-bold\">   1690</span>         <span class=\"ansi-blue-fg\">[</span>Row<span class=\"ansi-blue-fg\">(</span>name<span class=\"ansi-blue-fg\">=</span><span class=\"ansi-blue-fg\">&#39;Alice&#39;</span><span class=\"ansi-blue-fg\">,</span> age<span class=\"ansi-blue-fg\">=</span><span class=\"ansi-cyan-fg\">12</span><span class=\"ansi-blue-fg\">)</span><span class=\"ansi-blue-fg\">,</span> Row<span class=\"ansi-blue-fg\">(</span>name<span class=\"ansi-blue-fg\">=</span><span class=\"ansi-blue-fg\">&#39;Bob&#39;</span><span class=\"ansi-blue-fg\">,</span> age<span class=\"ansi-blue-fg\">=</span><span class=\"ansi-cyan-fg\">15</span><span class=\"ansi-blue-fg\">)</span><span class=\"ansi-blue-fg\">]</span>\n<span class=\"ansi-green-intense-fg ansi-bold\">   1691</span>         &#34;&#34;&#34;\n<span class=\"ansi-green-fg\">-&gt; 1692</span><span class=\"ansi-red-fg\">         </span>jdf <span class=\"ansi-blue-fg\">=</span> self<span class=\"ansi-blue-fg\">.</span>_jdf<span class=\"ansi-blue-fg\">.</span>select<span class=\"ansi-blue-fg\">(</span>self<span class=\"ansi-blue-fg\">.</span>_jcols<span class=\"ansi-blue-fg\">(</span><span class=\"ansi-blue-fg\">*</span>cols<span class=\"ansi-blue-fg\">)</span><span class=\"ansi-blue-fg\">)</span>\n<span class=\"ansi-green-intense-fg ansi-bold\">   1693</span>         <span class=\"ansi-green-fg\">return</span> DataFrame<span class=\"ansi-blue-fg\">(</span>jdf<span class=\"ansi-blue-fg\">,</span> self<span class=\"ansi-blue-fg\">.</span>sql_ctx<span class=\"ansi-blue-fg\">)</span>\n<span class=\"ansi-green-intense-fg ansi-bold\">   1694</span> \n\n<span class=\"ansi-green-fg\">/databricks/spark/python/lib/py4j-0.10.9-src.zip/py4j/java_gateway.py</span> in <span class=\"ansi-cyan-fg\">__call__</span><span class=\"ansi-blue-fg\">(self, *args)</span>\n<span class=\"ansi-green-intense-fg ansi-bold\">   1302</span> \n<span class=\"ansi-green-intense-fg ansi-bold\">   1303</span>         answer <span class=\"ansi-blue-fg\">=</span> self<span class=\"ansi-blue-fg\">.</span>gateway_client<span class=\"ansi-blue-fg\">.</span>send_command<span class=\"ansi-blue-fg\">(</span>command<span class=\"ansi-blue-fg\">)</span>\n<span class=\"ansi-green-fg\">-&gt; 1304</span><span class=\"ansi-red-fg\">         return_value = get_return_value(\n</span><span class=\"ansi-green-intense-fg ansi-bold\">   1305</span>             answer, self.gateway_client, self.target_id, self.name)\n<span class=\"ansi-green-intense-fg ansi-bold\">   1306</span> \n\n<span class=\"ansi-green-fg\">/databricks/spark/python/pyspark/sql/utils.py</span> in <span class=\"ansi-cyan-fg\">deco</span><span class=\"ansi-blue-fg\">(*a, **kw)</span>\n<span class=\"ansi-green-intense-fg ansi-bold\">    121</span>                 <span class=\"ansi-red-fg\"># Hide where the exception came from that shows a non-Pythonic</span>\n<span class=\"ansi-green-intense-fg ansi-bold\">    122</span>                 <span class=\"ansi-red-fg\"># JVM exception message.</span>\n<span class=\"ansi-green-fg\">--&gt; 123</span><span class=\"ansi-red-fg\">                 </span><span class=\"ansi-green-fg\">raise</span> converted <span class=\"ansi-green-fg\">from</span> <span class=\"ansi-green-fg\">None</span>\n<span class=\"ansi-green-intense-fg ansi-bold\">    124</span>             <span class=\"ansi-green-fg\">else</span><span class=\"ansi-blue-fg\">:</span>\n<span class=\"ansi-green-intense-fg ansi-bold\">    125</span>                 <span class=\"ansi-green-fg\">raise</span>\n\n<span class=\"ansi-red-fg\">AnalysisException</span>: Reference &#39;graduate_program&#39; is ambiguous, could be: graduate_program, graduate_program.</div>",
       "errorSummary": "<span class=\"ansi-red-fg\">AnalysisException</span>: Reference &#39;graduate_program&#39; is ambiguous, could be: graduate_program, graduate_program.",
       "errorTraceType": "html",
       "metadata": {},
       "type": "ipynbError"
      }
     },
     "output_type": "display_data"
    }
   ],
   "source": [
    "joinExpr=gradProgramDupe['graduate_program'] == person['graduate_program']\n",
    "person.join(gradProgramDupe, joinExpr).select('graduate_program').show()"
   ]
  },
  {
   "cell_type": "markdown",
   "metadata": {
    "application/vnd.databricks.v1+cell": {
     "inputWidgets": {},
     "nuid": "fc61656f-a849-42dc-8dec-1e7609c8d3b1",
     "showTitle": false,
     "title": ""
    }
   },
   "source": [
    "------\n",
    "- AnalysisException 뜸"
   ]
  },
  {
   "cell_type": "markdown",
   "metadata": {
    "application/vnd.databricks.v1+cell": {
     "inputWidgets": {},
     "nuid": "0f320716-aec7-42d3-979d-cc739b88b63a",
     "showTitle": false,
     "title": ""
    }
   },
   "source": [
    "#### 해결 방법1: 다른 조인 표현식 사용"
   ]
  },
  {
   "cell_type": "code",
   "execution_count": null,
   "metadata": {
    "application/vnd.databricks.v1+cell": {
     "inputWidgets": {},
     "nuid": "7fefa528-1408-464c-b266-e16c7dd14224",
     "showTitle": false,
     "title": ""
    }
   },
   "outputs": [
    {
     "data": {
      "text/html": [
       "<style scoped>\n",
       "  .ansiout {\n",
       "    display: block;\n",
       "    unicode-bidi: embed;\n",
       "    white-space: pre-wrap;\n",
       "    word-wrap: break-word;\n",
       "    word-break: break-all;\n",
       "    font-family: \"Source Code Pro\", \"Menlo\", monospace;;\n",
       "    font-size: 13px;\n",
       "    color: #555;\n",
       "    margin-left: 4px;\n",
       "    line-height: 19px;\n",
       "  }\n",
       "</style>\n",
       "<div class=\"ansiout\">+----------------+---+----------------+---------------+-------+--------------------+-----------+\n",
       "graduate_program| id|            name|   spark_status| degree|          department|     school|\n",
       "+----------------+---+----------------+---------------+-------+--------------------+-----------+\n",
       "               0|  0|   Bill Chambers|          [100]|Masters|School of Informa...|UC Berkeley|\n",
       "               1|  1|   Matei Zaharia|[500, 250, 100]|  Ph.D.|                EECS|UC Berkeley|\n",
       "               1|  2|Michael Armbrust|     [250, 100]|  Ph.D.|                EECS|UC Berkeley|\n",
       "+----------------+---+----------------+---------------+-------+--------------------+-----------+\n",
       "\n",
       "</div>"
      ]
     },
     "metadata": {
      "application/vnd.databricks.v1+output": {
       "addedWidgets": {},
       "arguments": {},
       "data": "<div class=\"ansiout\">+----------------+---+----------------+---------------+-------+--------------------+-----------+\n|graduate_program| id|            name|   spark_status| degree|          department|     school|\n+----------------+---+----------------+---------------+-------+--------------------+-----------+\n|               0|  0|   Bill Chambers|          [100]|Masters|School of Informa...|UC Berkeley|\n|               1|  1|   Matei Zaharia|[500, 250, 100]|  Ph.D.|                EECS|UC Berkeley|\n|               1|  2|Michael Armbrust|     [250, 100]|  Ph.D.|                EECS|UC Berkeley|\n+----------------+---+----------------+---------------+-------+--------------------+-----------+\n\n</div>",
       "datasetInfos": [],
       "metadata": {},
       "removedWidgets": [],
       "type": "html"
      }
     },
     "output_type": "display_data"
    }
   ],
   "source": [
    "person.join(gradProgramDupe, 'graduate_program').show() "
   ]
  },
  {
   "cell_type": "markdown",
   "metadata": {
    "application/vnd.databricks.v1+cell": {
     "inputWidgets": {},
     "nuid": "7d337aae-a659-4687-9e68-cfa9fbcff686",
     "showTitle": false,
     "title": ""
    }
   },
   "source": [
    "---\n",
    "- 그냥 컬럼명을 문자열로 전달하면 중복된 두 컬럼 중 하나가 자동으로 제거됨"
   ]
  },
  {
   "cell_type": "markdown",
   "metadata": {
    "application/vnd.databricks.v1+cell": {
     "inputWidgets": {},
     "nuid": "b5db52d7-d490-4712-9d49-bce848f358ea",
     "showTitle": false,
     "title": ""
    }
   },
   "source": [
    "#### 해결 방법2: 조인 후 컬럼 제거"
   ]
  },
  {
   "cell_type": "code",
   "execution_count": null,
   "metadata": {
    "application/vnd.databricks.v1+cell": {
     "inputWidgets": {},
     "nuid": "eec4339a-a1ff-431a-8ebf-536c6e600036",
     "showTitle": false,
     "title": ""
    }
   },
   "outputs": [
    {
     "data": {
      "text/html": [
       "<style scoped>\n",
       "  .ansiout {\n",
       "    display: block;\n",
       "    unicode-bidi: embed;\n",
       "    white-space: pre-wrap;\n",
       "    word-wrap: break-word;\n",
       "    word-break: break-all;\n",
       "    font-family: \"Source Code Pro\", \"Menlo\", monospace;;\n",
       "    font-size: 13px;\n",
       "    color: #555;\n",
       "    margin-left: 4px;\n",
       "    line-height: 19px;\n",
       "  }\n",
       "</style>\n",
       "<div class=\"ansiout\">+---+----------------+---------------+----------------+-------+--------------------+-----------+\n",
       " id|            name|   spark_status|graduate_program| degree|          department|     school|\n",
       "+---+----------------+---------------+----------------+-------+--------------------+-----------+\n",
       "  0|   Bill Chambers|          [100]|               0|Masters|School of Informa...|UC Berkeley|\n",
       "  1|   Matei Zaharia|[500, 250, 100]|               1|  Ph.D.|                EECS|UC Berkeley|\n",
       "  2|Michael Armbrust|     [250, 100]|               1|  Ph.D.|                EECS|UC Berkeley|\n",
       "+---+----------------+---------------+----------------+-------+--------------------+-----------+\n",
       "\n",
       "</div>"
      ]
     },
     "metadata": {
      "application/vnd.databricks.v1+output": {
       "addedWidgets": {},
       "arguments": {},
       "data": "<div class=\"ansiout\">+---+----------------+---------------+----------------+-------+--------------------+-----------+\n| id|            name|   spark_status|graduate_program| degree|          department|     school|\n+---+----------------+---------------+----------------+-------+--------------------+-----------+\n|  0|   Bill Chambers|          [100]|               0|Masters|School of Informa...|UC Berkeley|\n|  1|   Matei Zaharia|[500, 250, 100]|               1|  Ph.D.|                EECS|UC Berkeley|\n|  2|Michael Armbrust|     [250, 100]|               1|  Ph.D.|                EECS|UC Berkeley|\n+---+----------------+---------------+----------------+-------+--------------------+-----------+\n\n</div>",
       "datasetInfos": [],
       "metadata": {},
       "removedWidgets": [],
       "type": "html"
      }
     },
     "output_type": "display_data"
    }
   ],
   "source": [
    "person.join(gradProgramDupe, joinExpr).drop(person['graduate_program']).show() #조인 후 person의 컬럼 제거"
   ]
  },
  {
   "cell_type": "markdown",
   "metadata": {
    "application/vnd.databricks.v1+cell": {
     "inputWidgets": {},
     "nuid": "2416f78d-4948-4dc5-b68a-e07591a13fe4",
     "showTitle": false,
     "title": ""
    }
   },
   "source": [
    "----\n",
    "- 이 방법은 스파크의 SQL 분석 프로세스의 특성을 활용함\n",
    "- 스파크는 명시적으로 참조된 컬럼(person['graduate_program'])을 검증하지 않으므로 스파크 코드 분석 단계를 통과함."
   ]
  },
  {
   "cell_type": "markdown",
   "metadata": {
    "application/vnd.databricks.v1+cell": {
     "inputWidgets": {},
     "nuid": "5d8d21db-d9b6-4ecf-b469-349dc3fbf4bd",
     "showTitle": false,
     "title": ""
    }
   },
   "source": [
    "#### 해결 방법3: 조인 전 컬럼명 변경"
   ]
  },
  {
   "cell_type": "code",
   "execution_count": null,
   "metadata": {
    "application/vnd.databricks.v1+cell": {
     "inputWidgets": {},
     "nuid": "85854f0f-e9cd-4383-8da2-0bdd29dbda02",
     "showTitle": false,
     "title": ""
    }
   },
   "outputs": [
    {
     "data": {
      "text/html": [
       "<style scoped>\n",
       "  .ansiout {\n",
       "    display: block;\n",
       "    unicode-bidi: embed;\n",
       "    white-space: pre-wrap;\n",
       "    word-wrap: break-word;\n",
       "    word-break: break-all;\n",
       "    font-family: \"Source Code Pro\", \"Menlo\", monospace;;\n",
       "    font-size: 13px;\n",
       "    color: #555;\n",
       "    margin-left: 4px;\n",
       "    line-height: 19px;\n",
       "  }\n",
       "</style>\n",
       "<div class=\"ansiout\">+---+----------------+----------------+---------------+-------+-------+--------------------+-----------+\n",
       " id|            name|graduate_program|   spark_status|grad_id| degree|          department|     school|\n",
       "+---+----------------+----------------+---------------+-------+-------+--------------------+-----------+\n",
       "  0|   Bill Chambers|               0|          [100]|      0|Masters|School of Informa...|UC Berkeley|\n",
       "  1|   Matei Zaharia|               1|[500, 250, 100]|      1|  Ph.D.|                EECS|UC Berkeley|\n",
       "  2|Michael Armbrust|               1|     [250, 100]|      1|  Ph.D.|                EECS|UC Berkeley|\n",
       "+---+----------------+----------------+---------------+-------+-------+--------------------+-----------+\n",
       "\n",
       "</div>"
      ]
     },
     "metadata": {
      "application/vnd.databricks.v1+output": {
       "addedWidgets": {},
       "arguments": {},
       "data": "<div class=\"ansiout\">+---+----------------+----------------+---------------+-------+-------+--------------------+-----------+\n| id|            name|graduate_program|   spark_status|grad_id| degree|          department|     school|\n+---+----------------+----------------+---------------+-------+-------+--------------------+-----------+\n|  0|   Bill Chambers|               0|          [100]|      0|Masters|School of Informa...|UC Berkeley|\n|  1|   Matei Zaharia|               1|[500, 250, 100]|      1|  Ph.D.|                EECS|UC Berkeley|\n|  2|Michael Armbrust|               1|     [250, 100]|      1|  Ph.D.|                EECS|UC Berkeley|\n+---+----------------+----------------+---------------+-------+-------+--------------------+-----------+\n\n</div>",
       "datasetInfos": [],
       "metadata": {},
       "removedWidgets": [],
       "type": "html"
      }
     },
     "output_type": "display_data"
    }
   ],
   "source": [
    "gradProgram3 = gradProgramDupe.withColumnRenamed('graduate_program', 'grad_id')\n",
    "joinExpr2= person['graduate_program'] == gradProgram3['grad_id']\n",
    "person.join(gradProgram3, joinExpr2).show()"
   ]
  },
  {
   "cell_type": "markdown",
   "metadata": {
    "application/vnd.databricks.v1+cell": {
     "inputWidgets": {},
     "nuid": "eb50660c-a62f-40df-800d-d7c5e6103ecd",
     "showTitle": false,
     "title": ""
    }
   },
   "source": [
    "## 스파크의 조인 수행 방식\n",
    "- 스파크가 조인을 수행하는 방식을 이해하기 위해서는 실행에 필요한 두 가지 핵심 전략을 이해해야함\n",
    "  - 노드간 네트워크 통신 전략\n",
    "  - 노드별 연산 전략\n",
    "- 수행 방식을 이해하면 <strong>빠르게 완료되는 작업과 절대 완료되지 않는 작업 간의 차이</strong>를 알 수 있음"
   ]
  },
  {
   "cell_type": "markdown",
   "metadata": {
    "application/vnd.databricks.v1+cell": {
     "inputWidgets": {},
     "nuid": "7fa426fc-9096-4542-9904-9d5d4b31f1a9",
     "showTitle": false,
     "title": ""
    }
   },
   "source": [
    "### 네트워크 통신 전략\n",
    "- 스파크는 조인 시 두 가지 클러스터 통신 방식을 활용함 \n",
    "  - 셔플 조인\n",
    "  - 브로드캐스트 조인"
   ]
  },
  {
   "cell_type": "markdown",
   "metadata": {
    "application/vnd.databricks.v1+cell": {
     "inputWidgets": {},
     "nuid": "97197df5-5ac8-4201-b153-b7f9d5cf487d",
     "showTitle": false,
     "title": ""
    }
   },
   "source": [
    "#### Case1: 큰 테이블과 큰 테이블 조인\n",
    "- <strong>셔플 조인 발생</strong>\n",
    "\n",
    "\n",
    "<img src=\"https://henningkropponlinede.files.wordpress.com/2016/12/spark-broadcast-torrent.png\" />\n",
    "<br><br>\n",
    "- 조인에 사용한 특정 키나 키 집합을 어떤 노드가 가졌는지에 따라 <strong>해당 노드와 데이터를 공유함</strong>\n",
    "- 데이터가 잘 나뉘어 있지 않다면 <strong>네트워크가 복잡하고 많은 자원을 사용함</strong>"
   ]
  },
  {
   "cell_type": "markdown",
   "metadata": {
    "application/vnd.databricks.v1+cell": {
     "inputWidgets": {},
     "nuid": "c3a4d89c-9a40-4949-9c53-0f5eab598e57",
     "showTitle": false,
     "title": ""
    }
   },
   "source": [
    "#### Case2: 큰 테이블과 작은 테이블 조인\n",
    "- 작은 테이블 기준: 테이블이 <strong>단일 워커 노드의 메모리 크기(메모리 여유 공간 포함)</strong>에 적합할 정도\n",
    "- 조인 연산 최적화 가능 -> <strong>브로드캐스트 조인</strong>\n",
    "\n",
    "<img src=\"https://henningkropponlinede.files.wordpress.com/2016/12/spark-broadcast.png\"/>\n",
    "<br><br>\n",
    "- <strong>작은 테이블을 클러스터의 전체 워커 노드에 각각 복제</strong>\n",
    "  - 그래서 너무 큰 테이블이면 안됨\n",
    "- 시작 시 단 한 번만 복제가 수행되며, 이후에는 노드들 끼리 <strong>통신할 필요 없이</strong> 각자 작업 수행\n",
    "  - 큰 테이블의 각 파티션과 작은테이블의 조인 수행\n",
    "- 개별적으로 조인이 수행되므로 CPU가 가장 큰 병목 구간이 됨"
   ]
  },
  {
   "cell_type": "code",
   "execution_count": null,
   "metadata": {
    "application/vnd.databricks.v1+cell": {
     "inputWidgets": {},
     "nuid": "accc99da-82c8-4600-888f-20e333d034a0",
     "showTitle": false,
     "title": ""
    }
   },
   "outputs": [
    {
     "data": {
      "text/html": [
       "<style scoped>\n",
       "  .ansiout {\n",
       "    display: block;\n",
       "    unicode-bidi: embed;\n",
       "    white-space: pre-wrap;\n",
       "    word-wrap: break-word;\n",
       "    word-break: break-all;\n",
       "    font-family: \"Source Code Pro\", \"Menlo\", monospace;;\n",
       "    font-size: 13px;\n",
       "    color: #555;\n",
       "    margin-left: 4px;\n",
       "    line-height: 19px;\n",
       "  }\n",
       "</style>\n",
       "<div class=\"ansiout\">== Physical Plan ==\n",
       "AdaptiveSparkPlan isFinalPlan=false\n",
       "+- BroadcastHashJoin [graduate_program#16L], [grad_id#1202L], Inner, BuildRight, false\n",
       "   :- Project [_1#6L AS id#14L, _2#7 AS name#15, _3#8L AS graduate_program#16L, _4#9 AS spark_status#17]\n",
       "   :  +- Filter isnotnull(_3#8L)\n",
       "   :     +- Scan ExistingRDD[_1#6L,_2#7,_3#8L,_4#9]\n",
       "   +- BroadcastExchange HashedRelationBroadcastMode(List(input[0, bigint, true]),false), [id=#3738]\n",
       "      +- Project [_1#22L AS grad_id#1202L, _2#23 AS degree#31, _3#24 AS department#32, _4#25 AS school#33]\n",
       "         +- Filter isnotnull(_1#22L)\n",
       "            +- Scan ExistingRDD[_1#22L,_2#23,_3#24,_4#25]\n",
       "\n",
       "\n",
       "</div>"
      ]
     },
     "metadata": {
      "application/vnd.databricks.v1+output": {
       "addedWidgets": {},
       "arguments": {},
       "data": "<div class=\"ansiout\">== Physical Plan ==\nAdaptiveSparkPlan isFinalPlan=false\n+- BroadcastHashJoin [graduate_program#16L], [grad_id#1202L], Inner, BuildRight, false\n   :- Project [_1#6L AS id#14L, _2#7 AS name#15, _3#8L AS graduate_program#16L, _4#9 AS spark_status#17]\n   :  +- Filter isnotnull(_3#8L)\n   :     +- Scan ExistingRDD[_1#6L,_2#7,_3#8L,_4#9]\n   +- BroadcastExchange HashedRelationBroadcastMode(List(input[0, bigint, true]),false), [id=#3738]\n      +- Project [_1#22L AS grad_id#1202L, _2#23 AS degree#31, _3#24 AS department#32, _4#25 AS school#33]\n         +- Filter isnotnull(_1#22L)\n            +- Scan ExistingRDD[_1#22L,_2#23,_3#24,_4#25]\n\n\n</div>",
       "datasetInfos": [],
       "metadata": {},
       "removedWidgets": [],
       "type": "html"
      }
     },
     "output_type": "display_data"
    }
   ],
   "source": [
    "#DataFrame API는 옵티마이저에서 브로드캐스트 조인을 사용할 수 있도록 broadcast함수를 통해 힌트를 줄 수 있음\n",
    "person.join(F.broadcast(gradProgram3), joinExpr2).explain()"
   ]
  },
  {
   "cell_type": "markdown",
   "metadata": {
    "application/vnd.databricks.v1+cell": {
     "inputWidgets": {},
     "nuid": "c1ff64fe-fac5-498f-9fde-71f7d6984849",
     "showTitle": false,
     "title": ""
    }
   },
   "source": [
    "#### Case3: 아주 작은 테이블 사이의 조인\n",
    "- 이 경우는 그냥 스파크가 조인 방식을 결정하도록 내버려두기"
   ]
  }
 ],
 "metadata": {
  "application/vnd.databricks.v1+notebook": {
   "dashboards": [],
   "language": "python",
   "notebookMetadata": {
    "pythonIndentUnit": 2
   },
   "notebookName": "Chapter8",
   "notebookOrigID": 3398212344634997,
   "widgets": {}
  },
  "kernelspec": {
   "display_name": "Python 3 (ipykernel)",
   "language": "python",
   "name": "python3"
  },
  "language_info": {
   "codemirror_mode": {
    "name": "ipython",
    "version": 3
   },
   "file_extension": ".py",
   "mimetype": "text/x-python",
   "name": "python",
   "nbconvert_exporter": "python",
   "pygments_lexer": "ipython3",
   "version": "3.11.6"
  }
 },
 "nbformat": 4,
 "nbformat_minor": 4
}
