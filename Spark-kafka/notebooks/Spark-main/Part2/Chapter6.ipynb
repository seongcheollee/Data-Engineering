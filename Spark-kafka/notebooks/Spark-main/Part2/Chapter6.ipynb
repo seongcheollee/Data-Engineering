{
 "cells": [
  {
   "cell_type": "markdown",
   "metadata": {
    "application/vnd.databricks.v1+cell": {
     "inputWidgets": {},
     "nuid": "26233c71-7118-4579-a1bc-0f22668a760d",
     "showTitle": false,
     "title": ""
    }
   },
   "source": [
    "# 다양한 데이터 타입 다루기"
   ]
  },
  {
   "cell_type": "code",
   "execution_count": null,
   "metadata": {
    "application/vnd.databricks.v1+cell": {
     "inputWidgets": {},
     "nuid": "31e1364b-ec71-4d4b-9c9c-b25e28ebd316",
     "showTitle": false,
     "title": ""
    }
   },
   "outputs": [
    {
     "data": {
      "text/html": [
       "<style scoped>\n",
       "  .ansiout {\n",
       "    display: block;\n",
       "    unicode-bidi: embed;\n",
       "    white-space: pre-wrap;\n",
       "    word-wrap: break-word;\n",
       "    word-break: break-all;\n",
       "    font-family: \"Source Code Pro\", \"Menlo\", monospace;;\n",
       "    font-size: 13px;\n",
       "    color: #555;\n",
       "    margin-left: 4px;\n",
       "    line-height: 19px;\n",
       "  }\n",
       "</style>\n",
       "<div class=\"ansiout\"></div>"
      ]
     },
     "metadata": {
      "application/vnd.databricks.v1+output": {
       "addedWidgets": {},
       "arguments": {},
       "data": "<div class=\"ansiout\"></div>",
       "datasetInfos": [],
       "metadata": {},
       "removedWidgets": [],
       "type": "html"
      }
     },
     "output_type": "display_data"
    }
   ],
   "source": [
    "from pyspark.sql import functions as F\n",
    "from pyspark.sql import types as T"
   ]
  },
  {
   "cell_type": "code",
   "execution_count": null,
   "metadata": {
    "application/vnd.databricks.v1+cell": {
     "inputWidgets": {},
     "nuid": "28357490-42b5-4bef-9f32-c7fabc5f2410",
     "showTitle": false,
     "title": ""
    }
   },
   "outputs": [
    {
     "data": {
      "text/html": [
       "<style scoped>\n",
       "  .ansiout {\n",
       "    display: block;\n",
       "    unicode-bidi: embed;\n",
       "    white-space: pre-wrap;\n",
       "    word-wrap: break-word;\n",
       "    word-break: break-all;\n",
       "    font-family: \"Source Code Pro\", \"Menlo\", monospace;;\n",
       "    font-size: 13px;\n",
       "    color: #555;\n",
       "    margin-left: 4px;\n",
       "    line-height: 19px;\n",
       "  }\n",
       "</style>\n",
       "<div class=\"ansiout\"></div>"
      ]
     },
     "metadata": {
      "application/vnd.databricks.v1+output": {
       "addedWidgets": {},
       "arguments": {},
       "data": "<div class=\"ansiout\"></div>",
       "datasetInfos": [],
       "metadata": {},
       "removedWidgets": [],
       "type": "html"
      }
     },
     "output_type": "display_data"
    }
   ],
   "source": [
    "path= '/FileStore/tables/2010_12_01.csv'"
   ]
  },
  {
   "cell_type": "code",
   "execution_count": null,
   "metadata": {
    "application/vnd.databricks.v1+cell": {
     "inputWidgets": {},
     "nuid": "f2178f21-a34d-4314-97e0-559ffc1a82f3",
     "showTitle": false,
     "title": ""
    }
   },
   "outputs": [
    {
     "data": {
      "text/html": [
       "<style scoped>\n",
       "  .ansiout {\n",
       "    display: block;\n",
       "    unicode-bidi: embed;\n",
       "    white-space: pre-wrap;\n",
       "    word-wrap: break-word;\n",
       "    word-break: break-all;\n",
       "    font-family: \"Source Code Pro\", \"Menlo\", monospace;;\n",
       "    font-size: 13px;\n",
       "    color: #555;\n",
       "    margin-left: 4px;\n",
       "    line-height: 19px;\n",
       "  }\n",
       "</style>\n",
       "<div class=\"ansiout\"></div>"
      ]
     },
     "metadata": {
      "application/vnd.databricks.v1+output": {
       "addedWidgets": {},
       "arguments": {},
       "data": "<div class=\"ansiout\"></div>",
       "datasetInfos": [],
       "metadata": {},
       "removedWidgets": [],
       "type": "html"
      }
     },
     "output_type": "display_data"
    }
   ],
   "source": [
    "df = spark.read.format('csv').option('header', 'true').option('inferSchema', 'true').load(path)"
   ]
  },
  {
   "cell_type": "code",
   "execution_count": null,
   "metadata": {
    "application/vnd.databricks.v1+cell": {
     "inputWidgets": {},
     "nuid": "23c4c8fe-62b0-4379-8b89-0e56a6600b3c",
     "showTitle": false,
     "title": ""
    }
   },
   "outputs": [
    {
     "data": {
      "text/html": [
       "<style scoped>\n",
       "  .ansiout {\n",
       "    display: block;\n",
       "    unicode-bidi: embed;\n",
       "    white-space: pre-wrap;\n",
       "    word-wrap: break-word;\n",
       "    word-break: break-all;\n",
       "    font-family: \"Source Code Pro\", \"Menlo\", monospace;;\n",
       "    font-size: 13px;\n",
       "    color: #555;\n",
       "    margin-left: 4px;\n",
       "    line-height: 19px;\n",
       "  }\n",
       "</style>\n",
       "<div class=\"ansiout\">root\n",
       "-- InvoiceNo: string (nullable = true)\n",
       "-- StockCode: string (nullable = true)\n",
       "-- Description: string (nullable = true)\n",
       "-- Quantity: integer (nullable = true)\n",
       "-- InvoiceDate: string (nullable = true)\n",
       "-- UnitPrice: double (nullable = true)\n",
       "-- CustomerID: double (nullable = true)\n",
       "-- Country: string (nullable = true)\n",
       "\n",
       "</div>"
      ]
     },
     "metadata": {
      "application/vnd.databricks.v1+output": {
       "addedWidgets": {},
       "arguments": {},
       "data": "<div class=\"ansiout\">root\n |-- InvoiceNo: string (nullable = true)\n |-- StockCode: string (nullable = true)\n |-- Description: string (nullable = true)\n |-- Quantity: integer (nullable = true)\n |-- InvoiceDate: string (nullable = true)\n |-- UnitPrice: double (nullable = true)\n |-- CustomerID: double (nullable = true)\n |-- Country: string (nullable = true)\n\n</div>",
       "datasetInfos": [],
       "metadata": {},
       "removedWidgets": [],
       "type": "html"
      }
     },
     "output_type": "display_data"
    }
   ],
   "source": [
    "df.printSchema()"
   ]
  },
  {
   "cell_type": "code",
   "execution_count": null,
   "metadata": {
    "application/vnd.databricks.v1+cell": {
     "inputWidgets": {},
     "nuid": "9361d942-4e38-40dc-b31c-ddbba9e4f70c",
     "showTitle": false,
     "title": ""
    }
   },
   "outputs": [
    {
     "data": {
      "text/html": [
       "<style scoped>\n",
       "  .ansiout {\n",
       "    display: block;\n",
       "    unicode-bidi: embed;\n",
       "    white-space: pre-wrap;\n",
       "    word-wrap: break-word;\n",
       "    word-break: break-all;\n",
       "    font-family: \"Source Code Pro\", \"Menlo\", monospace;;\n",
       "    font-size: 13px;\n",
       "    color: #555;\n",
       "    margin-left: 4px;\n",
       "    line-height: 19px;\n",
       "  }\n",
       "</style>\n",
       "<div class=\"ansiout\">Out[5]: &lt;bound method DataFrame.createOrReplaceTempView of DataFrame[InvoiceNo: string, StockCode: string, Description: string, Quantity: int, InvoiceDate: string, UnitPrice: double, CustomerID: double, Country: string]&gt;</div>"
      ]
     },
     "metadata": {
      "application/vnd.databricks.v1+output": {
       "addedWidgets": {},
       "arguments": {},
       "data": "<div class=\"ansiout\">Out[5]: &lt;bound method DataFrame.createOrReplaceTempView of DataFrame[InvoiceNo: string, StockCode: string, Description: string, Quantity: int, InvoiceDate: string, UnitPrice: double, CustomerID: double, Country: string]&gt;</div>",
       "datasetInfos": [],
       "metadata": {},
       "removedWidgets": [],
       "type": "html"
      }
     },
     "output_type": "display_data"
    }
   ],
   "source": [
    "df.createOrReplaceTempView"
   ]
  },
  {
   "cell_type": "code",
   "execution_count": null,
   "metadata": {
    "application/vnd.databricks.v1+cell": {
     "inputWidgets": {},
     "nuid": "dc067b37-835b-403a-ab2b-069172458607",
     "showTitle": false,
     "title": ""
    }
   },
   "outputs": [
    {
     "data": {
      "text/html": [
       "<style scoped>\n",
       "  .ansiout {\n",
       "    display: block;\n",
       "    unicode-bidi: embed;\n",
       "    white-space: pre-wrap;\n",
       "    word-wrap: break-word;\n",
       "    word-break: break-all;\n",
       "    font-family: \"Source Code Pro\", \"Menlo\", monospace;;\n",
       "    font-size: 13px;\n",
       "    color: #555;\n",
       "    margin-left: 4px;\n",
       "    line-height: 19px;\n",
       "  }\n",
       "</style>\n",
       "<div class=\"ansiout\">+---------+---------+--------------------+--------+-------------------+---------+----------+--------------+\n",
       "InvoiceNo|StockCode|         Description|Quantity|        InvoiceDate|UnitPrice|CustomerID|       Country|\n",
       "+---------+---------+--------------------+--------+-------------------+---------+----------+--------------+\n",
       "   536365|   85123A|WHITE HANGING HEA...|       6|2010-12-01 08:26:00|     2.55|   17850.0|United Kingdom|\n",
       "   536365|    71053| WHITE METAL LANTERN|       6|2010-12-01 08:26:00|     3.39|   17850.0|United Kingdom|\n",
       "   536365|   84406B|CREAM CUPID HEART...|       8|2010-12-01 08:26:00|     2.75|   17850.0|United Kingdom|\n",
       "+---------+---------+--------------------+--------+-------------------+---------+----------+--------------+\n",
       "only showing top 3 rows\n",
       "\n",
       "</div>"
      ]
     },
     "metadata": {
      "application/vnd.databricks.v1+output": {
       "addedWidgets": {},
       "arguments": {},
       "data": "<div class=\"ansiout\">+---------+---------+--------------------+--------+-------------------+---------+----------+--------------+\n|InvoiceNo|StockCode|         Description|Quantity|        InvoiceDate|UnitPrice|CustomerID|       Country|\n+---------+---------+--------------------+--------+-------------------+---------+----------+--------------+\n|   536365|   85123A|WHITE HANGING HEA...|       6|2010-12-01 08:26:00|     2.55|   17850.0|United Kingdom|\n|   536365|    71053| WHITE METAL LANTERN|       6|2010-12-01 08:26:00|     3.39|   17850.0|United Kingdom|\n|   536365|   84406B|CREAM CUPID HEART...|       8|2010-12-01 08:26:00|     2.75|   17850.0|United Kingdom|\n+---------+---------+--------------------+--------+-------------------+---------+----------+--------------+\nonly showing top 3 rows\n\n</div>",
       "datasetInfos": [],
       "metadata": {},
       "removedWidgets": [],
       "type": "html"
      }
     },
     "output_type": "display_data"
    }
   ],
   "source": [
    "df.show(3)"
   ]
  },
  {
   "cell_type": "markdown",
   "metadata": {
    "application/vnd.databricks.v1+cell": {
     "inputWidgets": {},
     "nuid": "6074cc34-dc47-4555-b0fa-1c5f37135cc3",
     "showTitle": false,
     "title": ""
    }
   },
   "source": [
    "## 스파크 데이터 타입으로 변환하기\n",
    "- lit함수를 적용하여 다른언어의 데이터 타입을 스파크 데이터 타입에 맞게 변환"
   ]
  },
  {
   "cell_type": "code",
   "execution_count": null,
   "metadata": {
    "application/vnd.databricks.v1+cell": {
     "inputWidgets": {},
     "nuid": "263f7688-d227-49e0-9a18-1809cd153fec",
     "showTitle": false,
     "title": ""
    }
   },
   "outputs": [
    {
     "data": {
      "text/html": [
       "<style scoped>\n",
       "  .ansiout {\n",
       "    display: block;\n",
       "    unicode-bidi: embed;\n",
       "    white-space: pre-wrap;\n",
       "    word-wrap: break-word;\n",
       "    word-break: break-all;\n",
       "    font-family: \"Source Code Pro\", \"Menlo\", monospace;;\n",
       "    font-size: 13px;\n",
       "    color: #555;\n",
       "    margin-left: 4px;\n",
       "    line-height: 19px;\n",
       "  }\n",
       "</style>\n",
       "<div class=\"ansiout\">Out[7]: DataFrame[5: int, five: string, 5.0: double]</div>"
      ]
     },
     "metadata": {
      "application/vnd.databricks.v1+output": {
       "addedWidgets": {},
       "arguments": {},
       "data": "<div class=\"ansiout\">Out[7]: DataFrame[5: int, five: string, 5.0: double]</div>",
       "datasetInfos": [],
       "metadata": {},
       "removedWidgets": [],
       "type": "html"
      }
     },
     "output_type": "display_data"
    }
   ],
   "source": [
    "df.select(F.lit(5), F.lit('five'), F.lit(5.0)) #int, string, double"
   ]
  },
  {
   "cell_type": "markdown",
   "metadata": {
    "application/vnd.databricks.v1+cell": {
     "inputWidgets": {},
     "nuid": "6717e573-3d43-4a70-9a83-9ace6dd35aab",
     "showTitle": false,
     "title": ""
    }
   },
   "source": [
    "## 불리언 데이터 타입 다루기\n",
    "- 불리언은 모든 필터링 작업의 기반\n",
    "- 불리언 구문은 and, or, true, false로 구성\n",
    "- 불리언 구문을 사용해 true 또는 false로 평가되는 논리 문법을 만듦\n",
    "- 불리언 식에는 일치 조건, 비교 연산 조건을 사용 가능"
   ]
  },
  {
   "cell_type": "code",
   "execution_count": null,
   "metadata": {
    "application/vnd.databricks.v1+cell": {
     "inputWidgets": {},
     "nuid": "a51ad818-62d3-42ee-af05-dbe650dfc21b",
     "showTitle": false,
     "title": ""
    }
   },
   "outputs": [
    {
     "data": {
      "text/html": [
       "<style scoped>\n",
       "  .ansiout {\n",
       "    display: block;\n",
       "    unicode-bidi: embed;\n",
       "    white-space: pre-wrap;\n",
       "    word-wrap: break-word;\n",
       "    word-break: break-all;\n",
       "    font-family: \"Source Code Pro\", \"Menlo\", monospace;;\n",
       "    font-size: 13px;\n",
       "    color: #555;\n",
       "    margin-left: 4px;\n",
       "    line-height: 19px;\n",
       "  }\n",
       "</style>\n",
       "<div class=\"ansiout\">+---------+-----------------------------+\n",
       "invoiceno|description                  |\n",
       "+---------+-----------------------------+\n",
       "536366   |HAND WARMER UNION JACK       |\n",
       "536366   |HAND WARMER RED POLKA DOT    |\n",
       "536367   |ASSORTED COLOUR BIRD ORNAMENT|\n",
       "536367   |POPPY&#39;S PLAYHOUSE BEDROOM    |\n",
       "536367   |POPPY&#39;S PLAYHOUSE KITCHEN    |\n",
       "+---------+-----------------------------+\n",
       "only showing top 5 rows\n",
       "\n",
       "</div>"
      ]
     },
     "metadata": {
      "application/vnd.databricks.v1+output": {
       "addedWidgets": {},
       "arguments": {},
       "data": "<div class=\"ansiout\">+---------+-----------------------------+\n|invoiceno|description                  |\n+---------+-----------------------------+\n|536366   |HAND WARMER UNION JACK       |\n|536366   |HAND WARMER RED POLKA DOT    |\n|536367   |ASSORTED COLOUR BIRD ORNAMENT|\n|536367   |POPPY&#39;S PLAYHOUSE BEDROOM    |\n|536367   |POPPY&#39;S PLAYHOUSE KITCHEN    |\n+---------+-----------------------------+\nonly showing top 5 rows\n\n</div>",
       "datasetInfos": [],
       "metadata": {},
       "removedWidgets": [],
       "type": "html"
      }
     },
     "output_type": "display_data"
    }
   ],
   "source": [
    "df.where(F.col('invoiceno') != 536365).select('invoiceno', 'description').show(5, False)"
   ]
  },
  {
   "cell_type": "code",
   "execution_count": null,
   "metadata": {
    "application/vnd.databricks.v1+cell": {
     "inputWidgets": {},
     "nuid": "700b2de1-27a9-4f38-9a1b-da64ce13b6af",
     "showTitle": false,
     "title": ""
    }
   },
   "outputs": [
    {
     "data": {
      "text/html": [
       "<style scoped>\n",
       "  .ansiout {\n",
       "    display: block;\n",
       "    unicode-bidi: embed;\n",
       "    white-space: pre-wrap;\n",
       "    word-wrap: break-word;\n",
       "    word-break: break-all;\n",
       "    font-family: \"Source Code Pro\", \"Menlo\", monospace;;\n",
       "    font-size: 13px;\n",
       "    color: #555;\n",
       "    margin-left: 4px;\n",
       "    line-height: 19px;\n",
       "  }\n",
       "</style>\n",
       "<div class=\"ansiout\">+---------+---------+--------------+--------+-------------------+---------+----------+--------------+\n",
       "InvoiceNo|StockCode|   Description|Quantity|        InvoiceDate|UnitPrice|CustomerID|       Country|\n",
       "+---------+---------+--------------+--------+-------------------+---------+----------+--------------+\n",
       "   536544|      DOT|DOTCOM POSTAGE|       1|2010-12-01 14:32:00|   569.77|      null|United Kingdom|\n",
       "   536592|      DOT|DOTCOM POSTAGE|       1|2010-12-01 17:06:00|   607.49|      null|United Kingdom|\n",
       "+---------+---------+--------------+--------+-------------------+---------+----------+--------------+\n",
       "\n",
       "</div>"
      ]
     },
     "metadata": {
      "application/vnd.databricks.v1+output": {
       "addedWidgets": {},
       "arguments": {},
       "data": "<div class=\"ansiout\">+---------+---------+--------------+--------+-------------------+---------+----------+--------------+\n|InvoiceNo|StockCode|   Description|Quantity|        InvoiceDate|UnitPrice|CustomerID|       Country|\n+---------+---------+--------------+--------+-------------------+---------+----------+--------------+\n|   536544|      DOT|DOTCOM POSTAGE|       1|2010-12-01 14:32:00|   569.77|      null|United Kingdom|\n|   536592|      DOT|DOTCOM POSTAGE|       1|2010-12-01 17:06:00|   607.49|      null|United Kingdom|\n+---------+---------+--------------+--------+-------------------+---------+----------+--------------+\n\n</div>",
       "datasetInfos": [],
       "metadata": {},
       "removedWidgets": [],
       "type": "html"
      }
     },
     "output_type": "display_data"
    }
   ],
   "source": [
    "priceFilter = F.col('unitprice')>600\n",
    "descripFilter = F.instr(df.Description, 'POSTAGE')>=1 #POSTAGE가 없으면 0 있으면 1부터(index가 1부터임)\n",
    "df.where(df.StockCode.isin('DOT')).where(priceFilter|descripFilter).show() #isin메서드로 DOT값이 있는지 확인"
   ]
  },
  {
   "cell_type": "markdown",
   "metadata": {
    "application/vnd.databricks.v1+cell": {
     "inputWidgets": {},
     "nuid": "ab88fe7e-f249-447b-9b8c-1db4a3465d4f",
     "showTitle": false,
     "title": ""
    }
   },
   "source": [
    "-----\n",
    "- [instr_링크](https://spark.apache.org/docs/latest/api/python/reference/api/pyspark.sql.functions.instr.html?highlight=instr#pyspark.sql.functions.instr)\n",
    "- [isin 링크](https://spark.apache.org/docs/latest/api/python/reference/api/pyspark.sql.Column.isin.html?highlight=isin#pyspark.sql.Column.isin)"
   ]
  },
  {
   "cell_type": "markdown",
   "metadata": {
    "application/vnd.databricks.v1+cell": {
     "inputWidgets": {},
     "nuid": "4adfcebd-0e27-445a-b32c-5bd9f2ff61de",
     "showTitle": false,
     "title": ""
    }
   },
   "source": [
    "## 수치형 데이터 타입 다루기\n",
    "- pow: 거듭제곱\n",
    "- round: 반올림\n",
    "- bound: 내림\n",
    "- corr: 피어슨 상관계수\n",
    "- describe: 요약 통계 계산\n",
    "  - count\n",
    "  - mean\n",
    "  - stddev\n",
    "  - min\n",
    "  - max"
   ]
  },
  {
   "cell_type": "code",
   "execution_count": null,
   "metadata": {
    "application/vnd.databricks.v1+cell": {
     "inputWidgets": {},
     "nuid": "0a3717a7-4426-4e9f-9542-962f8bdd168f",
     "showTitle": false,
     "title": ""
    }
   },
   "outputs": [
    {
     "data": {
      "text/html": [
       "<style scoped>\n",
       "  .ansiout {\n",
       "    display: block;\n",
       "    unicode-bidi: embed;\n",
       "    white-space: pre-wrap;\n",
       "    word-wrap: break-word;\n",
       "    word-break: break-all;\n",
       "    font-family: \"Source Code Pro\", \"Menlo\", monospace;;\n",
       "    font-size: 13px;\n",
       "    color: #555;\n",
       "    margin-left: 4px;\n",
       "    line-height: 19px;\n",
       "  }\n",
       "</style>\n",
       "<div class=\"ansiout\">+----------+------------------+\n",
       "customerid|      realQuantity|\n",
       "+----------+------------------+\n",
       "   17850.0|239.08999999999997|\n",
       "   17850.0|          418.7156|\n",
       "+----------+------------------+\n",
       "only showing top 2 rows\n",
       "\n",
       "</div>"
      ]
     },
     "metadata": {
      "application/vnd.databricks.v1+output": {
       "addedWidgets": {},
       "arguments": {},
       "data": "<div class=\"ansiout\">+----------+------------------+\n|customerid|      realQuantity|\n+----------+------------------+\n|   17850.0|239.08999999999997|\n|   17850.0|          418.7156|\n+----------+------------------+\nonly showing top 2 rows\n\n</div>",
       "datasetInfos": [],
       "metadata": {},
       "removedWidgets": [],
       "type": "html"
      }
     },
     "output_type": "display_data"
    }
   ],
   "source": [
    "fabricatedQuantity = F.pow(F.col('Quantity') * F.col('UnitPrice'), 2)+5\n",
    "df.select('customerid', fabricatedQuantity.alias('realQuantity')).show(2)"
   ]
  },
  {
   "cell_type": "code",
   "execution_count": null,
   "metadata": {
    "application/vnd.databricks.v1+cell": {
     "inputWidgets": {},
     "nuid": "790a00f0-3996-4d37-8e01-7f199b8a1b1d",
     "showTitle": false,
     "title": ""
    }
   },
   "outputs": [
    {
     "data": {
      "text/html": [
       "<style scoped>\n",
       "  .ansiout {\n",
       "    display: block;\n",
       "    unicode-bidi: embed;\n",
       "    white-space: pre-wrap;\n",
       "    word-wrap: break-word;\n",
       "    word-break: break-all;\n",
       "    font-family: \"Source Code Pro\", \"Menlo\", monospace;;\n",
       "    font-size: 13px;\n",
       "    color: #555;\n",
       "    margin-left: 4px;\n",
       "    line-height: 19px;\n",
       "  }\n",
       "</style>\n",
       "<div class=\"ansiout\">Out[11]: DataFrame[round(2.5, 0): double, bround(2.5, 0): double]</div>"
      ]
     },
     "metadata": {
      "application/vnd.databricks.v1+output": {
       "addedWidgets": {},
       "arguments": {},
       "data": "<div class=\"ansiout\">Out[11]: DataFrame[round(2.5, 0): double, bround(2.5, 0): double]</div>",
       "datasetInfos": [],
       "metadata": {},
       "removedWidgets": [],
       "type": "html"
      }
     },
     "output_type": "display_data"
    }
   ],
   "source": [
    "df.select(F.round(F.lit(\"2.5\")), F.bround(F.lit(\"2.5\")))"
   ]
  },
  {
   "cell_type": "code",
   "execution_count": null,
   "metadata": {
    "application/vnd.databricks.v1+cell": {
     "inputWidgets": {},
     "nuid": "eb377b4b-b86a-465c-8993-f56fc3248c1a",
     "showTitle": false,
     "title": ""
    }
   },
   "outputs": [
    {
     "data": {
      "text/html": [
       "<style scoped>\n",
       "  .ansiout {\n",
       "    display: block;\n",
       "    unicode-bidi: embed;\n",
       "    white-space: pre-wrap;\n",
       "    word-wrap: break-word;\n",
       "    word-break: break-all;\n",
       "    font-family: \"Source Code Pro\", \"Menlo\", monospace;;\n",
       "    font-size: 13px;\n",
       "    color: #555;\n",
       "    margin-left: 4px;\n",
       "    line-height: 19px;\n",
       "  }\n",
       "</style>\n",
       "<div class=\"ansiout\">+-------------------------+\n",
       "corr(Quantity, UnitPrice)|\n",
       "+-------------------------+\n",
       "     -0.04112314436835551|\n",
       "+-------------------------+\n",
       "\n",
       "</div>"
      ]
     },
     "metadata": {
      "application/vnd.databricks.v1+output": {
       "addedWidgets": {},
       "arguments": {},
       "data": "<div class=\"ansiout\">+-------------------------+\n|corr(Quantity, UnitPrice)|\n+-------------------------+\n|     -0.04112314436835551|\n+-------------------------+\n\n</div>",
       "datasetInfos": [],
       "metadata": {},
       "removedWidgets": [],
       "type": "html"
      }
     },
     "output_type": "display_data"
    }
   ],
   "source": [
    "df.select(F.corr('Quantity', 'UnitPrice')).show()"
   ]
  },
  {
   "cell_type": "code",
   "execution_count": null,
   "metadata": {
    "application/vnd.databricks.v1+cell": {
     "inputWidgets": {},
     "nuid": "fb1232a0-7af3-4fea-a66d-0a232bc41f1c",
     "showTitle": false,
     "title": ""
    }
   },
   "outputs": [
    {
     "data": {
      "text/html": [
       "<style scoped>\n",
       "  .ansiout {\n",
       "    display: block;\n",
       "    unicode-bidi: embed;\n",
       "    white-space: pre-wrap;\n",
       "    word-wrap: break-word;\n",
       "    word-break: break-all;\n",
       "    font-family: \"Source Code Pro\", \"Menlo\", monospace;;\n",
       "    font-size: 13px;\n",
       "    color: #555;\n",
       "    margin-left: 4px;\n",
       "    line-height: 19px;\n",
       "  }\n",
       "</style>\n",
       "<div class=\"ansiout\">+-------+-----------------+------------------+--------------------+------------------+-------------------+------------------+------------------+--------------+\n",
       "summary|        InvoiceNo|         StockCode|         Description|          Quantity|        InvoiceDate|         UnitPrice|        CustomerID|       Country|\n",
       "+-------+-----------------+------------------+--------------------+------------------+-------------------+------------------+------------------+--------------+\n",
       "  count|             3108|              3108|                3098|              3108|               3108|              3108|              1968|          3108|\n",
       "   mean| 536516.684944841|27834.304044117645|                null| 8.627413127413128|               null| 4.151946589446603|15661.388719512195|          null|\n",
       " stddev|72.89447869788873|17407.897548583845|                null|26.371821677029203|               null|15.638659854603892|1854.4496996893627|          null|\n",
       "    min|           536365|             10002| 4 PURPLE FLOCK D...|               -24|2010-12-01 08:26:00|               0.0|           12431.0|     Australia|\n",
       "    max|          C536548|              POST|ZINC WILLIE WINKI...|               600|2010-12-01 17:35:00|            607.49|           18229.0|United Kingdom|\n",
       "+-------+-----------------+------------------+--------------------+------------------+-------------------+------------------+------------------+--------------+\n",
       "\n",
       "</div>"
      ]
     },
     "metadata": {
      "application/vnd.databricks.v1+output": {
       "addedWidgets": {},
       "arguments": {},
       "data": "<div class=\"ansiout\">+-------+-----------------+------------------+--------------------+------------------+-------------------+------------------+------------------+--------------+\n|summary|        InvoiceNo|         StockCode|         Description|          Quantity|        InvoiceDate|         UnitPrice|        CustomerID|       Country|\n+-------+-----------------+------------------+--------------------+------------------+-------------------+------------------+------------------+--------------+\n|  count|             3108|              3108|                3098|              3108|               3108|              3108|              1968|          3108|\n|   mean| 536516.684944841|27834.304044117645|                null| 8.627413127413128|               null| 4.151946589446603|15661.388719512195|          null|\n| stddev|72.89447869788873|17407.897548583845|                null|26.371821677029203|               null|15.638659854603892|1854.4496996893627|          null|\n|    min|           536365|             10002| 4 PURPLE FLOCK D...|               -24|2010-12-01 08:26:00|               0.0|           12431.0|     Australia|\n|    max|          C536548|              POST|ZINC WILLIE WINKI...|               600|2010-12-01 17:35:00|            607.49|           18229.0|United Kingdom|\n+-------+-----------------+------------------+--------------------+------------------+-------------------+------------------+------------------+--------------+\n\n</div>",
       "datasetInfos": [],
       "metadata": {},
       "removedWidgets": [],
       "type": "html"
      }
     },
     "output_type": "display_data"
    }
   ],
   "source": [
    "df.describe().show()"
   ]
  },
  {
   "cell_type": "markdown",
   "metadata": {
    "application/vnd.databricks.v1+cell": {
     "inputWidgets": {},
     "nuid": "deb91952-06e9-4e88-922c-6a9eb9ace422",
     "showTitle": false,
     "title": ""
    }
   },
   "source": [
    "#### StatFunctions 패키지\n",
    "- [doc 링크](https://spark.apache.org/docs/latest/api/python/reference/api/pyspark.sql.DataFrameStatFunctions.html?highlight=statfunctions#pyspark.sql.DataFrameStatFunctions)\n",
    "- 다양한 통곗값을 계산할 때 사용하는 DataFrame 메서드\n",
    "- <strong>stat 속성</strong>을 사용해 접근할 수 있음"
   ]
  },
  {
   "cell_type": "code",
   "execution_count": null,
   "metadata": {
    "application/vnd.databricks.v1+cell": {
     "inputWidgets": {},
     "nuid": "d30d385c-a31c-45c3-8ca3-717ac55df68a",
     "showTitle": false,
     "title": ""
    }
   },
   "outputs": [
    {
     "data": {
      "text/html": [
       "<style scoped>\n",
       "  .ansiout {\n",
       "    display: block;\n",
       "    unicode-bidi: embed;\n",
       "    white-space: pre-wrap;\n",
       "    word-wrap: break-word;\n",
       "    word-break: break-all;\n",
       "    font-family: \"Source Code Pro\", \"Menlo\", monospace;;\n",
       "    font-size: 13px;\n",
       "    color: #555;\n",
       "    margin-left: 4px;\n",
       "    line-height: 19px;\n",
       "  }\n",
       "</style>\n",
       "<div class=\"ansiout\">Out[14]: [2.51]</div>"
      ]
     },
     "metadata": {
      "application/vnd.databricks.v1+output": {
       "addedWidgets": {},
       "arguments": {},
       "data": "<div class=\"ansiout\">Out[14]: [2.51]</div>",
       "datasetInfos": [],
       "metadata": {},
       "removedWidgets": [],
       "type": "html"
      }
     },
     "output_type": "display_data"
    }
   ],
   "source": [
    "olName= 'UnitPrice'\n",
    "quantileProbs = [0.5]\n",
    "relError=0.05\n",
    "\n",
    "#백분위수를 정확하게 계산하거나 근사치 계산\n",
    "df.stat.approxQuantile(olName, quantileProbs, relError)"
   ]
  },
  {
   "cell_type": "code",
   "execution_count": null,
   "metadata": {
    "application/vnd.databricks.v1+cell": {
     "inputWidgets": {},
     "nuid": "289506dc-e5e5-42c0-96fc-bb28f0141654",
     "showTitle": false,
     "title": ""
    }
   },
   "outputs": [
    {
     "data": {
      "text/html": [
       "<style scoped>\n",
       "  .ansiout {\n",
       "    display: block;\n",
       "    unicode-bidi: embed;\n",
       "    white-space: pre-wrap;\n",
       "    word-wrap: break-word;\n",
       "    word-break: break-all;\n",
       "    font-family: \"Source Code Pro\", \"Menlo\", monospace;;\n",
       "    font-size: 13px;\n",
       "    color: #555;\n",
       "    margin-left: 4px;\n",
       "    line-height: 19px;\n",
       "  }\n",
       "</style>\n",
       "<div class=\"ansiout\">Out[15]: -0.04112314436835551</div>"
      ]
     },
     "metadata": {
      "application/vnd.databricks.v1+output": {
       "addedWidgets": {},
       "arguments": {},
       "data": "<div class=\"ansiout\">Out[15]: -0.04112314436835551</div>",
       "datasetInfos": [],
       "metadata": {},
       "removedWidgets": [],
       "type": "html"
      }
     },
     "output_type": "display_data"
    }
   ],
   "source": [
    "#피어슨 상관계수\n",
    "df.stat.corr('Quantity', 'UnitPrice')"
   ]
  },
  {
   "cell_type": "code",
   "execution_count": null,
   "metadata": {
    "application/vnd.databricks.v1+cell": {
     "inputWidgets": {},
     "nuid": "918e40ed-c384-43c7-8a87-52cc694c542f",
     "showTitle": false,
     "title": ""
    }
   },
   "outputs": [
    {
     "data": {
      "text/html": [
       "<style scoped>\n",
       "  .table-result-container {\n",
       "    max-height: 300px;\n",
       "    overflow: auto;\n",
       "  }\n",
       "  table, th, td {\n",
       "    border: 1px solid black;\n",
       "    border-collapse: collapse;\n",
       "  }\n",
       "  th, td {\n",
       "    padding: 5px;\n",
       "  }\n",
       "  th {\n",
       "    text-align: left;\n",
       "  }\n",
       "</style><div class='table-result-container'><table class='table-result'><thead style='background-color: white'><tr><th>StockCode_Quantity</th><th>-1</th><th>-10</th><th>-12</th><th>-2</th><th>-24</th><th>-3</th><th>-4</th><th>-5</th><th>-6</th><th>-7</th><th>1</th><th>10</th><th>100</th><th>11</th><th>12</th><th>120</th><th>128</th><th>13</th><th>14</th><th>144</th><th>15</th><th>16</th><th>17</th><th>18</th><th>19</th><th>192</th><th>2</th><th>20</th><th>200</th><th>21</th><th>216</th><th>22</th><th>23</th><th>24</th><th>25</th><th>252</th><th>27</th><th>28</th><th>288</th><th>3</th><th>30</th><th>32</th><th>33</th><th>34</th><th>36</th><th>384</th><th>4</th><th>40</th><th>432</th><th>47</th><th>48</th><th>480</th><th>5</th><th>50</th><th>56</th><th>6</th><th>60</th><th>600</th><th>64</th><th>7</th><th>70</th><th>72</th><th>8</th><th>80</th><th>9</th><th>96</th></tr></thead><tbody><tr><td>22578</td><td>0</td><td>0</td><td>0</td><td>0</td><td>0</td><td>0</td><td>0</td><td>0</td><td>0</td><td>0</td><td>0</td><td>0</td><td>0</td><td>0</td><td>0</td><td>0</td><td>0</td><td>0</td><td>0</td><td>0</td><td>0</td><td>0</td><td>0</td><td>0</td><td>0</td><td>0</td><td>0</td><td>0</td><td>0</td><td>0</td><td>0</td><td>0</td><td>0</td><td>1</td><td>0</td><td>0</td><td>0</td><td>0</td><td>0</td><td>0</td><td>0</td><td>0</td><td>0</td><td>0</td><td>0</td><td>0</td><td>0</td><td>0</td><td>0</td><td>0</td><td>0</td><td>0</td><td>0</td><td>0</td><td>0</td><td>0</td><td>0</td><td>0</td><td>0</td><td>0</td><td>0</td><td>0</td><td>0</td><td>0</td><td>0</td><td>0</td></tr><tr><td>21327</td><td>0</td><td>0</td><td>0</td><td>0</td><td>0</td><td>0</td><td>0</td><td>0</td><td>0</td><td>0</td><td>2</td><td>0</td><td>0</td><td>0</td><td>0</td><td>0</td><td>0</td><td>0</td><td>0</td><td>0</td><td>0</td><td>0</td><td>0</td><td>0</td><td>0</td><td>0</td><td>0</td><td>0</td><td>0</td><td>0</td><td>0</td><td>0</td><td>0</td><td>0</td><td>0</td><td>0</td><td>0</td><td>0</td><td>0</td><td>0</td><td>0</td><td>0</td><td>0</td><td>0</td><td>0</td><td>0</td><td>0</td><td>0</td><td>0</td><td>0</td><td>0</td><td>0</td><td>0</td><td>0</td><td>0</td><td>0</td><td>0</td><td>0</td><td>0</td><td>0</td><td>0</td><td>0</td><td>0</td><td>0</td><td>0</td><td>0</td></tr><tr><td>22064</td><td>0</td><td>0</td><td>0</td><td>0</td><td>0</td><td>0</td><td>0</td><td>0</td><td>0</td><td>0</td><td>1</td><td>0</td><td>0</td><td>0</td><td>1</td><td>0</td><td>0</td><td>0</td><td>0</td><td>0</td><td>0</td><td>0</td><td>0</td><td>0</td><td>0</td><td>0</td><td>1</td><td>0</td><td>0</td><td>0</td><td>0</td><td>0</td><td>0</td><td>0</td><td>0</td><td>0</td><td>0</td><td>0</td><td>0</td><td>0</td><td>0</td><td>0</td><td>0</td><td>0</td><td>0</td><td>0</td><td>0</td><td>0</td><td>0</td><td>0</td><td>0</td><td>0</td><td>0</td><td>0</td><td>0</td><td>0</td><td>0</td><td>0</td><td>0</td><td>0</td><td>0</td><td>0</td><td>0</td><td>0</td><td>0</td><td>0</td></tr><tr><td>21080</td><td>0</td><td>0</td><td>0</td><td>0</td><td>0</td><td>0</td><td>0</td><td>0</td><td>0</td><td>0</td><td>1</td><td>0</td><td>0</td><td>0</td><td>0</td><td>0</td><td>0</td><td>0</td><td>0</td><td>0</td><td>0</td><td>0</td><td>0</td><td>0</td><td>0</td><td>0</td><td>0</td><td>0</td><td>0</td><td>0</td><td>0</td><td>0</td><td>0</td><td>0</td><td>0</td><td>0</td><td>0</td><td>0</td><td>0</td><td>0</td><td>0</td><td>0</td><td>0</td><td>0</td><td>1</td><td>0</td><td>0</td><td>0</td><td>0</td><td>0</td><td>0</td><td>0</td><td>0</td><td>0</td><td>0</td><td>0</td><td>0</td><td>0</td><td>0</td><td>0</td><td>0</td><td>0</td><td>0</td><td>0</td><td>0</td><td>1</td></tr><tr><td>22219</td><td>0</td><td>0</td><td>0</td><td>0</td><td>0</td><td>0</td><td>0</td><td>0</td><td>0</td><td>0</td><td>0</td><td>0</td><td>0</td><td>0</td><td>3</td><td>0</td><td>0</td><td>0</td><td>0</td><td>0</td><td>0</td><td>0</td><td>0</td><td>0</td><td>0</td><td>0</td><td>0</td><td>0</td><td>0</td><td>0</td><td>0</td><td>0</td><td>0</td><td>0</td><td>0</td><td>0</td><td>0</td><td>0</td><td>0</td><td>1</td><td>0</td><td>0</td><td>0</td><td>0</td><td>0</td><td>0</td><td>0</td><td>0</td><td>0</td><td>0</td><td>0</td><td>0</td><td>0</td><td>0</td><td>0</td><td>0</td><td>0</td><td>0</td><td>0</td><td>0</td><td>0</td><td>0</td><td>0</td><td>0</td><td>0</td><td>0</td></tr><tr><td>21908</td><td>0</td><td>0</td><td>0</td><td>0</td><td>0</td><td>0</td><td>0</td><td>0</td><td>0</td><td>0</td><td>1</td><td>0</td><td>0</td><td>0</td><td>0</td><td>0</td><td>0</td><td>0</td><td>0</td><td>0</td><td>0</td><td>0</td><td>0</td><td>0</td><td>0</td><td>0</td><td>0</td><td>0</td><td>0</td><td>0</td><td>0</td><td>0</td><td>0</td><td>0</td><td>0</td><td>0</td><td>0</td><td>0</td><td>0</td><td>0</td><td>0</td><td>0</td><td>0</td><td>0</td><td>0</td><td>0</td><td>0</td><td>0</td><td>0</td><td>0</td><td>0</td><td>0</td><td>0</td><td>0</td><td>0</td><td>0</td><td>0</td><td>0</td><td>0</td><td>0</td><td>0</td><td>0</td><td>0</td><td>0</td><td>0</td><td>0</td></tr><tr><td>22818</td><td>0</td><td>0</td><td>0</td><td>0</td><td>0</td><td>0</td><td>0</td><td>0</td><td>0</td><td>0</td><td>0</td><td>0</td><td>0</td><td>0</td><td>1</td><td>0</td><td>0</td><td>0</td><td>0</td><td>0</td><td>0</td><td>0</td><td>0</td><td>0</td><td>0</td><td>0</td><td>0</td><td>0</td><td>0</td><td>0</td><td>0</td><td>0</td><td>0</td><td>0</td><td>0</td><td>0</td><td>0</td><td>0</td><td>0</td><td>0</td><td>0</td><td>0</td><td>0</td><td>0</td><td>0</td><td>0</td><td>0</td><td>0</td><td>0</td><td>0</td><td>0</td><td>0</td><td>0</td><td>0</td><td>0</td><td>1</td><td>0</td><td>0</td><td>0</td><td>0</td><td>0</td><td>0</td><td>0</td><td>0</td><td>0</td><td>0</td></tr><tr><td>15056BL</td><td>0</td><td>0</td><td>0</td><td>0</td><td>0</td><td>0</td><td>0</td><td>0</td><td>0</td><td>0</td><td>0</td><td>0</td><td>0</td><td>0</td><td>1</td><td>0</td><td>0</td><td>0</td><td>0</td><td>0</td><td>0</td><td>0</td><td>0</td><td>0</td><td>0</td><td>0</td><td>1</td><td>0</td><td>0</td><td>0</td><td>0</td><td>0</td><td>0</td><td>0</td><td>0</td><td>0</td><td>0</td><td>0</td><td>0</td><td>0</td><td>0</td><td>0</td><td>0</td><td>0</td><td>0</td><td>0</td><td>0</td><td>0</td><td>0</td><td>0</td><td>0</td><td>0</td><td>0</td><td>0</td><td>0</td><td>1</td><td>0</td><td>0</td><td>0</td><td>0</td><td>0</td><td>0</td><td>0</td><td>0</td><td>0</td><td>0</td></tr><tr><td>72817</td><td>0</td><td>0</td><td>0</td><td>0</td><td>0</td><td>0</td><td>0</td><td>0</td><td>0</td><td>0</td><td>1</td><td>0</td><td>0</td><td>0</td><td>1</td><td>0</td><td>0</td><td>0</td><td>0</td><td>0</td><td>0</td><td>0</td><td>0</td><td>0</td><td>0</td><td>0</td><td>1</td><td>0</td><td>0</td><td>0</td><td>0</td><td>0</td><td>0</td><td>0</td><td>0</td><td>0</td><td>0</td><td>0</td><td>0</td><td>0</td><td>0</td><td>0</td><td>0</td><td>0</td><td>0</td><td>0</td><td>0</td><td>0</td><td>0</td><td>0</td><td>0</td><td>0</td><td>0</td><td>0</td><td>0</td><td>0</td><td>0</td><td>0</td><td>0</td><td>0</td><td>0</td><td>0</td><td>0</td><td>0</td><td>0</td><td>0</td></tr><tr><td>22545</td><td>0</td><td>0</td><td>0</td><td>0</td><td>0</td><td>0</td><td>0</td><td>0</td><td>0</td><td>0</td><td>1</td><td>0</td><td>0</td><td>0</td><td>0</td><td>0</td><td>0</td><td>0</td><td>0</td><td>0</td><td>0</td><td>0</td><td>0</td><td>0</td><td>0</td><td>0</td><td>0</td><td>0</td><td>0</td><td>0</td><td>0</td><td>0</td><td>0</td><td>0</td><td>0</td><td>0</td><td>0</td><td>0</td><td>0</td><td>0</td><td>0</td><td>0</td><td>0</td><td>0</td><td>0</td><td>0</td><td>0</td><td>0</td><td>0</td><td>0</td><td>0</td><td>0</td><td>0</td><td>0</td><td>0</td><td>0</td><td>0</td><td>0</td><td>0</td><td>0</td><td>0</td><td>0</td><td>0</td><td>0</td><td>0</td><td>0</td></tr></tbody></table></div>"
      ]
     },
     "metadata": {
      "application/vnd.databricks.v1+output": {
       "addedWidgets": {},
       "aggData": [],
       "aggError": "",
       "aggOverflow": false,
       "aggSchema": [],
       "aggSeriesLimitReached": false,
       "aggType": "",
       "arguments": {},
       "columnCustomDisplayInfos": {},
       "data": [
        [
         "22578",
         0,
         0,
         0,
         0,
         0,
         0,
         0,
         0,
         0,
         0,
         0,
         0,
         0,
         0,
         0,
         0,
         0,
         0,
         0,
         0,
         0,
         0,
         0,
         0,
         0,
         0,
         0,
         0,
         0,
         0,
         0,
         0,
         0,
         1,
         0,
         0,
         0,
         0,
         0,
         0,
         0,
         0,
         0,
         0,
         0,
         0,
         0,
         0,
         0,
         0,
         0,
         0,
         0,
         0,
         0,
         0,
         0,
         0,
         0,
         0,
         0,
         0,
         0,
         0,
         0,
         0
        ],
        [
         "21327",
         0,
         0,
         0,
         0,
         0,
         0,
         0,
         0,
         0,
         0,
         2,
         0,
         0,
         0,
         0,
         0,
         0,
         0,
         0,
         0,
         0,
         0,
         0,
         0,
         0,
         0,
         0,
         0,
         0,
         0,
         0,
         0,
         0,
         0,
         0,
         0,
         0,
         0,
         0,
         0,
         0,
         0,
         0,
         0,
         0,
         0,
         0,
         0,
         0,
         0,
         0,
         0,
         0,
         0,
         0,
         0,
         0,
         0,
         0,
         0,
         0,
         0,
         0,
         0,
         0,
         0
        ],
        [
         "22064",
         0,
         0,
         0,
         0,
         0,
         0,
         0,
         0,
         0,
         0,
         1,
         0,
         0,
         0,
         1,
         0,
         0,
         0,
         0,
         0,
         0,
         0,
         0,
         0,
         0,
         0,
         1,
         0,
         0,
         0,
         0,
         0,
         0,
         0,
         0,
         0,
         0,
         0,
         0,
         0,
         0,
         0,
         0,
         0,
         0,
         0,
         0,
         0,
         0,
         0,
         0,
         0,
         0,
         0,
         0,
         0,
         0,
         0,
         0,
         0,
         0,
         0,
         0,
         0,
         0,
         0
        ],
        [
         "21080",
         0,
         0,
         0,
         0,
         0,
         0,
         0,
         0,
         0,
         0,
         1,
         0,
         0,
         0,
         0,
         0,
         0,
         0,
         0,
         0,
         0,
         0,
         0,
         0,
         0,
         0,
         0,
         0,
         0,
         0,
         0,
         0,
         0,
         0,
         0,
         0,
         0,
         0,
         0,
         0,
         0,
         0,
         0,
         0,
         1,
         0,
         0,
         0,
         0,
         0,
         0,
         0,
         0,
         0,
         0,
         0,
         0,
         0,
         0,
         0,
         0,
         0,
         0,
         0,
         0,
         1
        ],
        [
         "22219",
         0,
         0,
         0,
         0,
         0,
         0,
         0,
         0,
         0,
         0,
         0,
         0,
         0,
         0,
         3,
         0,
         0,
         0,
         0,
         0,
         0,
         0,
         0,
         0,
         0,
         0,
         0,
         0,
         0,
         0,
         0,
         0,
         0,
         0,
         0,
         0,
         0,
         0,
         0,
         1,
         0,
         0,
         0,
         0,
         0,
         0,
         0,
         0,
         0,
         0,
         0,
         0,
         0,
         0,
         0,
         0,
         0,
         0,
         0,
         0,
         0,
         0,
         0,
         0,
         0,
         0
        ],
        [
         "21908",
         0,
         0,
         0,
         0,
         0,
         0,
         0,
         0,
         0,
         0,
         1,
         0,
         0,
         0,
         0,
         0,
         0,
         0,
         0,
         0,
         0,
         0,
         0,
         0,
         0,
         0,
         0,
         0,
         0,
         0,
         0,
         0,
         0,
         0,
         0,
         0,
         0,
         0,
         0,
         0,
         0,
         0,
         0,
         0,
         0,
         0,
         0,
         0,
         0,
         0,
         0,
         0,
         0,
         0,
         0,
         0,
         0,
         0,
         0,
         0,
         0,
         0,
         0,
         0,
         0,
         0
        ],
        [
         "22818",
         0,
         0,
         0,
         0,
         0,
         0,
         0,
         0,
         0,
         0,
         0,
         0,
         0,
         0,
         1,
         0,
         0,
         0,
         0,
         0,
         0,
         0,
         0,
         0,
         0,
         0,
         0,
         0,
         0,
         0,
         0,
         0,
         0,
         0,
         0,
         0,
         0,
         0,
         0,
         0,
         0,
         0,
         0,
         0,
         0,
         0,
         0,
         0,
         0,
         0,
         0,
         0,
         0,
         0,
         0,
         1,
         0,
         0,
         0,
         0,
         0,
         0,
         0,
         0,
         0,
         0
        ],
        [
         "15056BL",
         0,
         0,
         0,
         0,
         0,
         0,
         0,
         0,
         0,
         0,
         0,
         0,
         0,
         0,
         1,
         0,
         0,
         0,
         0,
         0,
         0,
         0,
         0,
         0,
         0,
         0,
         1,
         0,
         0,
         0,
         0,
         0,
         0,
         0,
         0,
         0,
         0,
         0,
         0,
         0,
         0,
         0,
         0,
         0,
         0,
         0,
         0,
         0,
         0,
         0,
         0,
         0,
         0,
         0,
         0,
         1,
         0,
         0,
         0,
         0,
         0,
         0,
         0,
         0,
         0,
         0
        ],
        [
         "72817",
         0,
         0,
         0,
         0,
         0,
         0,
         0,
         0,
         0,
         0,
         1,
         0,
         0,
         0,
         1,
         0,
         0,
         0,
         0,
         0,
         0,
         0,
         0,
         0,
         0,
         0,
         1,
         0,
         0,
         0,
         0,
         0,
         0,
         0,
         0,
         0,
         0,
         0,
         0,
         0,
         0,
         0,
         0,
         0,
         0,
         0,
         0,
         0,
         0,
         0,
         0,
         0,
         0,
         0,
         0,
         0,
         0,
         0,
         0,
         0,
         0,
         0,
         0,
         0,
         0,
         0
        ],
        [
         "22545",
         0,
         0,
         0,
         0,
         0,
         0,
         0,
         0,
         0,
         0,
         1,
         0,
         0,
         0,
         0,
         0,
         0,
         0,
         0,
         0,
         0,
         0,
         0,
         0,
         0,
         0,
         0,
         0,
         0,
         0,
         0,
         0,
         0,
         0,
         0,
         0,
         0,
         0,
         0,
         0,
         0,
         0,
         0,
         0,
         0,
         0,
         0,
         0,
         0,
         0,
         0,
         0,
         0,
         0,
         0,
         0,
         0,
         0,
         0,
         0,
         0,
         0,
         0,
         0,
         0,
         0
        ]
       ],
       "datasetInfos": [],
       "dbfsResultPath": null,
       "isJsonSchema": true,
       "metadata": {},
       "overflow": false,
       "plotOptions": {
        "customPlotOptions": {},
        "displayType": "table",
        "pivotAggregation": null,
        "pivotColumns": null,
        "xColumns": null,
        "yColumns": null
       },
       "removedWidgets": [],
       "schema": [
        {
         "metadata": "{}",
         "name": "StockCode_Quantity",
         "type": "\"string\""
        },
        {
         "metadata": "{}",
         "name": "-1",
         "type": "\"long\""
        },
        {
         "metadata": "{}",
         "name": "-10",
         "type": "\"long\""
        },
        {
         "metadata": "{}",
         "name": "-12",
         "type": "\"long\""
        },
        {
         "metadata": "{}",
         "name": "-2",
         "type": "\"long\""
        },
        {
         "metadata": "{}",
         "name": "-24",
         "type": "\"long\""
        },
        {
         "metadata": "{}",
         "name": "-3",
         "type": "\"long\""
        },
        {
         "metadata": "{}",
         "name": "-4",
         "type": "\"long\""
        },
        {
         "metadata": "{}",
         "name": "-5",
         "type": "\"long\""
        },
        {
         "metadata": "{}",
         "name": "-6",
         "type": "\"long\""
        },
        {
         "metadata": "{}",
         "name": "-7",
         "type": "\"long\""
        },
        {
         "metadata": "{}",
         "name": "1",
         "type": "\"long\""
        },
        {
         "metadata": "{}",
         "name": "10",
         "type": "\"long\""
        },
        {
         "metadata": "{}",
         "name": "100",
         "type": "\"long\""
        },
        {
         "metadata": "{}",
         "name": "11",
         "type": "\"long\""
        },
        {
         "metadata": "{}",
         "name": "12",
         "type": "\"long\""
        },
        {
         "metadata": "{}",
         "name": "120",
         "type": "\"long\""
        },
        {
         "metadata": "{}",
         "name": "128",
         "type": "\"long\""
        },
        {
         "metadata": "{}",
         "name": "13",
         "type": "\"long\""
        },
        {
         "metadata": "{}",
         "name": "14",
         "type": "\"long\""
        },
        {
         "metadata": "{}",
         "name": "144",
         "type": "\"long\""
        },
        {
         "metadata": "{}",
         "name": "15",
         "type": "\"long\""
        },
        {
         "metadata": "{}",
         "name": "16",
         "type": "\"long\""
        },
        {
         "metadata": "{}",
         "name": "17",
         "type": "\"long\""
        },
        {
         "metadata": "{}",
         "name": "18",
         "type": "\"long\""
        },
        {
         "metadata": "{}",
         "name": "19",
         "type": "\"long\""
        },
        {
         "metadata": "{}",
         "name": "192",
         "type": "\"long\""
        },
        {
         "metadata": "{}",
         "name": "2",
         "type": "\"long\""
        },
        {
         "metadata": "{}",
         "name": "20",
         "type": "\"long\""
        },
        {
         "metadata": "{}",
         "name": "200",
         "type": "\"long\""
        },
        {
         "metadata": "{}",
         "name": "21",
         "type": "\"long\""
        },
        {
         "metadata": "{}",
         "name": "216",
         "type": "\"long\""
        },
        {
         "metadata": "{}",
         "name": "22",
         "type": "\"long\""
        },
        {
         "metadata": "{}",
         "name": "23",
         "type": "\"long\""
        },
        {
         "metadata": "{}",
         "name": "24",
         "type": "\"long\""
        },
        {
         "metadata": "{}",
         "name": "25",
         "type": "\"long\""
        },
        {
         "metadata": "{}",
         "name": "252",
         "type": "\"long\""
        },
        {
         "metadata": "{}",
         "name": "27",
         "type": "\"long\""
        },
        {
         "metadata": "{}",
         "name": "28",
         "type": "\"long\""
        },
        {
         "metadata": "{}",
         "name": "288",
         "type": "\"long\""
        },
        {
         "metadata": "{}",
         "name": "3",
         "type": "\"long\""
        },
        {
         "metadata": "{}",
         "name": "30",
         "type": "\"long\""
        },
        {
         "metadata": "{}",
         "name": "32",
         "type": "\"long\""
        },
        {
         "metadata": "{}",
         "name": "33",
         "type": "\"long\""
        },
        {
         "metadata": "{}",
         "name": "34",
         "type": "\"long\""
        },
        {
         "metadata": "{}",
         "name": "36",
         "type": "\"long\""
        },
        {
         "metadata": "{}",
         "name": "384",
         "type": "\"long\""
        },
        {
         "metadata": "{}",
         "name": "4",
         "type": "\"long\""
        },
        {
         "metadata": "{}",
         "name": "40",
         "type": "\"long\""
        },
        {
         "metadata": "{}",
         "name": "432",
         "type": "\"long\""
        },
        {
         "metadata": "{}",
         "name": "47",
         "type": "\"long\""
        },
        {
         "metadata": "{}",
         "name": "48",
         "type": "\"long\""
        },
        {
         "metadata": "{}",
         "name": "480",
         "type": "\"long\""
        },
        {
         "metadata": "{}",
         "name": "5",
         "type": "\"long\""
        },
        {
         "metadata": "{}",
         "name": "50",
         "type": "\"long\""
        },
        {
         "metadata": "{}",
         "name": "56",
         "type": "\"long\""
        },
        {
         "metadata": "{}",
         "name": "6",
         "type": "\"long\""
        },
        {
         "metadata": "{}",
         "name": "60",
         "type": "\"long\""
        },
        {
         "metadata": "{}",
         "name": "600",
         "type": "\"long\""
        },
        {
         "metadata": "{}",
         "name": "64",
         "type": "\"long\""
        },
        {
         "metadata": "{}",
         "name": "7",
         "type": "\"long\""
        },
        {
         "metadata": "{}",
         "name": "70",
         "type": "\"long\""
        },
        {
         "metadata": "{}",
         "name": "72",
         "type": "\"long\""
        },
        {
         "metadata": "{}",
         "name": "8",
         "type": "\"long\""
        },
        {
         "metadata": "{}",
         "name": "80",
         "type": "\"long\""
        },
        {
         "metadata": "{}",
         "name": "9",
         "type": "\"long\""
        },
        {
         "metadata": "{}",
         "name": "96",
         "type": "\"long\""
        }
       ],
       "type": "table"
      }
     },
     "output_type": "display_data"
    }
   ],
   "source": [
    "#crosstab: col1과 col2의 교차표(두 변수의 범주별 조합빈도수를 작성한 표)\n",
    "display(df.stat.crosstab('StockCode', 'Quantity').limit(10))"
   ]
  },
  {
   "cell_type": "code",
   "execution_count": null,
   "metadata": {
    "application/vnd.databricks.v1+cell": {
     "inputWidgets": {},
     "nuid": "3f14e49a-1e0b-4322-ba34-b63fee337f4d",
     "showTitle": false,
     "title": ""
    }
   },
   "outputs": [
    {
     "data": {
      "text/html": [
       "<style scoped>\n",
       "  .ansiout {\n",
       "    display: block;\n",
       "    unicode-bidi: embed;\n",
       "    white-space: pre-wrap;\n",
       "    word-wrap: break-word;\n",
       "    word-break: break-all;\n",
       "    font-family: \"Source Code Pro\", \"Menlo\", monospace;;\n",
       "    font-size: 13px;\n",
       "    color: #555;\n",
       "    margin-left: 4px;\n",
       "    line-height: 19px;\n",
       "  }\n",
       "</style>\n",
       "<div class=\"ansiout\">+-----------------------------+\n",
       "monotonically_increasing_id()|\n",
       "+-----------------------------+\n",
       "                            0|\n",
       "                            1|\n",
       "                            2|\n",
       "                            3|\n",
       "                            4|\n",
       "+-----------------------------+\n",
       "only showing top 5 rows\n",
       "\n",
       "</div>"
      ]
     },
     "metadata": {
      "application/vnd.databricks.v1+output": {
       "addedWidgets": {},
       "arguments": {},
       "data": "<div class=\"ansiout\">+-----------------------------+\n|monotonically_increasing_id()|\n+-----------------------------+\n|                            0|\n|                            1|\n|                            2|\n|                            3|\n|                            4|\n+-----------------------------+\nonly showing top 5 rows\n\n</div>",
       "datasetInfos": [],
       "metadata": {},
       "removedWidgets": [],
       "type": "html"
      }
     },
     "output_type": "display_data"
    }
   ],
   "source": [
    "#모든 로우에 고유 ID 추가\n",
    "df.select(F.monotonically_increasing_id()).show(5)"
   ]
  },
  {
   "cell_type": "markdown",
   "metadata": {
    "application/vnd.databricks.v1+cell": {
     "inputWidgets": {},
     "nuid": "240fa7ce-6ec2-4110-97d3-33fa521440a2",
     "showTitle": false,
     "title": ""
    }
   },
   "source": [
    "## 문자열 데이터 타입 다루기\n",
    "- 데이터 추출\n",
    "- 데이터 치환\n",
    "- 문자열 존재 여부\n",
    "- 대/소문자 변환 처리\n",
    "- etc."
   ]
  },
  {
   "cell_type": "code",
   "execution_count": null,
   "metadata": {
    "application/vnd.databricks.v1+cell": {
     "inputWidgets": {},
     "nuid": "aea6dc9c-3ce9-440e-a4cb-2c1865de70cd",
     "showTitle": false,
     "title": ""
    }
   },
   "outputs": [
    {
     "data": {
      "text/html": [
       "<style scoped>\n",
       "  .table-result-container {\n",
       "    max-height: 300px;\n",
       "    overflow: auto;\n",
       "  }\n",
       "  table, th, td {\n",
       "    border: 1px solid black;\n",
       "    border-collapse: collapse;\n",
       "  }\n",
       "  th, td {\n",
       "    padding: 5px;\n",
       "  }\n",
       "  th {\n",
       "    text-align: left;\n",
       "  }\n",
       "</style><div class='table-result-container'><table class='table-result'><thead style='background-color: white'><tr><th>Description</th></tr></thead><tbody><tr><td>WHITE HANGING HEART T-LIGHT HOLDER</td></tr><tr><td>WHITE METAL LANTERN</td></tr><tr><td>CREAM CUPID HEARTS COAT HANGER</td></tr><tr><td>KNITTED UNION FLAG HOT WATER BOTTLE</td></tr><tr><td>RED WOOLLY HOTTIE WHITE HEART.</td></tr><tr><td>SET 7 BABUSHKA NESTING BOXES</td></tr><tr><td>GLASS STAR FROSTED T-LIGHT HOLDER</td></tr><tr><td>HAND WARMER UNION JACK</td></tr><tr><td>HAND WARMER RED POLKA DOT</td></tr><tr><td>ASSORTED COLOUR BIRD ORNAMENT</td></tr></tbody></table></div>"
      ]
     },
     "metadata": {
      "application/vnd.databricks.v1+output": {
       "addedWidgets": {},
       "aggData": [],
       "aggError": "",
       "aggOverflow": false,
       "aggSchema": [],
       "aggSeriesLimitReached": false,
       "aggType": "",
       "arguments": {},
       "columnCustomDisplayInfos": {},
       "data": [
        [
         "WHITE HANGING HEART T-LIGHT HOLDER"
        ],
        [
         "WHITE METAL LANTERN"
        ],
        [
         "CREAM CUPID HEARTS COAT HANGER"
        ],
        [
         "KNITTED UNION FLAG HOT WATER BOTTLE"
        ],
        [
         "RED WOOLLY HOTTIE WHITE HEART."
        ],
        [
         "SET 7 BABUSHKA NESTING BOXES"
        ],
        [
         "GLASS STAR FROSTED T-LIGHT HOLDER"
        ],
        [
         "HAND WARMER UNION JACK"
        ],
        [
         "HAND WARMER RED POLKA DOT"
        ],
        [
         "ASSORTED COLOUR BIRD ORNAMENT"
        ]
       ],
       "datasetInfos": [],
       "dbfsResultPath": null,
       "isJsonSchema": true,
       "metadata": {},
       "overflow": false,
       "plotOptions": {
        "customPlotOptions": {},
        "displayType": "table",
        "pivotAggregation": null,
        "pivotColumns": null,
        "xColumns": null,
        "yColumns": null
       },
       "removedWidgets": [],
       "schema": [
        {
         "metadata": "{}",
         "name": "Description",
         "type": "\"string\""
        }
       ],
       "type": "table"
      }
     },
     "output_type": "display_data"
    }
   ],
   "source": [
    "display(df.select('Description').limit(10))"
   ]
  },
  {
   "cell_type": "code",
   "execution_count": null,
   "metadata": {
    "application/vnd.databricks.v1+cell": {
     "inputWidgets": {},
     "nuid": "ae2a2f48-dc16-49e8-b89f-193c402e89ab",
     "showTitle": false,
     "title": ""
    }
   },
   "outputs": [
    {
     "data": {
      "text/html": [
       "<style scoped>\n",
       "  .table-result-container {\n",
       "    max-height: 300px;\n",
       "    overflow: auto;\n",
       "  }\n",
       "  table, th, td {\n",
       "    border: 1px solid black;\n",
       "    border-collapse: collapse;\n",
       "  }\n",
       "  th, td {\n",
       "    padding: 5px;\n",
       "  }\n",
       "  th {\n",
       "    text-align: left;\n",
       "  }\n",
       "</style><div class='table-result-container'><table class='table-result'><thead style='background-color: white'><tr><th>initcap(Description)</th></tr></thead><tbody><tr><td>White Hanging Heart T-light Holder</td></tr><tr><td>White Metal Lantern</td></tr><tr><td>Cream Cupid Hearts Coat Hanger</td></tr><tr><td>Knitted Union Flag Hot Water Bottle</td></tr><tr><td>Red Woolly Hottie White Heart.</td></tr><tr><td>Set 7 Babushka Nesting Boxes</td></tr><tr><td>Glass Star Frosted T-light Holder</td></tr><tr><td>Hand Warmer Union Jack</td></tr><tr><td>Hand Warmer Red Polka Dot</td></tr><tr><td>Assorted Colour Bird Ornament</td></tr></tbody></table></div>"
      ]
     },
     "metadata": {
      "application/vnd.databricks.v1+output": {
       "addedWidgets": {},
       "aggData": [],
       "aggError": "",
       "aggOverflow": false,
       "aggSchema": [],
       "aggSeriesLimitReached": false,
       "aggType": "",
       "arguments": {},
       "columnCustomDisplayInfos": {},
       "data": [
        [
         "White Hanging Heart T-light Holder"
        ],
        [
         "White Metal Lantern"
        ],
        [
         "Cream Cupid Hearts Coat Hanger"
        ],
        [
         "Knitted Union Flag Hot Water Bottle"
        ],
        [
         "Red Woolly Hottie White Heart."
        ],
        [
         "Set 7 Babushka Nesting Boxes"
        ],
        [
         "Glass Star Frosted T-light Holder"
        ],
        [
         "Hand Warmer Union Jack"
        ],
        [
         "Hand Warmer Red Polka Dot"
        ],
        [
         "Assorted Colour Bird Ornament"
        ]
       ],
       "datasetInfos": [],
       "dbfsResultPath": null,
       "isJsonSchema": true,
       "metadata": {},
       "overflow": false,
       "plotOptions": {
        "customPlotOptions": {},
        "displayType": "table",
        "pivotAggregation": null,
        "pivotColumns": null,
        "xColumns": null,
        "yColumns": null
       },
       "removedWidgets": [],
       "schema": [
        {
         "metadata": "{}",
         "name": "initcap(Description)",
         "type": "\"string\""
        }
       ],
       "type": "table"
      }
     },
     "output_type": "display_data"
    }
   ],
   "source": [
    "#각 문자열을 공백 기준으로 나눴을 때, 모든 첫 글자를 대문자로 변경\n",
    "display(df.select(F.initcap(F.col('Description'))).limit(10))"
   ]
  },
  {
   "cell_type": "code",
   "execution_count": null,
   "metadata": {
    "application/vnd.databricks.v1+cell": {
     "inputWidgets": {},
     "nuid": "143c4dd5-ab42-4a05-aa89-f023978cfddb",
     "showTitle": false,
     "title": ""
    }
   },
   "outputs": [
    {
     "data": {
      "text/html": [
       "<style scoped>\n",
       "  .table-result-container {\n",
       "    max-height: 300px;\n",
       "    overflow: auto;\n",
       "  }\n",
       "  table, th, td {\n",
       "    border: 1px solid black;\n",
       "    border-collapse: collapse;\n",
       "  }\n",
       "  th, td {\n",
       "    padding: 5px;\n",
       "  }\n",
       "  th {\n",
       "    text-align: left;\n",
       "  }\n",
       "</style><div class='table-result-container'><table class='table-result'><thead style='background-color: white'><tr><th>lower(Description)</th><th>upper(Description)</th></tr></thead><tbody><tr><td>white hanging heart t-light holder</td><td>WHITE HANGING HEART T-LIGHT HOLDER</td></tr><tr><td>white metal lantern</td><td>WHITE METAL LANTERN</td></tr><tr><td>cream cupid hearts coat hanger</td><td>CREAM CUPID HEARTS COAT HANGER</td></tr><tr><td>knitted union flag hot water bottle</td><td>KNITTED UNION FLAG HOT WATER BOTTLE</td></tr><tr><td>red woolly hottie white heart.</td><td>RED WOOLLY HOTTIE WHITE HEART.</td></tr><tr><td>set 7 babushka nesting boxes</td><td>SET 7 BABUSHKA NESTING BOXES</td></tr><tr><td>glass star frosted t-light holder</td><td>GLASS STAR FROSTED T-LIGHT HOLDER</td></tr><tr><td>hand warmer union jack</td><td>HAND WARMER UNION JACK</td></tr><tr><td>hand warmer red polka dot</td><td>HAND WARMER RED POLKA DOT</td></tr><tr><td>assorted colour bird ornament</td><td>ASSORTED COLOUR BIRD ORNAMENT</td></tr></tbody></table></div>"
      ]
     },
     "metadata": {
      "application/vnd.databricks.v1+output": {
       "addedWidgets": {},
       "aggData": [],
       "aggError": "",
       "aggOverflow": false,
       "aggSchema": [],
       "aggSeriesLimitReached": false,
       "aggType": "",
       "arguments": {},
       "columnCustomDisplayInfos": {},
       "data": [
        [
         "white hanging heart t-light holder",
         "WHITE HANGING HEART T-LIGHT HOLDER"
        ],
        [
         "white metal lantern",
         "WHITE METAL LANTERN"
        ],
        [
         "cream cupid hearts coat hanger",
         "CREAM CUPID HEARTS COAT HANGER"
        ],
        [
         "knitted union flag hot water bottle",
         "KNITTED UNION FLAG HOT WATER BOTTLE"
        ],
        [
         "red woolly hottie white heart.",
         "RED WOOLLY HOTTIE WHITE HEART."
        ],
        [
         "set 7 babushka nesting boxes",
         "SET 7 BABUSHKA NESTING BOXES"
        ],
        [
         "glass star frosted t-light holder",
         "GLASS STAR FROSTED T-LIGHT HOLDER"
        ],
        [
         "hand warmer union jack",
         "HAND WARMER UNION JACK"
        ],
        [
         "hand warmer red polka dot",
         "HAND WARMER RED POLKA DOT"
        ],
        [
         "assorted colour bird ornament",
         "ASSORTED COLOUR BIRD ORNAMENT"
        ]
       ],
       "datasetInfos": [],
       "dbfsResultPath": null,
       "isJsonSchema": true,
       "metadata": {},
       "overflow": false,
       "plotOptions": {
        "customPlotOptions": {},
        "displayType": "table",
        "pivotAggregation": null,
        "pivotColumns": null,
        "xColumns": null,
        "yColumns": null
       },
       "removedWidgets": [],
       "schema": [
        {
         "metadata": "{}",
         "name": "lower(Description)",
         "type": "\"string\""
        },
        {
         "metadata": "{}",
         "name": "upper(Description)",
         "type": "\"string\""
        }
       ],
       "type": "table"
      }
     },
     "output_type": "display_data"
    }
   ],
   "source": [
    "#소문자, 대문자로 변환\n",
    "display(df.select(F.lower('Description'), F.upper('Description')).limit(10))"
   ]
  },
  {
   "cell_type": "code",
   "execution_count": null,
   "metadata": {
    "application/vnd.databricks.v1+cell": {
     "inputWidgets": {},
     "nuid": "b7f4d2bc-1edf-4f19-b88d-7a945093dda9",
     "showTitle": false,
     "title": ""
    }
   },
   "outputs": [
    {
     "data": {
      "text/html": [
       "<style scoped>\n",
       "  .table-result-container {\n",
       "    max-height: 300px;\n",
       "    overflow: auto;\n",
       "  }\n",
       "  table, th, td {\n",
       "    border: 1px solid black;\n",
       "    border-collapse: collapse;\n",
       "  }\n",
       "  th, td {\n",
       "    padding: 5px;\n",
       "  }\n",
       "  th {\n",
       "    text-align: left;\n",
       "  }\n",
       "</style><div class='table-result-container'><table class='table-result'><thead style='background-color: white'><tr><th>trim(     HELLO     )</th><th>ltrim(     HELLO     )</th><th>rtrim(     HELLO     )</th><th>rpad(HELLO, 10, -)</th><th>lpad(HELLO, 10, -)</th></tr></thead><tbody><tr><td>HELLO</td><td>HELLO     </td><td>     HELLO</td><td>HELLO-----</td><td>-----HELLO</td></tr><tr><td>HELLO</td><td>HELLO     </td><td>     HELLO</td><td>HELLO-----</td><td>-----HELLO</td></tr><tr><td>HELLO</td><td>HELLO     </td><td>     HELLO</td><td>HELLO-----</td><td>-----HELLO</td></tr><tr><td>HELLO</td><td>HELLO     </td><td>     HELLO</td><td>HELLO-----</td><td>-----HELLO</td></tr><tr><td>HELLO</td><td>HELLO     </td><td>     HELLO</td><td>HELLO-----</td><td>-----HELLO</td></tr></tbody></table></div>"
      ]
     },
     "metadata": {
      "application/vnd.databricks.v1+output": {
       "addedWidgets": {},
       "aggData": [],
       "aggError": "",
       "aggOverflow": false,
       "aggSchema": [],
       "aggSeriesLimitReached": false,
       "aggType": "",
       "arguments": {},
       "columnCustomDisplayInfos": {},
       "data": [
        [
         "HELLO",
         "HELLO     ",
         "     HELLO",
         "HELLO-----",
         "-----HELLO"
        ],
        [
         "HELLO",
         "HELLO     ",
         "     HELLO",
         "HELLO-----",
         "-----HELLO"
        ],
        [
         "HELLO",
         "HELLO     ",
         "     HELLO",
         "HELLO-----",
         "-----HELLO"
        ],
        [
         "HELLO",
         "HELLO     ",
         "     HELLO",
         "HELLO-----",
         "-----HELLO"
        ],
        [
         "HELLO",
         "HELLO     ",
         "     HELLO",
         "HELLO-----",
         "-----HELLO"
        ]
       ],
       "datasetInfos": [],
       "dbfsResultPath": null,
       "isJsonSchema": true,
       "metadata": {},
       "overflow": false,
       "plotOptions": {
        "customPlotOptions": {},
        "displayType": "table",
        "pivotAggregation": null,
        "pivotColumns": null,
        "xColumns": null,
        "yColumns": null
       },
       "removedWidgets": [],
       "schema": [
        {
         "metadata": "{}",
         "name": "trim(     HELLO     )",
         "type": "\"string\""
        },
        {
         "metadata": "{}",
         "name": "ltrim(     HELLO     )",
         "type": "\"string\""
        },
        {
         "metadata": "{}",
         "name": "rtrim(     HELLO     )",
         "type": "\"string\""
        },
        {
         "metadata": "{}",
         "name": "rpad(HELLO, 10, -)",
         "type": "\"string\""
        },
        {
         "metadata": "{}",
         "name": "lpad(HELLO, 10, -)",
         "type": "\"string\""
        }
       ],
       "type": "table"
      }
     },
     "output_type": "display_data"
    }
   ],
   "source": [
    "#문자열 주변 공백 제거 및 추가\n",
    "target= '     HELLO     '\n",
    "display(df.select(F.trim(F.lit(target)), F.ltrim(F.lit(target)), F.rtrim(F.lit(target)), F.rpad(F.lit('HELLO'),10, '-'), F.lpad(F.lit('HELLO'),10,'-')).limit(5))"
   ]
  },
  {
   "cell_type": "markdown",
   "metadata": {
    "application/vnd.databricks.v1+cell": {
     "inputWidgets": {},
     "nuid": "f5beb17f-e43c-4f59-bd36-dbe5518b7e36",
     "showTitle": false,
     "title": ""
    }
   },
   "source": [
    "### 정규 표현식"
   ]
  },
  {
   "cell_type": "code",
   "execution_count": null,
   "metadata": {
    "application/vnd.databricks.v1+cell": {
     "inputWidgets": {},
     "nuid": "9d57db7e-bae7-4412-9f5e-960147523761",
     "showTitle": false,
     "title": ""
    }
   },
   "outputs": [
    {
     "data": {
      "text/html": [
       "<style scoped>\n",
       "  .table-result-container {\n",
       "    max-height: 300px;\n",
       "    overflow: auto;\n",
       "  }\n",
       "  table, th, td {\n",
       "    border: 1px solid black;\n",
       "    border-collapse: collapse;\n",
       "  }\n",
       "  th, td {\n",
       "    padding: 5px;\n",
       "  }\n",
       "  th {\n",
       "    text-align: left;\n",
       "  }\n",
       "</style><div class='table-result-container'><table class='table-result'><thead style='background-color: white'><tr><th>color_clean</th><th>description</th></tr></thead><tbody><tr><td>COLOR HANGING HEART T-LIGHT HOLDER</td><td>WHITE HANGING HEART T-LIGHT HOLDER</td></tr><tr><td>COLOR METAL LANTERN</td><td>WHITE METAL LANTERN</td></tr><tr><td>CREAM CUPID HEARTS COAT HANGER</td><td>CREAM CUPID HEARTS COAT HANGER</td></tr><tr><td>KNITTED UNION FLAG HOT WATER BOTTLE</td><td>KNITTED UNION FLAG HOT WATER BOTTLE</td></tr><tr><td>COLOR WOOLLY HOTTIE COLOR HEART.</td><td>RED WOOLLY HOTTIE WHITE HEART.</td></tr><tr><td>SET 7 BABUSHKA NESTING BOXES</td><td>SET 7 BABUSHKA NESTING BOXES</td></tr><tr><td>GLASS STAR FROSTED T-LIGHT HOLDER</td><td>GLASS STAR FROSTED T-LIGHT HOLDER</td></tr><tr><td>HAND WARMER UNION JACK</td><td>HAND WARMER UNION JACK</td></tr><tr><td>HAND WARMER COLOR POLKA DOT</td><td>HAND WARMER RED POLKA DOT</td></tr><tr><td>ASSORTED COLOUR BIRD ORNAMENT</td><td>ASSORTED COLOUR BIRD ORNAMENT</td></tr></tbody></table></div>"
      ]
     },
     "metadata": {
      "application/vnd.databricks.v1+output": {
       "addedWidgets": {},
       "aggData": [],
       "aggError": "",
       "aggOverflow": false,
       "aggSchema": [],
       "aggSeriesLimitReached": false,
       "aggType": "",
       "arguments": {},
       "columnCustomDisplayInfos": {},
       "data": [
        [
         "COLOR HANGING HEART T-LIGHT HOLDER",
         "WHITE HANGING HEART T-LIGHT HOLDER"
        ],
        [
         "COLOR METAL LANTERN",
         "WHITE METAL LANTERN"
        ],
        [
         "CREAM CUPID HEARTS COAT HANGER",
         "CREAM CUPID HEARTS COAT HANGER"
        ],
        [
         "KNITTED UNION FLAG HOT WATER BOTTLE",
         "KNITTED UNION FLAG HOT WATER BOTTLE"
        ],
        [
         "COLOR WOOLLY HOTTIE COLOR HEART.",
         "RED WOOLLY HOTTIE WHITE HEART."
        ],
        [
         "SET 7 BABUSHKA NESTING BOXES",
         "SET 7 BABUSHKA NESTING BOXES"
        ],
        [
         "GLASS STAR FROSTED T-LIGHT HOLDER",
         "GLASS STAR FROSTED T-LIGHT HOLDER"
        ],
        [
         "HAND WARMER UNION JACK",
         "HAND WARMER UNION JACK"
        ],
        [
         "HAND WARMER COLOR POLKA DOT",
         "HAND WARMER RED POLKA DOT"
        ],
        [
         "ASSORTED COLOUR BIRD ORNAMENT",
         "ASSORTED COLOUR BIRD ORNAMENT"
        ]
       ],
       "datasetInfos": [],
       "dbfsResultPath": null,
       "isJsonSchema": true,
       "metadata": {},
       "overflow": false,
       "plotOptions": {
        "customPlotOptions": {},
        "displayType": "table",
        "pivotAggregation": null,
        "pivotColumns": null,
        "xColumns": null,
        "yColumns": null
       },
       "removedWidgets": [],
       "schema": [
        {
         "metadata": "{}",
         "name": "color_clean",
         "type": "\"string\""
        },
        {
         "metadata": "{}",
         "name": "description",
         "type": "\"string\""
        }
       ],
       "type": "table"
      }
     },
     "output_type": "display_data"
    }
   ],
   "source": [
    "#regex_string에서 정의한 색과 관련된 단어 모두 COLOR로 치환\n",
    "regex_string=\"BLACK|WHITE|RED|GREEN|BLUE\"\n",
    "display(df.select(F.regexp_replace(F.col('description'), regex_string, 'COLOR').alias('color_clean'),F.col('description')).limit(10))"
   ]
  },
  {
   "cell_type": "code",
   "execution_count": null,
   "metadata": {
    "application/vnd.databricks.v1+cell": {
     "inputWidgets": {},
     "nuid": "cd174577-4d1d-4e5e-ae23-329d4ff82378",
     "showTitle": false,
     "title": ""
    }
   },
   "outputs": [
    {
     "data": {
      "text/html": [
       "<style scoped>\n",
       "  .table-result-container {\n",
       "    max-height: 300px;\n",
       "    overflow: auto;\n",
       "  }\n",
       "  table, th, td {\n",
       "    border: 1px solid black;\n",
       "    border-collapse: collapse;\n",
       "  }\n",
       "  th, td {\n",
       "    padding: 5px;\n",
       "  }\n",
       "  th {\n",
       "    text-align: left;\n",
       "  }\n",
       "</style><div class='table-result-container'><table class='table-result'><thead style='background-color: white'><tr><th>translate(description, LEET, 1337)</th><th>description</th></tr></thead><tbody><tr><td>WHI73 HANGING H3AR7 7-1IGH7 HO1D3R</td><td>WHITE HANGING HEART T-LIGHT HOLDER</td></tr><tr><td>WHI73 M37A1 1AN73RN</td><td>WHITE METAL LANTERN</td></tr><tr><td>CR3AM CUPID H3AR7S COA7 HANG3R</td><td>CREAM CUPID HEARTS COAT HANGER</td></tr><tr><td>KNI773D UNION F1AG HO7 WA73R BO7713</td><td>KNITTED UNION FLAG HOT WATER BOTTLE</td></tr><tr><td>R3D WOO11Y HO77I3 WHI73 H3AR7.</td><td>RED WOOLLY HOTTIE WHITE HEART.</td></tr></tbody></table></div>"
      ]
     },
     "metadata": {
      "application/vnd.databricks.v1+output": {
       "addedWidgets": {},
       "aggData": [],
       "aggError": "",
       "aggOverflow": false,
       "aggSchema": [],
       "aggSeriesLimitReached": false,
       "aggType": "",
       "arguments": {},
       "columnCustomDisplayInfos": {},
       "data": [
        [
         "WHI73 HANGING H3AR7 7-1IGH7 HO1D3R",
         "WHITE HANGING HEART T-LIGHT HOLDER"
        ],
        [
         "WHI73 M37A1 1AN73RN",
         "WHITE METAL LANTERN"
        ],
        [
         "CR3AM CUPID H3AR7S COA7 HANG3R",
         "CREAM CUPID HEARTS COAT HANGER"
        ],
        [
         "KNI773D UNION F1AG HO7 WA73R BO7713",
         "KNITTED UNION FLAG HOT WATER BOTTLE"
        ],
        [
         "R3D WOO11Y HO77I3 WHI73 H3AR7.",
         "RED WOOLLY HOTTIE WHITE HEART."
        ]
       ],
       "datasetInfos": [],
       "dbfsResultPath": null,
       "isJsonSchema": true,
       "metadata": {},
       "overflow": false,
       "plotOptions": {
        "customPlotOptions": {},
        "displayType": "table",
        "pivotAggregation": null,
        "pivotColumns": null,
        "xColumns": null,
        "yColumns": null
       },
       "removedWidgets": [],
       "schema": [
        {
         "metadata": "{}",
         "name": "translate(description, LEET, 1337)",
         "type": "\"string\""
        },
        {
         "metadata": "{}",
         "name": "description",
         "type": "\"string\""
        }
       ],
       "type": "table"
      }
     },
     "output_type": "display_data"
    }
   ],
   "source": [
    "#정규 표현식을 만들지 않고 간단하게 문자 단위로 치환(L=1, E=3, T=7)\n",
    "display(df.select(F.translate(F.col('description'), 'LEET' , '1337'), F.col('description')).limit(5))"
   ]
  },
  {
   "cell_type": "code",
   "execution_count": null,
   "metadata": {
    "application/vnd.databricks.v1+cell": {
     "inputWidgets": {},
     "nuid": "423b1618-10b7-4d90-a221-381f37233977",
     "showTitle": false,
     "title": ""
    }
   },
   "outputs": [
    {
     "data": {
      "text/html": [
       "<style scoped>\n",
       "  .table-result-container {\n",
       "    max-height: 300px;\n",
       "    overflow: auto;\n",
       "  }\n",
       "  table, th, td {\n",
       "    border: 1px solid black;\n",
       "    border-collapse: collapse;\n",
       "  }\n",
       "  th, td {\n",
       "    padding: 5px;\n",
       "  }\n",
       "  th {\n",
       "    text-align: left;\n",
       "  }\n",
       "</style><div class='table-result-container'><table class='table-result'><thead style='background-color: white'><tr><th>color_clean</th><th>description</th></tr></thead><tbody><tr><td>WHITE</td><td>WHITE HANGING HEART T-LIGHT HOLDER</td></tr><tr><td>WHITE</td><td>WHITE METAL LANTERN</td></tr><tr><td></td><td>CREAM CUPID HEARTS COAT HANGER</td></tr><tr><td></td><td>KNITTED UNION FLAG HOT WATER BOTTLE</td></tr><tr><td>RED</td><td>RED WOOLLY HOTTIE WHITE HEART.</td></tr></tbody></table></div>"
      ]
     },
     "metadata": {
      "application/vnd.databricks.v1+output": {
       "addedWidgets": {},
       "aggData": [],
       "aggError": "",
       "aggOverflow": false,
       "aggSchema": [],
       "aggSeriesLimitReached": false,
       "aggType": "",
       "arguments": {},
       "columnCustomDisplayInfos": {},
       "data": [
        [
         "WHITE",
         "WHITE HANGING HEART T-LIGHT HOLDER"
        ],
        [
         "WHITE",
         "WHITE METAL LANTERN"
        ],
        [
         "",
         "CREAM CUPID HEARTS COAT HANGER"
        ],
        [
         "",
         "KNITTED UNION FLAG HOT WATER BOTTLE"
        ],
        [
         "RED",
         "RED WOOLLY HOTTIE WHITE HEART."
        ]
       ],
       "datasetInfos": [],
       "dbfsResultPath": null,
       "isJsonSchema": true,
       "metadata": {},
       "overflow": false,
       "plotOptions": {
        "customPlotOptions": {},
        "displayType": "table",
        "pivotAggregation": null,
        "pivotColumns": null,
        "xColumns": null,
        "yColumns": null
       },
       "removedWidgets": [],
       "schema": [
        {
         "metadata": "{}",
         "name": "color_clean",
         "type": "\"string\""
        },
        {
         "metadata": "{}",
         "name": "description",
         "type": "\"string\""
        }
       ],
       "type": "table"
      }
     },
     "output_type": "display_data"
    }
   ],
   "source": [
    "# 정규식에 매칭되는 그룹 추출 (인덱스 지정 -> 1로하면 정규식에 처음으로 매칭되는 문자열을 추출)\n",
    "extract_str = \"(BLACK|WHITE|RED|GREEN|BLUE)\"\n",
    "display(df.select(F.regexp_extract(F.col('description'), extract_str, 1).alias('color_clean'), F.col('description')).limit(5))"
   ]
  },
  {
   "cell_type": "code",
   "execution_count": null,
   "metadata": {
    "application/vnd.databricks.v1+cell": {
     "inputWidgets": {},
     "nuid": "73ae7aac-b7e1-41d8-8989-b8ef793a07b8",
     "showTitle": false,
     "title": ""
    }
   },
   "outputs": [
    {
     "data": {
      "text/html": [
       "<style scoped>\n",
       "  .table-result-container {\n",
       "    max-height: 300px;\n",
       "    overflow: auto;\n",
       "  }\n",
       "  table, th, td {\n",
       "    border: 1px solid black;\n",
       "    border-collapse: collapse;\n",
       "  }\n",
       "  th, td {\n",
       "    padding: 5px;\n",
       "  }\n",
       "  th {\n",
       "    text-align: left;\n",
       "  }\n",
       "</style><div class='table-result-container'><table class='table-result'><thead style='background-color: white'><tr><th>description</th></tr></thead><tbody><tr><td>WHITE HANGING HEART T-LIGHT HOLDER</td></tr><tr><td>WHITE METAL LANTERN</td></tr><tr><td>RED WOOLLY HOTTIE WHITE HEART.</td></tr><tr><td>WHITE HANGING HEART T-LIGHT HOLDER</td></tr><tr><td>WHITE METAL LANTERN</td></tr></tbody></table></div>"
      ]
     },
     "metadata": {
      "application/vnd.databricks.v1+output": {
       "addedWidgets": {},
       "aggData": [],
       "aggError": "",
       "aggOverflow": false,
       "aggSchema": [],
       "aggSeriesLimitReached": false,
       "aggType": "",
       "arguments": {},
       "columnCustomDisplayInfos": {},
       "data": [
        [
         "WHITE HANGING HEART T-LIGHT HOLDER"
        ],
        [
         "WHITE METAL LANTERN"
        ],
        [
         "RED WOOLLY HOTTIE WHITE HEART."
        ],
        [
         "WHITE HANGING HEART T-LIGHT HOLDER"
        ],
        [
         "WHITE METAL LANTERN"
        ]
       ],
       "datasetInfos": [],
       "dbfsResultPath": null,
       "isJsonSchema": true,
       "metadata": {},
       "overflow": false,
       "plotOptions": {
        "customPlotOptions": {},
        "displayType": "table",
        "pivotAggregation": null,
        "pivotColumns": null,
        "xColumns": null,
        "yColumns": null
       },
       "removedWidgets": [],
       "schema": [
        {
         "metadata": "{}",
         "name": "description",
         "type": "\"string\""
        }
       ],
       "type": "table"
      }
     },
     "output_type": "display_data"
    }
   ],
   "source": [
    "#값 추출 없이 단순히 값의 존재 여부를 확인하고 싶을 때\n",
    "containsBlack = F.instr(F.col('description'), 'BLACK') >=1\n",
    "containsWhite= F.instr(F.col('description'), 'WHITE') >=1\n",
    "\n",
    "display(df.withColumn('hasSimpleColor', containsBlack | containsWhite)\\\n",
    ".where('hasSimpleColor').select('description').limit(5))\n"
   ]
  },
  {
   "cell_type": "markdown",
   "metadata": {
    "application/vnd.databricks.v1+cell": {
     "inputWidgets": {},
     "nuid": "93c06701-2d60-4fcf-b836-56a2ae9ff2a6",
     "showTitle": false,
     "title": ""
    }
   },
   "source": [
    "------\n",
    "- 위에는 값을 두 개만 사용해서 간단하지만 값의 개수가 늘어난다면 복잡해질 것임"
   ]
  },
  {
   "cell_type": "code",
   "execution_count": null,
   "metadata": {
    "application/vnd.databricks.v1+cell": {
     "inputWidgets": {},
     "nuid": "01359b23-7875-46f2-ad23-0658160024f9",
     "showTitle": false,
     "title": ""
    }
   },
   "outputs": [
    {
     "data": {
      "text/html": [
       "<style scoped>\n",
       "  .ansiout {\n",
       "    display: block;\n",
       "    unicode-bidi: embed;\n",
       "    white-space: pre-wrap;\n",
       "    word-wrap: break-word;\n",
       "    word-break: break-all;\n",
       "    font-family: \"Source Code Pro\", \"Menlo\", monospace;;\n",
       "    font-size: 13px;\n",
       "    color: #555;\n",
       "    margin-left: 4px;\n",
       "    line-height: 19px;\n",
       "  }\n",
       "</style>\n",
       "<div class=\"ansiout\"></div>"
      ]
     },
     "metadata": {
      "application/vnd.databricks.v1+output": {
       "addedWidgets": {},
       "arguments": {},
       "data": "<div class=\"ansiout\"></div>",
       "datasetInfos": [],
       "metadata": {},
       "removedWidgets": [],
       "type": "html"
      }
     },
     "output_type": "display_data"
    }
   ],
   "source": [
    "#값의 개수가 늘어났을 때 해결 방법\n",
    "simpleColors = ['black', 'white','red', 'green', 'blue']\n",
    "def color_locator(col, color_string):\n",
    "  #주어진 문자열(substr)과 처음으로 일치하는 위치를 반환하는 locate함수 -> 일치하는 부분이 없으면 0을 반환\n",
    "  return F.locate(color_string.upper(), col).cast(T.BooleanType()).alias('is_'+color_string)\n",
    "\n",
    "selectedCol = [color_locator(df['description'], c) for c in simpleColors]\n",
    "selectedCol.append(F.expr('*'))"
   ]
  },
  {
   "cell_type": "code",
   "execution_count": null,
   "metadata": {
    "application/vnd.databricks.v1+cell": {
     "inputWidgets": {},
     "nuid": "85630e75-1431-4816-b2a1-45af88138dce",
     "showTitle": false,
     "title": ""
    }
   },
   "outputs": [
    {
     "data": {
      "text/html": [
       "<style scoped>\n",
       "  .ansiout {\n",
       "    display: block;\n",
       "    unicode-bidi: embed;\n",
       "    white-space: pre-wrap;\n",
       "    word-wrap: break-word;\n",
       "    word-break: break-all;\n",
       "    font-family: \"Source Code Pro\", \"Menlo\", monospace;;\n",
       "    font-size: 13px;\n",
       "    color: #555;\n",
       "    margin-left: 4px;\n",
       "    line-height: 19px;\n",
       "  }\n",
       "</style>\n",
       "<div class=\"ansiout\">Out[27]: [Column&lt;&#39;CAST(locate(BLACK, description, 1) AS BOOLEAN) AS `is_black`&#39;&gt;,\n",
       " Column&lt;&#39;CAST(locate(WHITE, description, 1) AS BOOLEAN) AS `is_white`&#39;&gt;,\n",
       " Column&lt;&#39;CAST(locate(RED, description, 1) AS BOOLEAN) AS `is_red`&#39;&gt;,\n",
       " Column&lt;&#39;CAST(locate(GREEN, description, 1) AS BOOLEAN) AS `is_green`&#39;&gt;,\n",
       " Column&lt;&#39;CAST(locate(BLUE, description, 1) AS BOOLEAN) AS `is_blue`&#39;&gt;,\n",
       " Column&lt;&#39;unresolvedstar()&#39;&gt;]</div>"
      ]
     },
     "metadata": {
      "application/vnd.databricks.v1+output": {
       "addedWidgets": {},
       "arguments": {},
       "data": "<div class=\"ansiout\">Out[27]: [Column&lt;&#39;CAST(locate(BLACK, description, 1) AS BOOLEAN) AS `is_black`&#39;&gt;,\n Column&lt;&#39;CAST(locate(WHITE, description, 1) AS BOOLEAN) AS `is_white`&#39;&gt;,\n Column&lt;&#39;CAST(locate(RED, description, 1) AS BOOLEAN) AS `is_red`&#39;&gt;,\n Column&lt;&#39;CAST(locate(GREEN, description, 1) AS BOOLEAN) AS `is_green`&#39;&gt;,\n Column&lt;&#39;CAST(locate(BLUE, description, 1) AS BOOLEAN) AS `is_blue`&#39;&gt;,\n Column&lt;&#39;unresolvedstar()&#39;&gt;]</div>",
       "datasetInfos": [],
       "metadata": {},
       "removedWidgets": [],
       "type": "html"
      }
     },
     "output_type": "display_data"
    }
   ],
   "source": [
    "selectedCol"
   ]
  },
  {
   "cell_type": "code",
   "execution_count": null,
   "metadata": {
    "application/vnd.databricks.v1+cell": {
     "inputWidgets": {},
     "nuid": "f330423a-a111-4321-a753-7f21a1aadb55",
     "showTitle": false,
     "title": ""
    }
   },
   "outputs": [
    {
     "data": {
      "text/html": [
       "<style scoped>\n",
       "  .table-result-container {\n",
       "    max-height: 300px;\n",
       "    overflow: auto;\n",
       "  }\n",
       "  table, th, td {\n",
       "    border: 1px solid black;\n",
       "    border-collapse: collapse;\n",
       "  }\n",
       "  th, td {\n",
       "    padding: 5px;\n",
       "  }\n",
       "  th {\n",
       "    text-align: left;\n",
       "  }\n",
       "</style><div class='table-result-container'><table class='table-result'><thead style='background-color: white'><tr><th>description</th></tr></thead><tbody><tr><td>WHITE HANGING HEART T-LIGHT HOLDER</td></tr><tr><td>WHITE METAL LANTERN</td></tr><tr><td>RED WOOLLY HOTTIE WHITE HEART.</td></tr><tr><td>HAND WARMER RED POLKA DOT</td></tr><tr><td>RED COAT RACK PARIS FASHION</td></tr><tr><td>ALARM CLOCK BAKELIKE RED </td></tr><tr><td>SET/2 RED RETROSPOT TEA TOWELS </td></tr><tr><td>RED TOADSTOOL LED NIGHT LIGHT</td></tr><tr><td>HAND WARMER RED POLKA DOT</td></tr><tr><td>WHITE HANGING HEART T-LIGHT HOLDER</td></tr></tbody></table></div>"
      ]
     },
     "metadata": {
      "application/vnd.databricks.v1+output": {
       "addedWidgets": {},
       "aggData": [],
       "aggError": "",
       "aggOverflow": false,
       "aggSchema": [],
       "aggSeriesLimitReached": false,
       "aggType": "",
       "arguments": {},
       "columnCustomDisplayInfos": {},
       "data": [
        [
         "WHITE HANGING HEART T-LIGHT HOLDER"
        ],
        [
         "WHITE METAL LANTERN"
        ],
        [
         "RED WOOLLY HOTTIE WHITE HEART."
        ],
        [
         "HAND WARMER RED POLKA DOT"
        ],
        [
         "RED COAT RACK PARIS FASHION"
        ],
        [
         "ALARM CLOCK BAKELIKE RED "
        ],
        [
         "SET/2 RED RETROSPOT TEA TOWELS "
        ],
        [
         "RED TOADSTOOL LED NIGHT LIGHT"
        ],
        [
         "HAND WARMER RED POLKA DOT"
        ],
        [
         "WHITE HANGING HEART T-LIGHT HOLDER"
        ]
       ],
       "datasetInfos": [],
       "dbfsResultPath": null,
       "isJsonSchema": true,
       "metadata": {},
       "overflow": false,
       "plotOptions": {
        "customPlotOptions": {},
        "displayType": "table",
        "pivotAggregation": null,
        "pivotColumns": null,
        "xColumns": null,
        "yColumns": null
       },
       "removedWidgets": [],
       "schema": [
        {
         "metadata": "{}",
         "name": "description",
         "type": "\"string\""
        }
       ],
       "type": "table"
      }
     },
     "output_type": "display_data"
    }
   ],
   "source": [
    "display(df.select(*selectedCol).where(F.expr('is_white or is_red')).select('description').limit(10))"
   ]
  },
  {
   "cell_type": "markdown",
   "metadata": {
    "application/vnd.databricks.v1+cell": {
     "inputWidgets": {},
     "nuid": "3af75313-3f5c-453c-9b4e-bbdb160d17db",
     "showTitle": false,
     "title": ""
    }
   },
   "source": [
    "## 날짜와 타임스탬프 데이터 타입 다루기\n",
    "- 스파크는 특정 날짜 포맷을 명시하지 않아도 자체적으로 식별해서 데이터를 읽을 수 있음\n",
    "\n",
    "\n",
    "- 스파크는 두 가지 종류의 시간 관련 정보만 집중적으로 관리함\n",
    "  - 달력 형태의 날짜(date)\n",
    "  - 날짜와 시간 정보를 모두 가지는 타임스탬프(timestamp)\n",
    "\n",
    "  \n",
    "- TimeStampType클래스는 초 단위 정밀도까지만 지원\n",
    "  - 밀리세컨드나 마이크로세컨드 단위를 다룬다면 Long 데이터 타입으로 데이터를 변환해서 처리\n",
    "  - 그 이상의 정밀도는 TimeStampType으로 변환될 때 제거됨\n",
    "  - 위 같은 문제를 피하려면 파싱이나 변환 작업이 필요"
   ]
  },
  {
   "cell_type": "code",
   "execution_count": null,
   "metadata": {
    "application/vnd.databricks.v1+cell": {
     "inputWidgets": {},
     "nuid": "8d6db85c-f762-49c5-abe1-572fee2a9d69",
     "showTitle": false,
     "title": ""
    }
   },
   "outputs": [
    {
     "data": {
      "text/html": [
       "<style scoped>\n",
       "  .ansiout {\n",
       "    display: block;\n",
       "    unicode-bidi: embed;\n",
       "    white-space: pre-wrap;\n",
       "    word-wrap: break-word;\n",
       "    word-break: break-all;\n",
       "    font-family: \"Source Code Pro\", \"Menlo\", monospace;;\n",
       "    font-size: 13px;\n",
       "    color: #555;\n",
       "    margin-left: 4px;\n",
       "    line-height: 19px;\n",
       "  }\n",
       "</style>\n",
       "<div class=\"ansiout\"></div>"
      ]
     },
     "metadata": {
      "application/vnd.databricks.v1+output": {
       "addedWidgets": {},
       "arguments": {},
       "data": "<div class=\"ansiout\"></div>",
       "datasetInfos": [],
       "metadata": {},
       "removedWidgets": [],
       "type": "html"
      }
     },
     "output_type": "display_data"
    }
   ],
   "source": [
    "dateDF= spark.range(10).withColumn('today', F.current_date())\\\n",
    ".withColumn('now', F.current_timestamp())"
   ]
  },
  {
   "cell_type": "code",
   "execution_count": null,
   "metadata": {
    "application/vnd.databricks.v1+cell": {
     "inputWidgets": {},
     "nuid": "62fd8cae-163f-4236-98c1-a4349ede47c5",
     "showTitle": false,
     "title": ""
    }
   },
   "outputs": [
    {
     "data": {
      "text/html": [
       "<style scoped>\n",
       "  .ansiout {\n",
       "    display: block;\n",
       "    unicode-bidi: embed;\n",
       "    white-space: pre-wrap;\n",
       "    word-wrap: break-word;\n",
       "    word-break: break-all;\n",
       "    font-family: \"Source Code Pro\", \"Menlo\", monospace;;\n",
       "    font-size: 13px;\n",
       "    color: #555;\n",
       "    margin-left: 4px;\n",
       "    line-height: 19px;\n",
       "  }\n",
       "</style>\n",
       "<div class=\"ansiout\">root\n",
       "-- id: long (nullable = false)\n",
       "-- today: date (nullable = false)\n",
       "-- now: timestamp (nullable = false)\n",
       "\n",
       "</div>"
      ]
     },
     "metadata": {
      "application/vnd.databricks.v1+output": {
       "addedWidgets": {},
       "arguments": {},
       "data": "<div class=\"ansiout\">root\n |-- id: long (nullable = false)\n |-- today: date (nullable = false)\n |-- now: timestamp (nullable = false)\n\n</div>",
       "datasetInfos": [],
       "metadata": {},
       "removedWidgets": [],
       "type": "html"
      }
     },
     "output_type": "display_data"
    }
   ],
   "source": [
    "dateDF.createOrReplaceTempView('dateTable')\n",
    "dateDF.printSchema()"
   ]
  },
  {
   "cell_type": "markdown",
   "metadata": {
    "application/vnd.databricks.v1+cell": {
     "inputWidgets": {},
     "nuid": "6240fe71-150d-4ad0-8dad-e3032150de1d",
     "showTitle": false,
     "title": ""
    }
   },
   "source": [
    "### 문자열 -> 날짜 변환\n",
    "- to_date\n",
    "- to_timestamp"
   ]
  },
  {
   "cell_type": "code",
   "execution_count": null,
   "metadata": {
    "application/vnd.databricks.v1+cell": {
     "inputWidgets": {},
     "nuid": "76d20494-0c29-425b-b332-b8a1770e1f06",
     "showTitle": false,
     "title": ""
    }
   },
   "outputs": [
    {
     "data": {
      "text/html": [
       "<style scoped>\n",
       "  .ansiout {\n",
       "    display: block;\n",
       "    unicode-bidi: embed;\n",
       "    white-space: pre-wrap;\n",
       "    word-wrap: break-word;\n",
       "    word-break: break-all;\n",
       "    font-family: \"Source Code Pro\", \"Menlo\", monospace;;\n",
       "    font-size: 13px;\n",
       "    color: #555;\n",
       "    margin-left: 4px;\n",
       "    line-height: 19px;\n",
       "  }\n",
       "</style>\n",
       "<div class=\"ansiout\">+---+----------+--------------------+----------+\n",
       " id|     today|                 now|  birthday|\n",
       "+---+----------+--------------------+----------+\n",
       "  0|2021-07-19|2021-07-19 21:49:...|1996-07-10|\n",
       "+---+----------+--------------------+----------+\n",
       "only showing top 1 row\n",
       "\n",
       "</div>"
      ]
     },
     "metadata": {
      "application/vnd.databricks.v1+output": {
       "addedWidgets": {},
       "arguments": {},
       "data": "<div class=\"ansiout\">+---+----------+--------------------+----------+\n| id|     today|                 now|  birthday|\n+---+----------+--------------------+----------+\n|  0|2021-07-19|2021-07-19 21:49:...|1996-07-10|\n+---+----------+--------------------+----------+\nonly showing top 1 row\n\n</div>",
       "datasetInfos": [],
       "metadata": {},
       "removedWidgets": [],
       "type": "html"
      }
     },
     "output_type": "display_data"
    }
   ],
   "source": [
    "#to_date함수로 문자열 -> 날짜 변환\n",
    "dateDF.withColumn('birthday', F.to_date(F.lit('1996-07-10'))).show(1)"
   ]
  },
  {
   "cell_type": "code",
   "execution_count": null,
   "metadata": {
    "application/vnd.databricks.v1+cell": {
     "inputWidgets": {},
     "nuid": "898ae247-f605-4be0-aad0-fa6e826e2d68",
     "showTitle": false,
     "title": ""
    }
   },
   "outputs": [
    {
     "data": {
      "text/html": [
       "<style scoped>\n",
       "  .ansiout {\n",
       "    display: block;\n",
       "    unicode-bidi: embed;\n",
       "    white-space: pre-wrap;\n",
       "    word-wrap: break-word;\n",
       "    word-break: break-all;\n",
       "    font-family: \"Source Code Pro\", \"Menlo\", monospace;;\n",
       "    font-size: 13px;\n",
       "    color: #555;\n",
       "    margin-left: 4px;\n",
       "    line-height: 19px;\n",
       "  }\n",
       "</style>\n",
       "<div class=\"ansiout\">+-------------------+\n",
       "to_date(2021-20-12)|\n",
       "+-------------------+\n",
       "               null|\n",
       "+-------------------+\n",
       "only showing top 1 row\n",
       "\n",
       "</div>"
      ]
     },
     "metadata": {
      "application/vnd.databricks.v1+output": {
       "addedWidgets": {},
       "arguments": {},
       "data": "<div class=\"ansiout\">+-------------------+\n|to_date(2021-20-12)|\n+-------------------+\n|               null|\n+-------------------+\nonly showing top 1 row\n\n</div>",
       "datasetInfos": [],
       "metadata": {},
       "removedWidgets": [],
       "type": "html"
      }
     },
     "output_type": "display_data"
    }
   ],
   "source": [
    "#만약 날짜를 파싱할 수 없으면 에러 대신 null값 반환\n",
    "dateDF.select(F.to_date(F.lit('2021-20-12'))).show(1)"
   ]
  },
  {
   "cell_type": "markdown",
   "metadata": {
    "application/vnd.databricks.v1+cell": {
     "inputWidgets": {},
     "nuid": "61d2da1d-8a05-4dce-95fc-710e6fa2a2e4",
     "showTitle": false,
     "title": ""
    }
   },
   "source": [
    "#### 날짜 포맷 지정"
   ]
  },
  {
   "cell_type": "code",
   "execution_count": null,
   "metadata": {
    "application/vnd.databricks.v1+cell": {
     "inputWidgets": {},
     "nuid": "1ffa80f3-bef4-4d0e-ad95-69e373832b8e",
     "showTitle": false,
     "title": ""
    }
   },
   "outputs": [
    {
     "data": {
      "text/html": [
       "<style scoped>\n",
       "  .ansiout {\n",
       "    display: block;\n",
       "    unicode-bidi: embed;\n",
       "    white-space: pre-wrap;\n",
       "    word-wrap: break-word;\n",
       "    word-break: break-all;\n",
       "    font-family: \"Source Code Pro\", \"Menlo\", monospace;;\n",
       "    font-size: 13px;\n",
       "    color: #555;\n",
       "    margin-left: 4px;\n",
       "    line-height: 19px;\n",
       "  }\n",
       "</style>\n",
       "<div class=\"ansiout\">+-------------------------------+\n",
       "to_date(2021-20-12, yyyy-dd-MM)|\n",
       "+-------------------------------+\n",
       "                     2021-12-20|\n",
       "+-------------------------------+\n",
       "only showing top 1 row\n",
       "\n",
       "</div>"
      ]
     },
     "metadata": {
      "application/vnd.databricks.v1+output": {
       "addedWidgets": {},
       "arguments": {},
       "data": "<div class=\"ansiout\">+-------------------------------+\n|to_date(2021-20-12, yyyy-dd-MM)|\n+-------------------------------+\n|                     2021-12-20|\n+-------------------------------+\nonly showing top 1 row\n\n</div>",
       "datasetInfos": [],
       "metadata": {},
       "removedWidgets": [],
       "type": "html"
      }
     },
     "output_type": "display_data"
    }
   ],
   "source": [
    "#날짜 포맷을 년-일-월로 지정한다면 2021-20-12도 표현 가능\n",
    "dateformat = 'yyyy-dd-MM' #년-일-월\n",
    "dateDF.select(F.to_date(F.lit('2021-20-12'), dateformat)).show(1)"
   ]
  },
  {
   "cell_type": "code",
   "execution_count": null,
   "metadata": {
    "application/vnd.databricks.v1+cell": {
     "inputWidgets": {},
     "nuid": "1ee178ba-bcc0-45cb-bdcf-c346214ce3e6",
     "showTitle": false,
     "title": ""
    }
   },
   "outputs": [
    {
     "data": {
      "text/html": [
       "<style scoped>\n",
       "  .ansiout {\n",
       "    display: block;\n",
       "    unicode-bidi: embed;\n",
       "    white-space: pre-wrap;\n",
       "    word-wrap: break-word;\n",
       "    word-break: break-all;\n",
       "    font-family: \"Source Code Pro\", \"Menlo\", monospace;;\n",
       "    font-size: 13px;\n",
       "    color: #555;\n",
       "    margin-left: 4px;\n",
       "    line-height: 19px;\n",
       "  }\n",
       "</style>\n",
       "<div class=\"ansiout\">+------------------------------------+\n",
       "to_timestamp(2021-20-12, yyyy-dd-MM)|\n",
       "+------------------------------------+\n",
       "                 2021-12-20 00:00:00|\n",
       "+------------------------------------+\n",
       "only showing top 1 row\n",
       "\n",
       "</div>"
      ]
     },
     "metadata": {
      "application/vnd.databricks.v1+output": {
       "addedWidgets": {},
       "arguments": {},
       "data": "<div class=\"ansiout\">+------------------------------------+\n|to_timestamp(2021-20-12, yyyy-dd-MM)|\n+------------------------------------+\n|                 2021-12-20 00:00:00|\n+------------------------------------+\nonly showing top 1 row\n\n</div>",
       "datasetInfos": [],
       "metadata": {},
       "removedWidgets": [],
       "type": "html"
      }
     },
     "output_type": "display_data"
    }
   ],
   "source": [
    "\n",
    "dateDF.select(F.to_timestamp(F.lit('2021-20-12'), dateformat)).show(1)"
   ]
  },
  {
   "cell_type": "markdown",
   "metadata": {
    "application/vnd.databricks.v1+cell": {
     "inputWidgets": {},
     "nuid": "12b29b5b-8ae6-4c54-8cc9-23b978d2ea80",
     "showTitle": false,
     "title": ""
    }
   },
   "source": [
    "-------\n",
    "- to_date는 필요에 따라 날짜 포맷을 지정할 수 있지만,\n",
    "- to_timestamp는 반드시 날짜 포맷을 지정해야한다는 것이 차이점"
   ]
  },
  {
   "cell_type": "markdown",
   "metadata": {
    "application/vnd.databricks.v1+cell": {
     "inputWidgets": {},
     "nuid": "3be6cf4f-96af-4e7d-9288-535fda9bfc0c",
     "showTitle": false,
     "title": ""
    }
   },
   "source": [
    "### 날짜 연산\n",
    "- date_sub\n",
    "- date_add\n",
    "- months_between\n",
    "- datediff"
   ]
  },
  {
   "cell_type": "code",
   "execution_count": null,
   "metadata": {
    "application/vnd.databricks.v1+cell": {
     "inputWidgets": {},
     "nuid": "6c6f5ee3-52da-4bc3-ab99-89e95a71710b",
     "showTitle": false,
     "title": ""
    }
   },
   "outputs": [
    {
     "data": {
      "text/html": [
       "<style scoped>\n",
       "  .ansiout {\n",
       "    display: block;\n",
       "    unicode-bidi: embed;\n",
       "    white-space: pre-wrap;\n",
       "    word-wrap: break-word;\n",
       "    word-break: break-all;\n",
       "    font-family: \"Source Code Pro\", \"Menlo\", monospace;;\n",
       "    font-size: 13px;\n",
       "    color: #555;\n",
       "    margin-left: 4px;\n",
       "    line-height: 19px;\n",
       "  }\n",
       "</style>\n",
       "<div class=\"ansiout\">+------------------+------------------+\n",
       "date_sub(today, 5)|date_add(today, 5)|\n",
       "+------------------+------------------+\n",
       "        2021-07-14|        2021-07-24|\n",
       "+------------------+------------------+\n",
       "only showing top 1 row\n",
       "\n",
       "</div>"
      ]
     },
     "metadata": {
      "application/vnd.databricks.v1+output": {
       "addedWidgets": {},
       "arguments": {},
       "data": "<div class=\"ansiout\">+------------------+------------------+\n|date_sub(today, 5)|date_add(today, 5)|\n+------------------+------------------+\n|        2021-07-14|        2021-07-24|\n+------------------+------------------+\nonly showing top 1 row\n\n</div>",
       "datasetInfos": [],
       "metadata": {},
       "removedWidgets": [],
       "type": "html"
      }
     },
     "output_type": "display_data"
    }
   ],
   "source": [
    "#오늘을 기준으로 5일 전후의 날짜 계산\n",
    "dateDF.select(F.date_sub(F.col('today'),5), F.date_add(F.col('today'),5)).show(1)"
   ]
  },
  {
   "cell_type": "code",
   "execution_count": null,
   "metadata": {
    "application/vnd.databricks.v1+cell": {
     "inputWidgets": {},
     "nuid": "62383002-87df-48f8-a261-e4f0a4c7180c",
     "showTitle": false,
     "title": ""
    }
   },
   "outputs": [
    {
     "data": {
      "text/html": [
       "<style scoped>\n",
       "  .ansiout {\n",
       "    display: block;\n",
       "    unicode-bidi: embed;\n",
       "    white-space: pre-wrap;\n",
       "    word-wrap: break-word;\n",
       "    word-break: break-all;\n",
       "    font-family: \"Source Code Pro\", \"Menlo\", monospace;;\n",
       "    font-size: 13px;\n",
       "    color: #555;\n",
       "    margin-left: 4px;\n",
       "    line-height: 19px;\n",
       "  }\n",
       "</style>\n",
       "<div class=\"ansiout\">+---------------------------------------+\n",
       "months_between(today, 2020-07-18, true)|\n",
       "+---------------------------------------+\n",
       "                            12.03225806|\n",
       "+---------------------------------------+\n",
       "only showing top 1 row\n",
       "\n",
       "</div>"
      ]
     },
     "metadata": {
      "application/vnd.databricks.v1+output": {
       "addedWidgets": {},
       "arguments": {},
       "data": "<div class=\"ansiout\">+---------------------------------------+\n|months_between(today, 2020-07-18, true)|\n+---------------------------------------+\n|                            12.03225806|\n+---------------------------------------+\nonly showing top 1 row\n\n</div>",
       "datasetInfos": [],
       "metadata": {},
       "removedWidgets": [],
       "type": "html"
      }
     },
     "output_type": "display_data"
    }
   ],
   "source": [
    "#두 날짜 사이의 개월 수 반환\n",
    "dateDF.select(F.months_between(F.col('today'), F.lit('2020-07-18'))).show(1)\n",
    "\n",
    "#to_date함수를 적용하지 않아도 자체적으로 식별\n",
    "# dateDF.select(F.months_between(F.col('today'), F.to_date(F.lit('2020-07-18')))).show(1)"
   ]
  },
  {
   "cell_type": "code",
   "execution_count": null,
   "metadata": {
    "application/vnd.databricks.v1+cell": {
     "inputWidgets": {},
     "nuid": "c1abdc64-2a02-4d28-8d39-4d7c52299d9e",
     "showTitle": false,
     "title": ""
    }
   },
   "outputs": [
    {
     "data": {
      "text/html": [
       "<style scoped>\n",
       "  .ansiout {\n",
       "    display: block;\n",
       "    unicode-bidi: embed;\n",
       "    white-space: pre-wrap;\n",
       "    word-wrap: break-word;\n",
       "    word-break: break-all;\n",
       "    font-family: \"Source Code Pro\", \"Menlo\", monospace;;\n",
       "    font-size: 13px;\n",
       "    color: #555;\n",
       "    margin-left: 4px;\n",
       "    line-height: 19px;\n",
       "  }\n",
       "</style>\n",
       "<div class=\"ansiout\">+---------------------------+\n",
       "datediff(today, 2020-07-18)|\n",
       "+---------------------------+\n",
       "                        366|\n",
       "+---------------------------+\n",
       "only showing top 1 row\n",
       "\n",
       "</div>"
      ]
     },
     "metadata": {
      "application/vnd.databricks.v1+output": {
       "addedWidgets": {},
       "arguments": {},
       "data": "<div class=\"ansiout\">+---------------------------+\n|datediff(today, 2020-07-18)|\n+---------------------------+\n|                        366|\n+---------------------------+\nonly showing top 1 row\n\n</div>",
       "datasetInfos": [],
       "metadata": {},
       "removedWidgets": [],
       "type": "html"
      }
     },
     "output_type": "display_data"
    }
   ],
   "source": [
    "#두 날짜 사이의 일 수 반환\n",
    "dateDF.select(F.datediff(F.col('today'), F.lit('2020-07-18'))).show(1)"
   ]
  },
  {
   "cell_type": "markdown",
   "metadata": {
    "application/vnd.databricks.v1+cell": {
     "inputWidgets": {},
     "nuid": "f8133e5b-e9c2-43ac-a909-0ee5d0eeb57c",
     "showTitle": false,
     "title": ""
    }
   },
   "source": [
    "## NULL 값 다루기\n",
    "- 스파크에서는 빈 문자열이나 대체 값 대신 <strong>null값을 사용해야 최적화</strong>를 수행할 수 있음\n",
    "  - 그래서 빈 데이터를 표현할 땐 항상 null값을 사용하는 것이 좋음\n",
    "\n",
    "\n",
    "- <strong>null값을 허용하지 않는 컬럼을 선언해도 강제성은 없음</strong>(해당 컬럼에 null값이 들어갈 수 있음)\n",
    "  - nullable 속성은 스파크 SQL 옵티마이저가 해당 컬럼을 제어하는 동작을 단순하게 도울 뿐\n",
    "  \n",
    "  \n",
    "- DataFrame의 하위 패키지인 <strong>.na</strong>를 사용하는 것이 DataFrame에서 null값을 다루는 기본 방식\n",
    "\n",
    "\n",
    "- null값을 다루는 두 가지 방법\n",
    "  1. 명시적으로 null값 제거\n",
    "  2. 전역 또는 컬럼 단위로 null값을 특정 값으로 채워 넣기"
   ]
  },
  {
   "cell_type": "markdown",
   "metadata": {
    "application/vnd.databricks.v1+cell": {
     "inputWidgets": {},
     "nuid": "f11b0434-9b0d-4bb4-b5d7-bd5690242868",
     "showTitle": false,
     "title": ""
    }
   },
   "source": [
    "### coalesce\n",
    "- 인수로 지정한 여러 컬럼 중 null이 아닌 첫번 째 값 반환"
   ]
  },
  {
   "cell_type": "code",
   "execution_count": null,
   "metadata": {
    "application/vnd.databricks.v1+cell": {
     "inputWidgets": {},
     "nuid": "e16b3789-831f-4c33-94c4-3f1b09ea8d43",
     "showTitle": false,
     "title": ""
    }
   },
   "outputs": [
    {
     "data": {
      "text/html": [
       "<style scoped>\n",
       "  .ansiout {\n",
       "    display: block;\n",
       "    unicode-bidi: embed;\n",
       "    white-space: pre-wrap;\n",
       "    word-wrap: break-word;\n",
       "    word-break: break-all;\n",
       "    font-family: \"Source Code Pro\", \"Menlo\", monospace;;\n",
       "    font-size: 13px;\n",
       "    color: #555;\n",
       "    margin-left: 4px;\n",
       "    line-height: 19px;\n",
       "  }\n",
       "</style>\n",
       "<div class=\"ansiout\">+--------------------+----------+---------------------------------+\n",
       "         description|customerid|coalesce(description, customerid)|\n",
       "+--------------------+----------+---------------------------------+\n",
       "WHITE HANGING HEA...|   17850.0|             WHITE HANGING HEA...|\n",
       " WHITE METAL LANTERN|   17850.0|              WHITE METAL LANTERN|\n",
       "CREAM CUPID HEART...|   17850.0|             CREAM CUPID HEART...|\n",
       "KNITTED UNION FLA...|   17850.0|             KNITTED UNION FLA...|\n",
       "RED WOOLLY HOTTIE...|   17850.0|             RED WOOLLY HOTTIE...|\n",
       "+--------------------+----------+---------------------------------+\n",
       "only showing top 5 rows\n",
       "\n",
       "</div>"
      ]
     },
     "metadata": {
      "application/vnd.databricks.v1+output": {
       "addedWidgets": {},
       "arguments": {},
       "data": "<div class=\"ansiout\">+--------------------+----------+---------------------------------+\n|         description|customerid|coalesce(description, customerid)|\n+--------------------+----------+---------------------------------+\n|WHITE HANGING HEA...|   17850.0|             WHITE HANGING HEA...|\n| WHITE METAL LANTERN|   17850.0|              WHITE METAL LANTERN|\n|CREAM CUPID HEART...|   17850.0|             CREAM CUPID HEART...|\n|KNITTED UNION FLA...|   17850.0|             KNITTED UNION FLA...|\n|RED WOOLLY HOTTIE...|   17850.0|             RED WOOLLY HOTTIE...|\n+--------------------+----------+---------------------------------+\nonly showing top 5 rows\n\n</div>",
       "datasetInfos": [],
       "metadata": {},
       "removedWidgets": [],
       "type": "html"
      }
     },
     "output_type": "display_data"
    }
   ],
   "source": [
    "df.select(F.col('description'), F.col('customerid'),\\\n",
    "          F.coalesce(F.col('description'), F.col('customerid'))).show(5)"
   ]
  },
  {
   "cell_type": "markdown",
   "metadata": {
    "application/vnd.databricks.v1+cell": {
     "inputWidgets": {},
     "nuid": "4a04b465-c0c1-4f37-9446-de56bc44583f",
     "showTitle": false,
     "title": ""
    }
   },
   "source": [
    "### drop\n",
    "- null값을 가진 로우를 제거하는 가장 간단한 함수\n",
    "- 함수의 인수\n",
    "  - 'any': 로우의 컬럼값 중 하나라도 null값을 가지면 해당 로우 제거\n",
    "  - 'all': 로우의 모든 컬럼 값이 null이거나 NaN이면 해당 로우 제거"
   ]
  },
  {
   "cell_type": "code",
   "execution_count": null,
   "metadata": {
    "application/vnd.databricks.v1+cell": {
     "inputWidgets": {},
     "nuid": "10e292f5-1975-4ec7-83df-e22440704133",
     "showTitle": false,
     "title": ""
    }
   },
   "outputs": [
    {
     "data": {
      "text/html": [
       "<style scoped>\n",
       "  .ansiout {\n",
       "    display: block;\n",
       "    unicode-bidi: embed;\n",
       "    white-space: pre-wrap;\n",
       "    word-wrap: break-word;\n",
       "    word-break: break-all;\n",
       "    font-family: \"Source Code Pro\", \"Menlo\", monospace;;\n",
       "    font-size: 13px;\n",
       "    color: #555;\n",
       "    margin-left: 4px;\n",
       "    line-height: 19px;\n",
       "  }\n",
       "</style>\n",
       "<div class=\"ansiout\">Out[39]: DataFrame[InvoiceNo: string, StockCode: string, Description: string, Quantity: int, InvoiceDate: string, UnitPrice: double, CustomerID: double, Country: string]</div>"
      ]
     },
     "metadata": {
      "application/vnd.databricks.v1+output": {
       "addedWidgets": {},
       "arguments": {},
       "data": "<div class=\"ansiout\">Out[39]: DataFrame[InvoiceNo: string, StockCode: string, Description: string, Quantity: int, InvoiceDate: string, UnitPrice: double, CustomerID: double, Country: string]</div>",
       "datasetInfos": [],
       "metadata": {},
       "removedWidgets": [],
       "type": "html"
      }
     },
     "output_type": "display_data"
    }
   ],
   "source": [
    "#null값을 가진 모든 로우 제거\n",
    "df.na.drop() #디폴트: how='any'"
   ]
  },
  {
   "cell_type": "markdown",
   "metadata": {
    "application/vnd.databricks.v1+cell": {
     "inputWidgets": {},
     "nuid": "28d3b1ac-e863-4ec0-915d-3583a1eb10b7",
     "showTitle": false,
     "title": ""
    }
   },
   "source": [
    "### fill\n",
    "- fill함수를 사용해 하나 이상의 컬럼을 특정 값으로 채울 수 있다."
   ]
  },
  {
   "cell_type": "code",
   "execution_count": null,
   "metadata": {
    "application/vnd.databricks.v1+cell": {
     "inputWidgets": {},
     "nuid": "ee5c3439-99f2-47d1-bea3-255c6c4c52e5",
     "showTitle": false,
     "title": ""
    }
   },
   "outputs": [
    {
     "data": {
      "text/html": [
       "<style scoped>\n",
       "  .ansiout {\n",
       "    display: block;\n",
       "    unicode-bidi: embed;\n",
       "    white-space: pre-wrap;\n",
       "    word-wrap: break-word;\n",
       "    word-break: break-all;\n",
       "    font-family: \"Source Code Pro\", \"Menlo\", monospace;;\n",
       "    font-size: 13px;\n",
       "    color: #555;\n",
       "    margin-left: 4px;\n",
       "    line-height: 19px;\n",
       "  }\n",
       "</style>\n",
       "<div class=\"ansiout\">Out[40]: DataFrame[InvoiceNo: string, StockCode: string, Description: string, Quantity: int, InvoiceDate: string, UnitPrice: double, CustomerID: double, Country: string]</div>"
      ]
     },
     "metadata": {
      "application/vnd.databricks.v1+output": {
       "addedWidgets": {},
       "arguments": {},
       "data": "<div class=\"ansiout\">Out[40]: DataFrame[InvoiceNo: string, StockCode: string, Description: string, Quantity: int, InvoiceDate: string, UnitPrice: double, CustomerID: double, Country: string]</div>",
       "datasetInfos": [],
       "metadata": {},
       "removedWidgets": [],
       "type": "html"
      }
     },
     "output_type": "display_data"
    }
   ],
   "source": [
    "df.na.fill('all', subset=['stockcode', 'invoiceno'])"
   ]
  },
  {
   "cell_type": "code",
   "execution_count": null,
   "metadata": {
    "application/vnd.databricks.v1+cell": {
     "inputWidgets": {},
     "nuid": "4ff09239-2181-44b5-bb95-a0db7528a1cf",
     "showTitle": false,
     "title": ""
    }
   },
   "outputs": [
    {
     "data": {
      "text/html": [
       "<style scoped>\n",
       "  .ansiout {\n",
       "    display: block;\n",
       "    unicode-bidi: embed;\n",
       "    white-space: pre-wrap;\n",
       "    word-wrap: break-word;\n",
       "    word-break: break-all;\n",
       "    font-family: \"Source Code Pro\", \"Menlo\", monospace;;\n",
       "    font-size: 13px;\n",
       "    color: #555;\n",
       "    margin-left: 4px;\n",
       "    line-height: 19px;\n",
       "  }\n",
       "</style>\n",
       "<div class=\"ansiout\">Out[41]: DataFrame[InvoiceNo: string, StockCode: string, Description: string, Quantity: int, InvoiceDate: string, UnitPrice: double, CustomerID: double, Country: string]</div>"
      ]
     },
     "metadata": {
      "application/vnd.databricks.v1+output": {
       "addedWidgets": {},
       "arguments": {},
       "data": "<div class=\"ansiout\">Out[41]: DataFrame[InvoiceNo: string, StockCode: string, Description: string, Quantity: int, InvoiceDate: string, UnitPrice: double, CustomerID: double, Country: string]</div>",
       "datasetInfos": [],
       "metadata": {},
       "removedWidgets": [],
       "type": "html"
      }
     },
     "output_type": "display_data"
    }
   ],
   "source": [
    "#Map타입을 사용해서 다수의 컬럼에 적용할 수 있음\n",
    "#key: 컬럼명 , value: null값을 대체할 값\n",
    "fill_cols_vals ={'stockcode':5, 'description':'no val'}\n",
    "df.na.fill(fill_cols_vals)"
   ]
  },
  {
   "cell_type": "markdown",
   "metadata": {
    "application/vnd.databricks.v1+cell": {
     "inputWidgets": {},
     "nuid": "9eade18c-26f8-4c0a-b0e0-be9722ab337f",
     "showTitle": false,
     "title": ""
    }
   },
   "source": [
    "### replace\n",
    "- 조건에 따라 다른 값으로 대체하기 위한 함수\n",
    "- 변경하고자 하는 값과 원래의 값의 <strong>데이터 타입이 같아야함</strong>"
   ]
  },
  {
   "cell_type": "code",
   "execution_count": null,
   "metadata": {
    "application/vnd.databricks.v1+cell": {
     "inputWidgets": {},
     "nuid": "591ba345-438c-4916-bbe4-e8f633b0f038",
     "showTitle": false,
     "title": ""
    }
   },
   "outputs": [
    {
     "data": {
      "text/html": [
       "<style scoped>\n",
       "  .ansiout {\n",
       "    display: block;\n",
       "    unicode-bidi: embed;\n",
       "    white-space: pre-wrap;\n",
       "    word-wrap: break-word;\n",
       "    word-break: break-all;\n",
       "    font-family: \"Source Code Pro\", \"Menlo\", monospace;;\n",
       "    font-size: 13px;\n",
       "    color: #555;\n",
       "    margin-left: 4px;\n",
       "    line-height: 19px;\n",
       "  }\n",
       "</style>\n",
       "<div class=\"ansiout\">Out[42]: DataFrame[InvoiceNo: string, StockCode: string, Description: string, Quantity: int, InvoiceDate: string, UnitPrice: double, CustomerID: double, Country: string]</div>"
      ]
     },
     "metadata": {
      "application/vnd.databricks.v1+output": {
       "addedWidgets": {},
       "arguments": {},
       "data": "<div class=\"ansiout\">Out[42]: DataFrame[InvoiceNo: string, StockCode: string, Description: string, Quantity: int, InvoiceDate: string, UnitPrice: double, CustomerID: double, Country: string]</div>",
       "datasetInfos": [],
       "metadata": {},
       "removedWidgets": [],
       "type": "html"
      }
     },
     "output_type": "display_data"
    }
   ],
   "source": [
    "df.na.replace([''], ['unknown'],'description')"
   ]
  },
  {
   "cell_type": "markdown",
   "metadata": {
    "application/vnd.databricks.v1+cell": {
     "inputWidgets": {},
     "nuid": "0a069f13-2833-434c-aaf5-bc607438afb6",
     "showTitle": false,
     "title": ""
    }
   },
   "source": [
    "### 정렬하기\n",
    "- null값이 표시되는 기준을 지정할 수 있음\n",
    "  - asc_nulls_first / last\n",
    "  - desc_nulls_first / last"
   ]
  },
  {
   "cell_type": "code",
   "execution_count": null,
   "metadata": {
    "application/vnd.databricks.v1+cell": {
     "inputWidgets": {},
     "nuid": "298ce386-ed9a-484f-8f56-f9dcdb2eed21",
     "showTitle": false,
     "title": ""
    }
   },
   "outputs": [
    {
     "data": {
      "text/html": [
       "<style scoped>\n",
       "  .ansiout {\n",
       "    display: block;\n",
       "    unicode-bidi: embed;\n",
       "    white-space: pre-wrap;\n",
       "    word-wrap: break-word;\n",
       "    word-break: break-all;\n",
       "    font-family: \"Source Code Pro\", \"Menlo\", monospace;;\n",
       "    font-size: 13px;\n",
       "    color: #555;\n",
       "    margin-left: 4px;\n",
       "    line-height: 19px;\n",
       "  }\n",
       "</style>\n",
       "<div class=\"ansiout\">+---------+---------+-----------+--------+-------------------+---------+----------+--------------+\n",
       "InvoiceNo|StockCode|Description|Quantity|        InvoiceDate|UnitPrice|CustomerID|       Country|\n",
       "+---------+---------+-----------+--------+-------------------+---------+----------+--------------+\n",
       "   536414|    22139|       null|      56|2010-12-01 11:52:00|      0.0|      null|United Kingdom|\n",
       "   536550|    85044|       null|       1|2010-12-01 14:34:00|      0.0|      null|United Kingdom|\n",
       "   536545|    21134|       null|       1|2010-12-01 14:32:00|      0.0|      null|United Kingdom|\n",
       "   536546|    22145|       null|       1|2010-12-01 14:33:00|      0.0|      null|United Kingdom|\n",
       "   536547|    37509|       null|       1|2010-12-01 14:33:00|      0.0|      null|United Kingdom|\n",
       "+---------+---------+-----------+--------+-------------------+---------+----------+--------------+\n",
       "only showing top 5 rows\n",
       "\n",
       "</div>"
      ]
     },
     "metadata": {
      "application/vnd.databricks.v1+output": {
       "addedWidgets": {},
       "arguments": {},
       "data": "<div class=\"ansiout\">+---------+---------+-----------+--------+-------------------+---------+----------+--------------+\n|InvoiceNo|StockCode|Description|Quantity|        InvoiceDate|UnitPrice|CustomerID|       Country|\n+---------+---------+-----------+--------+-------------------+---------+----------+--------------+\n|   536414|    22139|       null|      56|2010-12-01 11:52:00|      0.0|      null|United Kingdom|\n|   536550|    85044|       null|       1|2010-12-01 14:34:00|      0.0|      null|United Kingdom|\n|   536545|    21134|       null|       1|2010-12-01 14:32:00|      0.0|      null|United Kingdom|\n|   536546|    22145|       null|       1|2010-12-01 14:33:00|      0.0|      null|United Kingdom|\n|   536547|    37509|       null|       1|2010-12-01 14:33:00|      0.0|      null|United Kingdom|\n+---------+---------+-----------+--------+-------------------+---------+----------+--------------+\nonly showing top 5 rows\n\n</div>",
       "datasetInfos": [],
       "metadata": {},
       "removedWidgets": [],
       "type": "html"
      }
     },
     "output_type": "display_data"
    }
   ],
   "source": [
    "df.orderBy(F.asc_nulls_first('description')).show(5)"
   ]
  },
  {
   "cell_type": "code",
   "execution_count": null,
   "metadata": {
    "application/vnd.databricks.v1+cell": {
     "inputWidgets": {},
     "nuid": "6d527d4e-7a39-4708-a788-17f231ab3ccf",
     "showTitle": false,
     "title": ""
    }
   },
   "outputs": [
    {
     "data": {
      "text/html": [
       "<style scoped>\n",
       "  .ansiout {\n",
       "    display: block;\n",
       "    unicode-bidi: embed;\n",
       "    white-space: pre-wrap;\n",
       "    word-wrap: break-word;\n",
       "    word-break: break-all;\n",
       "    font-family: \"Source Code Pro\", \"Menlo\", monospace;;\n",
       "    font-size: 13px;\n",
       "    color: #555;\n",
       "    margin-left: 4px;\n",
       "    line-height: 19px;\n",
       "  }\n",
       "</style>\n",
       "<div class=\"ansiout\">+---------+---------+--------------------+--------+-------------------+---------+----------+--------------+\n",
       "InvoiceNo|StockCode|         Description|Quantity|        InvoiceDate|UnitPrice|CustomerID|       Country|\n",
       "+---------+---------+--------------------+--------+-------------------+---------+----------+--------------+\n",
       "   536522|   72800B| 4 PURPLE FLOCK D...|       2|2010-12-01 12:49:00|     2.55|   15012.0|United Kingdom|\n",
       "   536409|    22900| SET 2 TEA TOWELS...|       1|2010-12-01 11:45:00|     2.95|   17908.0|United Kingdom|\n",
       "   536412|    22900| SET 2 TEA TOWELS...|       2|2010-12-01 11:49:00|     2.95|   17920.0|United Kingdom|\n",
       "   536412|    22900| SET 2 TEA TOWELS...|       2|2010-12-01 11:49:00|     2.95|   17920.0|United Kingdom|\n",
       "   536415|    22900| SET 2 TEA TOWELS...|       3|2010-12-01 11:57:00|     2.95|   12838.0|United Kingdom|\n",
       "+---------+---------+--------------------+--------+-------------------+---------+----------+--------------+\n",
       "only showing top 5 rows\n",
       "\n",
       "</div>"
      ]
     },
     "metadata": {
      "application/vnd.databricks.v1+output": {
       "addedWidgets": {},
       "arguments": {},
       "data": "<div class=\"ansiout\">+---------+---------+--------------------+--------+-------------------+---------+----------+--------------+\n|InvoiceNo|StockCode|         Description|Quantity|        InvoiceDate|UnitPrice|CustomerID|       Country|\n+---------+---------+--------------------+--------+-------------------+---------+----------+--------------+\n|   536522|   72800B| 4 PURPLE FLOCK D...|       2|2010-12-01 12:49:00|     2.55|   15012.0|United Kingdom|\n|   536409|    22900| SET 2 TEA TOWELS...|       1|2010-12-01 11:45:00|     2.95|   17908.0|United Kingdom|\n|   536412|    22900| SET 2 TEA TOWELS...|       2|2010-12-01 11:49:00|     2.95|   17920.0|United Kingdom|\n|   536412|    22900| SET 2 TEA TOWELS...|       2|2010-12-01 11:49:00|     2.95|   17920.0|United Kingdom|\n|   536415|    22900| SET 2 TEA TOWELS...|       3|2010-12-01 11:57:00|     2.95|   12838.0|United Kingdom|\n+---------+---------+--------------------+--------+-------------------+---------+----------+--------------+\nonly showing top 5 rows\n\n</div>",
       "datasetInfos": [],
       "metadata": {},
       "removedWidgets": [],
       "type": "html"
      }
     },
     "output_type": "display_data"
    }
   ],
   "source": [
    "df.orderBy(F.asc_nulls_last('description')).show(5)"
   ]
  },
  {
   "cell_type": "markdown",
   "metadata": {
    "application/vnd.databricks.v1+cell": {
     "inputWidgets": {},
     "nuid": "8eec4839-8f16-4594-921d-b4e01b3feb35",
     "showTitle": false,
     "title": ""
    }
   },
   "source": [
    "## 복합 데이터 타입 다루기\n",
    "- 구조체(struct)\n",
    "- 배열(array)\n",
    "- 맵(map)"
   ]
  },
  {
   "cell_type": "markdown",
   "metadata": {
    "application/vnd.databricks.v1+cell": {
     "inputWidgets": {},
     "nuid": "eb1b7b9e-9b36-48dd-b4ca-6f1d93832273",
     "showTitle": false,
     "title": ""
    }
   },
   "source": [
    "### 구조체"
   ]
  },
  {
   "cell_type": "code",
   "execution_count": null,
   "metadata": {
    "application/vnd.databricks.v1+cell": {
     "inputWidgets": {},
     "nuid": "b286e1fb-4865-4802-95f5-1adb9b37d8b3",
     "showTitle": false,
     "title": ""
    }
   },
   "outputs": [
    {
     "data": {
      "text/html": [
       "<style scoped>\n",
       "  .ansiout {\n",
       "    display: block;\n",
       "    unicode-bidi: embed;\n",
       "    white-space: pre-wrap;\n",
       "    word-wrap: break-word;\n",
       "    word-break: break-all;\n",
       "    font-family: \"Source Code Pro\", \"Menlo\", monospace;;\n",
       "    font-size: 13px;\n",
       "    color: #555;\n",
       "    margin-left: 4px;\n",
       "    line-height: 19px;\n",
       "  }\n",
       "</style>\n",
       "<div class=\"ansiout\"></div>"
      ]
     },
     "metadata": {
      "application/vnd.databricks.v1+output": {
       "addedWidgets": {},
       "arguments": {},
       "data": "<div class=\"ansiout\"></div>",
       "datasetInfos": [],
       "metadata": {},
       "removedWidgets": [],
       "type": "html"
      }
     },
     "output_type": "display_data"
    }
   ],
   "source": [
    "complexDF = df.select(F.struct(\"description\", \"invoiceno\").alias('complex'))\n",
    "complexDF.createOrReplaceTempView('complexDF')"
   ]
  },
  {
   "cell_type": "code",
   "execution_count": null,
   "metadata": {
    "application/vnd.databricks.v1+cell": {
     "inputWidgets": {},
     "nuid": "331ae008-65af-4852-ad7b-bf95a22d9663",
     "showTitle": false,
     "title": ""
    }
   },
   "outputs": [
    {
     "data": {
      "text/html": [
       "<style scoped>\n",
       "  .ansiout {\n",
       "    display: block;\n",
       "    unicode-bidi: embed;\n",
       "    white-space: pre-wrap;\n",
       "    word-wrap: break-word;\n",
       "    word-break: break-all;\n",
       "    font-family: \"Source Code Pro\", \"Menlo\", monospace;;\n",
       "    font-size: 13px;\n",
       "    color: #555;\n",
       "    margin-left: 4px;\n",
       "    line-height: 19px;\n",
       "  }\n",
       "</style>\n",
       "<div class=\"ansiout\">root\n",
       "-- complex: struct (nullable = false)\n",
       "    |-- description: string (nullable = true)\n",
       "    |-- invoiceno: string (nullable = true)\n",
       "\n",
       "</div>"
      ]
     },
     "metadata": {
      "application/vnd.databricks.v1+output": {
       "addedWidgets": {},
       "arguments": {},
       "data": "<div class=\"ansiout\">root\n |-- complex: struct (nullable = false)\n |    |-- description: string (nullable = true)\n |    |-- invoiceno: string (nullable = true)\n\n</div>",
       "datasetInfos": [],
       "metadata": {},
       "removedWidgets": [],
       "type": "html"
      }
     },
     "output_type": "display_data"
    }
   ],
   "source": [
    "complexDF.printSchema()"
   ]
  },
  {
   "cell_type": "code",
   "execution_count": null,
   "metadata": {
    "application/vnd.databricks.v1+cell": {
     "inputWidgets": {},
     "nuid": "0410f1ce-6cec-41ef-9c10-e7e64881e910",
     "showTitle": false,
     "title": ""
    }
   },
   "outputs": [
    {
     "data": {
      "text/html": [
       "<style scoped>\n",
       "  .ansiout {\n",
       "    display: block;\n",
       "    unicode-bidi: embed;\n",
       "    white-space: pre-wrap;\n",
       "    word-wrap: break-word;\n",
       "    word-break: break-all;\n",
       "    font-family: \"Source Code Pro\", \"Menlo\", monospace;;\n",
       "    font-size: 13px;\n",
       "    color: #555;\n",
       "    margin-left: 4px;\n",
       "    line-height: 19px;\n",
       "  }\n",
       "</style>\n",
       "<div class=\"ansiout\">+--------------------+\n",
       "         description|\n",
       "+--------------------+\n",
       "WHITE HANGING HEA...|\n",
       " WHITE METAL LANTERN|\n",
       "+--------------------+\n",
       "only showing top 2 rows\n",
       "\n",
       "</div>"
      ]
     },
     "metadata": {
      "application/vnd.databricks.v1+output": {
       "addedWidgets": {},
       "arguments": {},
       "data": "<div class=\"ansiout\">+--------------------+\n|         description|\n+--------------------+\n|WHITE HANGING HEA...|\n| WHITE METAL LANTERN|\n+--------------------+\nonly showing top 2 rows\n\n</div>",
       "datasetInfos": [],
       "metadata": {},
       "removedWidgets": [],
       "type": "html"
      }
     },
     "output_type": "display_data"
    }
   ],
   "source": [
    "#조회 방법 1\n",
    "complexDF.select(\"complex.description\").show(2)"
   ]
  },
  {
   "cell_type": "code",
   "execution_count": null,
   "metadata": {
    "application/vnd.databricks.v1+cell": {
     "inputWidgets": {},
     "nuid": "316530d6-4bc2-423e-b83a-974302d52a33",
     "showTitle": false,
     "title": ""
    }
   },
   "outputs": [
    {
     "data": {
      "text/html": [
       "<style scoped>\n",
       "  .ansiout {\n",
       "    display: block;\n",
       "    unicode-bidi: embed;\n",
       "    white-space: pre-wrap;\n",
       "    word-wrap: break-word;\n",
       "    word-break: break-all;\n",
       "    font-family: \"Source Code Pro\", \"Menlo\", monospace;;\n",
       "    font-size: 13px;\n",
       "    color: #555;\n",
       "    margin-left: 4px;\n",
       "    line-height: 19px;\n",
       "  }\n",
       "</style>\n",
       "<div class=\"ansiout\">+--------------------+\n",
       " complex.description|\n",
       "+--------------------+\n",
       "WHITE HANGING HEA...|\n",
       " WHITE METAL LANTERN|\n",
       "+--------------------+\n",
       "only showing top 2 rows\n",
       "\n",
       "</div>"
      ]
     },
     "metadata": {
      "application/vnd.databricks.v1+output": {
       "addedWidgets": {},
       "arguments": {},
       "data": "<div class=\"ansiout\">+--------------------+\n| complex.description|\n+--------------------+\n|WHITE HANGING HEA...|\n| WHITE METAL LANTERN|\n+--------------------+\nonly showing top 2 rows\n\n</div>",
       "datasetInfos": [],
       "metadata": {},
       "removedWidgets": [],
       "type": "html"
      }
     },
     "output_type": "display_data"
    }
   ],
   "source": [
    "#조회 방법 2\n",
    "complexDF.select(F.col('complex').getField('description')).show(2)"
   ]
  },
  {
   "cell_type": "markdown",
   "metadata": {
    "application/vnd.databricks.v1+cell": {
     "inputWidgets": {},
     "nuid": "6ef60cd7-7e65-439e-a6a8-62c70734d7c1",
     "showTitle": false,
     "title": ""
    }
   },
   "source": [
    "### 배열"
   ]
  },
  {
   "cell_type": "code",
   "execution_count": null,
   "metadata": {
    "application/vnd.databricks.v1+cell": {
     "inputWidgets": {},
     "nuid": "5b0563e8-7eda-4084-a382-8e720adf60f3",
     "showTitle": false,
     "title": ""
    }
   },
   "outputs": [
    {
     "data": {
      "text/html": [
       "<style scoped>\n",
       "  .ansiout {\n",
       "    display: block;\n",
       "    unicode-bidi: embed;\n",
       "    white-space: pre-wrap;\n",
       "    word-wrap: break-word;\n",
       "    word-break: break-all;\n",
       "    font-family: \"Source Code Pro\", \"Menlo\", monospace;;\n",
       "    font-size: 13px;\n",
       "    color: #555;\n",
       "    margin-left: 4px;\n",
       "    line-height: 19px;\n",
       "  }\n",
       "</style>\n",
       "<div class=\"ansiout\">+-------------------------+\n",
       "split(description,  , -1)|\n",
       "+-------------------------+\n",
       "     [WHITE, HANGING, ...|\n",
       "     [WHITE, METAL, LA...|\n",
       "+-------------------------+\n",
       "only showing top 2 rows\n",
       "\n",
       "</div>"
      ]
     },
     "metadata": {
      "application/vnd.databricks.v1+output": {
       "addedWidgets": {},
       "arguments": {},
       "data": "<div class=\"ansiout\">+-------------------------+\n|split(description,  , -1)|\n+-------------------------+\n|     [WHITE, HANGING, ...|\n|     [WHITE, METAL, LA...|\n+-------------------------+\nonly showing top 2 rows\n\n</div>",
       "datasetInfos": [],
       "metadata": {},
       "removedWidgets": [],
       "type": "html"
      }
     },
     "output_type": "display_data"
    }
   ],
   "source": [
    "#배열 생성\n",
    "df.select(F.split(F.col('description'),' ')).show(2)"
   ]
  },
  {
   "cell_type": "code",
   "execution_count": null,
   "metadata": {
    "application/vnd.databricks.v1+cell": {
     "inputWidgets": {},
     "nuid": "0d801c8e-ad3c-4755-85c8-77fa82b950c0",
     "showTitle": false,
     "title": ""
    }
   },
   "outputs": [
    {
     "data": {
      "text/html": [
       "<style scoped>\n",
       "  .ansiout {\n",
       "    display: block;\n",
       "    unicode-bidi: embed;\n",
       "    white-space: pre-wrap;\n",
       "    word-wrap: break-word;\n",
       "    word-break: break-all;\n",
       "    font-family: \"Source Code Pro\", \"Menlo\", monospace;;\n",
       "    font-size: 13px;\n",
       "    color: #555;\n",
       "    margin-left: 4px;\n",
       "    line-height: 19px;\n",
       "  }\n",
       "</style>\n",
       "<div class=\"ansiout\">+------------+\n",
       "array_col[0]|\n",
       "+------------+\n",
       "       WHITE|\n",
       "       WHITE|\n",
       "+------------+\n",
       "only showing top 2 rows\n",
       "\n",
       "</div>"
      ]
     },
     "metadata": {
      "application/vnd.databricks.v1+output": {
       "addedWidgets": {},
       "arguments": {},
       "data": "<div class=\"ansiout\">+------------+\n|array_col[0]|\n+------------+\n|       WHITE|\n|       WHITE|\n+------------+\nonly showing top 2 rows\n\n</div>",
       "datasetInfos": [],
       "metadata": {},
       "removedWidgets": [],
       "type": "html"
      }
     },
     "output_type": "display_data"
    }
   ],
   "source": [
    "#특정 위치값 조회\n",
    "df.select(F.split(F.col('description'),' ').alias('array_col')).selectExpr('array_col[0]').show(2)"
   ]
  },
  {
   "cell_type": "code",
   "execution_count": null,
   "metadata": {
    "application/vnd.databricks.v1+cell": {
     "inputWidgets": {},
     "nuid": "3462790d-2b98-425e-a12a-cce89b2e040d",
     "showTitle": false,
     "title": ""
    }
   },
   "outputs": [
    {
     "data": {
      "text/html": [
       "<style scoped>\n",
       "  .ansiout {\n",
       "    display: block;\n",
       "    unicode-bidi: embed;\n",
       "    white-space: pre-wrap;\n",
       "    word-wrap: break-word;\n",
       "    word-break: break-all;\n",
       "    font-family: \"Source Code Pro\", \"Menlo\", monospace;;\n",
       "    font-size: 13px;\n",
       "    color: #555;\n",
       "    margin-left: 4px;\n",
       "    line-height: 19px;\n",
       "  }\n",
       "</style>\n",
       "<div class=\"ansiout\"></div>"
      ]
     },
     "metadata": {
      "application/vnd.databricks.v1+output": {
       "addedWidgets": {},
       "arguments": {},
       "data": "<div class=\"ansiout\"></div>",
       "datasetInfos": [],
       "metadata": {},
       "removedWidgets": [],
       "type": "html"
      }
     },
     "output_type": "display_data"
    }
   ],
   "source": [
    "tmp = df.select(F.split(F.col('description'),' ').alias('array_col'))"
   ]
  },
  {
   "cell_type": "markdown",
   "metadata": {
    "application/vnd.databricks.v1+cell": {
     "inputWidgets": {},
     "nuid": "d613cbf0-16c2-4655-be8c-62e8583dbada",
     "showTitle": false,
     "title": ""
    }
   },
   "source": [
    "#### size"
   ]
  },
  {
   "cell_type": "code",
   "execution_count": null,
   "metadata": {
    "application/vnd.databricks.v1+cell": {
     "inputWidgets": {},
     "nuid": "f3f905a9-a441-4c2a-96c8-1fc638bfcd12",
     "showTitle": false,
     "title": ""
    }
   },
   "outputs": [
    {
     "data": {
      "text/html": [
       "<style scoped>\n",
       "  .ansiout {\n",
       "    display: block;\n",
       "    unicode-bidi: embed;\n",
       "    white-space: pre-wrap;\n",
       "    word-wrap: break-word;\n",
       "    word-break: break-all;\n",
       "    font-family: \"Source Code Pro\", \"Menlo\", monospace;;\n",
       "    font-size: 13px;\n",
       "    color: #555;\n",
       "    margin-left: 4px;\n",
       "    line-height: 19px;\n",
       "  }\n",
       "</style>\n",
       "<div class=\"ansiout\">+---------------+\n",
       "size(array_col)|\n",
       "+---------------+\n",
       "              5|\n",
       "              3|\n",
       "+---------------+\n",
       "only showing top 2 rows\n",
       "\n",
       "</div>"
      ]
     },
     "metadata": {
      "application/vnd.databricks.v1+output": {
       "addedWidgets": {},
       "arguments": {},
       "data": "<div class=\"ansiout\">+---------------+\n|size(array_col)|\n+---------------+\n|              5|\n|              3|\n+---------------+\nonly showing top 2 rows\n\n</div>",
       "datasetInfos": [],
       "metadata": {},
       "removedWidgets": [],
       "type": "html"
      }
     },
     "output_type": "display_data"
    }
   ],
   "source": [
    "#배열의 길이 조회\n",
    "tmp.select(F.size(F.col('array_col'))).show(2)"
   ]
  },
  {
   "cell_type": "markdown",
   "metadata": {
    "application/vnd.databricks.v1+cell": {
     "inputWidgets": {},
     "nuid": "6898ccbe-1829-4a74-ba23-74a5a9da8a33",
     "showTitle": false,
     "title": ""
    }
   },
   "source": [
    "#### array_contains"
   ]
  },
  {
   "cell_type": "code",
   "execution_count": null,
   "metadata": {
    "application/vnd.databricks.v1+cell": {
     "inputWidgets": {},
     "nuid": "6420723e-8a47-4e98-a16f-f51154fee0f1",
     "showTitle": false,
     "title": ""
    }
   },
   "outputs": [
    {
     "data": {
      "text/html": [
       "<style scoped>\n",
       "  .ansiout {\n",
       "    display: block;\n",
       "    unicode-bidi: embed;\n",
       "    white-space: pre-wrap;\n",
       "    word-wrap: break-word;\n",
       "    word-break: break-all;\n",
       "    font-family: \"Source Code Pro\", \"Menlo\", monospace;;\n",
       "    font-size: 13px;\n",
       "    color: #555;\n",
       "    margin-left: 4px;\n",
       "    line-height: 19px;\n",
       "  }\n",
       "</style>\n",
       "<div class=\"ansiout\">+--------------------------------+\n",
       "array_contains(array_col, WHITE)|\n",
       "+--------------------------------+\n",
       "                            true|\n",
       "                            true|\n",
       "+--------------------------------+\n",
       "only showing top 2 rows\n",
       "\n",
       "</div>"
      ]
     },
     "metadata": {
      "application/vnd.databricks.v1+output": {
       "addedWidgets": {},
       "arguments": {},
       "data": "<div class=\"ansiout\">+--------------------------------+\n|array_contains(array_col, WHITE)|\n+--------------------------------+\n|                            true|\n|                            true|\n+--------------------------------+\nonly showing top 2 rows\n\n</div>",
       "datasetInfos": [],
       "metadata": {},
       "removedWidgets": [],
       "type": "html"
      }
     },
     "output_type": "display_data"
    }
   ],
   "source": [
    "#배열에 특정 값(WHITE)이 존재하는지 확인\n",
    "tmp.select(F.array_contains(F.col('array_col'), 'WHITE')).show(2)"
   ]
  },
  {
   "cell_type": "markdown",
   "metadata": {
    "application/vnd.databricks.v1+cell": {
     "inputWidgets": {},
     "nuid": "ac8ff6cb-a2f8-4e04-abba-97fa2b764c5e",
     "showTitle": false,
     "title": ""
    }
   },
   "source": [
    "#### explode"
   ]
  },
  {
   "cell_type": "code",
   "execution_count": null,
   "metadata": {
    "application/vnd.databricks.v1+cell": {
     "inputWidgets": {},
     "nuid": "9c32e097-3dc8-477f-b0af-fe13b54dafcf",
     "showTitle": false,
     "title": ""
    }
   },
   "outputs": [
    {
     "data": {
      "text/html": [
       "<style scoped>\n",
       "  .ansiout {\n",
       "    display: block;\n",
       "    unicode-bidi: embed;\n",
       "    white-space: pre-wrap;\n",
       "    word-wrap: break-word;\n",
       "    word-break: break-all;\n",
       "    font-family: \"Source Code Pro\", \"Menlo\", monospace;;\n",
       "    font-size: 13px;\n",
       "    color: #555;\n",
       "    margin-left: 4px;\n",
       "    line-height: 19px;\n",
       "  }\n",
       "</style>\n",
       "<div class=\"ansiout\">+--------------------+--------+\n",
       "           array_col|exploded|\n",
       "+--------------------+--------+\n",
       "[WHITE, HANGING, ...|   WHITE|\n",
       "[WHITE, HANGING, ...| HANGING|\n",
       "[WHITE, HANGING, ...|   HEART|\n",
       "[WHITE, HANGING, ...| T-LIGHT|\n",
       "[WHITE, HANGING, ...|  HOLDER|\n",
       "[WHITE, METAL, LA...|   WHITE|\n",
       "[WHITE, METAL, LA...|   METAL|\n",
       "[WHITE, METAL, LA...| LANTERN|\n",
       "[CREAM, CUPID, HE...|   CREAM|\n",
       "[CREAM, CUPID, HE...|   CUPID|\n",
       "+--------------------+--------+\n",
       "only showing top 10 rows\n",
       "\n",
       "</div>"
      ]
     },
     "metadata": {
      "application/vnd.databricks.v1+output": {
       "addedWidgets": {},
       "arguments": {},
       "data": "<div class=\"ansiout\">+--------------------+--------+\n|           array_col|exploded|\n+--------------------+--------+\n|[WHITE, HANGING, ...|   WHITE|\n|[WHITE, HANGING, ...| HANGING|\n|[WHITE, HANGING, ...|   HEART|\n|[WHITE, HANGING, ...| T-LIGHT|\n|[WHITE, HANGING, ...|  HOLDER|\n|[WHITE, METAL, LA...|   WHITE|\n|[WHITE, METAL, LA...|   METAL|\n|[WHITE, METAL, LA...| LANTERN|\n|[CREAM, CUPID, HE...|   CREAM|\n|[CREAM, CUPID, HE...|   CUPID|\n+--------------------+--------+\nonly showing top 10 rows\n\n</div>",
       "datasetInfos": [],
       "metadata": {},
       "removedWidgets": [],
       "type": "html"
      }
     },
     "output_type": "display_data"
    }
   ],
   "source": [
    "#배열의 모든 값을 로우로 변환\n",
    "tmp.withColumn('exploded', F.explode(F.col('array_col'))).show(10)"
   ]
  },
  {
   "cell_type": "markdown",
   "metadata": {
    "application/vnd.databricks.v1+cell": {
     "inputWidgets": {},
     "nuid": "f14c2176-d2b9-4a51-a6a3-f398d8eb6b6c",
     "showTitle": false,
     "title": ""
    }
   },
   "source": [
    "### 맵"
   ]
  },
  {
   "cell_type": "code",
   "execution_count": null,
   "metadata": {
    "application/vnd.databricks.v1+cell": {
     "inputWidgets": {},
     "nuid": "460ba2e7-cfd8-4077-be72-09319448be34",
     "showTitle": false,
     "title": ""
    }
   },
   "outputs": [
    {
     "data": {
      "text/html": [
       "<style scoped>\n",
       "  .ansiout {\n",
       "    display: block;\n",
       "    unicode-bidi: embed;\n",
       "    white-space: pre-wrap;\n",
       "    word-wrap: break-word;\n",
       "    word-break: break-all;\n",
       "    font-family: \"Source Code Pro\", \"Menlo\", monospace;;\n",
       "    font-size: 13px;\n",
       "    color: #555;\n",
       "    margin-left: 4px;\n",
       "    line-height: 19px;\n",
       "  }\n",
       "</style>\n",
       "<div class=\"ansiout\">+--------------------+\n",
       "         complex_map|\n",
       "+--------------------+\n",
       "{WHITE HANGING HE...|\n",
       "{WHITE METAL LANT...|\n",
       "+--------------------+\n",
       "only showing top 2 rows\n",
       "\n",
       "</div>"
      ]
     },
     "metadata": {
      "application/vnd.databricks.v1+output": {
       "addedWidgets": {},
       "arguments": {},
       "data": "<div class=\"ansiout\">+--------------------+\n|         complex_map|\n+--------------------+\n|{WHITE HANGING HE...|\n|{WHITE METAL LANT...|\n+--------------------+\nonly showing top 2 rows\n\n</div>",
       "datasetInfos": [],
       "metadata": {},
       "removedWidgets": [],
       "type": "html"
      }
     },
     "output_type": "display_data"
    }
   ],
   "source": [
    "#생성 (키-값 쌍)\n",
    "tmp_map = df.select(F.create_map(F.col('description'), F.col('invoiceno')).alias('complex_map'))\n",
    "tmp_map.show(2)"
   ]
  },
  {
   "cell_type": "code",
   "execution_count": null,
   "metadata": {
    "application/vnd.databricks.v1+cell": {
     "inputWidgets": {},
     "nuid": "dc126888-3832-40a1-b818-08d4e8fd1a35",
     "showTitle": false,
     "title": ""
    }
   },
   "outputs": [
    {
     "data": {
      "text/html": [
       "<style scoped>\n",
       "  .ansiout {\n",
       "    display: block;\n",
       "    unicode-bidi: embed;\n",
       "    white-space: pre-wrap;\n",
       "    word-wrap: break-word;\n",
       "    word-break: break-all;\n",
       "    font-family: \"Source Code Pro\", \"Menlo\", monospace;;\n",
       "    font-size: 13px;\n",
       "    color: #555;\n",
       "    margin-left: 4px;\n",
       "    line-height: 19px;\n",
       "  }\n",
       "</style>\n",
       "<div class=\"ansiout\">+--------------------------------+\n",
       "complex_map[WHITE METAL LANTERN]|\n",
       "+--------------------------------+\n",
       "                            null|\n",
       "                          536365|\n",
       "+--------------------------------+\n",
       "only showing top 2 rows\n",
       "\n",
       "</div>"
      ]
     },
     "metadata": {
      "application/vnd.databricks.v1+output": {
       "addedWidgets": {},
       "arguments": {},
       "data": "<div class=\"ansiout\">+--------------------------------+\n|complex_map[WHITE METAL LANTERN]|\n+--------------------------------+\n|                            null|\n|                          536365|\n+--------------------------------+\nonly showing top 2 rows\n\n</div>",
       "datasetInfos": [],
       "metadata": {},
       "removedWidgets": [],
       "type": "html"
      }
     },
     "output_type": "display_data"
    }
   ],
   "source": [
    "#조회 -> 해당 키가 없으면 NULL\n",
    "tmp_map.selectExpr(\"complex_map['WHITE METAL LANTERN']\").show(2)"
   ]
  },
  {
   "cell_type": "markdown",
   "metadata": {
    "application/vnd.databricks.v1+cell": {
     "inputWidgets": {},
     "nuid": "d0a5ef1b-6a66-4e6e-9210-3164ea691b18",
     "showTitle": false,
     "title": ""
    }
   },
   "source": [
    "#### explode"
   ]
  },
  {
   "cell_type": "code",
   "execution_count": null,
   "metadata": {
    "application/vnd.databricks.v1+cell": {
     "inputWidgets": {},
     "nuid": "4d23026f-8ac5-401e-a3dc-bf72742a18c1",
     "showTitle": false,
     "title": ""
    }
   },
   "outputs": [
    {
     "data": {
      "text/html": [
       "<style scoped>\n",
       "  .ansiout {\n",
       "    display: block;\n",
       "    unicode-bidi: embed;\n",
       "    white-space: pre-wrap;\n",
       "    word-wrap: break-word;\n",
       "    word-break: break-all;\n",
       "    font-family: \"Source Code Pro\", \"Menlo\", monospace;;\n",
       "    font-size: 13px;\n",
       "    color: #555;\n",
       "    margin-left: 4px;\n",
       "    line-height: 19px;\n",
       "  }\n",
       "</style>\n",
       "<div class=\"ansiout\">+--------------------+------+\n",
       "                 key| value|\n",
       "+--------------------+------+\n",
       "WHITE HANGING HEA...|536365|\n",
       " WHITE METAL LANTERN|536365|\n",
       "+--------------------+------+\n",
       "only showing top 2 rows\n",
       "\n",
       "</div>"
      ]
     },
     "metadata": {
      "application/vnd.databricks.v1+output": {
       "addedWidgets": {},
       "arguments": {},
       "data": "<div class=\"ansiout\">+--------------------+------+\n|                 key| value|\n+--------------------+------+\n|WHITE HANGING HEA...|536365|\n| WHITE METAL LANTERN|536365|\n+--------------------+------+\nonly showing top 2 rows\n\n</div>",
       "datasetInfos": [],
       "metadata": {},
       "removedWidgets": [],
       "type": "html"
      }
     },
     "output_type": "display_data"
    }
   ],
   "source": [
    "#key, value 분해해서 컬럼으로 변환\n",
    "tmp_map.selectExpr(\"explode(complex_map)\").show(2)"
   ]
  },
  {
   "cell_type": "markdown",
   "metadata": {
    "application/vnd.databricks.v1+cell": {
     "inputWidgets": {},
     "nuid": "b5f5490f-a72b-4408-a666-bb76c5c60dd2",
     "showTitle": false,
     "title": ""
    }
   },
   "source": [
    "## JSON 다루기"
   ]
  },
  {
   "cell_type": "code",
   "execution_count": null,
   "metadata": {
    "application/vnd.databricks.v1+cell": {
     "inputWidgets": {},
     "nuid": "33d3d185-5248-4506-84d7-3681bbbd9c6e",
     "showTitle": false,
     "title": ""
    }
   },
   "outputs": [
    {
     "data": {
      "text/html": [
       "<style scoped>\n",
       "  .ansiout {\n",
       "    display: block;\n",
       "    unicode-bidi: embed;\n",
       "    white-space: pre-wrap;\n",
       "    word-wrap: break-word;\n",
       "    word-break: break-all;\n",
       "    font-family: \"Source Code Pro\", \"Menlo\", monospace;;\n",
       "    font-size: 13px;\n",
       "    color: #555;\n",
       "    margin-left: 4px;\n",
       "    line-height: 19px;\n",
       "  }\n",
       "</style>\n",
       "<div class=\"ansiout\"></div>"
      ]
     },
     "metadata": {
      "application/vnd.databricks.v1+output": {
       "addedWidgets": {},
       "arguments": {},
       "data": "<div class=\"ansiout\"></div>",
       "datasetInfos": [],
       "metadata": {},
       "removedWidgets": [],
       "type": "html"
      }
     },
     "output_type": "display_data"
    }
   ],
   "source": [
    "#json 컬럼 생성\n",
    "jsonDF = spark.range(1).selectExpr(\"\"\"'{\"myJSONKey\":{\"myJSONValue\":[1,2,3]}}' as jsonString\"\"\")"
   ]
  },
  {
   "cell_type": "code",
   "execution_count": null,
   "metadata": {
    "application/vnd.databricks.v1+cell": {
     "inputWidgets": {},
     "nuid": "3a10f94b-2d54-4910-9636-97c5a0c92f83",
     "showTitle": false,
     "title": ""
    }
   },
   "outputs": [
    {
     "data": {
      "text/html": [
       "<style scoped>\n",
       "  .ansiout {\n",
       "    display: block;\n",
       "    unicode-bidi: embed;\n",
       "    white-space: pre-wrap;\n",
       "    word-wrap: break-word;\n",
       "    word-break: break-all;\n",
       "    font-family: \"Source Code Pro\", \"Menlo\", monospace;;\n",
       "    font-size: 13px;\n",
       "    color: #555;\n",
       "    margin-left: 4px;\n",
       "    line-height: 19px;\n",
       "  }\n",
       "</style>\n",
       "<div class=\"ansiout\">+------+--------------------+\n",
       "column|                  c0|\n",
       "+------+--------------------+\n",
       "     2|{&#34;myJSONValue&#34;:[1...|\n",
       "+------+--------------------+\n",
       "\n",
       "</div>"
      ]
     },
     "metadata": {
      "application/vnd.databricks.v1+output": {
       "addedWidgets": {},
       "arguments": {},
       "data": "<div class=\"ansiout\">+------+--------------------+\n|column|                  c0|\n+------+--------------------+\n|     2|{&#34;myJSONValue&#34;:[1...|\n+------+--------------------+\n\n</div>",
       "datasetInfos": [],
       "metadata": {},
       "removedWidgets": [],
       "type": "html"
      }
     },
     "output_type": "display_data"
    }
   ],
   "source": [
    "#조회: get_json_object, json_tuple\n",
    "jsonDF.select(F.get_json_object(F.col('jsonString'), \"$.myJSONKey.myJSONValue[1]\").alias('column'),\\\n",
    "              F.json_tuple(F.col('jsonString'),'myJSONKey')).show(2)"
   ]
  },
  {
   "cell_type": "markdown",
   "metadata": {
    "application/vnd.databricks.v1+cell": {
     "inputWidgets": {},
     "nuid": "e5a862dd-78e1-4ba5-bf68-b87ef2591a02",
     "showTitle": false,
     "title": ""
    }
   },
   "source": [
    "#### to_json"
   ]
  },
  {
   "cell_type": "code",
   "execution_count": null,
   "metadata": {
    "application/vnd.databricks.v1+cell": {
     "inputWidgets": {},
     "nuid": "66a44c68-4bc4-4d3f-bc85-0158084ac7e6",
     "showTitle": false,
     "title": ""
    }
   },
   "outputs": [
    {
     "data": {
      "text/html": [
       "<style scoped>\n",
       "  .ansiout {\n",
       "    display: block;\n",
       "    unicode-bidi: embed;\n",
       "    white-space: pre-wrap;\n",
       "    word-wrap: break-word;\n",
       "    word-break: break-all;\n",
       "    font-family: \"Source Code Pro\", \"Menlo\", monospace;;\n",
       "    font-size: 13px;\n",
       "    color: #555;\n",
       "    margin-left: 4px;\n",
       "    line-height: 19px;\n",
       "  }\n",
       "</style>\n",
       "<div class=\"ansiout\">+--------------------+\n",
       "   to_json(myStruct)|\n",
       "+--------------------+\n",
       "{&#34;invoiceno&#34;:&#34;536...|\n",
       "{&#34;invoiceno&#34;:&#34;536...|\n",
       "+--------------------+\n",
       "only showing top 2 rows\n",
       "\n",
       "</div>"
      ]
     },
     "metadata": {
      "application/vnd.databricks.v1+output": {
       "addedWidgets": {},
       "arguments": {},
       "data": "<div class=\"ansiout\">+--------------------+\n|   to_json(myStruct)|\n+--------------------+\n|{&#34;invoiceno&#34;:&#34;536...|\n|{&#34;invoiceno&#34;:&#34;536...|\n+--------------------+\nonly showing top 2 rows\n\n</div>",
       "datasetInfos": [],
       "metadata": {},
       "removedWidgets": [],
       "type": "html"
      }
     },
     "output_type": "display_data"
    }
   ],
   "source": [
    "#to_json함수로 StructType -> json 변경\n",
    "df.selectExpr(\"(invoiceno, description) as myStruct\").select(F.to_json(F.col('myStruct'))).show(2)"
   ]
  },
  {
   "cell_type": "markdown",
   "metadata": {
    "application/vnd.databricks.v1+cell": {
     "inputWidgets": {},
     "nuid": "89102c42-12f4-4874-a26f-090fb2df80b3",
     "showTitle": false,
     "title": ""
    }
   },
   "source": [
    "#### from_json\n",
    "- json문자열을 다시 객체로 변환\n",
    "- 파라미터로 반드시 스키마를 지정해야함"
   ]
  },
  {
   "cell_type": "code",
   "execution_count": null,
   "metadata": {
    "application/vnd.databricks.v1+cell": {
     "inputWidgets": {},
     "nuid": "f182a50f-56e7-45ac-9995-b422883a0581",
     "showTitle": false,
     "title": ""
    }
   },
   "outputs": [
    {
     "data": {
      "text/html": [
       "<style scoped>\n",
       "  .ansiout {\n",
       "    display: block;\n",
       "    unicode-bidi: embed;\n",
       "    white-space: pre-wrap;\n",
       "    word-wrap: break-word;\n",
       "    word-break: break-all;\n",
       "    font-family: \"Source Code Pro\", \"Menlo\", monospace;;\n",
       "    font-size: 13px;\n",
       "    color: #555;\n",
       "    margin-left: 4px;\n",
       "    line-height: 19px;\n",
       "  }\n",
       "</style>\n",
       "<div class=\"ansiout\"></div>"
      ]
     },
     "metadata": {
      "application/vnd.databricks.v1+output": {
       "addedWidgets": {},
       "arguments": {},
       "data": "<div class=\"ansiout\"></div>",
       "datasetInfos": [],
       "metadata": {},
       "removedWidgets": [],
       "type": "html"
      }
     },
     "output_type": "display_data"
    }
   ],
   "source": [
    "parseSchema = T.StructType((\n",
    "  T.StructField(\"InvoiceNo\", T.StringType(), True),\n",
    "  T.StructField(\"Description\", T.StringType(), True),\n",
    "))"
   ]
  },
  {
   "cell_type": "code",
   "execution_count": null,
   "metadata": {
    "application/vnd.databricks.v1+cell": {
     "inputWidgets": {},
     "nuid": "8f42a1a3-5a14-4108-9865-6056c1d2d7c7",
     "showTitle": false,
     "title": ""
    }
   },
   "outputs": [
    {
     "data": {
      "text/html": [
       "<style scoped>\n",
       "  .ansiout {\n",
       "    display: block;\n",
       "    unicode-bidi: embed;\n",
       "    white-space: pre-wrap;\n",
       "    word-wrap: break-word;\n",
       "    word-break: break-all;\n",
       "    font-family: \"Source Code Pro\", \"Menlo\", monospace;;\n",
       "    font-size: 13px;\n",
       "    color: #555;\n",
       "    margin-left: 4px;\n",
       "    line-height: 19px;\n",
       "  }\n",
       "</style>\n",
       "<div class=\"ansiout\">+--------------------+--------------------+\n",
       " from_json(new_json)|            new_json|\n",
       "+--------------------+--------------------+\n",
       "{536365, WHITE HA...|{&#34;InvoiceNo&#34;:&#34;536...|\n",
       "{536365, WHITE ME...|{&#34;InvoiceNo&#34;:&#34;536...|\n",
       "+--------------------+--------------------+\n",
       "only showing top 2 rows\n",
       "\n",
       "</div>"
      ]
     },
     "metadata": {
      "application/vnd.databricks.v1+output": {
       "addedWidgets": {},
       "arguments": {},
       "data": "<div class=\"ansiout\">+--------------------+--------------------+\n| from_json(new_json)|            new_json|\n+--------------------+--------------------+\n|{536365, WHITE HA...|{&#34;InvoiceNo&#34;:&#34;536...|\n|{536365, WHITE ME...|{&#34;InvoiceNo&#34;:&#34;536...|\n+--------------------+--------------------+\nonly showing top 2 rows\n\n</div>",
       "datasetInfos": [],
       "metadata": {},
       "removedWidgets": [],
       "type": "html"
      }
     },
     "output_type": "display_data"
    }
   ],
   "source": [
    "#필드명이랑 똑같이 대소문자 구분해야함 -> to_json하면 key값이 되기 때문\n",
    "df.selectExpr(\"(InvoiceNo, Description) as myStruct\")\\\n",
    ".select(F.to_json(F.col('myStruct')).alias('new_json'))\\\n",
    ".select(F.from_json(F.col(\"new_json\"), parseSchema), F.col('new_json')).show(2)"
   ]
  },
  {
   "cell_type": "markdown",
   "metadata": {
    "application/vnd.databricks.v1+cell": {
     "inputWidgets": {},
     "nuid": "b834f0c1-4619-4538-b069-aad7ad709e82",
     "showTitle": false,
     "title": ""
    }
   },
   "source": [
    "## 사용자 정의 함수(User Defined Function, UDF)\n",
    "- 스파크의 가장 강력한 기능 중 하나\n",
    "- 레코드별로 데이터를 처리하는 함수이므로 독특한 포맷이나 도메인에 특화된 언어를 사용하지 않음\n",
    "- 여러 언어로 개발할 수 있으므로 매우 강력함\n",
    "  - 스칼라, 자바, 파이썬으로 udf 개발 가능\n",
    "  - 근데 언어별로 성능에 영향을 미칠 수 있음"
   ]
  },
  {
   "cell_type": "markdown",
   "metadata": {
    "application/vnd.databricks.v1+cell": {
     "inputWidgets": {},
     "nuid": "4e3864a4-95cb-4fc1-9c4c-fef26e4d6354",
     "showTitle": false,
     "title": ""
    }
   },
   "source": [
    "### 파이썬 UDF 처리 과정\n",
    "<img src=\"https://noufel1393.gitlab.io/noufel1393/img/blog_images/pyspark_udf_large.png\" width=40% height=40% />\n",
    "<br><br>\n",
    "- 과정\n",
    "  1. 함수 직렬화 후 워커에 전달\n",
    "    - 직렬화: 파이썬이 이해할 수 있는 포맷으로 모든 데이터를 변환\n",
    "  2. 스파크에서 파이썬 프로세스 실행 후 데이터 전송\n",
    "  3. 파이썬에서 처리 결과 반환\n",
    "\n",
    "\n",
    "- 파이썬으로 udf개발 시 문제점\n",
    "  - 파이썬으로 데이터를 전달하기 위해 <strong>직렬화하는 과정에서 부하</strong> 발생\n",
    "  - 데이터가 파이썬으로 전달되면 <strong>스파크에서 워커 메모리를 관리할 수 없음</strong>\n",
    "    - JVM과 파이썬이 동일한 머신에서 메모리 경합을 하면 자원에 제약이 생겨 워커가 비정상적으로 종료될 가능성이 있음\n",
    "    - 그래서 자바나 스칼라로 UDF를 개발하는 것이 더 좋음"
   ]
  },
  {
   "cell_type": "code",
   "execution_count": null,
   "metadata": {
    "application/vnd.databricks.v1+cell": {
     "inputWidgets": {},
     "nuid": "3de19fb2-fec6-43f9-8e61-daa3ce379c22",
     "showTitle": false,
     "title": ""
    }
   },
   "outputs": [
    {
     "data": {
      "text/html": [
       "<style scoped>\n",
       "  .ansiout {\n",
       "    display: block;\n",
       "    unicode-bidi: embed;\n",
       "    white-space: pre-wrap;\n",
       "    word-wrap: break-word;\n",
       "    word-break: break-all;\n",
       "    font-family: \"Source Code Pro\", \"Menlo\", monospace;;\n",
       "    font-size: 13px;\n",
       "    color: #555;\n",
       "    margin-left: 4px;\n",
       "    line-height: 19px;\n",
       "  }\n",
       "</style>\n",
       "<div class=\"ansiout\"></div>"
      ]
     },
     "metadata": {
      "application/vnd.databricks.v1+output": {
       "addedWidgets": {},
       "arguments": {},
       "data": "<div class=\"ansiout\"></div>",
       "datasetInfos": [],
       "metadata": {},
       "removedWidgets": [],
       "type": "html"
      }
     },
     "output_type": "display_data"
    }
   ],
   "source": [
    "udf_df = spark.range(5).toDF('num')"
   ]
  },
  {
   "cell_type": "markdown",
   "metadata": {
    "application/vnd.databricks.v1+cell": {
     "inputWidgets": {},
     "nuid": "2113e12b-15c8-4f6d-a4ef-64777191c39c",
     "showTitle": false,
     "title": ""
    }
   },
   "source": [
    "#### 1. 함수 정의"
   ]
  },
  {
   "cell_type": "code",
   "execution_count": null,
   "metadata": {
    "application/vnd.databricks.v1+cell": {
     "inputWidgets": {},
     "nuid": "759f83e6-38c5-4cfc-9d37-2a2769449f25",
     "showTitle": false,
     "title": ""
    }
   },
   "outputs": [
    {
     "data": {
      "text/html": [
       "<style scoped>\n",
       "  .ansiout {\n",
       "    display: block;\n",
       "    unicode-bidi: embed;\n",
       "    white-space: pre-wrap;\n",
       "    word-wrap: break-word;\n",
       "    word-break: break-all;\n",
       "    font-family: \"Source Code Pro\", \"Menlo\", monospace;;\n",
       "    font-size: 13px;\n",
       "    color: #555;\n",
       "    margin-left: 4px;\n",
       "    line-height: 19px;\n",
       "  }\n",
       "</style>\n",
       "<div class=\"ansiout\">Out[90]: 8.0</div>"
      ]
     },
     "metadata": {
      "application/vnd.databricks.v1+output": {
       "addedWidgets": {},
       "arguments": {},
       "data": "<div class=\"ansiout\">Out[90]: 8.0</div>",
       "datasetInfos": [],
       "metadata": {},
       "removedWidgets": [],
       "type": "html"
      }
     },
     "output_type": "display_data"
    }
   ],
   "source": [
    "def power3(double_val):\n",
    "  return double_val**3\n",
    "power3(2.0)"
   ]
  },
  {
   "cell_type": "markdown",
   "metadata": {
    "application/vnd.databricks.v1+cell": {
     "inputWidgets": {},
     "nuid": "2c696fff-94a2-4691-bc4e-44285f997b2f",
     "showTitle": false,
     "title": ""
    }
   },
   "source": [
    "#### 2. 사용자 정의 함수 등록"
   ]
  },
  {
   "cell_type": "code",
   "execution_count": null,
   "metadata": {
    "application/vnd.databricks.v1+cell": {
     "inputWidgets": {},
     "nuid": "dc93da20-9a31-482a-b5bd-68d009670148",
     "showTitle": false,
     "title": ""
    }
   },
   "outputs": [
    {
     "data": {
      "text/html": [
       "<style scoped>\n",
       "  .ansiout {\n",
       "    display: block;\n",
       "    unicode-bidi: embed;\n",
       "    white-space: pre-wrap;\n",
       "    word-wrap: break-word;\n",
       "    word-break: break-all;\n",
       "    font-family: \"Source Code Pro\", \"Menlo\", monospace;;\n",
       "    font-size: 13px;\n",
       "    color: #555;\n",
       "    margin-left: 4px;\n",
       "    line-height: 19px;\n",
       "  }\n",
       "</style>\n",
       "<div class=\"ansiout\"></div>"
      ]
     },
     "metadata": {
      "application/vnd.databricks.v1+output": {
       "addedWidgets": {},
       "arguments": {},
       "data": "<div class=\"ansiout\"></div>",
       "datasetInfos": [],
       "metadata": {},
       "removedWidgets": [],
       "type": "html"
      }
     },
     "output_type": "display_data"
    }
   ],
   "source": [
    "power3udf = F.udf(power3)"
   ]
  },
  {
   "cell_type": "markdown",
   "metadata": {
    "application/vnd.databricks.v1+cell": {
     "inputWidgets": {},
     "nuid": "f9e91acd-de06-47ed-a80e-0e055ced8cb4",
     "showTitle": false,
     "title": ""
    }
   },
   "source": [
    "#### 3. 적용"
   ]
  },
  {
   "cell_type": "code",
   "execution_count": null,
   "metadata": {
    "application/vnd.databricks.v1+cell": {
     "inputWidgets": {},
     "nuid": "ca1ebf9b-2842-4039-a0c1-e04f3e3b45f9",
     "showTitle": false,
     "title": ""
    }
   },
   "outputs": [
    {
     "data": {
      "text/html": [
       "<style scoped>\n",
       "  .ansiout {\n",
       "    display: block;\n",
       "    unicode-bidi: embed;\n",
       "    white-space: pre-wrap;\n",
       "    word-wrap: break-word;\n",
       "    word-break: break-all;\n",
       "    font-family: \"Source Code Pro\", \"Menlo\", monospace;;\n",
       "    font-size: 13px;\n",
       "    color: #555;\n",
       "    margin-left: 4px;\n",
       "    line-height: 19px;\n",
       "  }\n",
       "</style>\n",
       "<div class=\"ansiout\">+-----------+\n",
       "power3(num)|\n",
       "+-----------+\n",
       "          0|\n",
       "          1|\n",
       "          8|\n",
       "         27|\n",
       "         64|\n",
       "+-----------+\n",
       "\n",
       "</div>"
      ]
     },
     "metadata": {
      "application/vnd.databricks.v1+output": {
       "addedWidgets": {},
       "arguments": {},
       "data": "<div class=\"ansiout\">+-----------+\n|power3(num)|\n+-----------+\n|          0|\n|          1|\n|          8|\n|         27|\n|         64|\n+-----------+\n\n</div>",
       "datasetInfos": [],
       "metadata": {},
       "removedWidgets": [],
       "type": "html"
      }
     },
     "output_type": "display_data"
    }
   ],
   "source": [
    "udf_df.select(power3udf(F.col('num'))).show()"
   ]
  },
  {
   "cell_type": "markdown",
   "metadata": {
    "application/vnd.databricks.v1+cell": {
     "inputWidgets": {},
     "nuid": "7ac78027-d27e-4888-8bab-80c852fc31eb",
     "showTitle": false,
     "title": ""
    }
   },
   "source": [
    "#### SQL함수 등록\n",
    "- udf를 스파크 SQL 함수로 등록하면 <strong>모든 언어와 sql에서 해당 udf를 사용</strong>할 수 있음\n",
    "  - 스칼라로 개발된 udf를 sql함수로 등록하면 이를 파이썬에서 우회적으로 사용 가능\n",
    "- 하지만 <strong>dataframe함수 대신 sql표현식</strong>으로 사용 가능"
   ]
  },
  {
   "cell_type": "code",
   "execution_count": null,
   "metadata": {
    "application/vnd.databricks.v1+cell": {
     "inputWidgets": {},
     "nuid": "87baa655-1f84-49b0-ae67-7bd6e3212b16",
     "showTitle": false,
     "title": ""
    }
   },
   "outputs": [
    {
     "data": {
      "text/html": [
       "<style scoped>\n",
       "  .ansiout {\n",
       "    display: block;\n",
       "    unicode-bidi: embed;\n",
       "    white-space: pre-wrap;\n",
       "    word-wrap: break-word;\n",
       "    word-break: break-all;\n",
       "    font-family: \"Source Code Pro\", \"Menlo\", monospace;;\n",
       "    font-size: 13px;\n",
       "    color: #555;\n",
       "    margin-left: 4px;\n",
       "    line-height: 19px;\n",
       "  }\n",
       "</style>\n",
       "<div class=\"ansiout\">Out[102]: &lt;function __main__.power3(double_val)&gt;</div>"
      ]
     },
     "metadata": {
      "application/vnd.databricks.v1+output": {
       "addedWidgets": {},
       "arguments": {},
       "data": "<div class=\"ansiout\">Out[102]: &lt;function __main__.power3(double_val)&gt;</div>",
       "datasetInfos": [],
       "metadata": {},
       "removedWidgets": [],
       "type": "html"
      }
     },
     "output_type": "display_data"
    }
   ],
   "source": [
    "#sql함수로 등록\n",
    "spark.udf.register('power3', power3, T.DoubleType())"
   ]
  },
  {
   "cell_type": "markdown",
   "metadata": {
    "application/vnd.databricks.v1+cell": {
     "inputWidgets": {},
     "nuid": "55353752-222c-46cf-8c9c-b707b540c5cf",
     "showTitle": false,
     "title": ""
    }
   },
   "source": [
    "----\n",
    "- 스파크는 파이썬의 데이터 타입과는 다른 자체 데이터 타입을 사용하므로 함수를 정의할 때 반환 타입을 지정하는게 좋다.\n",
    "  - 필수는 아님"
   ]
  },
  {
   "cell_type": "code",
   "execution_count": null,
   "metadata": {
    "application/vnd.databricks.v1+cell": {
     "inputWidgets": {},
     "nuid": "ba125444-69a5-4b17-94b7-a17af48fca70",
     "showTitle": false,
     "title": ""
    }
   },
   "outputs": [
    {
     "data": {
      "text/html": [
       "<style scoped>\n",
       "  .ansiout {\n",
       "    display: block;\n",
       "    unicode-bidi: embed;\n",
       "    white-space: pre-wrap;\n",
       "    word-wrap: break-word;\n",
       "    word-break: break-all;\n",
       "    font-family: \"Source Code Pro\", \"Menlo\", monospace;;\n",
       "    font-size: 13px;\n",
       "    color: #555;\n",
       "    margin-left: 4px;\n",
       "    line-height: 19px;\n",
       "  }\n",
       "</style>\n",
       "<div class=\"ansiout\">+-----------+\n",
       "power3(num)|\n",
       "+-----------+\n",
       "       null|\n",
       "       null|\n",
       "       null|\n",
       "       null|\n",
       "       null|\n",
       "+-----------+\n",
       "\n",
       "</div>"
      ]
     },
     "metadata": {
      "application/vnd.databricks.v1+output": {
       "addedWidgets": {},
       "arguments": {},
       "data": "<div class=\"ansiout\">+-----------+\n|power3(num)|\n+-----------+\n|       null|\n|       null|\n|       null|\n|       null|\n|       null|\n+-----------+\n\n</div>",
       "datasetInfos": [],
       "metadata": {},
       "removedWidgets": [],
       "type": "html"
      }
     },
     "output_type": "display_data"
    }
   ],
   "source": [
    "udf_df.selectExpr('power3(num)').show()"
   ]
  },
  {
   "cell_type": "markdown",
   "metadata": {
    "application/vnd.databricks.v1+cell": {
     "inputWidgets": {},
     "nuid": "f38e623d-7a7e-4db9-8e2d-3ad9109a221d",
     "showTitle": false,
     "title": ""
    }
   },
   "source": [
    "----\n",
    "- 읭? null값이 나오는 이유 \n",
    "  - range메서드가 int 타입의 데이터를 만들었기 때문\n",
    "  - 파이썬에서 int 타입을 사용해서 연산했다면 float 타입(spark에서는 double 타입과 동일)으로 변환할 수 없으므로 null 반환"
   ]
  },
  {
   "cell_type": "code",
   "execution_count": null,
   "metadata": {
    "application/vnd.databricks.v1+cell": {
     "inputWidgets": {},
     "nuid": "c67bb3b3-8a68-414c-95e7-d140c62de261",
     "showTitle": false,
     "title": ""
    }
   },
   "outputs": [
    {
     "data": {
      "text/html": [
       "<style scoped>\n",
       "  .ansiout {\n",
       "    display: block;\n",
       "    unicode-bidi: embed;\n",
       "    white-space: pre-wrap;\n",
       "    word-wrap: break-word;\n",
       "    word-break: break-all;\n",
       "    font-family: \"Source Code Pro\", \"Menlo\", monospace;;\n",
       "    font-size: 13px;\n",
       "    color: #555;\n",
       "    margin-left: 4px;\n",
       "    line-height: 19px;\n",
       "  }\n",
       "</style>\n",
       "<div class=\"ansiout\">Out[106]: &lt;function __main__.power3(double_val)&gt;</div>"
      ]
     },
     "metadata": {
      "application/vnd.databricks.v1+output": {
       "addedWidgets": {},
       "arguments": {},
       "data": "<div class=\"ansiout\">Out[106]: &lt;function __main__.power3(double_val)&gt;</div>",
       "datasetInfos": [],
       "metadata": {},
       "removedWidgets": [],
       "type": "html"
      }
     },
     "output_type": "display_data"
    }
   ],
   "source": [
    "#해결 방법: 반환 데이터 타입 변경 \n",
    "spark.udf.register('power3_int', power3, T.IntegerType())"
   ]
  },
  {
   "cell_type": "code",
   "execution_count": null,
   "metadata": {
    "application/vnd.databricks.v1+cell": {
     "inputWidgets": {},
     "nuid": "382ebb06-c1b2-45b7-840d-76064f17aab4",
     "showTitle": false,
     "title": ""
    }
   },
   "outputs": [
    {
     "data": {
      "text/html": [
       "<style scoped>\n",
       "  .ansiout {\n",
       "    display: block;\n",
       "    unicode-bidi: embed;\n",
       "    white-space: pre-wrap;\n",
       "    word-wrap: break-word;\n",
       "    word-break: break-all;\n",
       "    font-family: \"Source Code Pro\", \"Menlo\", monospace;;\n",
       "    font-size: 13px;\n",
       "    color: #555;\n",
       "    margin-left: 4px;\n",
       "    line-height: 19px;\n",
       "  }\n",
       "</style>\n",
       "<div class=\"ansiout\">+---------------+\n",
       "power3_int(num)|\n",
       "+---------------+\n",
       "              0|\n",
       "              1|\n",
       "              8|\n",
       "             27|\n",
       "             64|\n",
       "+---------------+\n",
       "\n",
       "</div>"
      ]
     },
     "metadata": {
      "application/vnd.databricks.v1+output": {
       "addedWidgets": {},
       "arguments": {},
       "data": "<div class=\"ansiout\">+---------------+\n|power3_int(num)|\n+---------------+\n|              0|\n|              1|\n|              8|\n|             27|\n|             64|\n+---------------+\n\n</div>",
       "datasetInfos": [],
       "metadata": {},
       "removedWidgets": [],
       "type": "html"
      }
     },
     "output_type": "display_data"
    }
   ],
   "source": [
    "udf_df.selectExpr('power3_int(num)').show()"
   ]
  }
 ],
 "metadata": {
  "application/vnd.databricks.v1+notebook": {
   "dashboards": [],
   "language": "python",
   "notebookMetadata": {
    "pythonIndentUnit": 2
   },
   "notebookName": "Chapter6",
   "notebookOrigID": 2851381771412667,
   "widgets": {}
  },
  "kernelspec": {
   "display_name": "Python 3 (ipykernel)",
   "language": "python",
   "name": "python3"
  },
  "language_info": {
   "codemirror_mode": {
    "name": "ipython",
    "version": 3
   },
   "file_extension": ".py",
   "mimetype": "text/x-python",
   "name": "python",
   "nbconvert_exporter": "python",
   "pygments_lexer": "ipython3",
   "version": "3.11.6"
  }
 },
 "nbformat": 4,
 "nbformat_minor": 4
}
