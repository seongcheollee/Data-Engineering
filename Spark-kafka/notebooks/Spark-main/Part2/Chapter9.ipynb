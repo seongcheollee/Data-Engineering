{
 "cells": [
  {
   "cell_type": "markdown",
   "metadata": {
    "application/vnd.databricks.v1+cell": {
     "inputWidgets": {},
     "nuid": "56ae41fb-0f65-49ed-88a9-1a4d589b8d33",
     "showTitle": false,
     "title": ""
    }
   },
   "source": [
    "# 데이터소스\n",
    "- 스파크 핵심 데이터소스 \n",
    "  - CSV\n",
    "  - JSON\n",
    "  - 파케이\n",
    "  - ORC\n",
    "  - JDBC/ODBC연결\n",
    "  - 일반 텍스트 파일\n",
    "\n",
    "- 핵심 서드파티 데이터소스\n",
    "  - 카산드라\n",
    "  - HBase\n",
    "  - 몽고디비\n",
    "  - AWS Redshift\n",
    "  - XML"
   ]
  },
  {
   "cell_type": "code",
   "execution_count": null,
   "metadata": {
    "application/vnd.databricks.v1+cell": {
     "inputWidgets": {},
     "nuid": "e15894f8-32d9-41b3-abcf-b30cc8fd63b5",
     "showTitle": false,
     "title": ""
    }
   },
   "outputs": [
    {
     "data": {
      "text/html": [
       "<style scoped>\n",
       "  .ansiout {\n",
       "    display: block;\n",
       "    unicode-bidi: embed;\n",
       "    white-space: pre-wrap;\n",
       "    word-wrap: break-word;\n",
       "    word-break: break-all;\n",
       "    font-family: \"Source Code Pro\", \"Menlo\", monospace;;\n",
       "    font-size: 13px;\n",
       "    color: #555;\n",
       "    margin-left: 4px;\n",
       "    line-height: 19px;\n",
       "  }\n",
       "</style>\n",
       "<div class=\"ansiout\"></div>"
      ]
     },
     "metadata": {
      "application/vnd.databricks.v1+output": {
       "addedWidgets": {},
       "arguments": {},
       "data": "<div class=\"ansiout\"></div>",
       "datasetInfos": [],
       "metadata": {},
       "removedWidgets": [],
       "type": "html"
      }
     },
     "output_type": "display_data"
    }
   ],
   "source": [
    "path='/FileStore/tables/all/*.csv'"
   ]
  },
  {
   "cell_type": "markdown",
   "metadata": {
    "application/vnd.databricks.v1+cell": {
     "inputWidgets": {},
     "nuid": "34a934a5-8b8f-47e8-9cdb-2d4d1df1556b",
     "showTitle": false,
     "title": ""
    }
   },
   "source": [
    "## 데이터소스 API의 구조"
   ]
  },
  {
   "cell_type": "markdown",
   "metadata": {
    "application/vnd.databricks.v1+cell": {
     "inputWidgets": {},
     "nuid": "d2e91570-8c90-4874-b9d2-d13f8ce7b01b",
     "showTitle": false,
     "title": ""
    }
   },
   "source": [
    "### 읽기 API 구조\n",
    "- 스파크에서 데이터를 읽을 땐 기본적으로 <strong>DataFrameReader</strong>를 사용함\n",
    "- DataFrameReader는 <strong>SparkSession의 read 속성</strong>으로 접근\n",
    "- DataFrameReader를 얻고 나서는 다음과 같은 값을 지정해야함\n",
    "  - format: 포맷 지정(default: 파케이)\n",
    "  - option: 데이터 읽는 방법 지정 ex)키-값 쌍이면 option('key', 'value')\n",
    "  - schema: 데이터 소스에서 스키마를 제공하거나 스키마 추론 기능을 사용하려고 할 때 지정"
   ]
  },
  {
   "cell_type": "code",
   "execution_count": null,
   "metadata": {
    "application/vnd.databricks.v1+cell": {
     "inputWidgets": {},
     "nuid": "a9795a76-10cb-4d4f-864c-8e9b192102d9",
     "showTitle": false,
     "title": ""
    }
   },
   "outputs": [
    {
     "data": {
      "text/html": [
       "<style scoped>\n",
       "  .ansiout {\n",
       "    display: block;\n",
       "    unicode-bidi: embed;\n",
       "    white-space: pre-wrap;\n",
       "    word-wrap: break-word;\n",
       "    word-break: break-all;\n",
       "    font-family: \"Source Code Pro\", \"Menlo\", monospace;;\n",
       "    font-size: 13px;\n",
       "    color: #555;\n",
       "    margin-left: 4px;\n",
       "    line-height: 19px;\n",
       "  }\n",
       "</style>\n",
       "<div class=\"ansiout\">Out[1]: &lt;pyspark.sql.readwriter.DataFrameReader at 0x7f6b4e3e9f40&gt;</div>"
      ]
     },
     "metadata": {
      "application/vnd.databricks.v1+output": {
       "addedWidgets": {},
       "arguments": {},
       "data": "<div class=\"ansiout\">Out[1]: &lt;pyspark.sql.readwriter.DataFrameReader at 0x7f6b4e3e9f40&gt;</div>",
       "datasetInfos": [],
       "metadata": {},
       "removedWidgets": [],
       "type": "html"
      }
     },
     "output_type": "display_data"
    }
   ],
   "source": [
    "spark.read"
   ]
  },
  {
   "cell_type": "code",
   "execution_count": null,
   "metadata": {
    "application/vnd.databricks.v1+cell": {
     "inputWidgets": {},
     "nuid": "9513497d-e45d-41ad-8a5d-dfb1c2b603de",
     "showTitle": false,
     "title": ""
    }
   },
   "outputs": [
    {
     "data": {
      "text/html": [
       "<style scoped>\n",
       "  .ansiout {\n",
       "    display: block;\n",
       "    unicode-bidi: embed;\n",
       "    white-space: pre-wrap;\n",
       "    word-wrap: break-word;\n",
       "    word-break: break-all;\n",
       "    font-family: \"Source Code Pro\", \"Menlo\", monospace;;\n",
       "    font-size: 13px;\n",
       "    color: #555;\n",
       "    margin-left: 4px;\n",
       "    line-height: 19px;\n",
       "  }\n",
       "</style>\n",
       "<div class=\"ansiout\"></div>"
      ]
     },
     "metadata": {
      "application/vnd.databricks.v1+output": {
       "addedWidgets": {},
       "arguments": {},
       "data": "<div class=\"ansiout\"></div>",
       "datasetInfos": [],
       "metadata": {},
       "removedWidgets": [],
       "type": "html"
      }
     },
     "output_type": "display_data"
    }
   ],
   "source": [
    "df = spark.read.format('csv')\\\n",
    ".option('mode', 'FAILFAST')\\\n",
    ".option('inferSchema', 'true')\\\n",
    ".option('path', path)\\\n",
    ".load()"
   ]
  },
  {
   "cell_type": "markdown",
   "metadata": {
    "application/vnd.databricks.v1+cell": {
     "inputWidgets": {},
     "nuid": "8d484434-4fb3-4f4f-b1a1-892fb18b1540",
     "showTitle": false,
     "title": ""
    }
   },
   "source": [
    "---\n",
    "- 위 예시에서는 읽기 모드를 'failfast'로 지정함\n",
    "- <strong>읽기 모드: 스파크가 형식에 맞지 않는 데이터를 만났을 때의 동작 방식을 지정하는 옵션</strong>\n",
    "  - permissive(default): 오류 레코드의 모든 필드를 null로 설정하고 모든 오류 레코드를 _corrupt_record라는 문자열 컬럼에 기록\n",
    "  - dropMalformed: 형식에 맞지 않는 레코드가 포함된 로우 제거\n",
    "  - failFast: 형식에 맞지 않는 레코드를 만나면 즉시 종료"
   ]
  },
  {
   "cell_type": "markdown",
   "metadata": {
    "application/vnd.databricks.v1+cell": {
     "inputWidgets": {},
     "nuid": "e1289f7f-84b5-4e49-9b43-7fdcee133e74",
     "showTitle": false,
     "title": ""
    }
   },
   "source": [
    "### 쓰기 API 구조\n",
    "- 데이터 읽기와 매우 유사한데 DataFrameReader 대신 <strong>DataFrameWriter</strong>를 사용\n",
    "- 데이터소스에 항상 데이터를 기록해야하므로 <strong>DataFrame의 write속성</strong>을 사용\n",
    "  - DataFrame별로 DataFrameWriter에 접근\n",
    "- DataFrameWriter를 얻고나서는 다음과 같은 값을 지정해야함\n",
    "  - format\n",
    "  - option\n",
    "  - 파일 기반의 데이터소스만 해당\n",
    "    - partitionBy\n",
    "    - bucketBy\n",
    "    - sortBy"
   ]
  },
  {
   "cell_type": "code",
   "execution_count": null,
   "metadata": {
    "application/vnd.databricks.v1+cell": {
     "inputWidgets": {},
     "nuid": "9178a46c-d3aa-42b0-8926-8ef38bc3d717",
     "showTitle": false,
     "title": ""
    }
   },
   "outputs": [
    {
     "data": {
      "text/html": [
       "<style scoped>\n",
       "  .ansiout {\n",
       "    display: block;\n",
       "    unicode-bidi: embed;\n",
       "    white-space: pre-wrap;\n",
       "    word-wrap: break-word;\n",
       "    word-break: break-all;\n",
       "    font-family: \"Source Code Pro\", \"Menlo\", monospace;;\n",
       "    font-size: 13px;\n",
       "    color: #555;\n",
       "    margin-left: 4px;\n",
       "    line-height: 19px;\n",
       "  }\n",
       "</style>\n",
       "<div class=\"ansiout\"></div>"
      ]
     },
     "metadata": {
      "application/vnd.databricks.v1+output": {
       "addedWidgets": {},
       "arguments": {},
       "data": "<div class=\"ansiout\"></div>",
       "datasetInfos": [],
       "metadata": {},
       "removedWidgets": [],
       "type": "html"
      }
     },
     "output_type": "display_data"
    }
   ],
   "source": [
    "df.write.format('csv')\\\n",
    ".option('mode', 'OVERWRITE')\\\n",
    ".option('dateFormat', 'yyyy-MM-dd')\\\n",
    ".option('path', '/FileStore/tables/temp/temp.csv')\\\n",
    ".save()"
   ]
  },
  {
   "cell_type": "markdown",
   "metadata": {
    "application/vnd.databricks.v1+cell": {
     "inputWidgets": {},
     "nuid": "c08024d9-6ed4-47f9-b3d5-04146611aad2",
     "showTitle": false,
     "title": ""
    }
   },
   "source": [
    "- 위 예시에서는 저장 모드를 'overwrite'로 지정함\n",
    "- 저장 모드: 스파크가 지정된 위치에서 동일한 파일이 발견됐을 때의 동작 방식 지정\n",
    "  - append: 해당 경로에 이미 존재하는 파일 목록에 결과 파일 추가\n",
    "  - overwrite: 이미 존재하는 모든 데이터를 완전히 덮어씀\n",
    "  - errorIfExists(default): 오류를 발생시키면서 쓰기 작업이 실패\n",
    "  - ignore: 아무런 처리 X"
   ]
  },
  {
   "cell_type": "markdown",
   "metadata": {
    "application/vnd.databricks.v1+cell": {
     "inputWidgets": {},
     "nuid": "893f2efe-0ebe-4102-a0a7-8233653b1127",
     "showTitle": false,
     "title": ""
    }
   },
   "source": [
    "## CSV 파일\n",
    "- CSV(comma-separated values)는 <strong>콤마(,)로 구분된 값</strong>을 의미\n",
    "- 각 줄이 단일 레코드\n",
    "- 각 필드를 콤마로 구분하는 일반적인 텍스트 파일 포맷\n",
    "- 해당 포맷이 다루기 까다로운 이유\n",
    "  - 운영 환경에서는 어떤 내용, 어떤 구조로 되어 있는지 등 다양한 전제를 만들어낼 수 없기 때문\n",
    "  - 그래서 <strong>CSV reader는 많은 수의 옵션</strong>을 제공\n",
    "  - [링크](https://spark.apache.org/docs/2.4.0/api/python/pyspark.sql.html?highlight=csv#pyspark.sql.DataFrameReader.csv)"
   ]
  },
  {
   "cell_type": "markdown",
   "metadata": {
    "application/vnd.databricks.v1+cell": {
     "inputWidgets": {},
     "nuid": "d117336c-609f-4dc5-b1b7-de66dfe97ce2",
     "showTitle": false,
     "title": ""
    }
   },
   "source": [
    "### CSV 파일 읽기"
   ]
  },
  {
   "cell_type": "code",
   "execution_count": null,
   "metadata": {
    "application/vnd.databricks.v1+cell": {
     "inputWidgets": {},
     "nuid": "17802ef6-e2cb-4bfb-a004-953fcb6c0dcb",
     "showTitle": false,
     "title": ""
    }
   },
   "outputs": [
    {
     "data": {
      "text/html": [
       "<style scoped>\n",
       "  .ansiout {\n",
       "    display: block;\n",
       "    unicode-bidi: embed;\n",
       "    white-space: pre-wrap;\n",
       "    word-wrap: break-word;\n",
       "    word-break: break-all;\n",
       "    font-family: \"Source Code Pro\", \"Menlo\", monospace;;\n",
       "    font-size: 13px;\n",
       "    color: #555;\n",
       "    margin-left: 4px;\n",
       "    line-height: 19px;\n",
       "  }\n",
       "</style>\n",
       "<div class=\"ansiout\"></div>"
      ]
     },
     "metadata": {
      "application/vnd.databricks.v1+output": {
       "addedWidgets": {},
       "arguments": {},
       "data": "<div class=\"ansiout\"></div>",
       "datasetInfos": [],
       "metadata": {},
       "removedWidgets": [],
       "type": "html"
      }
     },
     "output_type": "display_data"
    }
   ],
   "source": [
    "df =spark.read.format('csv')\\\n",
    ".option('header', 'true')\\\n",
    ".option('mode','FAILFAST')\\\n",
    ".load(path)"
   ]
  },
  {
   "cell_type": "code",
   "execution_count": null,
   "metadata": {
    "application/vnd.databricks.v1+cell": {
     "inputWidgets": {},
     "nuid": "39a04347-2a26-41a9-9444-08724b4e039d",
     "showTitle": false,
     "title": ""
    }
   },
   "outputs": [
    {
     "data": {
      "text/html": [
       "<style scoped>\n",
       "  .ansiout {\n",
       "    display: block;\n",
       "    unicode-bidi: embed;\n",
       "    white-space: pre-wrap;\n",
       "    word-wrap: break-word;\n",
       "    word-break: break-all;\n",
       "    font-family: \"Source Code Pro\", \"Menlo\", monospace;;\n",
       "    font-size: 13px;\n",
       "    color: #555;\n",
       "    margin-left: 4px;\n",
       "    line-height: 19px;\n",
       "  }\n",
       "</style>\n",
       "<div class=\"ansiout\">+---------+---------+--------------------+--------+--------------+---------+----------+--------------+\n",
       "InvoiceNo|StockCode|         Description|Quantity|   InvoiceDate|UnitPrice|CustomerID|       Country|\n",
       "+---------+---------+--------------------+--------+--------------+---------+----------+--------------+\n",
       "   536365|   85123A|WHITE HANGING HEA...|       6|12/1/2010 8:26|     2.55|     17850|United Kingdom|\n",
       "   536365|    71053| WHITE METAL LANTERN|       6|12/1/2010 8:26|     3.39|     17850|United Kingdom|\n",
       "   536365|   84406B|CREAM CUPID HEART...|       8|12/1/2010 8:26|     2.75|     17850|United Kingdom|\n",
       "   536365|   84029G|KNITTED UNION FLA...|       6|12/1/2010 8:26|     3.39|     17850|United Kingdom|\n",
       "   536365|   84029E|RED WOOLLY HOTTIE...|       6|12/1/2010 8:26|     3.39|     17850|United Kingdom|\n",
       "+---------+---------+--------------------+--------+--------------+---------+----------+--------------+\n",
       "only showing top 5 rows\n",
       "\n",
       "</div>"
      ]
     },
     "metadata": {
      "application/vnd.databricks.v1+output": {
       "addedWidgets": {},
       "arguments": {},
       "data": "<div class=\"ansiout\">+---------+---------+--------------------+--------+--------------+---------+----------+--------------+\n|InvoiceNo|StockCode|         Description|Quantity|   InvoiceDate|UnitPrice|CustomerID|       Country|\n+---------+---------+--------------------+--------+--------------+---------+----------+--------------+\n|   536365|   85123A|WHITE HANGING HEA...|       6|12/1/2010 8:26|     2.55|     17850|United Kingdom|\n|   536365|    71053| WHITE METAL LANTERN|       6|12/1/2010 8:26|     3.39|     17850|United Kingdom|\n|   536365|   84406B|CREAM CUPID HEART...|       8|12/1/2010 8:26|     2.75|     17850|United Kingdom|\n|   536365|   84029G|KNITTED UNION FLA...|       6|12/1/2010 8:26|     3.39|     17850|United Kingdom|\n|   536365|   84029E|RED WOOLLY HOTTIE...|       6|12/1/2010 8:26|     3.39|     17850|United Kingdom|\n+---------+---------+--------------------+--------+--------------+---------+----------+--------------+\nonly showing top 5 rows\n\n</div>",
       "datasetInfos": [],
       "metadata": {},
       "removedWidgets": [],
       "type": "html"
      }
     },
     "output_type": "display_data"
    }
   ],
   "source": [
    "df.show(5)"
   ]
  },
  {
   "cell_type": "markdown",
   "metadata": {
    "application/vnd.databricks.v1+cell": {
     "inputWidgets": {},
     "nuid": "57fccf0d-d54f-40ac-8ea7-b6b1936443cc",
     "showTitle": false,
     "title": ""
    }
   },
   "source": [
    "### CSV 파일 쓰기"
   ]
  },
  {
   "cell_type": "code",
   "execution_count": null,
   "metadata": {
    "application/vnd.databricks.v1+cell": {
     "inputWidgets": {},
     "nuid": "c006920c-052d-48a7-be2b-b00cf8bee54a",
     "showTitle": false,
     "title": ""
    }
   },
   "outputs": [
    {
     "data": {
      "text/html": [
       "<style scoped>\n",
       "  .ansiout {\n",
       "    display: block;\n",
       "    unicode-bidi: embed;\n",
       "    white-space: pre-wrap;\n",
       "    word-wrap: break-word;\n",
       "    word-break: break-all;\n",
       "    font-family: \"Source Code Pro\", \"Menlo\", monospace;;\n",
       "    font-size: 13px;\n",
       "    color: #555;\n",
       "    margin-left: 4px;\n",
       "    line-height: 19px;\n",
       "  }\n",
       "</style>\n",
       "<div class=\"ansiout\"></div>"
      ]
     },
     "metadata": {
      "application/vnd.databricks.v1+output": {
       "addedWidgets": {},
       "arguments": {},
       "data": "<div class=\"ansiout\"></div>",
       "datasetInfos": [],
       "metadata": {},
       "removedWidgets": [],
       "type": "html"
      }
     },
     "output_type": "display_data"
    }
   ],
   "source": [
    "df.write.format('csv').mode('overwrite').option('sep','\\t').save('/FileStore/tables/temp/tsv_file.tsv')"
   ]
  },
  {
   "cell_type": "markdown",
   "metadata": {
    "application/vnd.databricks.v1+cell": {
     "inputWidgets": {},
     "nuid": "c10dc2db-a5a0-4476-94f6-53fa9a14403a",
     "showTitle": false,
     "title": ""
    }
   },
   "source": [
    "-----\n",
    "- 위처럼 csv파일을 읽어 들여 tsv파일로 내보는 처리도 간단"
   ]
  },
  {
   "cell_type": "markdown",
   "metadata": {
    "application/vnd.databricks.v1+cell": {
     "inputWidgets": {},
     "nuid": "5e98673c-eea2-4818-9ce7-1f083de7313f",
     "showTitle": false,
     "title": ""
    }
   },
   "source": [
    "## JSON 파일\n",
    "- <strong>자바스크립트 객체 표기법(JavaScript Object Notation)</strong>\n",
    "- 스파크에서는 JSON파일을 사용할 때 <strong>줄로 구분된 JSON</strong>을 기본적으로 사용\n",
    "  - <strong>큰 JSON 객체나 배열을 하나씩 가지고 있는 파일</strong>을 다루는 것과 대조적인 부분\n",
    "  - <strong>multiLine옵션</strong>으로 바꿀 순 있음\n",
    "  - 근데 줄로 구분된 방식이 더 안정적이라서 디폴트임\n",
    "    - 구조화 되어 있음\n",
    "    - 최소한의 기본 데이터 타입이 존재함\n",
    "    \n",
    "- JSON은 객체이므로 CSV보다 옵션 수가 적음\n",
    "  - [링크](https://spark.apache.org/docs/2.4.0/api/python/pyspark.sql.html?highlight=json#pyspark.sql.DataFrameReader.json)"
   ]
  },
  {
   "cell_type": "markdown",
   "metadata": {
    "application/vnd.databricks.v1+cell": {
     "inputWidgets": {},
     "nuid": "4836b4e1-fc9b-4739-8d3f-f5d5903d3773",
     "showTitle": false,
     "title": ""
    }
   },
   "source": [
    "### JSON 파일 읽기"
   ]
  },
  {
   "cell_type": "code",
   "execution_count": null,
   "metadata": {
    "application/vnd.databricks.v1+cell": {
     "inputWidgets": {},
     "nuid": "43e9fe44-b0f6-4c59-9351-81098fd21afc",
     "showTitle": false,
     "title": ""
    }
   },
   "outputs": [
    {
     "data": {
      "text/html": [
       "<style scoped>\n",
       "  .ansiout {\n",
       "    display: block;\n",
       "    unicode-bidi: embed;\n",
       "    white-space: pre-wrap;\n",
       "    word-wrap: break-word;\n",
       "    word-break: break-all;\n",
       "    font-family: \"Source Code Pro\", \"Menlo\", monospace;;\n",
       "    font-size: 13px;\n",
       "    color: #555;\n",
       "    margin-left: 4px;\n",
       "    line-height: 19px;\n",
       "  }\n",
       "</style>\n",
       "<div class=\"ansiout\">+-----------------+-------------------+-----+\n",
       "DEST_COUNTRY_NAME|ORIGIN_COUNTRY_NAME|count|\n",
       "+-----------------+-------------------+-----+\n",
       "    United States|            Romania|    1|\n",
       "    United States|            Ireland|  264|\n",
       "    United States|              India|   69|\n",
       "            Egypt|      United States|   24|\n",
       "Equatorial Guinea|      United States|    1|\n",
       "+-----------------+-------------------+-----+\n",
       "only showing top 5 rows\n",
       "\n",
       "</div>"
      ]
     },
     "metadata": {
      "application/vnd.databricks.v1+output": {
       "addedWidgets": {},
       "arguments": {},
       "data": "<div class=\"ansiout\">+-----------------+-------------------+-----+\n|DEST_COUNTRY_NAME|ORIGIN_COUNTRY_NAME|count|\n+-----------------+-------------------+-----+\n|    United States|            Romania|    1|\n|    United States|            Ireland|  264|\n|    United States|              India|   69|\n|            Egypt|      United States|   24|\n|Equatorial Guinea|      United States|    1|\n+-----------------+-------------------+-----+\nonly showing top 5 rows\n\n</div>",
       "datasetInfos": [],
       "metadata": {},
       "removedWidgets": [],
       "type": "html"
      }
     },
     "output_type": "display_data"
    }
   ],
   "source": [
    "j_path='/FileStore/tables/2010_summary.json'\n",
    "spark.read.format('json').option('mode', 'FAILFAST').option('inferSchema', 'true').load(j_path).show(5)"
   ]
  },
  {
   "cell_type": "markdown",
   "metadata": {
    "application/vnd.databricks.v1+cell": {
     "inputWidgets": {},
     "nuid": "0c2b5ae2-061b-45c1-bb7d-794625df7e16",
     "showTitle": false,
     "title": ""
    }
   },
   "source": [
    "### JSON 파일 쓰기"
   ]
  },
  {
   "cell_type": "code",
   "execution_count": null,
   "metadata": {
    "application/vnd.databricks.v1+cell": {
     "inputWidgets": {},
     "nuid": "8885758c-2b5a-490a-bd48-88dae6891860",
     "showTitle": false,
     "title": ""
    }
   },
   "outputs": [
    {
     "data": {
      "text/html": [
       "<style scoped>\n",
       "  .ansiout {\n",
       "    display: block;\n",
       "    unicode-bidi: embed;\n",
       "    white-space: pre-wrap;\n",
       "    word-wrap: break-word;\n",
       "    word-break: break-all;\n",
       "    font-family: \"Source Code Pro\", \"Menlo\", monospace;;\n",
       "    font-size: 13px;\n",
       "    color: #555;\n",
       "    margin-left: 4px;\n",
       "    line-height: 19px;\n",
       "  }\n",
       "</style>\n",
       "<div class=\"ansiout\"></div>"
      ]
     },
     "metadata": {
      "application/vnd.databricks.v1+output": {
       "addedWidgets": {},
       "arguments": {},
       "data": "<div class=\"ansiout\"></div>",
       "datasetInfos": [],
       "metadata": {},
       "removedWidgets": [],
       "type": "html"
      }
     },
     "output_type": "display_data"
    }
   ],
   "source": [
    "df.write.format('json').mode('overwrite').save('/FileStore/tables/temp/j_file.json')"
   ]
  },
  {
   "cell_type": "markdown",
   "metadata": {
    "application/vnd.databricks.v1+cell": {
     "inputWidgets": {},
     "nuid": "8141c28e-05f6-4901-805a-409e77791e83",
     "showTitle": false,
     "title": ""
    }
   },
   "source": [
    "-----\n",
    "- 데이터소스에 관계없이 json파일에 저장할 수 있음\n",
    "- 위처럼 csv DataFrame을 json파일의 소스로 재사용 가능"
   ]
  },
  {
   "cell_type": "markdown",
   "metadata": {
    "application/vnd.databricks.v1+cell": {
     "inputWidgets": {},
     "nuid": "7138c8ec-2557-482b-9437-d7600199d881",
     "showTitle": false,
     "title": ""
    }
   },
   "source": [
    "## 파케이 파일\n",
    "- 다양한 스토리지 최적화 기술을 제공하는 오픈소스로 만들어진 <strong>컬럼 기반의 데이터 저장 방식</strong>\n",
    "- 저장 공간 절약 가능\n",
    "- <strong>전체 파일을 읽는 대신 개별 컬럼</strong>을 읽음\n",
    "- 컬럼 기반 압축 기능 제공\n",
    "- 아파치 스파크와 호환이 잘 됨\n",
    "  - 그래서 스파크의 기본 파일 포맷\n",
    "- json이나 csv보다 읽기 연산이 더 효율적\n",
    "- 장기 저장용 데이터는 파케이 포맷으로 저장하는 것이 좋음\n",
    "- 복합 데이터 타입 지원\n",
    "  - csv에서는 배열을 사용할 수 없음\n",
    "- 옵션이 거의 없음(2개)\n",
    "  - 스파크 개념에 아주 잘 부합하고 알맞게 정의된 명세를 가지고 있기 때문\n",
    "  - [링크](https://spark.apache.org/docs/2.4.0/api/python/pyspark.sql.html?highlight=csv#pyspark.sql.DataFrameReader.parquet)"
   ]
  },
  {
   "cell_type": "markdown",
   "metadata": {
    "application/vnd.databricks.v1+cell": {
     "inputWidgets": {},
     "nuid": "de96540e-eb3b-41aa-befa-61bee40a838c",
     "showTitle": false,
     "title": ""
    }
   },
   "source": [
    "### 파케이 파일 읽기"
   ]
  },
  {
   "cell_type": "code",
   "execution_count": null,
   "metadata": {
    "application/vnd.databricks.v1+cell": {
     "inputWidgets": {},
     "nuid": "a52dce60-ee8c-42e8-810c-8b8edcbd5d15",
     "showTitle": false,
     "title": ""
    }
   },
   "outputs": [
    {
     "data": {
      "text/html": [
       "<style scoped>\n",
       "  .ansiout {\n",
       "    display: block;\n",
       "    unicode-bidi: embed;\n",
       "    white-space: pre-wrap;\n",
       "    word-wrap: break-word;\n",
       "    word-break: break-all;\n",
       "    font-family: \"Source Code Pro\", \"Menlo\", monospace;;\n",
       "    font-size: 13px;\n",
       "    color: #555;\n",
       "    margin-left: 4px;\n",
       "    line-height: 19px;\n",
       "  }\n",
       "</style>\n",
       "<div class=\"ansiout\">+-----------------+-------------------+-----+\n",
       "DEST_COUNTRY_NAME|ORIGIN_COUNTRY_NAME|count|\n",
       "+-----------------+-------------------+-----+\n",
       "    United States|            Romania|    1|\n",
       "    United States|            Ireland|  264|\n",
       "    United States|              India|   69|\n",
       "            Egypt|      United States|   24|\n",
       "Equatorial Guinea|      United States|    1|\n",
       "+-----------------+-------------------+-----+\n",
       "only showing top 5 rows\n",
       "\n",
       "</div>"
      ]
     },
     "metadata": {
      "application/vnd.databricks.v1+output": {
       "addedWidgets": {},
       "arguments": {},
       "data": "<div class=\"ansiout\">+-----------------+-------------------+-----+\n|DEST_COUNTRY_NAME|ORIGIN_COUNTRY_NAME|count|\n+-----------------+-------------------+-----+\n|    United States|            Romania|    1|\n|    United States|            Ireland|  264|\n|    United States|              India|   69|\n|            Egypt|      United States|   24|\n|Equatorial Guinea|      United States|    1|\n+-----------------+-------------------+-----+\nonly showing top 5 rows\n\n</div>",
       "datasetInfos": [],
       "metadata": {},
       "removedWidgets": [],
       "type": "html"
      }
     },
     "output_type": "display_data"
    }
   ],
   "source": [
    "p_path='/FileStore/tables/2010-summary.parquet'\n",
    "spark.read.format('parquet').load(p_path).show(5)"
   ]
  },
  {
   "cell_type": "markdown",
   "metadata": {
    "application/vnd.databricks.v1+cell": {
     "inputWidgets": {},
     "nuid": "e70c6934-6901-496e-b93f-934fe9c6bad9",
     "showTitle": false,
     "title": ""
    }
   },
   "source": [
    "### 파케이 파일 쓰기"
   ]
  },
  {
   "cell_type": "code",
   "execution_count": null,
   "metadata": {
    "application/vnd.databricks.v1+cell": {
     "inputWidgets": {},
     "nuid": "7095b516-7776-43b9-8ba4-cfa9f188b4b0",
     "showTitle": false,
     "title": ""
    }
   },
   "outputs": [],
   "source": [
    "df.write.format('parquet').mode('overwrite').save('/FileStore/tables/temp/p_file.parquet')"
   ]
  },
  {
   "cell_type": "markdown",
   "metadata": {
    "application/vnd.databricks.v1+cell": {
     "inputWidgets": {},
     "nuid": "c7c959b1-47fe-4ec6-847e-d6e00afa8685",
     "showTitle": false,
     "title": ""
    }
   },
   "source": [
    "---\n",
    "- 다른 포맷과 동일"
   ]
  },
  {
   "cell_type": "markdown",
   "metadata": {
    "application/vnd.databricks.v1+cell": {
     "inputWidgets": {},
     "nuid": "a3def890-dbbd-4d96-a718-b1526ea06173",
     "showTitle": false,
     "title": ""
    }
   },
   "source": [
    "## ORC 파일\n",
    "- <strong>ORC는 하둡 워크로드를 위해 설계된 자기 기술적(self-describing)이며 데이터 타입을 인식할 수 있는 컬럼 기반의 파일 포맷</strong>\n",
    "- 대규모 스트리밍 읽기에 최적화\n",
    "- 필요한 로우를 신속하게 찾아낼 수 있음\n",
    "- 스파크는 ORC파일 포맷을 별도의 옵션 지정 없이 효율적으로 사용 가능\n",
    "- 파케이와의 차이?\n",
    "  - 파케이는 스파크에 최적화\n",
    "  - ORC는 하이브에 최적화"
   ]
  },
  {
   "cell_type": "markdown",
   "metadata": {
    "application/vnd.databricks.v1+cell": {
     "inputWidgets": {},
     "nuid": "4c68b4bc-53b9-4aa9-baf5-7496982d2cd2",
     "showTitle": false,
     "title": ""
    }
   },
   "source": [
    "### ORC 파일 읽기"
   ]
  },
  {
   "cell_type": "code",
   "execution_count": null,
   "metadata": {
    "application/vnd.databricks.v1+cell": {
     "inputWidgets": {},
     "nuid": "98410aa4-b6a2-48f7-8384-ab17f73173ca",
     "showTitle": false,
     "title": ""
    }
   },
   "outputs": [
    {
     "data": {
      "text/html": [
       "<style scoped>\n",
       "  .ansiout {\n",
       "    display: block;\n",
       "    unicode-bidi: embed;\n",
       "    white-space: pre-wrap;\n",
       "    word-wrap: break-word;\n",
       "    word-break: break-all;\n",
       "    font-family: \"Source Code Pro\", \"Menlo\", monospace;;\n",
       "    font-size: 13px;\n",
       "    color: #555;\n",
       "    margin-left: 4px;\n",
       "    line-height: 19px;\n",
       "  }\n",
       "</style>\n",
       "<div class=\"ansiout\">+-----------------+-------------------+-----+\n",
       "DEST_COUNTRY_NAME|ORIGIN_COUNTRY_NAME|count|\n",
       "+-----------------+-------------------+-----+\n",
       "    United States|            Romania|    1|\n",
       "    United States|            Ireland|  264|\n",
       "    United States|              India|   69|\n",
       "            Egypt|      United States|   24|\n",
       "Equatorial Guinea|      United States|    1|\n",
       "+-----------------+-------------------+-----+\n",
       "only showing top 5 rows\n",
       "\n",
       "</div>"
      ]
     },
     "metadata": {
      "application/vnd.databricks.v1+output": {
       "addedWidgets": {},
       "arguments": {},
       "data": "<div class=\"ansiout\">+-----------------+-------------------+-----+\n|DEST_COUNTRY_NAME|ORIGIN_COUNTRY_NAME|count|\n+-----------------+-------------------+-----+\n|    United States|            Romania|    1|\n|    United States|            Ireland|  264|\n|    United States|              India|   69|\n|            Egypt|      United States|   24|\n|Equatorial Guinea|      United States|    1|\n+-----------------+-------------------+-----+\nonly showing top 5 rows\n\n</div>",
       "datasetInfos": [],
       "metadata": {},
       "removedWidgets": [],
       "type": "html"
      }
     },
     "output_type": "display_data"
    }
   ],
   "source": [
    "o_path='/FileStore/tables/2010-summary.orc/part_r_00000_2c4f7d96_e703_4de3_af1b_1441d172c80f_snappy.orc'\n",
    "spark.read.format('orc').load(o_path).show(5)"
   ]
  },
  {
   "cell_type": "markdown",
   "metadata": {
    "application/vnd.databricks.v1+cell": {
     "inputWidgets": {},
     "nuid": "d152d7d5-7a05-4d4f-a710-ae0ed33a1e2b",
     "showTitle": false,
     "title": ""
    }
   },
   "source": [
    "### ORC 파일 쓰기"
   ]
  },
  {
   "cell_type": "code",
   "execution_count": null,
   "metadata": {
    "application/vnd.databricks.v1+cell": {
     "inputWidgets": {},
     "nuid": "06876737-2713-4540-bb38-0222ca8a95e7",
     "showTitle": false,
     "title": ""
    }
   },
   "outputs": [
    {
     "data": {
      "text/html": [
       "<style scoped>\n",
       "  .ansiout {\n",
       "    display: block;\n",
       "    unicode-bidi: embed;\n",
       "    white-space: pre-wrap;\n",
       "    word-wrap: break-word;\n",
       "    word-break: break-all;\n",
       "    font-family: \"Source Code Pro\", \"Menlo\", monospace;;\n",
       "    font-size: 13px;\n",
       "    color: #555;\n",
       "    margin-left: 4px;\n",
       "    line-height: 19px;\n",
       "  }\n",
       "</style>\n",
       "<div class=\"ansiout\"></div>"
      ]
     },
     "metadata": {
      "application/vnd.databricks.v1+output": {
       "addedWidgets": {},
       "arguments": {},
       "data": "<div class=\"ansiout\"></div>",
       "datasetInfos": [],
       "metadata": {},
       "removedWidgets": [],
       "type": "html"
      }
     },
     "output_type": "display_data"
    }
   ],
   "source": [
    "df.write.format('orc').mode('overwrite').save('/FileStore/tables/temp/o_file.orc')"
   ]
  },
  {
   "cell_type": "markdown",
   "metadata": {
    "application/vnd.databricks.v1+cell": {
     "inputWidgets": {},
     "nuid": "a8dc4fad-ef8f-4087-836a-cd18fc6271df",
     "showTitle": false,
     "title": ""
    }
   },
   "source": [
    "## SQL 데이터베이스\n",
    "- 매우 강력한 <strong>커넥터</strong> 중 하나\n",
    "- SQL을 지원하는 다양한 시스템에 SQL 데이터소스 연결\n",
    "  - MySQL\n",
    "  - PostgreSQL\n",
    "  - Oracle\n",
    "  - SQLite\n",
    "- 데이터 베이스는 원시 파일 형태가 아니므로 고려해야할 옵션이 많음\n",
    "  - 데이터 베이스 인증 정보나 접속 관련 옵션\n",
    "  - 스파크 클러스터에서 데이터 베이스 시스템에 접속 가능한지 네트워크 상태 확인"
   ]
  },
  {
   "cell_type": "markdown",
   "metadata": {
    "application/vnd.databricks.v1+cell": {
     "inputWidgets": {},
     "nuid": "d8f4f764-07ea-49ca-afd5-b4fd28978e09",
     "showTitle": false,
     "title": ""
    }
   },
   "source": [
    "### SQL 데이터베이스 읽기\n",
    "- 다른 데이터소스처럼 포맷과 옵션을 지정한 후 데이터를 읽어들임"
   ]
  },
  {
   "cell_type": "code",
   "execution_count": null,
   "metadata": {
    "application/vnd.databricks.v1+cell": {
     "inputWidgets": {},
     "nuid": "47f6900c-fd8a-4422-bd1e-9bc36368d5ce",
     "showTitle": false,
     "title": ""
    }
   },
   "outputs": [
    {
     "data": {
      "text/html": [
       "<style scoped>\n",
       "  .ansiout {\n",
       "    display: block;\n",
       "    unicode-bidi: embed;\n",
       "    white-space: pre-wrap;\n",
       "    word-wrap: break-word;\n",
       "    word-break: break-all;\n",
       "    font-family: \"Source Code Pro\", \"Menlo\", monospace;;\n",
       "    font-size: 13px;\n",
       "    color: #555;\n",
       "    margin-left: 4px;\n",
       "    line-height: 19px;\n",
       "  }\n",
       "</style>\n",
       "<div class=\"ansiout\"></div>"
      ]
     },
     "metadata": {
      "application/vnd.databricks.v1+output": {
       "addedWidgets": {},
       "arguments": {},
       "data": "<div class=\"ansiout\"></div>",
       "datasetInfos": [],
       "metadata": {},
       "removedWidgets": [],
       "type": "html"
      }
     },
     "output_type": "display_data"
    }
   ],
   "source": [
    "driver='org.sqlite.JDBC'\n",
    "s_path='dbfs:/FileStore/tables/my_sqlite.db'\n",
    "url= 'jdbc:sqlite:'+s_path\n",
    "tablename='flight_info'"
   ]
  },
  {
   "cell_type": "code",
   "execution_count": null,
   "metadata": {
    "application/vnd.databricks.v1+cell": {
     "inputWidgets": {},
     "nuid": "9199d6ac-193e-4ec7-851e-6d56acd2036b",
     "showTitle": false,
     "title": ""
    }
   },
   "outputs": [
    {
     "data": {
      "text/html": [
       "<style scoped>\n",
       "  .table-result-container {\n",
       "    max-height: 300px;\n",
       "    overflow: auto;\n",
       "  }\n",
       "  table, th, td {\n",
       "    border: 1px solid black;\n",
       "    border-collapse: collapse;\n",
       "  }\n",
       "  th, td {\n",
       "    padding: 5px;\n",
       "  }\n",
       "  th {\n",
       "    text-align: left;\n",
       "  }\n",
       "</style><div class='table-result-container'><table class='table-result'><thead style='background-color: white'><tr><th>path</th><th>name</th><th>size</th></tr></thead><tbody><tr><td>dbfs:/FileStore/tables/2010-summary.orc/</td><td>2010-summary.orc/</td><td>0</td></tr><tr><td>dbfs:/FileStore/tables/2010-summary.parquet/</td><td>2010-summary.parquet/</td><td>0</td></tr><tr><td>dbfs:/FileStore/tables/2010_summary.csv</td><td>2010_summary.csv</td><td>7121</td></tr><tr><td>dbfs:/FileStore/tables/2010_summary.json</td><td>2010_summary.json</td><td>21353</td></tr><tr><td>dbfs:/FileStore/tables/all/</td><td>all/</td><td>0</td></tr><tr><td>dbfs:/FileStore/tables/my_sqlite.db</td><td>my_sqlite.db</td><td>11264</td></tr><tr><td>dbfs:/FileStore/tables/my_sqlite_copy.db</td><td>my_sqlite_copy.db</td><td>11264</td></tr><tr><td>dbfs:/FileStore/tables/temp/</td><td>temp/</td><td>0</td></tr></tbody></table></div>"
      ]
     },
     "metadata": {
      "application/vnd.databricks.v1+output": {
       "addedWidgets": {},
       "aggData": [],
       "aggError": "",
       "aggOverflow": false,
       "aggSchema": [],
       "aggSeriesLimitReached": false,
       "aggType": "",
       "arguments": {},
       "columnCustomDisplayInfos": {},
       "data": [
        [
         "dbfs:/FileStore/tables/2010-summary.orc/",
         "2010-summary.orc/",
         0
        ],
        [
         "dbfs:/FileStore/tables/2010-summary.parquet/",
         "2010-summary.parquet/",
         0
        ],
        [
         "dbfs:/FileStore/tables/2010_summary.csv",
         "2010_summary.csv",
         7121
        ],
        [
         "dbfs:/FileStore/tables/2010_summary.json",
         "2010_summary.json",
         21353
        ],
        [
         "dbfs:/FileStore/tables/all/",
         "all/",
         0
        ],
        [
         "dbfs:/FileStore/tables/my_sqlite.db",
         "my_sqlite.db",
         11264
        ],
        [
         "dbfs:/FileStore/tables/my_sqlite_copy.db",
         "my_sqlite_copy.db",
         11264
        ],
        [
         "dbfs:/FileStore/tables/temp/",
         "temp/",
         0
        ]
       ],
       "datasetInfos": [],
       "dbfsResultPath": null,
       "isJsonSchema": true,
       "metadata": {},
       "overflow": false,
       "plotOptions": {
        "customPlotOptions": {},
        "displayType": "table",
        "pivotAggregation": null,
        "pivotColumns": null,
        "xColumns": null,
        "yColumns": null
       },
       "removedWidgets": [],
       "schema": [
        {
         "metadata": "{}",
         "name": "path",
         "type": "\"string\""
        },
        {
         "metadata": "{}",
         "name": "name",
         "type": "\"string\""
        },
        {
         "metadata": "{}",
         "name": "size",
         "type": "\"long\""
        }
       ],
       "type": "table"
      }
     },
     "output_type": "display_data"
    }
   ],
   "source": [
    "%fs ls /FileStore/tables"
   ]
  },
  {
   "cell_type": "code",
   "execution_count": null,
   "metadata": {
    "application/vnd.databricks.v1+cell": {
     "inputWidgets": {},
     "nuid": "8ca93eb2-811a-42ef-89a2-346100be838b",
     "showTitle": false,
     "title": ""
    }
   },
   "outputs": [
    {
     "data": {
      "text/html": [
       "<style scoped>\n",
       "  .ansiout {\n",
       "    display: block;\n",
       "    unicode-bidi: embed;\n",
       "    white-space: pre-wrap;\n",
       "    word-wrap: break-word;\n",
       "    word-break: break-all;\n",
       "    font-family: \"Source Code Pro\", \"Menlo\", monospace;;\n",
       "    font-size: 13px;\n",
       "    color: #555;\n",
       "    margin-left: 4px;\n",
       "    line-height: 19px;\n",
       "  }\n",
       "</style>\n",
       "<div class=\"ansiout\"></div>"
      ]
     },
     "metadata": {
      "application/vnd.databricks.v1+output": {
       "addedWidgets": {},
       "arguments": {},
       "data": "<div class=\"ansiout\"></div>",
       "datasetInfos": [],
       "metadata": {},
       "removedWidgets": [],
       "type": "html"
      }
     },
     "output_type": "display_data"
    }
   ],
   "source": [
    "#파일 경로 문제 참조\n",
    "#https://stackoverflow.com/questions/68202341/analysisexception-path-does-not-exist-dbfs-databricks-python-lib-python3-7-si\n",
    "#https://docs.databricks.com/dev-tools/databricks-utils.html\n",
    "copy_path='/FileStore/tables/my_sqlite_copy.db'\n",
    "new_path= '/tmp/my_sqlite_copy.db'\n",
    "dbutils.fs.cp(copy_path, new_path)"
   ]
  },
  {
   "cell_type": "code",
   "execution_count": null,
   "metadata": {
    "application/vnd.databricks.v1+cell": {
     "inputWidgets": {},
     "nuid": "576336c6-1ae2-497d-8e11-e17f4646cd44",
     "showTitle": false,
     "title": ""
    }
   },
   "outputs": [
    {
     "data": {
      "text/html": [
       "<style scoped>\n",
       "  .table-result-container {\n",
       "    max-height: 300px;\n",
       "    overflow: auto;\n",
       "  }\n",
       "  table, th, td {\n",
       "    border: 1px solid black;\n",
       "    border-collapse: collapse;\n",
       "  }\n",
       "  th, td {\n",
       "    padding: 5px;\n",
       "  }\n",
       "  th {\n",
       "    text-align: left;\n",
       "  }\n",
       "</style><div class='table-result-container'><table class='table-result'><thead style='background-color: white'><tr><th>path</th><th>name</th><th>size</th></tr></thead><tbody><tr><td>dbfs:/tmp/hive/</td><td>hive/</td><td>0</td></tr><tr><td>dbfs:/tmp/my_sqlite_copy.db</td><td>my_sqlite_copy.db</td><td>11264</td></tr></tbody></table></div>"
      ]
     },
     "metadata": {
      "application/vnd.databricks.v1+output": {
       "addedWidgets": {},
       "aggData": [],
       "aggError": "",
       "aggOverflow": false,
       "aggSchema": [],
       "aggSeriesLimitReached": false,
       "aggType": "",
       "arguments": {},
       "columnCustomDisplayInfos": {},
       "data": [
        [
         "dbfs:/tmp/hive/",
         "hive/",
         0
        ],
        [
         "dbfs:/tmp/my_sqlite_copy.db",
         "my_sqlite_copy.db",
         11264
        ]
       ],
       "datasetInfos": [],
       "dbfsResultPath": null,
       "isJsonSchema": true,
       "metadata": {},
       "overflow": false,
       "plotOptions": {
        "customPlotOptions": {},
        "displayType": "table",
        "pivotAggregation": null,
        "pivotColumns": null,
        "xColumns": null,
        "yColumns": null
       },
       "removedWidgets": [],
       "schema": [
        {
         "metadata": "{}",
         "name": "path",
         "type": "\"string\""
        },
        {
         "metadata": "{}",
         "name": "name",
         "type": "\"string\""
        },
        {
         "metadata": "{}",
         "name": "size",
         "type": "\"long\""
        }
       ],
       "type": "table"
      }
     },
     "output_type": "display_data"
    }
   ],
   "source": [
    "%fs ls /tmp"
   ]
  },
  {
   "cell_type": "code",
   "execution_count": null,
   "metadata": {
    "application/vnd.databricks.v1+cell": {
     "inputWidgets": {},
     "nuid": "34a08e5a-aef6-4b6b-b383-78ea2d1a0b5e",
     "showTitle": false,
     "title": ""
    }
   },
   "outputs": [
    {
     "data": {
      "text/html": [
       "<style scoped>\n",
       "  .ansiout {\n",
       "    display: block;\n",
       "    unicode-bidi: embed;\n",
       "    white-space: pre-wrap;\n",
       "    word-wrap: break-word;\n",
       "    word-break: break-all;\n",
       "    font-family: \"Source Code Pro\", \"Menlo\", monospace;;\n",
       "    font-size: 13px;\n",
       "    color: #555;\n",
       "    margin-left: 4px;\n",
       "    line-height: 19px;\n",
       "  }\n",
       "</style>\n",
       "<div class=\"ansiout\"></div>"
      ]
     },
     "metadata": {
      "application/vnd.databricks.v1+output": {
       "addedWidgets": {},
       "arguments": {},
       "data": "<div class=\"ansiout\"></div>",
       "datasetInfos": [],
       "metadata": {},
       "removedWidgets": [],
       "type": "html"
      }
     },
     "output_type": "display_data"
    }
   ],
   "source": [
    "url= 'jdbc:sqlite:'+new_path"
   ]
  },
  {
   "cell_type": "code",
   "execution_count": null,
   "metadata": {
    "application/vnd.databricks.v1+cell": {
     "inputWidgets": {},
     "nuid": "5bc335ad-ac94-4314-a0b8-afc0e9ff1e71",
     "showTitle": false,
     "title": ""
    }
   },
   "outputs": [
    {
     "data": {
      "text/html": [
       "<style scoped>\n",
       "  .ansiout {\n",
       "    display: block;\n",
       "    unicode-bidi: embed;\n",
       "    white-space: pre-wrap;\n",
       "    word-wrap: break-word;\n",
       "    word-break: break-all;\n",
       "    font-family: \"Source Code Pro\", \"Menlo\", monospace;;\n",
       "    font-size: 13px;\n",
       "    color: #555;\n",
       "    margin-left: 4px;\n",
       "    line-height: 19px;\n",
       "  }\n",
       "</style>\n",
       "<div class=\"ansiout\">Out[8]: &#39;jdbc:sqlite:/tmp/my_sqlite_copy.db&#39;</div>"
      ]
     },
     "metadata": {
      "application/vnd.databricks.v1+output": {
       "addedWidgets": {},
       "arguments": {},
       "data": "<div class=\"ansiout\">Out[8]: &#39;jdbc:sqlite:/tmp/my_sqlite_copy.db&#39;</div>",
       "datasetInfos": [],
       "metadata": {},
       "removedWidgets": [],
       "type": "html"
      }
     },
     "output_type": "display_data"
    }
   ],
   "source": [
    "url"
   ]
  },
  {
   "cell_type": "code",
   "execution_count": null,
   "metadata": {
    "application/vnd.databricks.v1+cell": {
     "inputWidgets": {},
     "nuid": "6f954950-6dda-4427-aaf0-4d41dc1b0cc0",
     "showTitle": false,
     "title": ""
    }
   },
   "outputs": [
    {
     "data": {
      "text/html": [
       "<style scoped>\n",
       "  .ansiout {\n",
       "    display: block;\n",
       "    unicode-bidi: embed;\n",
       "    white-space: pre-wrap;\n",
       "    word-wrap: break-word;\n",
       "    word-break: break-all;\n",
       "    font-family: \"Source Code Pro\", \"Menlo\", monospace;;\n",
       "    font-size: 13px;\n",
       "    color: #555;\n",
       "    margin-left: 4px;\n",
       "    line-height: 19px;\n",
       "  }\n",
       "</style>"
      ]
     },
     "metadata": {
      "application/vnd.databricks.v1+output": {
       "arguments": {},
       "data": "",
       "errorSummary": "",
       "errorTraceType": null,
       "metadata": {},
       "type": "ipynbError"
      }
     },
     "output_type": "display_data"
    }
   ],
   "source": [
    "dbDF = spark.read.format('jdbc').option('url', url).option('dbtable',tablename).option('driver', driver).load()"
   ]
  },
  {
   "cell_type": "markdown",
   "metadata": {
    "application/vnd.databricks.v1+cell": {
     "inputWidgets": {},
     "nuid": "69119663-4c5f-4d61-93b4-538e00d8928b",
     "showTitle": false,
     "title": ""
    }
   },
   "source": [
    "---\n",
    "- 그냥 이렇게하고 일반 데이터프레임처럼 쓰면 됨\n",
    "  - 근데 자꾸 에러가..."
   ]
  },
  {
   "cell_type": "markdown",
   "metadata": {
    "application/vnd.databricks.v1+cell": {
     "inputWidgets": {},
     "nuid": "8b2d5d71-c682-43d3-aae7-3e01f59b5ea1",
     "showTitle": false,
     "title": ""
    }
   },
   "source": [
    "#### 쿼리푸시다운\n",
    "- 스파크는 DataFrame을 만들기 전에 DB자체에서 데이터를 필터링하도록 만들 수 있음"
   ]
  },
  {
   "cell_type": "code",
   "execution_count": null,
   "metadata": {
    "application/vnd.databricks.v1+cell": {
     "inputWidgets": {},
     "nuid": "2156294d-f3d8-455d-a435-763ca9b7962a",
     "showTitle": false,
     "title": ""
    }
   },
   "outputs": [],
   "source": [
    "dbDF.filter(\"DEST_COUNTRY_NAME in ('Anguilla', 'Sweden')\")"
   ]
  },
  {
   "cell_type": "markdown",
   "metadata": {
    "application/vnd.databricks.v1+cell": {
     "inputWidgets": {},
     "nuid": "4c1747eb-839f-4761-8431-7cc7744ad5b2",
     "showTitle": false,
     "title": ""
    }
   },
   "source": [
    "----\n",
    "- 위 처럼 필터를 명시하면 스파크는 해당 필터에 대한 처리를 DB에 위임한다.\n",
    " - 위임하는걸 push down이라고 함"
   ]
  },
  {
   "cell_type": "code",
   "execution_count": null,
   "metadata": {
    "application/vnd.databricks.v1+cell": {
     "inputWidgets": {},
     "nuid": "95fd4348-8e66-43e8-8aee-272c838c2fc8",
     "showTitle": false,
     "title": ""
    }
   },
   "outputs": [
    {
     "data": {
      "text/html": [
       "<style scoped>\n",
       "  .ansiout {\n",
       "    display: block;\n",
       "    unicode-bidi: embed;\n",
       "    white-space: pre-wrap;\n",
       "    word-wrap: break-word;\n",
       "    word-break: break-all;\n",
       "    font-family: \"Source Code Pro\", \"Menlo\", monospace;;\n",
       "    font-size: 13px;\n",
       "    color: #555;\n",
       "    margin-left: 4px;\n",
       "    line-height: 19px;\n",
       "  }\n",
       "</style>"
      ]
     },
     "metadata": {
      "application/vnd.databricks.v1+output": {
       "arguments": {},
       "data": "",
       "errorSummary": "",
       "errorTraceType": null,
       "metadata": {},
       "type": "ipynbError"
      }
     },
     "output_type": "display_data"
    }
   ],
   "source": [
    "pushdownQuery=\"(select distinct(dest_country_name) from flight_info) as flight_info\"\n",
    "dbDF = spark.read.format('jdbc').option('url', url).option('dbtable',pushdownQuery).option('driver', driver).load()"
   ]
  },
  {
   "cell_type": "markdown",
   "metadata": {
    "application/vnd.databricks.v1+cell": {
     "inputWidgets": {},
     "nuid": "d40ab8d5-35c1-484d-a67d-f85488935770",
     "showTitle": false,
     "title": ""
    }
   },
   "source": [
    "----\n",
    "- 또 위처럼 전체 쿼리를 DB에 직접 전달해서 DataFrame으로 결과를 받아야하는 경우엔 테이블명 대신 SQL 쿼리를 명시하면 됨"
   ]
  },
  {
   "cell_type": "markdown",
   "metadata": {
    "application/vnd.databricks.v1+cell": {
     "inputWidgets": {},
     "nuid": "e12898e5-f0ba-42d2-8410-285801bfca88",
     "showTitle": false,
     "title": ""
    }
   },
   "source": [
    "#### 데이터베이스 병렬로 읽기\n",
    "- 스파크는 파일 크기, 파일 유형, 압축 방식에 따른 <strong>'분할 가능성'</strong>에 따라\n",
    "  - 여러 파일을 읽어 하나의 파티션으로 만들거나 \n",
    "  - 여러 파티션을 하나의 파일로 만드는 알고리즘을 가짐\n",
    "\n",
    "- 파일이 가진 이런 유연성은 SQL 데이터베이스에도 존재하지만 몇 가지 수동 설정이 필요\n",
    "  - 옵션 목록 중 <strong>numPartitions</strong> 옵션으로 읽기 및 쓰기용 <strong>동시 작업 수를 제한할 수 있는 최대 파티션 수</strong> 설정 가능"
   ]
  },
  {
   "cell_type": "code",
   "execution_count": null,
   "metadata": {
    "application/vnd.databricks.v1+cell": {
     "inputWidgets": {},
     "nuid": "73ea3e79-0c9e-43da-8985-623cb640abf3",
     "showTitle": false,
     "title": ""
    }
   },
   "outputs": [],
   "source": [
    "dbDF = spark.read.format('jdbc').option('url', url).option('dbtable',tablename).option('driver', driver)\\\n",
    ".option('numPartitions',10).load()"
   ]
  },
  {
   "cell_type": "markdown",
   "metadata": {
    "application/vnd.databricks.v1+cell": {
     "inputWidgets": {},
     "nuid": "3dd2ba9d-53b8-40f6-9d9e-5d5b37c5cda3",
     "showTitle": false,
     "title": ""
    }
   },
   "source": [
    "#### 슬라이딩 윈도우 기반의 파티셔닝\n",
    "- 조건절을 기반으로 분할할 수 있는 방법"
   ]
  },
  {
   "cell_type": "code",
   "execution_count": null,
   "metadata": {
    "application/vnd.databricks.v1+cell": {
     "inputWidgets": {},
     "nuid": "7a5c84ab-03a3-4174-91d4-9264179a7a86",
     "showTitle": false,
     "title": ""
    }
   },
   "outputs": [
    {
     "data": {
      "text/html": [
       "<style scoped>\n",
       "  .ansiout {\n",
       "    display: block;\n",
       "    unicode-bidi: embed;\n",
       "    white-space: pre-wrap;\n",
       "    word-wrap: break-word;\n",
       "    word-break: break-all;\n",
       "    font-family: \"Source Code Pro\", \"Menlo\", monospace;;\n",
       "    font-size: 13px;\n",
       "    color: #555;\n",
       "    margin-left: 4px;\n",
       "    line-height: 19px;\n",
       "  }\n",
       "</style>\n",
       "<div class=\"ansiout\"></div>"
      ]
     },
     "metadata": {
      "application/vnd.databricks.v1+output": {
       "addedWidgets": {},
       "arguments": {},
       "data": "<div class=\"ansiout\"></div>",
       "datasetInfos": [],
       "metadata": {},
       "removedWidgets": [],
       "type": "html"
      }
     },
     "output_type": "display_data"
    }
   ],
   "source": [
    "props ={'driver':'org.sqlite.JDBC'}\n",
    "#분할 기준 컬럼\n",
    "colName= 'count' \n",
    "#처음과 마지막 파티션 사이의 최솟값과 최댓값 (이 범위 밖의 모든 값은 첫 번째 또는 마지막 파티션에 속함)\n",
    "lowerBound=0\n",
    "upperBound=348113\n",
    "#파티션 수\n",
    "numPartitions=10"
   ]
  },
  {
   "cell_type": "code",
   "execution_count": null,
   "metadata": {
    "application/vnd.databricks.v1+cell": {
     "inputWidgets": {},
     "nuid": "1de7d2d7-8cae-472f-b80d-195a1de77841",
     "showTitle": false,
     "title": ""
    }
   },
   "outputs": [],
   "source": [
    "spark.read.jdbc(url, tablename, column=colName, properties=props, lowerBound=lowerBound, upperBound=upperBound,numPartitions=numPartitions )"
   ]
  },
  {
   "cell_type": "markdown",
   "metadata": {
    "application/vnd.databricks.v1+cell": {
     "inputWidgets": {},
     "nuid": "0efa319c-0fed-4a7a-bbcc-20dbce63dc5f",
     "showTitle": false,
     "title": ""
    }
   },
   "source": [
    "### SQL 데이터베이스 쓰기\n",
    "- URI를 지정하고 지정한 쓰기 모드에 따라 데이터를 쓰면 됨"
   ]
  },
  {
   "cell_type": "code",
   "execution_count": null,
   "metadata": {
    "application/vnd.databricks.v1+cell": {
     "inputWidgets": {},
     "nuid": "746c1c85-4fc1-48e3-89fc-3d8a99848037",
     "showTitle": false,
     "title": ""
    }
   },
   "outputs": [],
   "source": [
    "newPath='jdbc:sqlite://tmp/new_qlite.db'\n",
    "df.write.jdbc(newPath, tablename, properties=props )"
   ]
  },
  {
   "cell_type": "markdown",
   "metadata": {
    "application/vnd.databricks.v1+cell": {
     "inputWidgets": {},
     "nuid": "93445ec1-96e5-421a-9774-79acf05e57f2",
     "showTitle": false,
     "title": ""
    }
   },
   "source": [
    "## 텍스트 파일\n",
    "- 파일의 각 줄은 DataFrame의 레코드"
   ]
  },
  {
   "cell_type": "markdown",
   "metadata": {
    "application/vnd.databricks.v1+cell": {
     "inputWidgets": {},
     "nuid": "8a6324d0-0156-47a2-bb57-75a57ea9bdc0",
     "showTitle": false,
     "title": ""
    }
   },
   "source": [
    "### 텍스트 파일 읽기"
   ]
  },
  {
   "cell_type": "code",
   "execution_count": null,
   "metadata": {
    "application/vnd.databricks.v1+cell": {
     "inputWidgets": {},
     "nuid": "7c4e820e-fa1b-4f61-b9de-64072d81b6ce",
     "showTitle": false,
     "title": ""
    }
   },
   "outputs": [
    {
     "data": {
      "text/html": [
       "<style scoped>\n",
       "  .ansiout {\n",
       "    display: block;\n",
       "    unicode-bidi: embed;\n",
       "    white-space: pre-wrap;\n",
       "    word-wrap: break-word;\n",
       "    word-break: break-all;\n",
       "    font-family: \"Source Code Pro\", \"Menlo\", monospace;;\n",
       "    font-size: 13px;\n",
       "    color: #555;\n",
       "    margin-left: 4px;\n",
       "    line-height: 19px;\n",
       "  }\n",
       "</style>\n",
       "<div class=\"ansiout\">+--------------------+\n",
       "                rows|\n",
       "+--------------------+\n",
       "[DEST_COUNTRY_NAM...|\n",
       "[United States, R...|\n",
       "[United States, I...|\n",
       "[United States, I...|\n",
       "[Egypt, United St...|\n",
       "+--------------------+\n",
       "only showing top 5 rows\n",
       "\n",
       "</div>"
      ]
     },
     "metadata": {
      "application/vnd.databricks.v1+output": {
       "addedWidgets": {},
       "arguments": {},
       "data": "<div class=\"ansiout\">+--------------------+\n|                rows|\n+--------------------+\n|[DEST_COUNTRY_NAM...|\n|[United States, R...|\n|[United States, I...|\n|[United States, I...|\n|[Egypt, United St...|\n+--------------------+\nonly showing top 5 rows\n\n</div>",
       "datasetInfos": [],
       "metadata": {},
       "removedWidgets": [],
       "type": "html"
      }
     },
     "output_type": "display_data"
    }
   ],
   "source": [
    "spark.read.format('text').load('/FileStore/tables/2010_summary.csv').selectExpr(\"split(value,',') as rows\").show(5)"
   ]
  },
  {
   "cell_type": "markdown",
   "metadata": {
    "application/vnd.databricks.v1+cell": {
     "inputWidgets": {},
     "nuid": "daee9c45-956c-45bf-9efe-903dc3e48260",
     "showTitle": false,
     "title": ""
    }
   },
   "source": [
    "### 텍스트 파일 쓰기"
   ]
  },
  {
   "cell_type": "code",
   "execution_count": null,
   "metadata": {
    "application/vnd.databricks.v1+cell": {
     "inputWidgets": {},
     "nuid": "fc444df1-24f7-4b21-b6f8-dc699dc01dee",
     "showTitle": false,
     "title": ""
    }
   },
   "outputs": [
    {
     "data": {
      "text/html": [
       "<style scoped>\n",
       "  .ansiout {\n",
       "    display: block;\n",
       "    unicode-bidi: embed;\n",
       "    white-space: pre-wrap;\n",
       "    word-wrap: break-word;\n",
       "    word-break: break-all;\n",
       "    font-family: \"Source Code Pro\", \"Menlo\", monospace;;\n",
       "    font-size: 13px;\n",
       "    color: #555;\n",
       "    margin-left: 4px;\n",
       "    line-height: 19px;\n",
       "  }\n",
       "</style>\n",
       "<div class=\"ansiout\"></div>"
      ]
     },
     "metadata": {
      "application/vnd.databricks.v1+output": {
       "addedWidgets": {},
       "arguments": {},
       "data": "<div class=\"ansiout\"></div>",
       "datasetInfos": [],
       "metadata": {},
       "removedWidgets": [],
       "type": "html"
      }
     },
     "output_type": "display_data"
    }
   ],
   "source": [
    "df.select('StockCode').write.text('/FileStore/tables/tmp.txt')"
   ]
  },
  {
   "cell_type": "code",
   "execution_count": null,
   "metadata": {
    "application/vnd.databricks.v1+cell": {
     "inputWidgets": {},
     "nuid": "2011280f-8035-452e-9768-a6faedbaa18d",
     "showTitle": false,
     "title": ""
    }
   },
   "outputs": [
    {
     "data": {
      "text/html": [
       "<style scoped>\n",
       "  .table-result-container {\n",
       "    max-height: 300px;\n",
       "    overflow: auto;\n",
       "  }\n",
       "  table, th, td {\n",
       "    border: 1px solid black;\n",
       "    border-collapse: collapse;\n",
       "  }\n",
       "  th, td {\n",
       "    padding: 5px;\n",
       "  }\n",
       "  th {\n",
       "    text-align: left;\n",
       "  }\n",
       "</style><div class='table-result-container'><table class='table-result'><thead style='background-color: white'><tr><th>path</th><th>name</th><th>size</th></tr></thead><tbody><tr><td>dbfs:/FileStore/tables/2010-summary.orc/</td><td>2010-summary.orc/</td><td>0</td></tr><tr><td>dbfs:/FileStore/tables/2010-summary.parquet/</td><td>2010-summary.parquet/</td><td>0</td></tr><tr><td>dbfs:/FileStore/tables/2010_summary.csv</td><td>2010_summary.csv</td><td>7121</td></tr><tr><td>dbfs:/FileStore/tables/2010_summary.json</td><td>2010_summary.json</td><td>21353</td></tr><tr><td>dbfs:/FileStore/tables/all/</td><td>all/</td><td>0</td></tr><tr><td>dbfs:/FileStore/tables/my_sqlite.db</td><td>my_sqlite.db</td><td>11264</td></tr><tr><td>dbfs:/FileStore/tables/my_sqlite_copy.db</td><td>my_sqlite_copy.db</td><td>11264</td></tr><tr><td>dbfs:/FileStore/tables/temp/</td><td>temp/</td><td>0</td></tr><tr><td>dbfs:/FileStore/tables/tmp.txt/</td><td>tmp.txt/</td><td>0</td></tr></tbody></table></div>"
      ]
     },
     "metadata": {
      "application/vnd.databricks.v1+output": {
       "addedWidgets": {},
       "aggData": [],
       "aggError": "",
       "aggOverflow": false,
       "aggSchema": [],
       "aggSeriesLimitReached": false,
       "aggType": "",
       "arguments": {},
       "columnCustomDisplayInfos": {},
       "data": [
        [
         "dbfs:/FileStore/tables/2010-summary.orc/",
         "2010-summary.orc/",
         0
        ],
        [
         "dbfs:/FileStore/tables/2010-summary.parquet/",
         "2010-summary.parquet/",
         0
        ],
        [
         "dbfs:/FileStore/tables/2010_summary.csv",
         "2010_summary.csv",
         7121
        ],
        [
         "dbfs:/FileStore/tables/2010_summary.json",
         "2010_summary.json",
         21353
        ],
        [
         "dbfs:/FileStore/tables/all/",
         "all/",
         0
        ],
        [
         "dbfs:/FileStore/tables/my_sqlite.db",
         "my_sqlite.db",
         11264
        ],
        [
         "dbfs:/FileStore/tables/my_sqlite_copy.db",
         "my_sqlite_copy.db",
         11264
        ],
        [
         "dbfs:/FileStore/tables/temp/",
         "temp/",
         0
        ],
        [
         "dbfs:/FileStore/tables/tmp.txt/",
         "tmp.txt/",
         0
        ]
       ],
       "datasetInfos": [],
       "dbfsResultPath": null,
       "isJsonSchema": true,
       "metadata": {},
       "overflow": false,
       "plotOptions": {
        "customPlotOptions": {},
        "displayType": "table",
        "pivotAggregation": null,
        "pivotColumns": null,
        "xColumns": null,
        "yColumns": null
       },
       "removedWidgets": [],
       "schema": [
        {
         "metadata": "{}",
         "name": "path",
         "type": "\"string\""
        },
        {
         "metadata": "{}",
         "name": "name",
         "type": "\"string\""
        },
        {
         "metadata": "{}",
         "name": "size",
         "type": "\"long\""
        }
       ],
       "type": "table"
      }
     },
     "output_type": "display_data"
    }
   ],
   "source": [
    "%fs ls /FileStore/tables"
   ]
  },
  {
   "cell_type": "markdown",
   "metadata": {
    "application/vnd.databricks.v1+cell": {
     "inputWidgets": {},
     "nuid": "98a4d9e9-c97d-4904-a8a5-d68b26db0d36",
     "showTitle": false,
     "title": ""
    }
   },
   "source": [
    "## 고급 I/O개념\n",
    "- 쓰기 작업 전에 <strong>파티션 수를 조절</strong>함으로써 병렬로 처리할 파일 수를 제어할 수 있다.\n",
    "- 또한 <strong>버켓팅과 파티셔닝을 조절</strong>함으로써 데이터의 저장 구조를 제어할 수 있다."
   ]
  },
  {
   "cell_type": "markdown",
   "metadata": {
    "application/vnd.databricks.v1+cell": {
     "inputWidgets": {},
     "nuid": "4881fc34-84a5-4b9c-908b-19d597758ca3",
     "showTitle": false,
     "title": ""
    }
   },
   "source": [
    "### 분할 가능한 파일 타입과 압축 방식\n",
    "- <strong>기본적으로 분할을 지원하는 특정 포맷</strong>은 전체 파일이 아닌 쿼리에 <strong>필요한 부분만</strong> 읽을 수 있으므로 성능 향상에 도움이 됨\n",
    "  - <strong>HDFS</strong> 같은 시스템을 사용한다면 <strong>분할된 파일을 여러 블록으로 나누어 분산 저장</strong>하므로 더 최적화 가능\n",
    "- <strong>압축 방식</strong>도 관리해야하는데, 모든 압축 방식이 <strong>분할 압축</strong>을 지원하진 않음\n",
    "- 추천 파일 포맷: 파케이\n",
    "- 추천 압축 방식: GZIP"
   ]
  },
  {
   "cell_type": "markdown",
   "metadata": {
    "application/vnd.databricks.v1+cell": {
     "inputWidgets": {},
     "nuid": "5f9c8a9c-7375-4a72-a3e2-42164d1d9f5a",
     "showTitle": false,
     "title": ""
    }
   },
   "source": [
    "### 병렬로 데이터 읽기\n",
    "- 여러 익스큐터가 같은 파일을 동시에 읽을 순 없지만 <strong>여러 파일을 동시에</strong> 읽을 순 있음\n",
    "- <strong>다수의 파일이 존재하는 폴더</strong>를 읽을땐 폴더의 <strong>개별 파일은 DataFrame의 파티션</strong>이된다.\n",
    "- 따라서 사용 가능한 익스큐터를 이용해 병렬로 파일을 읽음\n",
    "  - 익스큐터 수를 넘어가는 파일은 처리 중인 파일이 완료될 때까지 대기"
   ]
  },
  {
   "cell_type": "markdown",
   "metadata": {
    "application/vnd.databricks.v1+cell": {
     "inputWidgets": {},
     "nuid": "04013d2b-6edf-43a7-958f-c214029fef11",
     "showTitle": false,
     "title": ""
    }
   },
   "source": [
    "### 병렬로 데이터 쓰기\n",
    "- 파일이나 데이터 수는 데이터를 <strong>쓰는 시점에 DataFrame이 가진 파티션 수</strong>에 따라 달라질 수 있음\n",
    "- 기본적으로 데이터 파티션당 하나의 파일이 작성\n",
    "- 옵션에 지정된 파일명은 실제로는 다수의 파일을 가진 디렉터리"
   ]
  },
  {
   "cell_type": "code",
   "execution_count": null,
   "metadata": {
    "application/vnd.databricks.v1+cell": {
     "inputWidgets": {},
     "nuid": "64fd1dd2-29fc-42e2-9efb-62a30230d3b0",
     "showTitle": false,
     "title": ""
    }
   },
   "outputs": [
    {
     "data": {
      "text/html": [
       "<style scoped>\n",
       "  .ansiout {\n",
       "    display: block;\n",
       "    unicode-bidi: embed;\n",
       "    white-space: pre-wrap;\n",
       "    word-wrap: break-word;\n",
       "    word-break: break-all;\n",
       "    font-family: \"Source Code Pro\", \"Menlo\", monospace;;\n",
       "    font-size: 13px;\n",
       "    color: #555;\n",
       "    margin-left: 4px;\n",
       "    line-height: 19px;\n",
       "  }\n",
       "</style>\n",
       "<div class=\"ansiout\"></div>"
      ]
     },
     "metadata": {
      "application/vnd.databricks.v1+output": {
       "addedWidgets": {},
       "arguments": {},
       "data": "<div class=\"ansiout\"></div>",
       "datasetInfos": [],
       "metadata": {},
       "removedWidgets": [],
       "type": "html"
      }
     },
     "output_type": "display_data"
    }
   ],
   "source": [
    "#폴더 안에 5개의 파일을 생성함\n",
    "df.repartition(5).write.format('csv').save('/tmp/multiple.csv')"
   ]
  },
  {
   "cell_type": "code",
   "execution_count": null,
   "metadata": {
    "application/vnd.databricks.v1+cell": {
     "inputWidgets": {},
     "nuid": "d129aacc-4646-4716-af0d-b19783a51b83",
     "showTitle": false,
     "title": ""
    }
   },
   "outputs": [
    {
     "data": {
      "text/html": [
       "<style scoped>\n",
       "  .table-result-container {\n",
       "    max-height: 300px;\n",
       "    overflow: auto;\n",
       "  }\n",
       "  table, th, td {\n",
       "    border: 1px solid black;\n",
       "    border-collapse: collapse;\n",
       "  }\n",
       "  th, td {\n",
       "    padding: 5px;\n",
       "  }\n",
       "  th {\n",
       "    text-align: left;\n",
       "  }\n",
       "</style><div class='table-result-container'><table class='table-result'><thead style='background-color: white'><tr><th>path</th><th>name</th><th>size</th></tr></thead><tbody><tr><td>dbfs:/tmp/multiple.csv/_SUCCESS</td><td>_SUCCESS</td><td>0</td></tr><tr><td>dbfs:/tmp/multiple.csv/_committed_7308919149863971029</td><td>_committed_7308919149863971029</td><td>463</td></tr><tr><td>dbfs:/tmp/multiple.csv/_started_7308919149863971029</td><td>_started_7308919149863971029</td><td>0</td></tr><tr><td>dbfs:/tmp/multiple.csv/part-00000-tid-7308919149863971029-29eda532-ce72-4f1b-83a7-f0340c44f34f-9-1-c000.csv</td><td>part-00000-tid-7308919149863971029-29eda532-ce72-4f1b-83a7-f0340c44f34f-9-1-c000.csv</td><td>9040894</td></tr><tr><td>dbfs:/tmp/multiple.csv/part-00001-tid-7308919149863971029-29eda532-ce72-4f1b-83a7-f0340c44f34f-10-1-c000.csv</td><td>part-00001-tid-7308919149863971029-29eda532-ce72-4f1b-83a7-f0340c44f34f-10-1-c000.csv</td><td>9046349</td></tr><tr><td>dbfs:/tmp/multiple.csv/part-00002-tid-7308919149863971029-29eda532-ce72-4f1b-83a7-f0340c44f34f-11-1-c000.csv</td><td>part-00002-tid-7308919149863971029-29eda532-ce72-4f1b-83a7-f0340c44f34f-11-1-c000.csv</td><td>9038812</td></tr><tr><td>dbfs:/tmp/multiple.csv/part-00003-tid-7308919149863971029-29eda532-ce72-4f1b-83a7-f0340c44f34f-13-1-c000.csv</td><td>part-00003-tid-7308919149863971029-29eda532-ce72-4f1b-83a7-f0340c44f34f-13-1-c000.csv</td><td>9036785</td></tr><tr><td>dbfs:/tmp/multiple.csv/part-00004-tid-7308919149863971029-29eda532-ce72-4f1b-83a7-f0340c44f34f-12-1-c000.csv</td><td>part-00004-tid-7308919149863971029-29eda532-ce72-4f1b-83a7-f0340c44f34f-12-1-c000.csv</td><td>9041847</td></tr></tbody></table></div>"
      ]
     },
     "metadata": {
      "application/vnd.databricks.v1+output": {
       "addedWidgets": {},
       "aggData": [],
       "aggError": "",
       "aggOverflow": false,
       "aggSchema": [],
       "aggSeriesLimitReached": false,
       "aggType": "",
       "arguments": {},
       "columnCustomDisplayInfos": {},
       "data": [
        [
         "dbfs:/tmp/multiple.csv/_SUCCESS",
         "_SUCCESS",
         0
        ],
        [
         "dbfs:/tmp/multiple.csv/_committed_7308919149863971029",
         "_committed_7308919149863971029",
         463
        ],
        [
         "dbfs:/tmp/multiple.csv/_started_7308919149863971029",
         "_started_7308919149863971029",
         0
        ],
        [
         "dbfs:/tmp/multiple.csv/part-00000-tid-7308919149863971029-29eda532-ce72-4f1b-83a7-f0340c44f34f-9-1-c000.csv",
         "part-00000-tid-7308919149863971029-29eda532-ce72-4f1b-83a7-f0340c44f34f-9-1-c000.csv",
         9040894
        ],
        [
         "dbfs:/tmp/multiple.csv/part-00001-tid-7308919149863971029-29eda532-ce72-4f1b-83a7-f0340c44f34f-10-1-c000.csv",
         "part-00001-tid-7308919149863971029-29eda532-ce72-4f1b-83a7-f0340c44f34f-10-1-c000.csv",
         9046349
        ],
        [
         "dbfs:/tmp/multiple.csv/part-00002-tid-7308919149863971029-29eda532-ce72-4f1b-83a7-f0340c44f34f-11-1-c000.csv",
         "part-00002-tid-7308919149863971029-29eda532-ce72-4f1b-83a7-f0340c44f34f-11-1-c000.csv",
         9038812
        ],
        [
         "dbfs:/tmp/multiple.csv/part-00003-tid-7308919149863971029-29eda532-ce72-4f1b-83a7-f0340c44f34f-13-1-c000.csv",
         "part-00003-tid-7308919149863971029-29eda532-ce72-4f1b-83a7-f0340c44f34f-13-1-c000.csv",
         9036785
        ],
        [
         "dbfs:/tmp/multiple.csv/part-00004-tid-7308919149863971029-29eda532-ce72-4f1b-83a7-f0340c44f34f-12-1-c000.csv",
         "part-00004-tid-7308919149863971029-29eda532-ce72-4f1b-83a7-f0340c44f34f-12-1-c000.csv",
         9041847
        ]
       ],
       "datasetInfos": [],
       "dbfsResultPath": null,
       "isJsonSchema": true,
       "metadata": {},
       "overflow": false,
       "plotOptions": {
        "customPlotOptions": {},
        "displayType": "table",
        "pivotAggregation": null,
        "pivotColumns": null,
        "xColumns": null,
        "yColumns": null
       },
       "removedWidgets": [],
       "schema": [
        {
         "metadata": "{}",
         "name": "path",
         "type": "\"string\""
        },
        {
         "metadata": "{}",
         "name": "name",
         "type": "\"string\""
        },
        {
         "metadata": "{}",
         "name": "size",
         "type": "\"long\""
        }
       ],
       "type": "table"
      }
     },
     "output_type": "display_data"
    }
   ],
   "source": [
    "%fs ls /tmp/multiple.csv"
   ]
  },
  {
   "cell_type": "markdown",
   "metadata": {
    "application/vnd.databricks.v1+cell": {
     "inputWidgets": {},
     "nuid": "1ed62723-3b52-4b3e-87d8-7baadfde4678",
     "showTitle": false,
     "title": ""
    }
   },
   "source": [
    "### 파티셔닝\n",
    "- <strong>어떤 데이터를 어디에 저장</strong>할 것인지 제어할 수 있는 기능\n",
    "- <strong>디렉터리별로 컬럼 데이터를 인코딩</strong>해서 저장\n",
    "  - 그래서 저장 후 읽을 때 전체 데이터셋을 스캔하지 않고 <strong>필요한 컬럼의 데이터만 읽기 가능</strong>\n",
    "- 이 방식은 모든 파일 기반의 데이터소스에서 지원\n",
    "- 파티셔닝은 <strong>필터링을 자주 사용하는 테이블</strong>을 가진 경우에 사용할 수 있는 가장 손쉬운 최적화 방식"
   ]
  },
  {
   "cell_type": "code",
   "execution_count": null,
   "metadata": {
    "application/vnd.databricks.v1+cell": {
     "inputWidgets": {},
     "nuid": "cfac5f8c-8303-43c3-8c33-d74dab980b7f",
     "showTitle": false,
     "title": ""
    }
   },
   "outputs": [
    {
     "data": {
      "text/html": [
       "<style scoped>\n",
       "  .ansiout {\n",
       "    display: block;\n",
       "    unicode-bidi: embed;\n",
       "    white-space: pre-wrap;\n",
       "    word-wrap: break-word;\n",
       "    word-break: break-all;\n",
       "    font-family: \"Source Code Pro\", \"Menlo\", monospace;;\n",
       "    font-size: 13px;\n",
       "    color: #555;\n",
       "    margin-left: 4px;\n",
       "    line-height: 19px;\n",
       "  }\n",
       "</style>\n",
       "<div class=\"ansiout\"></div>"
      ]
     },
     "metadata": {
      "application/vnd.databricks.v1+output": {
       "addedWidgets": {},
       "arguments": {},
       "data": "<div class=\"ansiout\"></div>",
       "datasetInfos": [],
       "metadata": {},
       "removedWidgets": [],
       "type": "html"
      }
     },
     "output_type": "display_data"
    }
   ],
   "source": [
    "#InvoiceNo값 기준으로 파티셔닝\n",
    "df.limit(10).write.mode('overwrite').partitionBy('InvoiceNo').save('/tmp/partitioned-files.parquet')"
   ]
  },
  {
   "cell_type": "code",
   "execution_count": null,
   "metadata": {
    "application/vnd.databricks.v1+cell": {
     "inputWidgets": {},
     "nuid": "881c39a6-7914-4477-85ea-ebd088c8ef1d",
     "showTitle": false,
     "title": ""
    }
   },
   "outputs": [
    {
     "data": {
      "text/html": [
       "<style scoped>\n",
       "  .table-result-container {\n",
       "    max-height: 300px;\n",
       "    overflow: auto;\n",
       "  }\n",
       "  table, th, td {\n",
       "    border: 1px solid black;\n",
       "    border-collapse: collapse;\n",
       "  }\n",
       "  th, td {\n",
       "    padding: 5px;\n",
       "  }\n",
       "  th {\n",
       "    text-align: left;\n",
       "  }\n",
       "</style><div class='table-result-container'><table class='table-result'><thead style='background-color: white'><tr><th>InvoiceNo</th><th>StockCode</th><th>Description</th><th>Quantity</th><th>InvoiceDate</th><th>UnitPrice</th><th>CustomerID</th><th>Country</th></tr></thead><tbody><tr><td>536365</td><td>85123A</td><td>WHITE HANGING HEART T-LIGHT HOLDER</td><td>6</td><td>12/1/2010 8:26</td><td>2.55</td><td>17850</td><td>United Kingdom</td></tr><tr><td>536365</td><td>71053</td><td>WHITE METAL LANTERN</td><td>6</td><td>12/1/2010 8:26</td><td>3.39</td><td>17850</td><td>United Kingdom</td></tr><tr><td>536365</td><td>84406B</td><td>CREAM CUPID HEARTS COAT HANGER</td><td>8</td><td>12/1/2010 8:26</td><td>2.75</td><td>17850</td><td>United Kingdom</td></tr><tr><td>536365</td><td>84029G</td><td>KNITTED UNION FLAG HOT WATER BOTTLE</td><td>6</td><td>12/1/2010 8:26</td><td>3.39</td><td>17850</td><td>United Kingdom</td></tr><tr><td>536365</td><td>84029E</td><td>RED WOOLLY HOTTIE WHITE HEART.</td><td>6</td><td>12/1/2010 8:26</td><td>3.39</td><td>17850</td><td>United Kingdom</td></tr><tr><td>536365</td><td>22752</td><td>SET 7 BABUSHKA NESTING BOXES</td><td>2</td><td>12/1/2010 8:26</td><td>7.65</td><td>17850</td><td>United Kingdom</td></tr><tr><td>536365</td><td>21730</td><td>GLASS STAR FROSTED T-LIGHT HOLDER</td><td>6</td><td>12/1/2010 8:26</td><td>4.25</td><td>17850</td><td>United Kingdom</td></tr><tr><td>536366</td><td>22633</td><td>HAND WARMER UNION JACK</td><td>6</td><td>12/1/2010 8:28</td><td>1.85</td><td>17850</td><td>United Kingdom</td></tr><tr><td>536366</td><td>22632</td><td>HAND WARMER RED POLKA DOT</td><td>6</td><td>12/1/2010 8:28</td><td>1.85</td><td>17850</td><td>United Kingdom</td></tr><tr><td>536367</td><td>84879</td><td>ASSORTED COLOUR BIRD ORNAMENT</td><td>32</td><td>12/1/2010 8:34</td><td>1.69</td><td>13047</td><td>United Kingdom</td></tr></tbody></table></div>"
      ]
     },
     "metadata": {
      "application/vnd.databricks.v1+output": {
       "addedWidgets": {},
       "aggData": [],
       "aggError": "",
       "aggOverflow": false,
       "aggSchema": [],
       "aggSeriesLimitReached": false,
       "aggType": "",
       "arguments": {},
       "columnCustomDisplayInfos": {},
       "data": [
        [
         "536365",
         "85123A",
         "WHITE HANGING HEART T-LIGHT HOLDER",
         "6",
         "12/1/2010 8:26",
         "2.55",
         "17850",
         "United Kingdom"
        ],
        [
         "536365",
         "71053",
         "WHITE METAL LANTERN",
         "6",
         "12/1/2010 8:26",
         "3.39",
         "17850",
         "United Kingdom"
        ],
        [
         "536365",
         "84406B",
         "CREAM CUPID HEARTS COAT HANGER",
         "8",
         "12/1/2010 8:26",
         "2.75",
         "17850",
         "United Kingdom"
        ],
        [
         "536365",
         "84029G",
         "KNITTED UNION FLAG HOT WATER BOTTLE",
         "6",
         "12/1/2010 8:26",
         "3.39",
         "17850",
         "United Kingdom"
        ],
        [
         "536365",
         "84029E",
         "RED WOOLLY HOTTIE WHITE HEART.",
         "6",
         "12/1/2010 8:26",
         "3.39",
         "17850",
         "United Kingdom"
        ],
        [
         "536365",
         "22752",
         "SET 7 BABUSHKA NESTING BOXES",
         "2",
         "12/1/2010 8:26",
         "7.65",
         "17850",
         "United Kingdom"
        ],
        [
         "536365",
         "21730",
         "GLASS STAR FROSTED T-LIGHT HOLDER",
         "6",
         "12/1/2010 8:26",
         "4.25",
         "17850",
         "United Kingdom"
        ],
        [
         "536366",
         "22633",
         "HAND WARMER UNION JACK",
         "6",
         "12/1/2010 8:28",
         "1.85",
         "17850",
         "United Kingdom"
        ],
        [
         "536366",
         "22632",
         "HAND WARMER RED POLKA DOT",
         "6",
         "12/1/2010 8:28",
         "1.85",
         "17850",
         "United Kingdom"
        ],
        [
         "536367",
         "84879",
         "ASSORTED COLOUR BIRD ORNAMENT",
         "32",
         "12/1/2010 8:34",
         "1.69",
         "13047",
         "United Kingdom"
        ]
       ],
       "datasetInfos": [],
       "dbfsResultPath": null,
       "isJsonSchema": true,
       "metadata": {},
       "overflow": false,
       "plotOptions": {
        "customPlotOptions": {},
        "displayType": "table",
        "pivotAggregation": null,
        "pivotColumns": null,
        "xColumns": null,
        "yColumns": null
       },
       "removedWidgets": [],
       "schema": [
        {
         "metadata": "{}",
         "name": "InvoiceNo",
         "type": "\"string\""
        },
        {
         "metadata": "{}",
         "name": "StockCode",
         "type": "\"string\""
        },
        {
         "metadata": "{}",
         "name": "Description",
         "type": "\"string\""
        },
        {
         "metadata": "{}",
         "name": "Quantity",
         "type": "\"string\""
        },
        {
         "metadata": "{}",
         "name": "InvoiceDate",
         "type": "\"string\""
        },
        {
         "metadata": "{}",
         "name": "UnitPrice",
         "type": "\"string\""
        },
        {
         "metadata": "{}",
         "name": "CustomerID",
         "type": "\"string\""
        },
        {
         "metadata": "{}",
         "name": "Country",
         "type": "\"string\""
        }
       ],
       "type": "table"
      }
     },
     "output_type": "display_data"
    }
   ],
   "source": [
    "display(df.limit(10))"
   ]
  },
  {
   "cell_type": "code",
   "execution_count": null,
   "metadata": {
    "application/vnd.databricks.v1+cell": {
     "inputWidgets": {},
     "nuid": "361da5c0-f5dc-468f-b8c5-bbc84ef96967",
     "showTitle": false,
     "title": ""
    }
   },
   "outputs": [
    {
     "data": {
      "text/html": [
       "<style scoped>\n",
       "  .table-result-container {\n",
       "    max-height: 300px;\n",
       "    overflow: auto;\n",
       "  }\n",
       "  table, th, td {\n",
       "    border: 1px solid black;\n",
       "    border-collapse: collapse;\n",
       "  }\n",
       "  th, td {\n",
       "    padding: 5px;\n",
       "  }\n",
       "  th {\n",
       "    text-align: left;\n",
       "  }\n",
       "</style><div class='table-result-container'><table class='table-result'><thead style='background-color: white'><tr><th>path</th><th>name</th><th>size</th></tr></thead><tbody><tr><td>dbfs:/tmp/partitioned-files.parquet/InvoiceNo=536365/</td><td>InvoiceNo=536365/</td><td>0</td></tr><tr><td>dbfs:/tmp/partitioned-files.parquet/InvoiceNo=536366/</td><td>InvoiceNo=536366/</td><td>0</td></tr><tr><td>dbfs:/tmp/partitioned-files.parquet/InvoiceNo=536367/</td><td>InvoiceNo=536367/</td><td>0</td></tr><tr><td>dbfs:/tmp/partitioned-files.parquet/_delta_log/</td><td>_delta_log/</td><td>0</td></tr></tbody></table></div>"
      ]
     },
     "metadata": {
      "application/vnd.databricks.v1+output": {
       "addedWidgets": {},
       "aggData": [],
       "aggError": "",
       "aggOverflow": false,
       "aggSchema": [],
       "aggSeriesLimitReached": false,
       "aggType": "",
       "arguments": {},
       "columnCustomDisplayInfos": {},
       "data": [
        [
         "dbfs:/tmp/partitioned-files.parquet/InvoiceNo=536365/",
         "InvoiceNo=536365/",
         0
        ],
        [
         "dbfs:/tmp/partitioned-files.parquet/InvoiceNo=536366/",
         "InvoiceNo=536366/",
         0
        ],
        [
         "dbfs:/tmp/partitioned-files.parquet/InvoiceNo=536367/",
         "InvoiceNo=536367/",
         0
        ],
        [
         "dbfs:/tmp/partitioned-files.parquet/_delta_log/",
         "_delta_log/",
         0
        ]
       ],
       "datasetInfos": [],
       "dbfsResultPath": null,
       "isJsonSchema": true,
       "metadata": {},
       "overflow": false,
       "plotOptions": {
        "customPlotOptions": {},
        "displayType": "table",
        "pivotAggregation": null,
        "pivotColumns": null,
        "xColumns": null,
        "yColumns": null
       },
       "removedWidgets": [],
       "schema": [
        {
         "metadata": "{}",
         "name": "path",
         "type": "\"string\""
        },
        {
         "metadata": "{}",
         "name": "name",
         "type": "\"string\""
        },
        {
         "metadata": "{}",
         "name": "size",
         "type": "\"long\""
        }
       ],
       "type": "table"
      }
     },
     "output_type": "display_data"
    }
   ],
   "source": [
    "%fs ls /tmp/partitioned-files.parquet"
   ]
  },
  {
   "cell_type": "markdown",
   "metadata": {
    "application/vnd.databricks.v1+cell": {
     "inputWidgets": {},
     "nuid": "e6f4050a-fe84-4b07-9500-7578db8910e0",
     "showTitle": false,
     "title": ""
    }
   },
   "source": [
    "---\n",
    "- 각 폴더는 조건절을 폴더명으로 사용하며, 조건절을 만족하는 데이터가 저장된 파케이 파일을 가지고 있음"
   ]
  },
  {
   "cell_type": "markdown",
   "metadata": {
    "application/vnd.databricks.v1+cell": {
     "inputWidgets": {},
     "nuid": "e741f22a-fcdd-452e-a455-e9be78e4c3ab",
     "showTitle": false,
     "title": ""
    }
   },
   "source": [
    "### 버켓팅\n",
    "- <strong>각 파일에 저장된 데이터를 제어</strong>할 수 있는 <strong>파일 조직화</strong> 기법\n",
    "- <strong>동일한 버킷 ID</strong>를 가진 데이터가 하나의 물리적 파티션에 모여 있으므로 데이터를 읽을 때 <strong>셔플을 피할 수 있음</strong>\n",
    "  - 사전에 파티셔닝된 것이므로 조인이나 집계 시 발생하는 고비용의 셔플을 피할 수 있음\n",
    "- <strong>높은 카디널리티(유니크 값이 많은)를 가지는 컬럼</strong>은 파티셔닝을 하면 수억 개의 디렉터리가 생성될 수도 있다.\n",
    "  - 이때 버켓 단위로 데이터를 모아 일정 수의 파일로 저장하는 것이 효율적\n",
    "\n",
    "<img src=\"https://miro.medium.com/max/1400/1*q4xHBk9ksw20Vf_25OYCtA.jpeg\" width=70% />\n",
    "\n",
    "- [참고 링크](https://blog.clairvoyantsoft.com/bucketing-in-spark-878d2e02140f)"
   ]
  },
  {
   "cell_type": "code",
   "execution_count": null,
   "metadata": {
    "application/vnd.databricks.v1+cell": {
     "inputWidgets": {},
     "nuid": "c09115e1-23f2-44aa-b53f-7494ca0073fa",
     "showTitle": false,
     "title": ""
    }
   },
   "outputs": [
    {
     "data": {
      "text/html": [
       "<style scoped>\n",
       "  .ansiout {\n",
       "    display: block;\n",
       "    unicode-bidi: embed;\n",
       "    white-space: pre-wrap;\n",
       "    word-wrap: break-word;\n",
       "    word-break: break-all;\n",
       "    font-family: \"Source Code Pro\", \"Menlo\", monospace;;\n",
       "    font-size: 13px;\n",
       "    color: #555;\n",
       "    margin-left: 4px;\n",
       "    line-height: 19px;\n",
       "  }\n",
       "</style>\n",
       "<div class=\"ansiout\">Out[16]: [Row(count(DISTINCT InvoiceNo)=25900)]</div>"
      ]
     },
     "metadata": {
      "application/vnd.databricks.v1+output": {
       "addedWidgets": {},
       "arguments": {},
       "data": "<div class=\"ansiout\">Out[16]: [Row(count(DISTINCT InvoiceNo)=25900)]</div>",
       "datasetInfos": [],
       "metadata": {},
       "removedWidgets": [],
       "type": "html"
      }
     },
     "output_type": "display_data"
    }
   ],
   "source": [
    "df.select(F.countDistinct('InvoiceNo')).collect()"
   ]
  },
  {
   "cell_type": "markdown",
   "metadata": {
    "application/vnd.databricks.v1+cell": {
     "inputWidgets": {},
     "nuid": "49148485-b59e-4fc8-81e6-3be2a5d0f1d9",
     "showTitle": false,
     "title": ""
    }
   },
   "source": [
    "---\n",
    "- 위 컬럼 기준으로 파티셔닝하면 25900개의 디렉터리가 생성될 것임\n",
    "  - 아까는 limit(10)해서 3개밖에 생성되지 않은 것이고"
   ]
  },
  {
   "cell_type": "code",
   "execution_count": null,
   "metadata": {
    "application/vnd.databricks.v1+cell": {
     "inputWidgets": {},
     "nuid": "beec5f4f-02ca-4268-968d-c0d21b1dcede",
     "showTitle": false,
     "title": ""
    }
   },
   "outputs": [
    {
     "data": {
      "text/html": [
       "<style scoped>\n",
       "  .ansiout {\n",
       "    display: block;\n",
       "    unicode-bidi: embed;\n",
       "    white-space: pre-wrap;\n",
       "    word-wrap: break-word;\n",
       "    word-break: break-all;\n",
       "    font-family: \"Source Code Pro\", \"Menlo\", monospace;;\n",
       "    font-size: 13px;\n",
       "    color: #555;\n",
       "    margin-left: 4px;\n",
       "    line-height: 19px;\n",
       "  }\n",
       "</style>\n",
       "<div class=\"ansiout\">Out[9]: True</div>"
      ]
     },
     "metadata": {
      "application/vnd.databricks.v1+output": {
       "addedWidgets": {},
       "arguments": {},
       "data": "<div class=\"ansiout\">Out[9]: True</div>",
       "datasetInfos": [],
       "metadata": {},
       "removedWidgets": [],
       "type": "html"
      }
     },
     "output_type": "display_data"
    }
   ],
   "source": [
    "#버켓단위로 데이터를 모아 일정 수의 파일로 저장하기\n",
    "bucketNum = 10\n",
    "bucketCol= 'InvoiceNo'\n",
    "\n",
    "#기본적으로 아래 디렉터리 하위에 버켓팅 파일을 기록하므로 먼저 해당 디렉터리 생성\n",
    "dbutils.fs.mkdirs('/user/hive/warehouse')"
   ]
  },
  {
   "cell_type": "code",
   "execution_count": null,
   "metadata": {
    "application/vnd.databricks.v1+cell": {
     "inputWidgets": {},
     "nuid": "20b3ad9e-0da1-49ed-bb3c-a687fcc976ae",
     "showTitle": false,
     "title": ""
    }
   },
   "outputs": [
    {
     "data": {
      "text/html": [
       "<style scoped>\n",
       "  .ansiout {\n",
       "    display: block;\n",
       "    unicode-bidi: embed;\n",
       "    white-space: pre-wrap;\n",
       "    word-wrap: break-word;\n",
       "    word-break: break-all;\n",
       "    font-family: \"Source Code Pro\", \"Menlo\", monospace;;\n",
       "    font-size: 13px;\n",
       "    color: #555;\n",
       "    margin-left: 4px;\n",
       "    line-height: 19px;\n",
       "  }\n",
       "</style>\n",
       "<div class=\"ansiout\"></div>"
      ]
     },
     "metadata": {
      "application/vnd.databricks.v1+output": {
       "addedWidgets": {},
       "arguments": {},
       "data": "<div class=\"ansiout\"></div>",
       "datasetInfos": [],
       "metadata": {},
       "removedWidgets": [],
       "type": "html"
      }
     },
     "output_type": "display_data"
    }
   ],
   "source": [
    "df.write.format('parquet').bucketBy(bucketNum, bucketCol).saveAsTable('bucketedFiles')"
   ]
  },
  {
   "cell_type": "code",
   "execution_count": null,
   "metadata": {
    "application/vnd.databricks.v1+cell": {
     "inputWidgets": {},
     "nuid": "d4e1bd13-7f26-417f-a09c-134e87db783e",
     "showTitle": false,
     "title": ""
    }
   },
   "outputs": [
    {
     "data": {
      "text/html": [
       "<style scoped>\n",
       "  .table-result-container {\n",
       "    max-height: 300px;\n",
       "    overflow: auto;\n",
       "  }\n",
       "  table, th, td {\n",
       "    border: 1px solid black;\n",
       "    border-collapse: collapse;\n",
       "  }\n",
       "  th, td {\n",
       "    padding: 5px;\n",
       "  }\n",
       "  th {\n",
       "    text-align: left;\n",
       "  }\n",
       "</style><div class='table-result-container'><table class='table-result'><thead style='background-color: white'><tr><th>path</th><th>name</th><th>size</th></tr></thead><tbody><tr><td>dbfs:/user/hive/warehouse/bucketedfiles/_SUCCESS</td><td>_SUCCESS</td><td>0</td></tr><tr><td>dbfs:/user/hive/warehouse/bucketedfiles/_committed_1429916160167243299</td><td>_committed_1429916160167243299</td><td>8432</td></tr><tr><td>dbfs:/user/hive/warehouse/bucketedfiles/_started_1429916160167243299</td><td>_started_1429916160167243299</td><td>0</td></tr><tr><td>dbfs:/user/hive/warehouse/bucketedfiles/part-00000-tid-1429916160167243299-ae8dd407-c390-4806-8bb9-1eed6d0e2e7f-27-10_00009.c000.snappy.parquet</td><td>part-00000-tid-1429916160167243299-ae8dd407-c390-4806-8bb9-1eed6d0e2e7f-27-10_00009.c000.snappy.parquet</td><td>90262</td></tr><tr><td>dbfs:/user/hive/warehouse/bucketedfiles/part-00000-tid-1429916160167243299-ae8dd407-c390-4806-8bb9-1eed6d0e2e7f-27-1_00000.c000.snappy.parquet</td><td>part-00000-tid-1429916160167243299-ae8dd407-c390-4806-8bb9-1eed6d0e2e7f-27-1_00000.c000.snappy.parquet</td><td>87741</td></tr><tr><td>dbfs:/user/hive/warehouse/bucketedfiles/part-00000-tid-1429916160167243299-ae8dd407-c390-4806-8bb9-1eed6d0e2e7f-27-2_00001.c000.snappy.parquet</td><td>part-00000-tid-1429916160167243299-ae8dd407-c390-4806-8bb9-1eed6d0e2e7f-27-2_00001.c000.snappy.parquet</td><td>74086</td></tr><tr><td>dbfs:/user/hive/warehouse/bucketedfiles/part-00000-tid-1429916160167243299-ae8dd407-c390-4806-8bb9-1eed6d0e2e7f-27-3_00002.c000.snappy.parquet</td><td>part-00000-tid-1429916160167243299-ae8dd407-c390-4806-8bb9-1eed6d0e2e7f-27-3_00002.c000.snappy.parquet</td><td>84847</td></tr><tr><td>dbfs:/user/hive/warehouse/bucketedfiles/part-00000-tid-1429916160167243299-ae8dd407-c390-4806-8bb9-1eed6d0e2e7f-27-4_00003.c000.snappy.parquet</td><td>part-00000-tid-1429916160167243299-ae8dd407-c390-4806-8bb9-1eed6d0e2e7f-27-4_00003.c000.snappy.parquet</td><td>92241</td></tr><tr><td>dbfs:/user/hive/warehouse/bucketedfiles/part-00000-tid-1429916160167243299-ae8dd407-c390-4806-8bb9-1eed6d0e2e7f-27-5_00004.c000.snappy.parquet</td><td>part-00000-tid-1429916160167243299-ae8dd407-c390-4806-8bb9-1eed6d0e2e7f-27-5_00004.c000.snappy.parquet</td><td>89909</td></tr><tr><td>dbfs:/user/hive/warehouse/bucketedfiles/part-00000-tid-1429916160167243299-ae8dd407-c390-4806-8bb9-1eed6d0e2e7f-27-6_00005.c000.snappy.parquet</td><td>part-00000-tid-1429916160167243299-ae8dd407-c390-4806-8bb9-1eed6d0e2e7f-27-6_00005.c000.snappy.parquet</td><td>84077</td></tr><tr><td>dbfs:/user/hive/warehouse/bucketedfiles/part-00000-tid-1429916160167243299-ae8dd407-c390-4806-8bb9-1eed6d0e2e7f-27-7_00006.c000.snappy.parquet</td><td>part-00000-tid-1429916160167243299-ae8dd407-c390-4806-8bb9-1eed6d0e2e7f-27-7_00006.c000.snappy.parquet</td><td>87207</td></tr><tr><td>dbfs:/user/hive/warehouse/bucketedfiles/part-00000-tid-1429916160167243299-ae8dd407-c390-4806-8bb9-1eed6d0e2e7f-27-8_00007.c000.snappy.parquet</td><td>part-00000-tid-1429916160167243299-ae8dd407-c390-4806-8bb9-1eed6d0e2e7f-27-8_00007.c000.snappy.parquet</td><td>92634</td></tr><tr><td>dbfs:/user/hive/warehouse/bucketedfiles/part-00000-tid-1429916160167243299-ae8dd407-c390-4806-8bb9-1eed6d0e2e7f-27-9_00008.c000.snappy.parquet</td><td>part-00000-tid-1429916160167243299-ae8dd407-c390-4806-8bb9-1eed6d0e2e7f-27-9_00008.c000.snappy.parquet</td><td>82842</td></tr><tr><td>dbfs:/user/hive/warehouse/bucketedfiles/part-00001-tid-1429916160167243299-ae8dd407-c390-4806-8bb9-1eed6d0e2e7f-28-10_00009.c000.snappy.parquet</td><td>part-00001-tid-1429916160167243299-ae8dd407-c390-4806-8bb9-1eed6d0e2e7f-28-10_00009.c000.snappy.parquet</td><td>85100</td></tr><tr><td>dbfs:/user/hive/warehouse/bucketedfiles/part-00001-tid-1429916160167243299-ae8dd407-c390-4806-8bb9-1eed6d0e2e7f-28-1_00000.c000.snappy.parquet</td><td>part-00001-tid-1429916160167243299-ae8dd407-c390-4806-8bb9-1eed6d0e2e7f-28-1_00000.c000.snappy.parquet</td><td>81427</td></tr><tr><td>dbfs:/user/hive/warehouse/bucketedfiles/part-00001-tid-1429916160167243299-ae8dd407-c390-4806-8bb9-1eed6d0e2e7f-28-2_00001.c000.snappy.parquet</td><td>part-00001-tid-1429916160167243299-ae8dd407-c390-4806-8bb9-1eed6d0e2e7f-28-2_00001.c000.snappy.parquet</td><td>91127</td></tr><tr><td>dbfs:/user/hive/warehouse/bucketedfiles/part-00001-tid-1429916160167243299-ae8dd407-c390-4806-8bb9-1eed6d0e2e7f-28-3_00002.c000.snappy.parquet</td><td>part-00001-tid-1429916160167243299-ae8dd407-c390-4806-8bb9-1eed6d0e2e7f-28-3_00002.c000.snappy.parquet</td><td>86022</td></tr><tr><td>dbfs:/user/hive/warehouse/bucketedfiles/part-00001-tid-1429916160167243299-ae8dd407-c390-4806-8bb9-1eed6d0e2e7f-28-4_00003.c000.snappy.parquet</td><td>part-00001-tid-1429916160167243299-ae8dd407-c390-4806-8bb9-1eed6d0e2e7f-28-4_00003.c000.snappy.parquet</td><td>79613</td></tr><tr><td>dbfs:/user/hive/warehouse/bucketedfiles/part-00001-tid-1429916160167243299-ae8dd407-c390-4806-8bb9-1eed6d0e2e7f-28-5_00004.c000.snappy.parquet</td><td>part-00001-tid-1429916160167243299-ae8dd407-c390-4806-8bb9-1eed6d0e2e7f-28-5_00004.c000.snappy.parquet</td><td>81113</td></tr><tr><td>dbfs:/user/hive/warehouse/bucketedfiles/part-00001-tid-1429916160167243299-ae8dd407-c390-4806-8bb9-1eed6d0e2e7f-28-6_00005.c000.snappy.parquet</td><td>part-00001-tid-1429916160167243299-ae8dd407-c390-4806-8bb9-1eed6d0e2e7f-28-6_00005.c000.snappy.parquet</td><td>90673</td></tr><tr><td>dbfs:/user/hive/warehouse/bucketedfiles/part-00001-tid-1429916160167243299-ae8dd407-c390-4806-8bb9-1eed6d0e2e7f-28-7_00006.c000.snappy.parquet</td><td>part-00001-tid-1429916160167243299-ae8dd407-c390-4806-8bb9-1eed6d0e2e7f-28-7_00006.c000.snappy.parquet</td><td>80229</td></tr><tr><td>dbfs:/user/hive/warehouse/bucketedfiles/part-00001-tid-1429916160167243299-ae8dd407-c390-4806-8bb9-1eed6d0e2e7f-28-8_00007.c000.snappy.parquet</td><td>part-00001-tid-1429916160167243299-ae8dd407-c390-4806-8bb9-1eed6d0e2e7f-28-8_00007.c000.snappy.parquet</td><td>83282</td></tr><tr><td>dbfs:/user/hive/warehouse/bucketedfiles/part-00001-tid-1429916160167243299-ae8dd407-c390-4806-8bb9-1eed6d0e2e7f-28-9_00008.c000.snappy.parquet</td><td>part-00001-tid-1429916160167243299-ae8dd407-c390-4806-8bb9-1eed6d0e2e7f-28-9_00008.c000.snappy.parquet</td><td>93196</td></tr><tr><td>dbfs:/user/hive/warehouse/bucketedfiles/part-00002-tid-1429916160167243299-ae8dd407-c390-4806-8bb9-1eed6d0e2e7f-29-10_00009.c000.snappy.parquet</td><td>part-00002-tid-1429916160167243299-ae8dd407-c390-4806-8bb9-1eed6d0e2e7f-29-10_00009.c000.snappy.parquet</td><td>93511</td></tr><tr><td>dbfs:/user/hive/warehouse/bucketedfiles/part-00002-tid-1429916160167243299-ae8dd407-c390-4806-8bb9-1eed6d0e2e7f-29-1_00000.c000.snappy.parquet</td><td>part-00002-tid-1429916160167243299-ae8dd407-c390-4806-8bb9-1eed6d0e2e7f-29-1_00000.c000.snappy.parquet</td><td>94358</td></tr><tr><td>dbfs:/user/hive/warehouse/bucketedfiles/part-00002-tid-1429916160167243299-ae8dd407-c390-4806-8bb9-1eed6d0e2e7f-29-2_00001.c000.snappy.parquet</td><td>part-00002-tid-1429916160167243299-ae8dd407-c390-4806-8bb9-1eed6d0e2e7f-29-2_00001.c000.snappy.parquet</td><td>84961</td></tr><tr><td>dbfs:/user/hive/warehouse/bucketedfiles/part-00002-tid-1429916160167243299-ae8dd407-c390-4806-8bb9-1eed6d0e2e7f-29-3_00002.c000.snappy.parquet</td><td>part-00002-tid-1429916160167243299-ae8dd407-c390-4806-8bb9-1eed6d0e2e7f-29-3_00002.c000.snappy.parquet</td><td>80911</td></tr><tr><td>dbfs:/user/hive/warehouse/bucketedfiles/part-00002-tid-1429916160167243299-ae8dd407-c390-4806-8bb9-1eed6d0e2e7f-29-4_00003.c000.snappy.parquet</td><td>part-00002-tid-1429916160167243299-ae8dd407-c390-4806-8bb9-1eed6d0e2e7f-29-4_00003.c000.snappy.parquet</td><td>91751</td></tr><tr><td>dbfs:/user/hive/warehouse/bucketedfiles/part-00002-tid-1429916160167243299-ae8dd407-c390-4806-8bb9-1eed6d0e2e7f-29-5_00004.c000.snappy.parquet</td><td>part-00002-tid-1429916160167243299-ae8dd407-c390-4806-8bb9-1eed6d0e2e7f-29-5_00004.c000.snappy.parquet</td><td>78403</td></tr><tr><td>dbfs:/user/hive/warehouse/bucketedfiles/part-00002-tid-1429916160167243299-ae8dd407-c390-4806-8bb9-1eed6d0e2e7f-29-6_00005.c000.snappy.parquet</td><td>part-00002-tid-1429916160167243299-ae8dd407-c390-4806-8bb9-1eed6d0e2e7f-29-6_00005.c000.snappy.parquet</td><td>82548</td></tr><tr><td>dbfs:/user/hive/warehouse/bucketedfiles/part-00002-tid-1429916160167243299-ae8dd407-c390-4806-8bb9-1eed6d0e2e7f-29-7_00006.c000.snappy.parquet</td><td>part-00002-tid-1429916160167243299-ae8dd407-c390-4806-8bb9-1eed6d0e2e7f-29-7_00006.c000.snappy.parquet</td><td>82517</td></tr><tr><td>dbfs:/user/hive/warehouse/bucketedfiles/part-00002-tid-1429916160167243299-ae8dd407-c390-4806-8bb9-1eed6d0e2e7f-29-8_00007.c000.snappy.parquet</td><td>part-00002-tid-1429916160167243299-ae8dd407-c390-4806-8bb9-1eed6d0e2e7f-29-8_00007.c000.snappy.parquet</td><td>82756</td></tr><tr><td>dbfs:/user/hive/warehouse/bucketedfiles/part-00002-tid-1429916160167243299-ae8dd407-c390-4806-8bb9-1eed6d0e2e7f-29-9_00008.c000.snappy.parquet</td><td>part-00002-tid-1429916160167243299-ae8dd407-c390-4806-8bb9-1eed6d0e2e7f-29-9_00008.c000.snappy.parquet</td><td>89442</td></tr><tr><td>dbfs:/user/hive/warehouse/bucketedfiles/part-00003-tid-1429916160167243299-ae8dd407-c390-4806-8bb9-1eed6d0e2e7f-30-10_00009.c000.snappy.parquet</td><td>part-00003-tid-1429916160167243299-ae8dd407-c390-4806-8bb9-1eed6d0e2e7f-30-10_00009.c000.snappy.parquet</td><td>93217</td></tr><tr><td>dbfs:/user/hive/warehouse/bucketedfiles/part-00003-tid-1429916160167243299-ae8dd407-c390-4806-8bb9-1eed6d0e2e7f-30-1_00000.c000.snappy.parquet</td><td>part-00003-tid-1429916160167243299-ae8dd407-c390-4806-8bb9-1eed6d0e2e7f-30-1_00000.c000.snappy.parquet</td><td>83924</td></tr><tr><td>dbfs:/user/hive/warehouse/bucketedfiles/part-00003-tid-1429916160167243299-ae8dd407-c390-4806-8bb9-1eed6d0e2e7f-30-2_00001.c000.snappy.parquet</td><td>part-00003-tid-1429916160167243299-ae8dd407-c390-4806-8bb9-1eed6d0e2e7f-30-2_00001.c000.snappy.parquet</td><td>94888</td></tr><tr><td>dbfs:/user/hive/warehouse/bucketedfiles/part-00003-tid-1429916160167243299-ae8dd407-c390-4806-8bb9-1eed6d0e2e7f-30-3_00002.c000.snappy.parquet</td><td>part-00003-tid-1429916160167243299-ae8dd407-c390-4806-8bb9-1eed6d0e2e7f-30-3_00002.c000.snappy.parquet</td><td>81224</td></tr><tr><td>dbfs:/user/hive/warehouse/bucketedfiles/part-00003-tid-1429916160167243299-ae8dd407-c390-4806-8bb9-1eed6d0e2e7f-30-4_00003.c000.snappy.parquet</td><td>part-00003-tid-1429916160167243299-ae8dd407-c390-4806-8bb9-1eed6d0e2e7f-30-4_00003.c000.snappy.parquet</td><td>81094</td></tr><tr><td>dbfs:/user/hive/warehouse/bucketedfiles/part-00003-tid-1429916160167243299-ae8dd407-c390-4806-8bb9-1eed6d0e2e7f-30-5_00004.c000.snappy.parquet</td><td>part-00003-tid-1429916160167243299-ae8dd407-c390-4806-8bb9-1eed6d0e2e7f-30-5_00004.c000.snappy.parquet</td><td>81804</td></tr><tr><td>dbfs:/user/hive/warehouse/bucketedfiles/part-00003-tid-1429916160167243299-ae8dd407-c390-4806-8bb9-1eed6d0e2e7f-30-6_00005.c000.snappy.parquet</td><td>part-00003-tid-1429916160167243299-ae8dd407-c390-4806-8bb9-1eed6d0e2e7f-30-6_00005.c000.snappy.parquet</td><td>88050</td></tr><tr><td>dbfs:/user/hive/warehouse/bucketedfiles/part-00003-tid-1429916160167243299-ae8dd407-c390-4806-8bb9-1eed6d0e2e7f-30-7_00006.c000.snappy.parquet</td><td>part-00003-tid-1429916160167243299-ae8dd407-c390-4806-8bb9-1eed6d0e2e7f-30-7_00006.c000.snappy.parquet</td><td>86349</td></tr><tr><td>dbfs:/user/hive/warehouse/bucketedfiles/part-00003-tid-1429916160167243299-ae8dd407-c390-4806-8bb9-1eed6d0e2e7f-30-8_00007.c000.snappy.parquet</td><td>part-00003-tid-1429916160167243299-ae8dd407-c390-4806-8bb9-1eed6d0e2e7f-30-8_00007.c000.snappy.parquet</td><td>88488</td></tr><tr><td>dbfs:/user/hive/warehouse/bucketedfiles/part-00003-tid-1429916160167243299-ae8dd407-c390-4806-8bb9-1eed6d0e2e7f-30-9_00008.c000.snappy.parquet</td><td>part-00003-tid-1429916160167243299-ae8dd407-c390-4806-8bb9-1eed6d0e2e7f-30-9_00008.c000.snappy.parquet</td><td>87608</td></tr><tr><td>dbfs:/user/hive/warehouse/bucketedfiles/part-00004-tid-1429916160167243299-ae8dd407-c390-4806-8bb9-1eed6d0e2e7f-31-10_00009.c000.snappy.parquet</td><td>part-00004-tid-1429916160167243299-ae8dd407-c390-4806-8bb9-1eed6d0e2e7f-31-10_00009.c000.snappy.parquet</td><td>87329</td></tr><tr><td>dbfs:/user/hive/warehouse/bucketedfiles/part-00004-tid-1429916160167243299-ae8dd407-c390-4806-8bb9-1eed6d0e2e7f-31-1_00000.c000.snappy.parquet</td><td>part-00004-tid-1429916160167243299-ae8dd407-c390-4806-8bb9-1eed6d0e2e7f-31-1_00000.c000.snappy.parquet</td><td>88483</td></tr><tr><td>dbfs:/user/hive/warehouse/bucketedfiles/part-00004-tid-1429916160167243299-ae8dd407-c390-4806-8bb9-1eed6d0e2e7f-31-2_00001.c000.snappy.parquet</td><td>part-00004-tid-1429916160167243299-ae8dd407-c390-4806-8bb9-1eed6d0e2e7f-31-2_00001.c000.snappy.parquet</td><td>81433</td></tr><tr><td>dbfs:/user/hive/warehouse/bucketedfiles/part-00004-tid-1429916160167243299-ae8dd407-c390-4806-8bb9-1eed6d0e2e7f-31-3_00002.c000.snappy.parquet</td><td>part-00004-tid-1429916160167243299-ae8dd407-c390-4806-8bb9-1eed6d0e2e7f-31-3_00002.c000.snappy.parquet</td><td>80855</td></tr><tr><td>dbfs:/user/hive/warehouse/bucketedfiles/part-00004-tid-1429916160167243299-ae8dd407-c390-4806-8bb9-1eed6d0e2e7f-31-4_00003.c000.snappy.parquet</td><td>part-00004-tid-1429916160167243299-ae8dd407-c390-4806-8bb9-1eed6d0e2e7f-31-4_00003.c000.snappy.parquet</td><td>86472</td></tr><tr><td>dbfs:/user/hive/warehouse/bucketedfiles/part-00004-tid-1429916160167243299-ae8dd407-c390-4806-8bb9-1eed6d0e2e7f-31-5_00004.c000.snappy.parquet</td><td>part-00004-tid-1429916160167243299-ae8dd407-c390-4806-8bb9-1eed6d0e2e7f-31-5_00004.c000.snappy.parquet</td><td>87299</td></tr><tr><td>dbfs:/user/hive/warehouse/bucketedfiles/part-00004-tid-1429916160167243299-ae8dd407-c390-4806-8bb9-1eed6d0e2e7f-31-6_00005.c000.snappy.parquet</td><td>part-00004-tid-1429916160167243299-ae8dd407-c390-4806-8bb9-1eed6d0e2e7f-31-6_00005.c000.snappy.parquet</td><td>85073</td></tr><tr><td>dbfs:/user/hive/warehouse/bucketedfiles/part-00004-tid-1429916160167243299-ae8dd407-c390-4806-8bb9-1eed6d0e2e7f-31-7_00006.c000.snappy.parquet</td><td>part-00004-tid-1429916160167243299-ae8dd407-c390-4806-8bb9-1eed6d0e2e7f-31-7_00006.c000.snappy.parquet</td><td>85654</td></tr><tr><td>dbfs:/user/hive/warehouse/bucketedfiles/part-00004-tid-1429916160167243299-ae8dd407-c390-4806-8bb9-1eed6d0e2e7f-31-8_00007.c000.snappy.parquet</td><td>part-00004-tid-1429916160167243299-ae8dd407-c390-4806-8bb9-1eed6d0e2e7f-31-8_00007.c000.snappy.parquet</td><td>81005</td></tr><tr><td>dbfs:/user/hive/warehouse/bucketedfiles/part-00004-tid-1429916160167243299-ae8dd407-c390-4806-8bb9-1eed6d0e2e7f-31-9_00008.c000.snappy.parquet</td><td>part-00004-tid-1429916160167243299-ae8dd407-c390-4806-8bb9-1eed6d0e2e7f-31-9_00008.c000.snappy.parquet</td><td>90273</td></tr><tr><td>dbfs:/user/hive/warehouse/bucketedfiles/part-00005-tid-1429916160167243299-ae8dd407-c390-4806-8bb9-1eed6d0e2e7f-32-10_00009.c000.snappy.parquet</td><td>part-00005-tid-1429916160167243299-ae8dd407-c390-4806-8bb9-1eed6d0e2e7f-32-10_00009.c000.snappy.parquet</td><td>77355</td></tr><tr><td>dbfs:/user/hive/warehouse/bucketedfiles/part-00005-tid-1429916160167243299-ae8dd407-c390-4806-8bb9-1eed6d0e2e7f-32-1_00000.c000.snappy.parquet</td><td>part-00005-tid-1429916160167243299-ae8dd407-c390-4806-8bb9-1eed6d0e2e7f-32-1_00000.c000.snappy.parquet</td><td>81979</td></tr><tr><td>dbfs:/user/hive/warehouse/bucketedfiles/part-00005-tid-1429916160167243299-ae8dd407-c390-4806-8bb9-1eed6d0e2e7f-32-2_00001.c000.snappy.parquet</td><td>part-00005-tid-1429916160167243299-ae8dd407-c390-4806-8bb9-1eed6d0e2e7f-32-2_00001.c000.snappy.parquet</td><td>80641</td></tr><tr><td>dbfs:/user/hive/warehouse/bucketedfiles/part-00005-tid-1429916160167243299-ae8dd407-c390-4806-8bb9-1eed6d0e2e7f-32-3_00002.c000.snappy.parquet</td><td>part-00005-tid-1429916160167243299-ae8dd407-c390-4806-8bb9-1eed6d0e2e7f-32-3_00002.c000.snappy.parquet</td><td>81541</td></tr><tr><td>dbfs:/user/hive/warehouse/bucketedfiles/part-00005-tid-1429916160167243299-ae8dd407-c390-4806-8bb9-1eed6d0e2e7f-32-4_00003.c000.snappy.parquet</td><td>part-00005-tid-1429916160167243299-ae8dd407-c390-4806-8bb9-1eed6d0e2e7f-32-4_00003.c000.snappy.parquet</td><td>95708</td></tr><tr><td>dbfs:/user/hive/warehouse/bucketedfiles/part-00005-tid-1429916160167243299-ae8dd407-c390-4806-8bb9-1eed6d0e2e7f-32-5_00004.c000.snappy.parquet</td><td>part-00005-tid-1429916160167243299-ae8dd407-c390-4806-8bb9-1eed6d0e2e7f-32-5_00004.c000.snappy.parquet</td><td>91008</td></tr><tr><td>dbfs:/user/hive/warehouse/bucketedfiles/part-00005-tid-1429916160167243299-ae8dd407-c390-4806-8bb9-1eed6d0e2e7f-32-6_00005.c000.snappy.parquet</td><td>part-00005-tid-1429916160167243299-ae8dd407-c390-4806-8bb9-1eed6d0e2e7f-32-6_00005.c000.snappy.parquet</td><td>81946</td></tr><tr><td>dbfs:/user/hive/warehouse/bucketedfiles/part-00005-tid-1429916160167243299-ae8dd407-c390-4806-8bb9-1eed6d0e2e7f-32-7_00006.c000.snappy.parquet</td><td>part-00005-tid-1429916160167243299-ae8dd407-c390-4806-8bb9-1eed6d0e2e7f-32-7_00006.c000.snappy.parquet</td><td>87397</td></tr><tr><td>dbfs:/user/hive/warehouse/bucketedfiles/part-00005-tid-1429916160167243299-ae8dd407-c390-4806-8bb9-1eed6d0e2e7f-32-8_00007.c000.snappy.parquet</td><td>part-00005-tid-1429916160167243299-ae8dd407-c390-4806-8bb9-1eed6d0e2e7f-32-8_00007.c000.snappy.parquet</td><td>84939</td></tr><tr><td>dbfs:/user/hive/warehouse/bucketedfiles/part-00005-tid-1429916160167243299-ae8dd407-c390-4806-8bb9-1eed6d0e2e7f-32-9_00008.c000.snappy.parquet</td><td>part-00005-tid-1429916160167243299-ae8dd407-c390-4806-8bb9-1eed6d0e2e7f-32-9_00008.c000.snappy.parquet</td><td>80757</td></tr><tr><td>dbfs:/user/hive/warehouse/bucketedfiles/part-00006-tid-1429916160167243299-ae8dd407-c390-4806-8bb9-1eed6d0e2e7f-33-10_00009.c000.snappy.parquet</td><td>part-00006-tid-1429916160167243299-ae8dd407-c390-4806-8bb9-1eed6d0e2e7f-33-10_00009.c000.snappy.parquet</td><td>86184</td></tr><tr><td>dbfs:/user/hive/warehouse/bucketedfiles/part-00006-tid-1429916160167243299-ae8dd407-c390-4806-8bb9-1eed6d0e2e7f-33-1_00000.c000.snappy.parquet</td><td>part-00006-tid-1429916160167243299-ae8dd407-c390-4806-8bb9-1eed6d0e2e7f-33-1_00000.c000.snappy.parquet</td><td>89709</td></tr><tr><td>dbfs:/user/hive/warehouse/bucketedfiles/part-00006-tid-1429916160167243299-ae8dd407-c390-4806-8bb9-1eed6d0e2e7f-33-2_00001.c000.snappy.parquet</td><td>part-00006-tid-1429916160167243299-ae8dd407-c390-4806-8bb9-1eed6d0e2e7f-33-2_00001.c000.snappy.parquet</td><td>88274</td></tr><tr><td>dbfs:/user/hive/warehouse/bucketedfiles/part-00006-tid-1429916160167243299-ae8dd407-c390-4806-8bb9-1eed6d0e2e7f-33-3_00002.c000.snappy.parquet</td><td>part-00006-tid-1429916160167243299-ae8dd407-c390-4806-8bb9-1eed6d0e2e7f-33-3_00002.c000.snappy.parquet</td><td>76828</td></tr><tr><td>dbfs:/user/hive/warehouse/bucketedfiles/part-00006-tid-1429916160167243299-ae8dd407-c390-4806-8bb9-1eed6d0e2e7f-33-4_00003.c000.snappy.parquet</td><td>part-00006-tid-1429916160167243299-ae8dd407-c390-4806-8bb9-1eed6d0e2e7f-33-4_00003.c000.snappy.parquet</td><td>63636</td></tr><tr><td>dbfs:/user/hive/warehouse/bucketedfiles/part-00006-tid-1429916160167243299-ae8dd407-c390-4806-8bb9-1eed6d0e2e7f-33-5_00004.c000.snappy.parquet</td><td>part-00006-tid-1429916160167243299-ae8dd407-c390-4806-8bb9-1eed6d0e2e7f-33-5_00004.c000.snappy.parquet</td><td>91554</td></tr><tr><td>dbfs:/user/hive/warehouse/bucketedfiles/part-00006-tid-1429916160167243299-ae8dd407-c390-4806-8bb9-1eed6d0e2e7f-33-6_00005.c000.snappy.parquet</td><td>part-00006-tid-1429916160167243299-ae8dd407-c390-4806-8bb9-1eed6d0e2e7f-33-6_00005.c000.snappy.parquet</td><td>84641</td></tr><tr><td>dbfs:/user/hive/warehouse/bucketedfiles/part-00006-tid-1429916160167243299-ae8dd407-c390-4806-8bb9-1eed6d0e2e7f-33-7_00006.c000.snappy.parquet</td><td>part-00006-tid-1429916160167243299-ae8dd407-c390-4806-8bb9-1eed6d0e2e7f-33-7_00006.c000.snappy.parquet</td><td>79675</td></tr><tr><td>dbfs:/user/hive/warehouse/bucketedfiles/part-00006-tid-1429916160167243299-ae8dd407-c390-4806-8bb9-1eed6d0e2e7f-33-8_00007.c000.snappy.parquet</td><td>part-00006-tid-1429916160167243299-ae8dd407-c390-4806-8bb9-1eed6d0e2e7f-33-8_00007.c000.snappy.parquet</td><td>86432</td></tr><tr><td>dbfs:/user/hive/warehouse/bucketedfiles/part-00006-tid-1429916160167243299-ae8dd407-c390-4806-8bb9-1eed6d0e2e7f-33-9_00008.c000.snappy.parquet</td><td>part-00006-tid-1429916160167243299-ae8dd407-c390-4806-8bb9-1eed6d0e2e7f-33-9_00008.c000.snappy.parquet</td><td>79475</td></tr><tr><td>dbfs:/user/hive/warehouse/bucketedfiles/part-00007-tid-1429916160167243299-ae8dd407-c390-4806-8bb9-1eed6d0e2e7f-34-10_00009.c000.snappy.parquet</td><td>part-00007-tid-1429916160167243299-ae8dd407-c390-4806-8bb9-1eed6d0e2e7f-34-10_00009.c000.snappy.parquet</td><td>39512</td></tr><tr><td>dbfs:/user/hive/warehouse/bucketedfiles/part-00007-tid-1429916160167243299-ae8dd407-c390-4806-8bb9-1eed6d0e2e7f-34-1_00000.c000.snappy.parquet</td><td>part-00007-tid-1429916160167243299-ae8dd407-c390-4806-8bb9-1eed6d0e2e7f-34-1_00000.c000.snappy.parquet</td><td>51921</td></tr><tr><td>dbfs:/user/hive/warehouse/bucketedfiles/part-00007-tid-1429916160167243299-ae8dd407-c390-4806-8bb9-1eed6d0e2e7f-34-2_00001.c000.snappy.parquet</td><td>part-00007-tid-1429916160167243299-ae8dd407-c390-4806-8bb9-1eed6d0e2e7f-34-2_00001.c000.snappy.parquet</td><td>47941</td></tr><tr><td>dbfs:/user/hive/warehouse/bucketedfiles/part-00007-tid-1429916160167243299-ae8dd407-c390-4806-8bb9-1eed6d0e2e7f-34-3_00002.c000.snappy.parquet</td><td>part-00007-tid-1429916160167243299-ae8dd407-c390-4806-8bb9-1eed6d0e2e7f-34-3_00002.c000.snappy.parquet</td><td>33996</td></tr><tr><td>dbfs:/user/hive/warehouse/bucketedfiles/part-00007-tid-1429916160167243299-ae8dd407-c390-4806-8bb9-1eed6d0e2e7f-34-4_00003.c000.snappy.parquet</td><td>part-00007-tid-1429916160167243299-ae8dd407-c390-4806-8bb9-1eed6d0e2e7f-34-4_00003.c000.snappy.parquet</td><td>38650</td></tr><tr><td>dbfs:/user/hive/warehouse/bucketedfiles/part-00007-tid-1429916160167243299-ae8dd407-c390-4806-8bb9-1eed6d0e2e7f-34-5_00004.c000.snappy.parquet</td><td>part-00007-tid-1429916160167243299-ae8dd407-c390-4806-8bb9-1eed6d0e2e7f-34-5_00004.c000.snappy.parquet</td><td>49519</td></tr><tr><td>dbfs:/user/hive/warehouse/bucketedfiles/part-00007-tid-1429916160167243299-ae8dd407-c390-4806-8bb9-1eed6d0e2e7f-34-6_00005.c000.snappy.parquet</td><td>part-00007-tid-1429916160167243299-ae8dd407-c390-4806-8bb9-1eed6d0e2e7f-34-6_00005.c000.snappy.parquet</td><td>33252</td></tr><tr><td>dbfs:/user/hive/warehouse/bucketedfiles/part-00007-tid-1429916160167243299-ae8dd407-c390-4806-8bb9-1eed6d0e2e7f-34-7_00006.c000.snappy.parquet</td><td>part-00007-tid-1429916160167243299-ae8dd407-c390-4806-8bb9-1eed6d0e2e7f-34-7_00006.c000.snappy.parquet</td><td>36333</td></tr><tr><td>dbfs:/user/hive/warehouse/bucketedfiles/part-00007-tid-1429916160167243299-ae8dd407-c390-4806-8bb9-1eed6d0e2e7f-34-8_00007.c000.snappy.parquet</td><td>part-00007-tid-1429916160167243299-ae8dd407-c390-4806-8bb9-1eed6d0e2e7f-34-8_00007.c000.snappy.parquet</td><td>28534</td></tr><tr><td>dbfs:/user/hive/warehouse/bucketedfiles/part-00007-tid-1429916160167243299-ae8dd407-c390-4806-8bb9-1eed6d0e2e7f-34-9_00008.c000.snappy.parquet</td><td>part-00007-tid-1429916160167243299-ae8dd407-c390-4806-8bb9-1eed6d0e2e7f-34-9_00008.c000.snappy.parquet</td><td>42641</td></tr></tbody></table></div>"
      ]
     },
     "metadata": {
      "application/vnd.databricks.v1+output": {
       "addedWidgets": {},
       "aggData": [],
       "aggError": "",
       "aggOverflow": false,
       "aggSchema": [],
       "aggSeriesLimitReached": false,
       "aggType": "",
       "arguments": {},
       "columnCustomDisplayInfos": {},
       "data": [
        [
         "dbfs:/user/hive/warehouse/bucketedfiles/_SUCCESS",
         "_SUCCESS",
         0
        ],
        [
         "dbfs:/user/hive/warehouse/bucketedfiles/_committed_1429916160167243299",
         "_committed_1429916160167243299",
         8432
        ],
        [
         "dbfs:/user/hive/warehouse/bucketedfiles/_started_1429916160167243299",
         "_started_1429916160167243299",
         0
        ],
        [
         "dbfs:/user/hive/warehouse/bucketedfiles/part-00000-tid-1429916160167243299-ae8dd407-c390-4806-8bb9-1eed6d0e2e7f-27-10_00009.c000.snappy.parquet",
         "part-00000-tid-1429916160167243299-ae8dd407-c390-4806-8bb9-1eed6d0e2e7f-27-10_00009.c000.snappy.parquet",
         90262
        ],
        [
         "dbfs:/user/hive/warehouse/bucketedfiles/part-00000-tid-1429916160167243299-ae8dd407-c390-4806-8bb9-1eed6d0e2e7f-27-1_00000.c000.snappy.parquet",
         "part-00000-tid-1429916160167243299-ae8dd407-c390-4806-8bb9-1eed6d0e2e7f-27-1_00000.c000.snappy.parquet",
         87741
        ],
        [
         "dbfs:/user/hive/warehouse/bucketedfiles/part-00000-tid-1429916160167243299-ae8dd407-c390-4806-8bb9-1eed6d0e2e7f-27-2_00001.c000.snappy.parquet",
         "part-00000-tid-1429916160167243299-ae8dd407-c390-4806-8bb9-1eed6d0e2e7f-27-2_00001.c000.snappy.parquet",
         74086
        ],
        [
         "dbfs:/user/hive/warehouse/bucketedfiles/part-00000-tid-1429916160167243299-ae8dd407-c390-4806-8bb9-1eed6d0e2e7f-27-3_00002.c000.snappy.parquet",
         "part-00000-tid-1429916160167243299-ae8dd407-c390-4806-8bb9-1eed6d0e2e7f-27-3_00002.c000.snappy.parquet",
         84847
        ],
        [
         "dbfs:/user/hive/warehouse/bucketedfiles/part-00000-tid-1429916160167243299-ae8dd407-c390-4806-8bb9-1eed6d0e2e7f-27-4_00003.c000.snappy.parquet",
         "part-00000-tid-1429916160167243299-ae8dd407-c390-4806-8bb9-1eed6d0e2e7f-27-4_00003.c000.snappy.parquet",
         92241
        ],
        [
         "dbfs:/user/hive/warehouse/bucketedfiles/part-00000-tid-1429916160167243299-ae8dd407-c390-4806-8bb9-1eed6d0e2e7f-27-5_00004.c000.snappy.parquet",
         "part-00000-tid-1429916160167243299-ae8dd407-c390-4806-8bb9-1eed6d0e2e7f-27-5_00004.c000.snappy.parquet",
         89909
        ],
        [
         "dbfs:/user/hive/warehouse/bucketedfiles/part-00000-tid-1429916160167243299-ae8dd407-c390-4806-8bb9-1eed6d0e2e7f-27-6_00005.c000.snappy.parquet",
         "part-00000-tid-1429916160167243299-ae8dd407-c390-4806-8bb9-1eed6d0e2e7f-27-6_00005.c000.snappy.parquet",
         84077
        ],
        [
         "dbfs:/user/hive/warehouse/bucketedfiles/part-00000-tid-1429916160167243299-ae8dd407-c390-4806-8bb9-1eed6d0e2e7f-27-7_00006.c000.snappy.parquet",
         "part-00000-tid-1429916160167243299-ae8dd407-c390-4806-8bb9-1eed6d0e2e7f-27-7_00006.c000.snappy.parquet",
         87207
        ],
        [
         "dbfs:/user/hive/warehouse/bucketedfiles/part-00000-tid-1429916160167243299-ae8dd407-c390-4806-8bb9-1eed6d0e2e7f-27-8_00007.c000.snappy.parquet",
         "part-00000-tid-1429916160167243299-ae8dd407-c390-4806-8bb9-1eed6d0e2e7f-27-8_00007.c000.snappy.parquet",
         92634
        ],
        [
         "dbfs:/user/hive/warehouse/bucketedfiles/part-00000-tid-1429916160167243299-ae8dd407-c390-4806-8bb9-1eed6d0e2e7f-27-9_00008.c000.snappy.parquet",
         "part-00000-tid-1429916160167243299-ae8dd407-c390-4806-8bb9-1eed6d0e2e7f-27-9_00008.c000.snappy.parquet",
         82842
        ],
        [
         "dbfs:/user/hive/warehouse/bucketedfiles/part-00001-tid-1429916160167243299-ae8dd407-c390-4806-8bb9-1eed6d0e2e7f-28-10_00009.c000.snappy.parquet",
         "part-00001-tid-1429916160167243299-ae8dd407-c390-4806-8bb9-1eed6d0e2e7f-28-10_00009.c000.snappy.parquet",
         85100
        ],
        [
         "dbfs:/user/hive/warehouse/bucketedfiles/part-00001-tid-1429916160167243299-ae8dd407-c390-4806-8bb9-1eed6d0e2e7f-28-1_00000.c000.snappy.parquet",
         "part-00001-tid-1429916160167243299-ae8dd407-c390-4806-8bb9-1eed6d0e2e7f-28-1_00000.c000.snappy.parquet",
         81427
        ],
        [
         "dbfs:/user/hive/warehouse/bucketedfiles/part-00001-tid-1429916160167243299-ae8dd407-c390-4806-8bb9-1eed6d0e2e7f-28-2_00001.c000.snappy.parquet",
         "part-00001-tid-1429916160167243299-ae8dd407-c390-4806-8bb9-1eed6d0e2e7f-28-2_00001.c000.snappy.parquet",
         91127
        ],
        [
         "dbfs:/user/hive/warehouse/bucketedfiles/part-00001-tid-1429916160167243299-ae8dd407-c390-4806-8bb9-1eed6d0e2e7f-28-3_00002.c000.snappy.parquet",
         "part-00001-tid-1429916160167243299-ae8dd407-c390-4806-8bb9-1eed6d0e2e7f-28-3_00002.c000.snappy.parquet",
         86022
        ],
        [
         "dbfs:/user/hive/warehouse/bucketedfiles/part-00001-tid-1429916160167243299-ae8dd407-c390-4806-8bb9-1eed6d0e2e7f-28-4_00003.c000.snappy.parquet",
         "part-00001-tid-1429916160167243299-ae8dd407-c390-4806-8bb9-1eed6d0e2e7f-28-4_00003.c000.snappy.parquet",
         79613
        ],
        [
         "dbfs:/user/hive/warehouse/bucketedfiles/part-00001-tid-1429916160167243299-ae8dd407-c390-4806-8bb9-1eed6d0e2e7f-28-5_00004.c000.snappy.parquet",
         "part-00001-tid-1429916160167243299-ae8dd407-c390-4806-8bb9-1eed6d0e2e7f-28-5_00004.c000.snappy.parquet",
         81113
        ],
        [
         "dbfs:/user/hive/warehouse/bucketedfiles/part-00001-tid-1429916160167243299-ae8dd407-c390-4806-8bb9-1eed6d0e2e7f-28-6_00005.c000.snappy.parquet",
         "part-00001-tid-1429916160167243299-ae8dd407-c390-4806-8bb9-1eed6d0e2e7f-28-6_00005.c000.snappy.parquet",
         90673
        ],
        [
         "dbfs:/user/hive/warehouse/bucketedfiles/part-00001-tid-1429916160167243299-ae8dd407-c390-4806-8bb9-1eed6d0e2e7f-28-7_00006.c000.snappy.parquet",
         "part-00001-tid-1429916160167243299-ae8dd407-c390-4806-8bb9-1eed6d0e2e7f-28-7_00006.c000.snappy.parquet",
         80229
        ],
        [
         "dbfs:/user/hive/warehouse/bucketedfiles/part-00001-tid-1429916160167243299-ae8dd407-c390-4806-8bb9-1eed6d0e2e7f-28-8_00007.c000.snappy.parquet",
         "part-00001-tid-1429916160167243299-ae8dd407-c390-4806-8bb9-1eed6d0e2e7f-28-8_00007.c000.snappy.parquet",
         83282
        ],
        [
         "dbfs:/user/hive/warehouse/bucketedfiles/part-00001-tid-1429916160167243299-ae8dd407-c390-4806-8bb9-1eed6d0e2e7f-28-9_00008.c000.snappy.parquet",
         "part-00001-tid-1429916160167243299-ae8dd407-c390-4806-8bb9-1eed6d0e2e7f-28-9_00008.c000.snappy.parquet",
         93196
        ],
        [
         "dbfs:/user/hive/warehouse/bucketedfiles/part-00002-tid-1429916160167243299-ae8dd407-c390-4806-8bb9-1eed6d0e2e7f-29-10_00009.c000.snappy.parquet",
         "part-00002-tid-1429916160167243299-ae8dd407-c390-4806-8bb9-1eed6d0e2e7f-29-10_00009.c000.snappy.parquet",
         93511
        ],
        [
         "dbfs:/user/hive/warehouse/bucketedfiles/part-00002-tid-1429916160167243299-ae8dd407-c390-4806-8bb9-1eed6d0e2e7f-29-1_00000.c000.snappy.parquet",
         "part-00002-tid-1429916160167243299-ae8dd407-c390-4806-8bb9-1eed6d0e2e7f-29-1_00000.c000.snappy.parquet",
         94358
        ],
        [
         "dbfs:/user/hive/warehouse/bucketedfiles/part-00002-tid-1429916160167243299-ae8dd407-c390-4806-8bb9-1eed6d0e2e7f-29-2_00001.c000.snappy.parquet",
         "part-00002-tid-1429916160167243299-ae8dd407-c390-4806-8bb9-1eed6d0e2e7f-29-2_00001.c000.snappy.parquet",
         84961
        ],
        [
         "dbfs:/user/hive/warehouse/bucketedfiles/part-00002-tid-1429916160167243299-ae8dd407-c390-4806-8bb9-1eed6d0e2e7f-29-3_00002.c000.snappy.parquet",
         "part-00002-tid-1429916160167243299-ae8dd407-c390-4806-8bb9-1eed6d0e2e7f-29-3_00002.c000.snappy.parquet",
         80911
        ],
        [
         "dbfs:/user/hive/warehouse/bucketedfiles/part-00002-tid-1429916160167243299-ae8dd407-c390-4806-8bb9-1eed6d0e2e7f-29-4_00003.c000.snappy.parquet",
         "part-00002-tid-1429916160167243299-ae8dd407-c390-4806-8bb9-1eed6d0e2e7f-29-4_00003.c000.snappy.parquet",
         91751
        ],
        [
         "dbfs:/user/hive/warehouse/bucketedfiles/part-00002-tid-1429916160167243299-ae8dd407-c390-4806-8bb9-1eed6d0e2e7f-29-5_00004.c000.snappy.parquet",
         "part-00002-tid-1429916160167243299-ae8dd407-c390-4806-8bb9-1eed6d0e2e7f-29-5_00004.c000.snappy.parquet",
         78403
        ],
        [
         "dbfs:/user/hive/warehouse/bucketedfiles/part-00002-tid-1429916160167243299-ae8dd407-c390-4806-8bb9-1eed6d0e2e7f-29-6_00005.c000.snappy.parquet",
         "part-00002-tid-1429916160167243299-ae8dd407-c390-4806-8bb9-1eed6d0e2e7f-29-6_00005.c000.snappy.parquet",
         82548
        ],
        [
         "dbfs:/user/hive/warehouse/bucketedfiles/part-00002-tid-1429916160167243299-ae8dd407-c390-4806-8bb9-1eed6d0e2e7f-29-7_00006.c000.snappy.parquet",
         "part-00002-tid-1429916160167243299-ae8dd407-c390-4806-8bb9-1eed6d0e2e7f-29-7_00006.c000.snappy.parquet",
         82517
        ],
        [
         "dbfs:/user/hive/warehouse/bucketedfiles/part-00002-tid-1429916160167243299-ae8dd407-c390-4806-8bb9-1eed6d0e2e7f-29-8_00007.c000.snappy.parquet",
         "part-00002-tid-1429916160167243299-ae8dd407-c390-4806-8bb9-1eed6d0e2e7f-29-8_00007.c000.snappy.parquet",
         82756
        ],
        [
         "dbfs:/user/hive/warehouse/bucketedfiles/part-00002-tid-1429916160167243299-ae8dd407-c390-4806-8bb9-1eed6d0e2e7f-29-9_00008.c000.snappy.parquet",
         "part-00002-tid-1429916160167243299-ae8dd407-c390-4806-8bb9-1eed6d0e2e7f-29-9_00008.c000.snappy.parquet",
         89442
        ],
        [
         "dbfs:/user/hive/warehouse/bucketedfiles/part-00003-tid-1429916160167243299-ae8dd407-c390-4806-8bb9-1eed6d0e2e7f-30-10_00009.c000.snappy.parquet",
         "part-00003-tid-1429916160167243299-ae8dd407-c390-4806-8bb9-1eed6d0e2e7f-30-10_00009.c000.snappy.parquet",
         93217
        ],
        [
         "dbfs:/user/hive/warehouse/bucketedfiles/part-00003-tid-1429916160167243299-ae8dd407-c390-4806-8bb9-1eed6d0e2e7f-30-1_00000.c000.snappy.parquet",
         "part-00003-tid-1429916160167243299-ae8dd407-c390-4806-8bb9-1eed6d0e2e7f-30-1_00000.c000.snappy.parquet",
         83924
        ],
        [
         "dbfs:/user/hive/warehouse/bucketedfiles/part-00003-tid-1429916160167243299-ae8dd407-c390-4806-8bb9-1eed6d0e2e7f-30-2_00001.c000.snappy.parquet",
         "part-00003-tid-1429916160167243299-ae8dd407-c390-4806-8bb9-1eed6d0e2e7f-30-2_00001.c000.snappy.parquet",
         94888
        ],
        [
         "dbfs:/user/hive/warehouse/bucketedfiles/part-00003-tid-1429916160167243299-ae8dd407-c390-4806-8bb9-1eed6d0e2e7f-30-3_00002.c000.snappy.parquet",
         "part-00003-tid-1429916160167243299-ae8dd407-c390-4806-8bb9-1eed6d0e2e7f-30-3_00002.c000.snappy.parquet",
         81224
        ],
        [
         "dbfs:/user/hive/warehouse/bucketedfiles/part-00003-tid-1429916160167243299-ae8dd407-c390-4806-8bb9-1eed6d0e2e7f-30-4_00003.c000.snappy.parquet",
         "part-00003-tid-1429916160167243299-ae8dd407-c390-4806-8bb9-1eed6d0e2e7f-30-4_00003.c000.snappy.parquet",
         81094
        ],
        [
         "dbfs:/user/hive/warehouse/bucketedfiles/part-00003-tid-1429916160167243299-ae8dd407-c390-4806-8bb9-1eed6d0e2e7f-30-5_00004.c000.snappy.parquet",
         "part-00003-tid-1429916160167243299-ae8dd407-c390-4806-8bb9-1eed6d0e2e7f-30-5_00004.c000.snappy.parquet",
         81804
        ],
        [
         "dbfs:/user/hive/warehouse/bucketedfiles/part-00003-tid-1429916160167243299-ae8dd407-c390-4806-8bb9-1eed6d0e2e7f-30-6_00005.c000.snappy.parquet",
         "part-00003-tid-1429916160167243299-ae8dd407-c390-4806-8bb9-1eed6d0e2e7f-30-6_00005.c000.snappy.parquet",
         88050
        ],
        [
         "dbfs:/user/hive/warehouse/bucketedfiles/part-00003-tid-1429916160167243299-ae8dd407-c390-4806-8bb9-1eed6d0e2e7f-30-7_00006.c000.snappy.parquet",
         "part-00003-tid-1429916160167243299-ae8dd407-c390-4806-8bb9-1eed6d0e2e7f-30-7_00006.c000.snappy.parquet",
         86349
        ],
        [
         "dbfs:/user/hive/warehouse/bucketedfiles/part-00003-tid-1429916160167243299-ae8dd407-c390-4806-8bb9-1eed6d0e2e7f-30-8_00007.c000.snappy.parquet",
         "part-00003-tid-1429916160167243299-ae8dd407-c390-4806-8bb9-1eed6d0e2e7f-30-8_00007.c000.snappy.parquet",
         88488
        ],
        [
         "dbfs:/user/hive/warehouse/bucketedfiles/part-00003-tid-1429916160167243299-ae8dd407-c390-4806-8bb9-1eed6d0e2e7f-30-9_00008.c000.snappy.parquet",
         "part-00003-tid-1429916160167243299-ae8dd407-c390-4806-8bb9-1eed6d0e2e7f-30-9_00008.c000.snappy.parquet",
         87608
        ],
        [
         "dbfs:/user/hive/warehouse/bucketedfiles/part-00004-tid-1429916160167243299-ae8dd407-c390-4806-8bb9-1eed6d0e2e7f-31-10_00009.c000.snappy.parquet",
         "part-00004-tid-1429916160167243299-ae8dd407-c390-4806-8bb9-1eed6d0e2e7f-31-10_00009.c000.snappy.parquet",
         87329
        ],
        [
         "dbfs:/user/hive/warehouse/bucketedfiles/part-00004-tid-1429916160167243299-ae8dd407-c390-4806-8bb9-1eed6d0e2e7f-31-1_00000.c000.snappy.parquet",
         "part-00004-tid-1429916160167243299-ae8dd407-c390-4806-8bb9-1eed6d0e2e7f-31-1_00000.c000.snappy.parquet",
         88483
        ],
        [
         "dbfs:/user/hive/warehouse/bucketedfiles/part-00004-tid-1429916160167243299-ae8dd407-c390-4806-8bb9-1eed6d0e2e7f-31-2_00001.c000.snappy.parquet",
         "part-00004-tid-1429916160167243299-ae8dd407-c390-4806-8bb9-1eed6d0e2e7f-31-2_00001.c000.snappy.parquet",
         81433
        ],
        [
         "dbfs:/user/hive/warehouse/bucketedfiles/part-00004-tid-1429916160167243299-ae8dd407-c390-4806-8bb9-1eed6d0e2e7f-31-3_00002.c000.snappy.parquet",
         "part-00004-tid-1429916160167243299-ae8dd407-c390-4806-8bb9-1eed6d0e2e7f-31-3_00002.c000.snappy.parquet",
         80855
        ],
        [
         "dbfs:/user/hive/warehouse/bucketedfiles/part-00004-tid-1429916160167243299-ae8dd407-c390-4806-8bb9-1eed6d0e2e7f-31-4_00003.c000.snappy.parquet",
         "part-00004-tid-1429916160167243299-ae8dd407-c390-4806-8bb9-1eed6d0e2e7f-31-4_00003.c000.snappy.parquet",
         86472
        ],
        [
         "dbfs:/user/hive/warehouse/bucketedfiles/part-00004-tid-1429916160167243299-ae8dd407-c390-4806-8bb9-1eed6d0e2e7f-31-5_00004.c000.snappy.parquet",
         "part-00004-tid-1429916160167243299-ae8dd407-c390-4806-8bb9-1eed6d0e2e7f-31-5_00004.c000.snappy.parquet",
         87299
        ],
        [
         "dbfs:/user/hive/warehouse/bucketedfiles/part-00004-tid-1429916160167243299-ae8dd407-c390-4806-8bb9-1eed6d0e2e7f-31-6_00005.c000.snappy.parquet",
         "part-00004-tid-1429916160167243299-ae8dd407-c390-4806-8bb9-1eed6d0e2e7f-31-6_00005.c000.snappy.parquet",
         85073
        ],
        [
         "dbfs:/user/hive/warehouse/bucketedfiles/part-00004-tid-1429916160167243299-ae8dd407-c390-4806-8bb9-1eed6d0e2e7f-31-7_00006.c000.snappy.parquet",
         "part-00004-tid-1429916160167243299-ae8dd407-c390-4806-8bb9-1eed6d0e2e7f-31-7_00006.c000.snappy.parquet",
         85654
        ],
        [
         "dbfs:/user/hive/warehouse/bucketedfiles/part-00004-tid-1429916160167243299-ae8dd407-c390-4806-8bb9-1eed6d0e2e7f-31-8_00007.c000.snappy.parquet",
         "part-00004-tid-1429916160167243299-ae8dd407-c390-4806-8bb9-1eed6d0e2e7f-31-8_00007.c000.snappy.parquet",
         81005
        ],
        [
         "dbfs:/user/hive/warehouse/bucketedfiles/part-00004-tid-1429916160167243299-ae8dd407-c390-4806-8bb9-1eed6d0e2e7f-31-9_00008.c000.snappy.parquet",
         "part-00004-tid-1429916160167243299-ae8dd407-c390-4806-8bb9-1eed6d0e2e7f-31-9_00008.c000.snappy.parquet",
         90273
        ],
        [
         "dbfs:/user/hive/warehouse/bucketedfiles/part-00005-tid-1429916160167243299-ae8dd407-c390-4806-8bb9-1eed6d0e2e7f-32-10_00009.c000.snappy.parquet",
         "part-00005-tid-1429916160167243299-ae8dd407-c390-4806-8bb9-1eed6d0e2e7f-32-10_00009.c000.snappy.parquet",
         77355
        ],
        [
         "dbfs:/user/hive/warehouse/bucketedfiles/part-00005-tid-1429916160167243299-ae8dd407-c390-4806-8bb9-1eed6d0e2e7f-32-1_00000.c000.snappy.parquet",
         "part-00005-tid-1429916160167243299-ae8dd407-c390-4806-8bb9-1eed6d0e2e7f-32-1_00000.c000.snappy.parquet",
         81979
        ],
        [
         "dbfs:/user/hive/warehouse/bucketedfiles/part-00005-tid-1429916160167243299-ae8dd407-c390-4806-8bb9-1eed6d0e2e7f-32-2_00001.c000.snappy.parquet",
         "part-00005-tid-1429916160167243299-ae8dd407-c390-4806-8bb9-1eed6d0e2e7f-32-2_00001.c000.snappy.parquet",
         80641
        ],
        [
         "dbfs:/user/hive/warehouse/bucketedfiles/part-00005-tid-1429916160167243299-ae8dd407-c390-4806-8bb9-1eed6d0e2e7f-32-3_00002.c000.snappy.parquet",
         "part-00005-tid-1429916160167243299-ae8dd407-c390-4806-8bb9-1eed6d0e2e7f-32-3_00002.c000.snappy.parquet",
         81541
        ],
        [
         "dbfs:/user/hive/warehouse/bucketedfiles/part-00005-tid-1429916160167243299-ae8dd407-c390-4806-8bb9-1eed6d0e2e7f-32-4_00003.c000.snappy.parquet",
         "part-00005-tid-1429916160167243299-ae8dd407-c390-4806-8bb9-1eed6d0e2e7f-32-4_00003.c000.snappy.parquet",
         95708
        ],
        [
         "dbfs:/user/hive/warehouse/bucketedfiles/part-00005-tid-1429916160167243299-ae8dd407-c390-4806-8bb9-1eed6d0e2e7f-32-5_00004.c000.snappy.parquet",
         "part-00005-tid-1429916160167243299-ae8dd407-c390-4806-8bb9-1eed6d0e2e7f-32-5_00004.c000.snappy.parquet",
         91008
        ],
        [
         "dbfs:/user/hive/warehouse/bucketedfiles/part-00005-tid-1429916160167243299-ae8dd407-c390-4806-8bb9-1eed6d0e2e7f-32-6_00005.c000.snappy.parquet",
         "part-00005-tid-1429916160167243299-ae8dd407-c390-4806-8bb9-1eed6d0e2e7f-32-6_00005.c000.snappy.parquet",
         81946
        ],
        [
         "dbfs:/user/hive/warehouse/bucketedfiles/part-00005-tid-1429916160167243299-ae8dd407-c390-4806-8bb9-1eed6d0e2e7f-32-7_00006.c000.snappy.parquet",
         "part-00005-tid-1429916160167243299-ae8dd407-c390-4806-8bb9-1eed6d0e2e7f-32-7_00006.c000.snappy.parquet",
         87397
        ],
        [
         "dbfs:/user/hive/warehouse/bucketedfiles/part-00005-tid-1429916160167243299-ae8dd407-c390-4806-8bb9-1eed6d0e2e7f-32-8_00007.c000.snappy.parquet",
         "part-00005-tid-1429916160167243299-ae8dd407-c390-4806-8bb9-1eed6d0e2e7f-32-8_00007.c000.snappy.parquet",
         84939
        ],
        [
         "dbfs:/user/hive/warehouse/bucketedfiles/part-00005-tid-1429916160167243299-ae8dd407-c390-4806-8bb9-1eed6d0e2e7f-32-9_00008.c000.snappy.parquet",
         "part-00005-tid-1429916160167243299-ae8dd407-c390-4806-8bb9-1eed6d0e2e7f-32-9_00008.c000.snappy.parquet",
         80757
        ],
        [
         "dbfs:/user/hive/warehouse/bucketedfiles/part-00006-tid-1429916160167243299-ae8dd407-c390-4806-8bb9-1eed6d0e2e7f-33-10_00009.c000.snappy.parquet",
         "part-00006-tid-1429916160167243299-ae8dd407-c390-4806-8bb9-1eed6d0e2e7f-33-10_00009.c000.snappy.parquet",
         86184
        ],
        [
         "dbfs:/user/hive/warehouse/bucketedfiles/part-00006-tid-1429916160167243299-ae8dd407-c390-4806-8bb9-1eed6d0e2e7f-33-1_00000.c000.snappy.parquet",
         "part-00006-tid-1429916160167243299-ae8dd407-c390-4806-8bb9-1eed6d0e2e7f-33-1_00000.c000.snappy.parquet",
         89709
        ],
        [
         "dbfs:/user/hive/warehouse/bucketedfiles/part-00006-tid-1429916160167243299-ae8dd407-c390-4806-8bb9-1eed6d0e2e7f-33-2_00001.c000.snappy.parquet",
         "part-00006-tid-1429916160167243299-ae8dd407-c390-4806-8bb9-1eed6d0e2e7f-33-2_00001.c000.snappy.parquet",
         88274
        ],
        [
         "dbfs:/user/hive/warehouse/bucketedfiles/part-00006-tid-1429916160167243299-ae8dd407-c390-4806-8bb9-1eed6d0e2e7f-33-3_00002.c000.snappy.parquet",
         "part-00006-tid-1429916160167243299-ae8dd407-c390-4806-8bb9-1eed6d0e2e7f-33-3_00002.c000.snappy.parquet",
         76828
        ],
        [
         "dbfs:/user/hive/warehouse/bucketedfiles/part-00006-tid-1429916160167243299-ae8dd407-c390-4806-8bb9-1eed6d0e2e7f-33-4_00003.c000.snappy.parquet",
         "part-00006-tid-1429916160167243299-ae8dd407-c390-4806-8bb9-1eed6d0e2e7f-33-4_00003.c000.snappy.parquet",
         63636
        ],
        [
         "dbfs:/user/hive/warehouse/bucketedfiles/part-00006-tid-1429916160167243299-ae8dd407-c390-4806-8bb9-1eed6d0e2e7f-33-5_00004.c000.snappy.parquet",
         "part-00006-tid-1429916160167243299-ae8dd407-c390-4806-8bb9-1eed6d0e2e7f-33-5_00004.c000.snappy.parquet",
         91554
        ],
        [
         "dbfs:/user/hive/warehouse/bucketedfiles/part-00006-tid-1429916160167243299-ae8dd407-c390-4806-8bb9-1eed6d0e2e7f-33-6_00005.c000.snappy.parquet",
         "part-00006-tid-1429916160167243299-ae8dd407-c390-4806-8bb9-1eed6d0e2e7f-33-6_00005.c000.snappy.parquet",
         84641
        ],
        [
         "dbfs:/user/hive/warehouse/bucketedfiles/part-00006-tid-1429916160167243299-ae8dd407-c390-4806-8bb9-1eed6d0e2e7f-33-7_00006.c000.snappy.parquet",
         "part-00006-tid-1429916160167243299-ae8dd407-c390-4806-8bb9-1eed6d0e2e7f-33-7_00006.c000.snappy.parquet",
         79675
        ],
        [
         "dbfs:/user/hive/warehouse/bucketedfiles/part-00006-tid-1429916160167243299-ae8dd407-c390-4806-8bb9-1eed6d0e2e7f-33-8_00007.c000.snappy.parquet",
         "part-00006-tid-1429916160167243299-ae8dd407-c390-4806-8bb9-1eed6d0e2e7f-33-8_00007.c000.snappy.parquet",
         86432
        ],
        [
         "dbfs:/user/hive/warehouse/bucketedfiles/part-00006-tid-1429916160167243299-ae8dd407-c390-4806-8bb9-1eed6d0e2e7f-33-9_00008.c000.snappy.parquet",
         "part-00006-tid-1429916160167243299-ae8dd407-c390-4806-8bb9-1eed6d0e2e7f-33-9_00008.c000.snappy.parquet",
         79475
        ],
        [
         "dbfs:/user/hive/warehouse/bucketedfiles/part-00007-tid-1429916160167243299-ae8dd407-c390-4806-8bb9-1eed6d0e2e7f-34-10_00009.c000.snappy.parquet",
         "part-00007-tid-1429916160167243299-ae8dd407-c390-4806-8bb9-1eed6d0e2e7f-34-10_00009.c000.snappy.parquet",
         39512
        ],
        [
         "dbfs:/user/hive/warehouse/bucketedfiles/part-00007-tid-1429916160167243299-ae8dd407-c390-4806-8bb9-1eed6d0e2e7f-34-1_00000.c000.snappy.parquet",
         "part-00007-tid-1429916160167243299-ae8dd407-c390-4806-8bb9-1eed6d0e2e7f-34-1_00000.c000.snappy.parquet",
         51921
        ],
        [
         "dbfs:/user/hive/warehouse/bucketedfiles/part-00007-tid-1429916160167243299-ae8dd407-c390-4806-8bb9-1eed6d0e2e7f-34-2_00001.c000.snappy.parquet",
         "part-00007-tid-1429916160167243299-ae8dd407-c390-4806-8bb9-1eed6d0e2e7f-34-2_00001.c000.snappy.parquet",
         47941
        ],
        [
         "dbfs:/user/hive/warehouse/bucketedfiles/part-00007-tid-1429916160167243299-ae8dd407-c390-4806-8bb9-1eed6d0e2e7f-34-3_00002.c000.snappy.parquet",
         "part-00007-tid-1429916160167243299-ae8dd407-c390-4806-8bb9-1eed6d0e2e7f-34-3_00002.c000.snappy.parquet",
         33996
        ],
        [
         "dbfs:/user/hive/warehouse/bucketedfiles/part-00007-tid-1429916160167243299-ae8dd407-c390-4806-8bb9-1eed6d0e2e7f-34-4_00003.c000.snappy.parquet",
         "part-00007-tid-1429916160167243299-ae8dd407-c390-4806-8bb9-1eed6d0e2e7f-34-4_00003.c000.snappy.parquet",
         38650
        ],
        [
         "dbfs:/user/hive/warehouse/bucketedfiles/part-00007-tid-1429916160167243299-ae8dd407-c390-4806-8bb9-1eed6d0e2e7f-34-5_00004.c000.snappy.parquet",
         "part-00007-tid-1429916160167243299-ae8dd407-c390-4806-8bb9-1eed6d0e2e7f-34-5_00004.c000.snappy.parquet",
         49519
        ],
        [
         "dbfs:/user/hive/warehouse/bucketedfiles/part-00007-tid-1429916160167243299-ae8dd407-c390-4806-8bb9-1eed6d0e2e7f-34-6_00005.c000.snappy.parquet",
         "part-00007-tid-1429916160167243299-ae8dd407-c390-4806-8bb9-1eed6d0e2e7f-34-6_00005.c000.snappy.parquet",
         33252
        ],
        [
         "dbfs:/user/hive/warehouse/bucketedfiles/part-00007-tid-1429916160167243299-ae8dd407-c390-4806-8bb9-1eed6d0e2e7f-34-7_00006.c000.snappy.parquet",
         "part-00007-tid-1429916160167243299-ae8dd407-c390-4806-8bb9-1eed6d0e2e7f-34-7_00006.c000.snappy.parquet",
         36333
        ],
        [
         "dbfs:/user/hive/warehouse/bucketedfiles/part-00007-tid-1429916160167243299-ae8dd407-c390-4806-8bb9-1eed6d0e2e7f-34-8_00007.c000.snappy.parquet",
         "part-00007-tid-1429916160167243299-ae8dd407-c390-4806-8bb9-1eed6d0e2e7f-34-8_00007.c000.snappy.parquet",
         28534
        ],
        [
         "dbfs:/user/hive/warehouse/bucketedfiles/part-00007-tid-1429916160167243299-ae8dd407-c390-4806-8bb9-1eed6d0e2e7f-34-9_00008.c000.snappy.parquet",
         "part-00007-tid-1429916160167243299-ae8dd407-c390-4806-8bb9-1eed6d0e2e7f-34-9_00008.c000.snappy.parquet",
         42641
        ]
       ],
       "datasetInfos": [],
       "dbfsResultPath": null,
       "isJsonSchema": true,
       "metadata": {},
       "overflow": false,
       "plotOptions": {
        "customPlotOptions": {},
        "displayType": "table",
        "pivotAggregation": null,
        "pivotColumns": null,
        "xColumns": null,
        "yColumns": null
       },
       "removedWidgets": [],
       "schema": [
        {
         "metadata": "{}",
         "name": "path",
         "type": "\"string\""
        },
        {
         "metadata": "{}",
         "name": "name",
         "type": "\"string\""
        },
        {
         "metadata": "{}",
         "name": "size",
         "type": "\"long\""
        }
       ],
       "type": "table"
      }
     },
     "output_type": "display_data"
    }
   ],
   "source": [
    "%fs ls /user/hive/warehouse/bucketedfiles/"
   ]
  },
  {
   "cell_type": "markdown",
   "metadata": {
    "application/vnd.databricks.v1+cell": {
     "inputWidgets": {},
     "nuid": "66286f1f-cf73-4142-a981-3c844bb2aaec",
     "showTitle": false,
     "title": ""
    }
   },
   "source": [
    "### 복합 데이터 유형 쓰기\n",
    "- csv파일은 복합 데이터 타입을 지원하지 않음\n",
    "- 파케이, ORC는 복합 데이터 타입 지원"
   ]
  },
  {
   "cell_type": "markdown",
   "metadata": {
    "application/vnd.databricks.v1+cell": {
     "inputWidgets": {},
     "nuid": "880829f1-0153-45e4-a238-6dd26e19d73d",
     "showTitle": false,
     "title": ""
    }
   },
   "source": [
    "### 파일 크기 관리\n",
    "- 데이터를 저장할 땐 파일 크기가 중요한 요소가 아니지만 읽을 땐 중요한 요소 중 하나\n",
    "\n",
    "- 작은 크기의 파일 문제\n",
    "  - <strong>작은 파일을 많이 생성</strong>하면 메타데이터에 엄청난 <strong>관리 부하</strong>가 발생\n",
    "  - HDFS 등 많은 파일 시스템은 작은 크기의 파일을 잘 다루지 못함\n",
    "  - 스파크는 특히 더 못다룸\n",
    "  \n",
    "- 큰 크기의 파일 문제\n",
    "  - 몇 개의 로우가 필요하더라도 전체 데이터 블록을 읽어야하므로 비효율적\n",
    "  \n",
    "- 스파크 2.2버전에는 파일 크기를 제어할 수 있는 새로운 방법이 도입됨\n",
    "  - <strong>maxRecordsPerFile</strong>옵션에 파일당 레코드 수를 지정하여 파일 크기를 효과적으로 제어 가능"
   ]
  },
  {
   "cell_type": "code",
   "execution_count": null,
   "metadata": {
    "application/vnd.databricks.v1+cell": {
     "inputWidgets": {},
     "nuid": "0dcb9793-426e-4e40-8109-4c14e178cfb3",
     "showTitle": false,
     "title": ""
    }
   },
   "outputs": [
    {
     "data": {
      "text/html": [
       "<style scoped>\n",
       "  .ansiout {\n",
       "    display: block;\n",
       "    unicode-bidi: embed;\n",
       "    white-space: pre-wrap;\n",
       "    word-wrap: break-word;\n",
       "    word-break: break-all;\n",
       "    font-family: \"Source Code Pro\", \"Menlo\", monospace;;\n",
       "    font-size: 13px;\n",
       "    color: #555;\n",
       "    margin-left: 4px;\n",
       "    line-height: 19px;\n",
       "  }\n",
       "</style>\n",
       "<div class=\"ansiout\">Out[17]: &lt;pyspark.sql.readwriter.DataFrameWriter at 0x7fcf15185eb0&gt;</div>"
      ]
     },
     "metadata": {
      "application/vnd.databricks.v1+output": {
       "addedWidgets": {},
       "arguments": {},
       "data": "<div class=\"ansiout\">Out[17]: &lt;pyspark.sql.readwriter.DataFrameWriter at 0x7fcf15185eb0&gt;</div>",
       "datasetInfos": [],
       "metadata": {},
       "removedWidgets": [],
       "type": "html"
      }
     },
     "output_type": "display_data"
    }
   ],
   "source": [
    "#파일당 최대 5000개의 로우를 포함하도록 보장\n",
    "df.write.option('maxRecordsPerFile',5000)"
   ]
  }
 ],
 "metadata": {
  "application/vnd.databricks.v1+notebook": {
   "dashboards": [],
   "language": "python",
   "notebookMetadata": {
    "pythonIndentUnit": 2
   },
   "notebookName": "Chapter9",
   "notebookOrigID": 1421158351524074,
   "widgets": {}
  },
  "kernelspec": {
   "display_name": "Python 3 (ipykernel)",
   "language": "python",
   "name": "python3"
  },
  "language_info": {
   "codemirror_mode": {
    "name": "ipython",
    "version": 3
   },
   "file_extension": ".py",
   "mimetype": "text/x-python",
   "name": "python",
   "nbconvert_exporter": "python",
   "pygments_lexer": "ipython3",
   "version": "3.11.6"
  }
 },
 "nbformat": 4,
 "nbformat_minor": 4
}
