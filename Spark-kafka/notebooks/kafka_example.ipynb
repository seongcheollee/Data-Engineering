{
 "cells": [
  {
   "cell_type": "code",
   "execution_count": 2,
   "id": "e73dcf09-9501-41ee-9e6b-26e7b8fc1ec4",
   "metadata": {},
   "outputs": [
    {
     "name": "stdout",
     "output_type": "stream",
     "text": [
      "Collecting kafka-python\n",
      "  Downloading kafka_python-2.0.2-py2.py3-none-any.whl (246 kB)\n",
      "\u001b[2K     \u001b[90m━━━━━━━━━━━━━━━━━━━━━━━━━━━━━━━━━━━━━━━\u001b[0m \u001b[32m246.5/246.5 kB\u001b[0m \u001b[31m4.1 MB/s\u001b[0m eta \u001b[36m0:00:00\u001b[0ma \u001b[36m0:00:01\u001b[0m\n",
      "\u001b[?25hInstalling collected packages: kafka-python\n",
      "Successfully installed kafka-python-2.0.2\n",
      "Note: you may need to restart the kernel to use updated packages.\n"
     ]
    }
   ],
   "source": [
    "pip install kafka-python"
   ]
  },
  {
   "cell_type": "code",
   "execution_count": null,
   "id": "e3b15955-95ca-465a-b641-f04b38e0bde6",
   "metadata": {},
   "outputs": [
    {
     "name": "stdout",
     "output_type": "stream",
     "text": [
      "kafka-coin:9092\n"
     ]
    }
   ],
   "source": [
    "import requests\n",
    "import json\n",
    "import time\n",
    "from kafka import KafkaProducer\n",
    "import time\n",
    "import datetime\n",
    "from datetime import date\n",
    "from datetime import timedelta\n",
    "import os\n",
    "import websocket, json\n",
    "import nest_asyncio\n",
    "nest_asyncio.apply()\n",
    "from binance import Client, ThreadedWebsocketManager, ThreadedDepthCacheManager\n",
    "import datetime\n",
    "import pytz\n",
    "import pandas as pd\n",
    "\n",
    "topic_name = 'coin'\n",
    "servers = 'kafka-coin:9092'\n",
    "symbol = 'btcusdt'\n",
    "interval = '1s'\n",
    "#window_size = '1h'\n",
    "url = f'wss://stream.binance.com:9443/ws/{symbol}@kline_{interval}'\n",
    "# url = f'wss://stream.binance.com:9443/ws/{symbol}@ticker_{window_size}'\n",
    "\n",
    "print(servers)\n",
    "\n",
    "# wss://stream.binance.com:9443\n",
    "while (True):\n",
    "    try:\n",
    "        producer = KafkaProducer(bootstrap_servers=[servers])\n",
    "        break\n",
    "    except:\n",
    "        pass\n",
    "    time.sleep(1)\n",
    "\n",
    "def convert_timestamp(timestamp):\n",
    "    korea_tz = pytz.timezone('Asia/Seoul')\n",
    "    utc_time = datetime.datetime.fromtimestamp(timestamp / 1000, tz=pytz.utc)\n",
    "    local_time = utc_time.astimezone(korea_tz)\n",
    "    return local_time.strftime(\"%Y-%m-%d %H:%M:%S\")\n",
    "\n",
    "def on_message(ws, message):\n",
    "    data = json.loads(message)\n",
    "    data = data['k']\n",
    "    #data['E'] = convert_timestamp(data['E'])\n",
    "    data['t'] = convert_timestamp(data['t'])\n",
    "    data['T'] = convert_timestamp(data['T'])\n",
    "    data['o'] = float(data['o'])  \n",
    "    data['c'] = float(data['c'])  \n",
    "    data['h'] = float(data['h'])  \n",
    "    data['l'] = float(data['l']) \n",
    "    producer.send(topic_name, json.dumps(data).encode('utf-8'))\n",
    "\n",
    "def on_close(ws):\n",
    "    print(\"close\")\n",
    "    \n",
    "ws = websocket.WebSocketApp(url, on_message=on_message, on_close=on_close)\n",
    "ws.run_forever()\n"
   ]
  },
  {
   "cell_type": "code",
   "execution_count": 1,
   "id": "16f2afda-d2b8-4a19-9710-75ad162e4fb0",
   "metadata": {},
   "outputs": [],
   "source": [
    "import time\n",
    "\n",
    "from binance import Client, ThreadedWebsocketManager, ThreadedDepthCacheManager\n",
    "\n",
    "api_key = 'K5zels9GiyObnNIYoesI4DIKC3FxvQLiVY47CBxEaJVPiL0EfpHSnq863hf573Xc'\n",
    "api_secret = 'NPPcdPyNr9uCxW0PGNuHQp3xRZQFHd3pIHQimJvSQdmi47a1PvR69pGHTnuvNw1Q'\n",
    "client = Client(api_key, api_secret)\n",
    "\n",
    "prices = client.get_all_tickers()"
   ]
  },
  {
   "cell_type": "code",
   "execution_count": 12,
   "id": "ace29ba4-f338-47e7-9071-db9e3a230279",
   "metadata": {},
   "outputs": [
    {
     "name": "stderr",
     "output_type": "stream",
     "text": [
      "Exception in thread Thread-6:\n",
      "Traceback (most recent call last):\n",
      "  File \"/opt/conda/lib/python3.8/threading.py\", line 932, in _bootstrap_inner\n",
      "    self.run()\n",
      "  File \"/opt/conda/lib/python3.8/site-packages/binance/threaded_stream.py\", line 59, in run\n",
      "    self._loop.run_until_complete(self.socket_listener())\n",
      "  File \"/opt/conda/lib/python3.8/asyncio/base_events.py\", line 592, in run_until_complete\n",
      "    self._check_running()\n",
      "  File \"/opt/conda/lib/python3.8/asyncio/base_events.py\", line 552, in _check_running\n",
      "    raise RuntimeError('This event loop is already running')\n",
      "RuntimeError: This event loop is already running\n",
      "/opt/conda/lib/python3.8/threading.py:934: RuntimeWarning: coroutine 'ThreadedApiManager.socket_listener' was never awaited\n",
      "  self._invoke_excepthook(self)\n",
      "RuntimeWarning: Enable tracemalloc to get the object allocation traceback\n"
     ]
    },
    {
     "ename": "KeyboardInterrupt",
     "evalue": "",
     "output_type": "error",
     "traceback": [
      "\u001b[0;31m---------------------------------------------------------------------------\u001b[0m",
      "\u001b[0;31mKeyboardInterrupt\u001b[0m                         Traceback (most recent call last)",
      "Cell \u001b[0;32mIn [12], line 11\u001b[0m\n\u001b[1;32m      8\u001b[0m     \u001b[38;5;28mprint\u001b[39m(\u001b[38;5;124mf\u001b[39m\u001b[38;5;124m\"\u001b[39m\u001b[38;5;124mmessage type: \u001b[39m\u001b[38;5;132;01m{\u001b[39;00mmsg[\u001b[38;5;124m'\u001b[39m\u001b[38;5;124me\u001b[39m\u001b[38;5;124m'\u001b[39m]\u001b[38;5;132;01m}\u001b[39;00m\u001b[38;5;124m\"\u001b[39m)\n\u001b[1;32m      9\u001b[0m     \u001b[38;5;28mprint\u001b[39m(msg)\n\u001b[0;32m---> 11\u001b[0m \u001b[43mtwm\u001b[49m\u001b[38;5;241;43m.\u001b[39;49m\u001b[43mstart_kline_socket\u001b[49m\u001b[43m(\u001b[49m\u001b[43mcallback\u001b[49m\u001b[38;5;241;43m=\u001b[39;49m\u001b[43mhandle_socket_message\u001b[49m\u001b[43m,\u001b[49m\u001b[43m \u001b[49m\u001b[43msymbol\u001b[49m\u001b[38;5;241;43m=\u001b[39;49m\u001b[43msymbol\u001b[49m\u001b[43m)\u001b[49m\n\u001b[1;32m     12\u001b[0m twm\u001b[38;5;241m.\u001b[39mstart_depth_socket(callback\u001b[38;5;241m=\u001b[39mhandle_socket_message, symbol\u001b[38;5;241m=\u001b[39msymbol)\n\u001b[1;32m     14\u001b[0m streams \u001b[38;5;241m=\u001b[39m [\u001b[38;5;124m'\u001b[39m\u001b[38;5;124mbnbbtc@miniTicker\u001b[39m\u001b[38;5;124m'\u001b[39m, \u001b[38;5;124m'\u001b[39m\u001b[38;5;124mbnbbtc@bookTicker\u001b[39m\u001b[38;5;124m'\u001b[39m]\n",
      "File \u001b[0;32m/opt/conda/lib/python3.8/site-packages/binance/streams.py:1241\u001b[0m, in \u001b[0;36mThreadedWebsocketManager.start_kline_socket\u001b[0;34m(self, callback, symbol, interval)\u001b[0m\n\u001b[1;32m   1240\u001b[0m \u001b[38;5;28;01mdef\u001b[39;00m \u001b[38;5;21mstart_kline_socket\u001b[39m(\u001b[38;5;28mself\u001b[39m, callback: Callable, symbol: \u001b[38;5;28mstr\u001b[39m, interval\u001b[38;5;241m=\u001b[39mAsyncClient\u001b[38;5;241m.\u001b[39mKLINE_INTERVAL_1MINUTE) \u001b[38;5;241m-\u001b[39m\u001b[38;5;241m>\u001b[39m \u001b[38;5;28mstr\u001b[39m:\n\u001b[0;32m-> 1241\u001b[0m     \u001b[38;5;28;01mreturn\u001b[39;00m \u001b[38;5;28;43mself\u001b[39;49m\u001b[38;5;241;43m.\u001b[39;49m\u001b[43m_start_async_socket\u001b[49m\u001b[43m(\u001b[49m\n\u001b[1;32m   1242\u001b[0m \u001b[43m        \u001b[49m\u001b[43mcallback\u001b[49m\u001b[38;5;241;43m=\u001b[39;49m\u001b[43mcallback\u001b[49m\u001b[43m,\u001b[49m\n\u001b[1;32m   1243\u001b[0m \u001b[43m        \u001b[49m\u001b[43msocket_name\u001b[49m\u001b[38;5;241;43m=\u001b[39;49m\u001b[38;5;124;43m'\u001b[39;49m\u001b[38;5;124;43mkline_socket\u001b[39;49m\u001b[38;5;124;43m'\u001b[39;49m\u001b[43m,\u001b[49m\n\u001b[1;32m   1244\u001b[0m \u001b[43m        \u001b[49m\u001b[43mparams\u001b[49m\u001b[38;5;241;43m=\u001b[39;49m\u001b[43m{\u001b[49m\n\u001b[1;32m   1245\u001b[0m \u001b[43m            \u001b[49m\u001b[38;5;124;43m'\u001b[39;49m\u001b[38;5;124;43msymbol\u001b[39;49m\u001b[38;5;124;43m'\u001b[39;49m\u001b[43m:\u001b[49m\u001b[43m \u001b[49m\u001b[43msymbol\u001b[49m\u001b[43m,\u001b[49m\n\u001b[1;32m   1246\u001b[0m \u001b[43m            \u001b[49m\u001b[38;5;124;43m'\u001b[39;49m\u001b[38;5;124;43minterval\u001b[39;49m\u001b[38;5;124;43m'\u001b[39;49m\u001b[43m:\u001b[49m\u001b[43m \u001b[49m\u001b[43minterval\u001b[49m\u001b[43m,\u001b[49m\n\u001b[1;32m   1247\u001b[0m \u001b[43m        \u001b[49m\u001b[43m}\u001b[49m\n\u001b[1;32m   1248\u001b[0m \u001b[43m    \u001b[49m\u001b[43m)\u001b[49m\n",
      "File \u001b[0;32m/opt/conda/lib/python3.8/site-packages/binance/streams.py:1220\u001b[0m, in \u001b[0;36mThreadedWebsocketManager._start_async_socket\u001b[0;34m(self, callback, socket_name, params, path)\u001b[0m\n\u001b[1;32m   1216\u001b[0m \u001b[38;5;28;01mdef\u001b[39;00m \u001b[38;5;21m_start_async_socket\u001b[39m(\n\u001b[1;32m   1217\u001b[0m     \u001b[38;5;28mself\u001b[39m, callback: Callable, socket_name: \u001b[38;5;28mstr\u001b[39m, params: Dict[\u001b[38;5;28mstr\u001b[39m, Any], path: Optional[\u001b[38;5;28mstr\u001b[39m] \u001b[38;5;241m=\u001b[39m \u001b[38;5;28;01mNone\u001b[39;00m\n\u001b[1;32m   1218\u001b[0m ) \u001b[38;5;241m-\u001b[39m\u001b[38;5;241m>\u001b[39m \u001b[38;5;28mstr\u001b[39m:\n\u001b[1;32m   1219\u001b[0m     \u001b[38;5;28;01mwhile\u001b[39;00m \u001b[38;5;129;01mnot\u001b[39;00m \u001b[38;5;28mself\u001b[39m\u001b[38;5;241m.\u001b[39m_bsm:\n\u001b[0;32m-> 1220\u001b[0m         \u001b[43mtime\u001b[49m\u001b[38;5;241;43m.\u001b[39;49m\u001b[43msleep\u001b[49m\u001b[43m(\u001b[49m\u001b[38;5;241;43m0.1\u001b[39;49m\u001b[43m)\u001b[49m\n\u001b[1;32m   1221\u001b[0m     socket \u001b[38;5;241m=\u001b[39m \u001b[38;5;28mgetattr\u001b[39m(\u001b[38;5;28mself\u001b[39m\u001b[38;5;241m.\u001b[39m_bsm, socket_name)(\u001b[38;5;241m*\u001b[39m\u001b[38;5;241m*\u001b[39mparams)\n\u001b[1;32m   1222\u001b[0m     socket_path: \u001b[38;5;28mstr\u001b[39m \u001b[38;5;241m=\u001b[39m path \u001b[38;5;129;01mor\u001b[39;00m socket\u001b[38;5;241m.\u001b[39m_path  \u001b[38;5;66;03m# noqa\u001b[39;00m\n",
      "\u001b[0;31mKeyboardInterrupt\u001b[0m: "
     ]
    }
   ],
   "source": [
    "\n",
    "symbol = 'BNBBTC'\n",
    "\n",
    "twm = ThreadedWebsocketManager(api_key=api_key, api_secret=api_secret)\n",
    "# start is required to initialise its internal loop\n",
    "twm.start()\n",
    "\n",
    "def handle_socket_message(msg):\n",
    "    print(f\"message type: {msg['e']}\")\n",
    "    print(msg)\n",
    "\n",
    "twm.start_kline_socket(callback=handle_socket_message, symbol=symbol)\n",
    "twm.start_depth_socket(callback=handle_socket_message, symbol=symbol)\n",
    "\n",
    "streams = ['bnbbtc@miniTicker', 'bnbbtc@bookTicker']\n",
    "twm.start_multiplex_socket(callback=handle_socket_message, streams=streams)\n",
    "\n",
    "twm.join()\n"
   ]
  },
  {
   "cell_type": "code",
   "execution_count": 5,
   "id": "644ab5d0-2760-4cce-82e5-9fcfff5a618d",
   "metadata": {},
   "outputs": [
    {
     "ename": "NameError",
     "evalue": "name 'depth_stream_name' is not defined",
     "output_type": "error",
     "traceback": [
      "\u001b[0;31m---------------------------------------------------------------------------\u001b[0m",
      "\u001b[0;31mNameError\u001b[0m                                 Traceback (most recent call last)",
      "Cell \u001b[0;32mIn [5], line 1\u001b[0m\n\u001b[0;32m----> 1\u001b[0m twm\u001b[38;5;241m.\u001b[39mstop_socket(\u001b[43mdepth_stream_name\u001b[49m)\n",
      "\u001b[0;31mNameError\u001b[0m: name 'depth_stream_name' is not defined"
     ]
    }
   ],
   "source": [
    "twm.stop_socket(depth_stream_name)\n"
   ]
  },
  {
   "cell_type": "code",
   "execution_count": null,
   "id": "e1212aa6-7e59-41d5-ac9b-622a7574d173",
   "metadata": {},
   "outputs": [],
   "source": []
  },
  {
   "cell_type": "code",
   "execution_count": null,
   "id": "332b6212-583e-472f-83fe-87e720056369",
   "metadata": {},
   "outputs": [],
   "source": []
  },
  {
   "cell_type": "code",
   "execution_count": null,
   "id": "891184e7-ea11-42cf-a569-7b458266dfa1",
   "metadata": {},
   "outputs": [],
   "source": []
  }
 ],
 "metadata": {
  "kernelspec": {
   "display_name": "Python 3 (ipykernel)",
   "language": "python",
   "name": "python3"
  },
  "language_info": {
   "codemirror_mode": {
    "name": "ipython",
    "version": 3
   },
   "file_extension": ".py",
   "mimetype": "text/x-python",
   "name": "python",
   "nbconvert_exporter": "python",
   "pygments_lexer": "ipython3",
   "version": "3.8.13"
  }
 },
 "nbformat": 4,
 "nbformat_minor": 5
}
